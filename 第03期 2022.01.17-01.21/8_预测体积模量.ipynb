{
 "cells": [
  {
   "cell_type": "markdown",
   "id": "1b1c808f",
   "metadata": {},
   "source": [
    "# 8. 案例2：预测体积模量"
   ]
  },
  {
   "cell_type": "markdown",
   "id": "8f53131c",
   "metadata": {},
   "source": [
    "步骤：\n",
    "1. 载入并检查数据集。\n",
    "2. 使用matminer添加描述符到数据框架。\n",
    "3. 使用scikit-learn进行训练、比较，并使用matminer FigRecipes可视化不同机器学习模型的结果。"
   ]
  },
  {
   "cell_type": "markdown",
   "id": "cd9768dd",
   "metadata": {},
   "source": [
    "## 8.1 导入数据集"
   ]
  },
  {
   "cell_type": "markdown",
   "id": "6ecf5058",
   "metadata": {},
   "source": [
    "#### 导入数据"
   ]
  },
  {
   "cell_type": "code",
   "execution_count": 1,
   "id": "924ad14f",
   "metadata": {},
   "outputs": [
    {
     "data": {
      "text/html": [
       "<div>\n",
       "<style scoped>\n",
       "    .dataframe tbody tr th:only-of-type {\n",
       "        vertical-align: middle;\n",
       "    }\n",
       "\n",
       "    .dataframe tbody tr th {\n",
       "        vertical-align: top;\n",
       "    }\n",
       "\n",
       "    .dataframe thead th {\n",
       "        text-align: right;\n",
       "    }\n",
       "</style>\n",
       "<table border=\"1\" class=\"dataframe\">\n",
       "  <thead>\n",
       "    <tr style=\"text-align: right;\">\n",
       "      <th></th>\n",
       "      <th>material_id</th>\n",
       "      <th>formula</th>\n",
       "      <th>nsites</th>\n",
       "      <th>space_group</th>\n",
       "      <th>volume</th>\n",
       "      <th>structure</th>\n",
       "      <th>elastic_anisotropy</th>\n",
       "      <th>G_Reuss</th>\n",
       "      <th>G_VRH</th>\n",
       "      <th>G_Voigt</th>\n",
       "      <th>K_Reuss</th>\n",
       "      <th>K_VRH</th>\n",
       "      <th>K_Voigt</th>\n",
       "      <th>poisson_ratio</th>\n",
       "      <th>compliance_tensor</th>\n",
       "      <th>elastic_tensor</th>\n",
       "      <th>elastic_tensor_original</th>\n",
       "      <th>cif</th>\n",
       "      <th>kpoint_density</th>\n",
       "      <th>poscar</th>\n",
       "    </tr>\n",
       "  </thead>\n",
       "  <tbody>\n",
       "    <tr>\n",
       "      <th>0</th>\n",
       "      <td>mp-10003</td>\n",
       "      <td>Nb4CoSi</td>\n",
       "      <td>12</td>\n",
       "      <td>124</td>\n",
       "      <td>194.419802</td>\n",
       "      <td>[[0.94814328 2.07280467 2.5112    ] Nb, [5.273...</td>\n",
       "      <td>0.030688</td>\n",
       "      <td>96.844535</td>\n",
       "      <td>97.141604</td>\n",
       "      <td>97.438674</td>\n",
       "      <td>194.267623</td>\n",
       "      <td>194.268884</td>\n",
       "      <td>194.270146</td>\n",
       "      <td>0.285701</td>\n",
       "      <td>[[0.004385293093993, -0.0016070693558990002, -...</td>\n",
       "      <td>[[311.33514638650246, 144.45092552856926, 126....</td>\n",
       "      <td>[[311.33514638650246, 144.45092552856926, 126....</td>\n",
       "      <td>#\\#CIF1.1\\n###################################...</td>\n",
       "      <td>7000</td>\n",
       "      <td>Nb8 Co2 Si2\\n1.0\\n6.221780 0.000000 0.000000\\n...</td>\n",
       "    </tr>\n",
       "    <tr>\n",
       "      <th>1</th>\n",
       "      <td>mp-10010</td>\n",
       "      <td>Al(CoSi)2</td>\n",
       "      <td>5</td>\n",
       "      <td>164</td>\n",
       "      <td>61.987320</td>\n",
       "      <td>[[0. 0. 0.] Al, [1.96639263 1.13529553 0.75278...</td>\n",
       "      <td>0.266910</td>\n",
       "      <td>93.939650</td>\n",
       "      <td>96.252006</td>\n",
       "      <td>98.564362</td>\n",
       "      <td>173.647763</td>\n",
       "      <td>175.449907</td>\n",
       "      <td>177.252050</td>\n",
       "      <td>0.268105</td>\n",
       "      <td>[[0.0037715428949660003, -0.000844229828709, -...</td>\n",
       "      <td>[[306.93357350984974, 88.02634955100905, 105.6...</td>\n",
       "      <td>[[306.93357350984974, 88.02634955100905, 105.6...</td>\n",
       "      <td>#\\#CIF1.1\\n###################################...</td>\n",
       "      <td>7000</td>\n",
       "      <td>Al1 Co2 Si2\\n1.0\\n3.932782 0.000000 0.000000\\n...</td>\n",
       "    </tr>\n",
       "    <tr>\n",
       "      <th>2</th>\n",
       "      <td>mp-10015</td>\n",
       "      <td>SiOs</td>\n",
       "      <td>2</td>\n",
       "      <td>221</td>\n",
       "      <td>25.952539</td>\n",
       "      <td>[[1.480346 1.480346 1.480346] Si, [0. 0. 0.] Os]</td>\n",
       "      <td>0.756489</td>\n",
       "      <td>120.962289</td>\n",
       "      <td>130.112955</td>\n",
       "      <td>139.263621</td>\n",
       "      <td>295.077545</td>\n",
       "      <td>295.077545</td>\n",
       "      <td>295.077545</td>\n",
       "      <td>0.307780</td>\n",
       "      <td>[[0.0019959391925840004, -0.000433146670736000...</td>\n",
       "      <td>[[569.5291276937579, 157.8517489654999, 157.85...</td>\n",
       "      <td>[[569.5291276937579, 157.8517489654999, 157.85...</td>\n",
       "      <td>#\\#CIF1.1\\n###################################...</td>\n",
       "      <td>7000</td>\n",
       "      <td>Si1 Os1\\n1.0\\n2.960692 0.000000 0.000000\\n0.00...</td>\n",
       "    </tr>\n",
       "    <tr>\n",
       "      <th>3</th>\n",
       "      <td>mp-10021</td>\n",
       "      <td>Ga</td>\n",
       "      <td>4</td>\n",
       "      <td>63</td>\n",
       "      <td>76.721433</td>\n",
       "      <td>[[0.         1.09045794 0.84078375] Ga, [0.   ...</td>\n",
       "      <td>2.376805</td>\n",
       "      <td>12.205989</td>\n",
       "      <td>15.101901</td>\n",
       "      <td>17.997812</td>\n",
       "      <td>49.025963</td>\n",
       "      <td>49.130670</td>\n",
       "      <td>49.235377</td>\n",
       "      <td>0.360593</td>\n",
       "      <td>[[0.021647143908635, -0.005207263618160001, -0...</td>\n",
       "      <td>[[69.28798774976904, 34.7875015216915, 37.3877...</td>\n",
       "      <td>[[70.13259066665267, 40.60474945058445, 37.387...</td>\n",
       "      <td>#\\#CIF1.1\\n###################################...</td>\n",
       "      <td>7000</td>\n",
       "      <td>Ga4\\n1.0\\n2.803229 0.000000 0.000000\\n0.000000...</td>\n",
       "    </tr>\n",
       "    <tr>\n",
       "      <th>4</th>\n",
       "      <td>mp-10025</td>\n",
       "      <td>SiRu2</td>\n",
       "      <td>12</td>\n",
       "      <td>62</td>\n",
       "      <td>160.300999</td>\n",
       "      <td>[[1.0094265  4.24771709 2.9955487 ] Si, [3.028...</td>\n",
       "      <td>0.196930</td>\n",
       "      <td>100.110773</td>\n",
       "      <td>101.947798</td>\n",
       "      <td>103.784823</td>\n",
       "      <td>255.055257</td>\n",
       "      <td>256.768081</td>\n",
       "      <td>258.480904</td>\n",
       "      <td>0.324682</td>\n",
       "      <td>[[0.00410214297725, -0.001272204332729, -0.001...</td>\n",
       "      <td>[[349.3767766177825, 186.67131003104407, 176.4...</td>\n",
       "      <td>[[407.4791016459293, 176.4759188081947, 213.83...</td>\n",
       "      <td>#\\#CIF1.1\\n###################################...</td>\n",
       "      <td>7000</td>\n",
       "      <td>Si4 Ru8\\n1.0\\n4.037706 0.000000 0.000000\\n0.00...</td>\n",
       "    </tr>\n",
       "  </tbody>\n",
       "</table>\n",
       "</div>"
      ],
      "text/plain": [
       "  material_id    formula  nsites  space_group      volume  \\\n",
       "0    mp-10003    Nb4CoSi      12          124  194.419802   \n",
       "1    mp-10010  Al(CoSi)2       5          164   61.987320   \n",
       "2    mp-10015       SiOs       2          221   25.952539   \n",
       "3    mp-10021         Ga       4           63   76.721433   \n",
       "4    mp-10025      SiRu2      12           62  160.300999   \n",
       "\n",
       "                                           structure  elastic_anisotropy  \\\n",
       "0  [[0.94814328 2.07280467 2.5112    ] Nb, [5.273...            0.030688   \n",
       "1  [[0. 0. 0.] Al, [1.96639263 1.13529553 0.75278...            0.266910   \n",
       "2   [[1.480346 1.480346 1.480346] Si, [0. 0. 0.] Os]            0.756489   \n",
       "3  [[0.         1.09045794 0.84078375] Ga, [0.   ...            2.376805   \n",
       "4  [[1.0094265  4.24771709 2.9955487 ] Si, [3.028...            0.196930   \n",
       "\n",
       "      G_Reuss       G_VRH     G_Voigt     K_Reuss       K_VRH     K_Voigt  \\\n",
       "0   96.844535   97.141604   97.438674  194.267623  194.268884  194.270146   \n",
       "1   93.939650   96.252006   98.564362  173.647763  175.449907  177.252050   \n",
       "2  120.962289  130.112955  139.263621  295.077545  295.077545  295.077545   \n",
       "3   12.205989   15.101901   17.997812   49.025963   49.130670   49.235377   \n",
       "4  100.110773  101.947798  103.784823  255.055257  256.768081  258.480904   \n",
       "\n",
       "   poisson_ratio                                  compliance_tensor  \\\n",
       "0       0.285701  [[0.004385293093993, -0.0016070693558990002, -...   \n",
       "1       0.268105  [[0.0037715428949660003, -0.000844229828709, -...   \n",
       "2       0.307780  [[0.0019959391925840004, -0.000433146670736000...   \n",
       "3       0.360593  [[0.021647143908635, -0.005207263618160001, -0...   \n",
       "4       0.324682  [[0.00410214297725, -0.001272204332729, -0.001...   \n",
       "\n",
       "                                      elastic_tensor  \\\n",
       "0  [[311.33514638650246, 144.45092552856926, 126....   \n",
       "1  [[306.93357350984974, 88.02634955100905, 105.6...   \n",
       "2  [[569.5291276937579, 157.8517489654999, 157.85...   \n",
       "3  [[69.28798774976904, 34.7875015216915, 37.3877...   \n",
       "4  [[349.3767766177825, 186.67131003104407, 176.4...   \n",
       "\n",
       "                             elastic_tensor_original  \\\n",
       "0  [[311.33514638650246, 144.45092552856926, 126....   \n",
       "1  [[306.93357350984974, 88.02634955100905, 105.6...   \n",
       "2  [[569.5291276937579, 157.8517489654999, 157.85...   \n",
       "3  [[70.13259066665267, 40.60474945058445, 37.387...   \n",
       "4  [[407.4791016459293, 176.4759188081947, 213.83...   \n",
       "\n",
       "                                                 cif  kpoint_density  \\\n",
       "0  #\\#CIF1.1\\n###################################...            7000   \n",
       "1  #\\#CIF1.1\\n###################################...            7000   \n",
       "2  #\\#CIF1.1\\n###################################...            7000   \n",
       "3  #\\#CIF1.1\\n###################################...            7000   \n",
       "4  #\\#CIF1.1\\n###################################...            7000   \n",
       "\n",
       "                                              poscar  \n",
       "0  Nb8 Co2 Si2\\n1.0\\n6.221780 0.000000 0.000000\\n...  \n",
       "1  Al1 Co2 Si2\\n1.0\\n3.932782 0.000000 0.000000\\n...  \n",
       "2  Si1 Os1\\n1.0\\n2.960692 0.000000 0.000000\\n0.00...  \n",
       "3  Ga4\\n1.0\\n2.803229 0.000000 0.000000\\n0.000000...  \n",
       "4  Si4 Ru8\\n1.0\\n4.037706 0.000000 0.000000\\n0.00...  "
      ]
     },
     "execution_count": 1,
     "metadata": {},
     "output_type": "execute_result"
    }
   ],
   "source": [
    "from matminer.datasets import load_dataset\n",
    "df = load_dataset('elastic_tensor_2015', data_home = '.')\n",
    "df.head()"
   ]
  },
  {
   "cell_type": "markdown",
   "id": "529c86ed",
   "metadata": {},
   "source": [
    "#### 保留相关列"
   ]
  },
  {
   "cell_type": "markdown",
   "id": "ae5f4306",
   "metadata": {},
   "source": [
    "这里使用K_VRH（体积模量）作为输出作例子，还可以使用G_VRH，elastic_anisotropy，possion_ratio作为输出。"
   ]
  },
  {
   "cell_type": "code",
   "execution_count": 2,
   "id": "b1ff258d",
   "metadata": {},
   "outputs": [
    {
     "data": {
      "text/html": [
       "<div>\n",
       "<style scoped>\n",
       "    .dataframe tbody tr th:only-of-type {\n",
       "        vertical-align: middle;\n",
       "    }\n",
       "\n",
       "    .dataframe tbody tr th {\n",
       "        vertical-align: top;\n",
       "    }\n",
       "\n",
       "    .dataframe thead th {\n",
       "        text-align: right;\n",
       "    }\n",
       "</style>\n",
       "<table border=\"1\" class=\"dataframe\">\n",
       "  <thead>\n",
       "    <tr style=\"text-align: right;\">\n",
       "      <th></th>\n",
       "      <th>formula</th>\n",
       "      <th>structure</th>\n",
       "      <th>K_VRH</th>\n",
       "    </tr>\n",
       "  </thead>\n",
       "  <tbody>\n",
       "    <tr>\n",
       "      <th>0</th>\n",
       "      <td>Nb4CoSi</td>\n",
       "      <td>[[0.94814328 2.07280467 2.5112    ] Nb, [5.273...</td>\n",
       "      <td>194.268884</td>\n",
       "    </tr>\n",
       "    <tr>\n",
       "      <th>1</th>\n",
       "      <td>Al(CoSi)2</td>\n",
       "      <td>[[0. 0. 0.] Al, [1.96639263 1.13529553 0.75278...</td>\n",
       "      <td>175.449907</td>\n",
       "    </tr>\n",
       "    <tr>\n",
       "      <th>2</th>\n",
       "      <td>SiOs</td>\n",
       "      <td>[[1.480346 1.480346 1.480346] Si, [0. 0. 0.] Os]</td>\n",
       "      <td>295.077545</td>\n",
       "    </tr>\n",
       "    <tr>\n",
       "      <th>3</th>\n",
       "      <td>Ga</td>\n",
       "      <td>[[0.         1.09045794 0.84078375] Ga, [0.   ...</td>\n",
       "      <td>49.130670</td>\n",
       "    </tr>\n",
       "    <tr>\n",
       "      <th>4</th>\n",
       "      <td>SiRu2</td>\n",
       "      <td>[[1.0094265  4.24771709 2.9955487 ] Si, [3.028...</td>\n",
       "      <td>256.768081</td>\n",
       "    </tr>\n",
       "  </tbody>\n",
       "</table>\n",
       "</div>"
      ],
      "text/plain": [
       "     formula                                          structure       K_VRH\n",
       "0    Nb4CoSi  [[0.94814328 2.07280467 2.5112    ] Nb, [5.273...  194.268884\n",
       "1  Al(CoSi)2  [[0. 0. 0.] Al, [1.96639263 1.13529553 0.75278...  175.449907\n",
       "2       SiOs   [[1.480346 1.480346 1.480346] Si, [0. 0. 0.] Os]  295.077545\n",
       "3         Ga  [[0.         1.09045794 0.84078375] Ga, [0.   ...   49.130670\n",
       "4      SiRu2  [[1.0094265  4.24771709 2.9955487 ] Si, [3.028...  256.768081"
      ]
     },
     "execution_count": 2,
     "metadata": {},
     "output_type": "execute_result"
    }
   ],
   "source": [
    "to_keep = ['formula', 'structure', 'K_VRH']\n",
    "df = df[to_keep]\n",
    "df.head()"
   ]
  },
  {
   "cell_type": "markdown",
   "id": "e7194eb6",
   "metadata": {},
   "source": [
    "## 8.2 加入描述符"
   ]
  },
  {
   "cell_type": "markdown",
   "id": "7501af9c",
   "metadata": {},
   "source": [
    "#### 添加基础特征"
   ]
  },
  {
   "cell_type": "code",
   "execution_count": 3,
   "id": "438e8171",
   "metadata": {},
   "outputs": [
    {
     "data": {
      "application/vnd.jupyter.widget-view+json": {
       "model_id": "52ab456950b24273867723dd6662d402",
       "version_major": 2,
       "version_minor": 0
      },
      "text/plain": [
       "StrToComposition:   0%|          | 0/1181 [00:00<?, ?it/s]"
      ]
     },
     "metadata": {},
     "output_type": "display_data"
    },
    {
     "data": {
      "text/html": [
       "<div>\n",
       "<style scoped>\n",
       "    .dataframe tbody tr th:only-of-type {\n",
       "        vertical-align: middle;\n",
       "    }\n",
       "\n",
       "    .dataframe tbody tr th {\n",
       "        vertical-align: top;\n",
       "    }\n",
       "\n",
       "    .dataframe thead th {\n",
       "        text-align: right;\n",
       "    }\n",
       "</style>\n",
       "<table border=\"1\" class=\"dataframe\">\n",
       "  <thead>\n",
       "    <tr style=\"text-align: right;\">\n",
       "      <th></th>\n",
       "      <th>formula</th>\n",
       "      <th>structure</th>\n",
       "      <th>K_VRH</th>\n",
       "      <th>composition</th>\n",
       "    </tr>\n",
       "  </thead>\n",
       "  <tbody>\n",
       "    <tr>\n",
       "      <th>0</th>\n",
       "      <td>Nb4CoSi</td>\n",
       "      <td>[[0.94814328 2.07280467 2.5112    ] Nb, [5.273...</td>\n",
       "      <td>194.268884</td>\n",
       "      <td>(Nb, Co, Si)</td>\n",
       "    </tr>\n",
       "    <tr>\n",
       "      <th>1</th>\n",
       "      <td>Al(CoSi)2</td>\n",
       "      <td>[[0. 0. 0.] Al, [1.96639263 1.13529553 0.75278...</td>\n",
       "      <td>175.449907</td>\n",
       "      <td>(Al, Co, Si)</td>\n",
       "    </tr>\n",
       "    <tr>\n",
       "      <th>2</th>\n",
       "      <td>SiOs</td>\n",
       "      <td>[[1.480346 1.480346 1.480346] Si, [0. 0. 0.] Os]</td>\n",
       "      <td>295.077545</td>\n",
       "      <td>(Si, Os)</td>\n",
       "    </tr>\n",
       "    <tr>\n",
       "      <th>3</th>\n",
       "      <td>Ga</td>\n",
       "      <td>[[0.         1.09045794 0.84078375] Ga, [0.   ...</td>\n",
       "      <td>49.130670</td>\n",
       "      <td>(Ga)</td>\n",
       "    </tr>\n",
       "    <tr>\n",
       "      <th>4</th>\n",
       "      <td>SiRu2</td>\n",
       "      <td>[[1.0094265  4.24771709 2.9955487 ] Si, [3.028...</td>\n",
       "      <td>256.768081</td>\n",
       "      <td>(Si, Ru)</td>\n",
       "    </tr>\n",
       "  </tbody>\n",
       "</table>\n",
       "</div>"
      ],
      "text/plain": [
       "     formula                                          structure       K_VRH  \\\n",
       "0    Nb4CoSi  [[0.94814328 2.07280467 2.5112    ] Nb, [5.273...  194.268884   \n",
       "1  Al(CoSi)2  [[0. 0. 0.] Al, [1.96639263 1.13529553 0.75278...  175.449907   \n",
       "2       SiOs   [[1.480346 1.480346 1.480346] Si, [0. 0. 0.] Os]  295.077545   \n",
       "3         Ga  [[0.         1.09045794 0.84078375] Ga, [0.   ...   49.130670   \n",
       "4      SiRu2  [[1.0094265  4.24771709 2.9955487 ] Si, [3.028...  256.768081   \n",
       "\n",
       "    composition  \n",
       "0  (Nb, Co, Si)  \n",
       "1  (Al, Co, Si)  \n",
       "2      (Si, Os)  \n",
       "3          (Ga)  \n",
       "4      (Si, Ru)  "
      ]
     },
     "execution_count": 3,
     "metadata": {},
     "output_type": "execute_result"
    }
   ],
   "source": [
    "from matminer.featurizers.conversions import StrToComposition\n",
    "df = StrToComposition().featurize_dataframe(df, 'formula')\n",
    "df.head()"
   ]
  },
  {
   "cell_type": "code",
   "execution_count": 4,
   "id": "f5b1a340",
   "metadata": {},
   "outputs": [
    {
     "data": {
      "application/vnd.jupyter.widget-view+json": {
       "model_id": "69fbab7a7bf84986a5731533a4a257ee",
       "version_major": 2,
       "version_minor": 0
      },
      "text/plain": [
       "ElementProperty:   0%|          | 0/1181 [00:00<?, ?it/s]"
      ]
     },
     "metadata": {},
     "output_type": "display_data"
    },
    {
     "data": {
      "text/html": [
       "<div>\n",
       "<style scoped>\n",
       "    .dataframe tbody tr th:only-of-type {\n",
       "        vertical-align: middle;\n",
       "    }\n",
       "\n",
       "    .dataframe tbody tr th {\n",
       "        vertical-align: top;\n",
       "    }\n",
       "\n",
       "    .dataframe thead th {\n",
       "        text-align: right;\n",
       "    }\n",
       "</style>\n",
       "<table border=\"1\" class=\"dataframe\">\n",
       "  <thead>\n",
       "    <tr style=\"text-align: right;\">\n",
       "      <th></th>\n",
       "      <th>formula</th>\n",
       "      <th>structure</th>\n",
       "      <th>K_VRH</th>\n",
       "      <th>composition</th>\n",
       "      <th>MagpieData minimum Number</th>\n",
       "      <th>MagpieData maximum Number</th>\n",
       "      <th>MagpieData range Number</th>\n",
       "      <th>MagpieData mean Number</th>\n",
       "      <th>MagpieData avg_dev Number</th>\n",
       "      <th>MagpieData mode Number</th>\n",
       "      <th>...</th>\n",
       "      <th>MagpieData range GSmagmom</th>\n",
       "      <th>MagpieData mean GSmagmom</th>\n",
       "      <th>MagpieData avg_dev GSmagmom</th>\n",
       "      <th>MagpieData mode GSmagmom</th>\n",
       "      <th>MagpieData minimum SpaceGroupNumber</th>\n",
       "      <th>MagpieData maximum SpaceGroupNumber</th>\n",
       "      <th>MagpieData range SpaceGroupNumber</th>\n",
       "      <th>MagpieData mean SpaceGroupNumber</th>\n",
       "      <th>MagpieData avg_dev SpaceGroupNumber</th>\n",
       "      <th>MagpieData mode SpaceGroupNumber</th>\n",
       "    </tr>\n",
       "  </thead>\n",
       "  <tbody>\n",
       "    <tr>\n",
       "      <th>0</th>\n",
       "      <td>Nb4CoSi</td>\n",
       "      <td>[[0.94814328 2.07280467 2.5112    ] Nb, [5.273...</td>\n",
       "      <td>194.268884</td>\n",
       "      <td>(Nb, Co, Si)</td>\n",
       "      <td>14.0</td>\n",
       "      <td>41.0</td>\n",
       "      <td>27.0</td>\n",
       "      <td>34.166667</td>\n",
       "      <td>9.111111</td>\n",
       "      <td>41.0</td>\n",
       "      <td>...</td>\n",
       "      <td>1.548471</td>\n",
       "      <td>0.258079</td>\n",
       "      <td>0.430131</td>\n",
       "      <td>0.0</td>\n",
       "      <td>194.0</td>\n",
       "      <td>229.0</td>\n",
       "      <td>35.0</td>\n",
       "      <td>222.833333</td>\n",
       "      <td>9.611111</td>\n",
       "      <td>229.0</td>\n",
       "    </tr>\n",
       "    <tr>\n",
       "      <th>1</th>\n",
       "      <td>Al(CoSi)2</td>\n",
       "      <td>[[0. 0. 0.] Al, [1.96639263 1.13529553 0.75278...</td>\n",
       "      <td>175.449907</td>\n",
       "      <td>(Al, Co, Si)</td>\n",
       "      <td>13.0</td>\n",
       "      <td>27.0</td>\n",
       "      <td>14.0</td>\n",
       "      <td>19.000000</td>\n",
       "      <td>6.400000</td>\n",
       "      <td>14.0</td>\n",
       "      <td>...</td>\n",
       "      <td>1.548471</td>\n",
       "      <td>0.619388</td>\n",
       "      <td>0.743266</td>\n",
       "      <td>0.0</td>\n",
       "      <td>194.0</td>\n",
       "      <td>227.0</td>\n",
       "      <td>33.0</td>\n",
       "      <td>213.400000</td>\n",
       "      <td>15.520000</td>\n",
       "      <td>194.0</td>\n",
       "    </tr>\n",
       "    <tr>\n",
       "      <th>2</th>\n",
       "      <td>SiOs</td>\n",
       "      <td>[[1.480346 1.480346 1.480346] Si, [0. 0. 0.] Os]</td>\n",
       "      <td>295.077545</td>\n",
       "      <td>(Si, Os)</td>\n",
       "      <td>14.0</td>\n",
       "      <td>76.0</td>\n",
       "      <td>62.0</td>\n",
       "      <td>45.000000</td>\n",
       "      <td>31.000000</td>\n",
       "      <td>14.0</td>\n",
       "      <td>...</td>\n",
       "      <td>0.000000</td>\n",
       "      <td>0.000000</td>\n",
       "      <td>0.000000</td>\n",
       "      <td>0.0</td>\n",
       "      <td>194.0</td>\n",
       "      <td>227.0</td>\n",
       "      <td>33.0</td>\n",
       "      <td>210.500000</td>\n",
       "      <td>16.500000</td>\n",
       "      <td>194.0</td>\n",
       "    </tr>\n",
       "    <tr>\n",
       "      <th>3</th>\n",
       "      <td>Ga</td>\n",
       "      <td>[[0.         1.09045794 0.84078375] Ga, [0.   ...</td>\n",
       "      <td>49.130670</td>\n",
       "      <td>(Ga)</td>\n",
       "      <td>31.0</td>\n",
       "      <td>31.0</td>\n",
       "      <td>0.0</td>\n",
       "      <td>31.000000</td>\n",
       "      <td>0.000000</td>\n",
       "      <td>31.0</td>\n",
       "      <td>...</td>\n",
       "      <td>0.000000</td>\n",
       "      <td>0.000000</td>\n",
       "      <td>0.000000</td>\n",
       "      <td>0.0</td>\n",
       "      <td>64.0</td>\n",
       "      <td>64.0</td>\n",
       "      <td>0.0</td>\n",
       "      <td>64.000000</td>\n",
       "      <td>0.000000</td>\n",
       "      <td>64.0</td>\n",
       "    </tr>\n",
       "    <tr>\n",
       "      <th>4</th>\n",
       "      <td>SiRu2</td>\n",
       "      <td>[[1.0094265  4.24771709 2.9955487 ] Si, [3.028...</td>\n",
       "      <td>256.768081</td>\n",
       "      <td>(Si, Ru)</td>\n",
       "      <td>14.0</td>\n",
       "      <td>44.0</td>\n",
       "      <td>30.0</td>\n",
       "      <td>34.000000</td>\n",
       "      <td>13.333333</td>\n",
       "      <td>44.0</td>\n",
       "      <td>...</td>\n",
       "      <td>0.000000</td>\n",
       "      <td>0.000000</td>\n",
       "      <td>0.000000</td>\n",
       "      <td>0.0</td>\n",
       "      <td>194.0</td>\n",
       "      <td>227.0</td>\n",
       "      <td>33.0</td>\n",
       "      <td>205.000000</td>\n",
       "      <td>14.666667</td>\n",
       "      <td>194.0</td>\n",
       "    </tr>\n",
       "  </tbody>\n",
       "</table>\n",
       "<p>5 rows × 136 columns</p>\n",
       "</div>"
      ],
      "text/plain": [
       "     formula                                          structure       K_VRH  \\\n",
       "0    Nb4CoSi  [[0.94814328 2.07280467 2.5112    ] Nb, [5.273...  194.268884   \n",
       "1  Al(CoSi)2  [[0. 0. 0.] Al, [1.96639263 1.13529553 0.75278...  175.449907   \n",
       "2       SiOs   [[1.480346 1.480346 1.480346] Si, [0. 0. 0.] Os]  295.077545   \n",
       "3         Ga  [[0.         1.09045794 0.84078375] Ga, [0.   ...   49.130670   \n",
       "4      SiRu2  [[1.0094265  4.24771709 2.9955487 ] Si, [3.028...  256.768081   \n",
       "\n",
       "    composition  MagpieData minimum Number  MagpieData maximum Number  \\\n",
       "0  (Nb, Co, Si)                       14.0                       41.0   \n",
       "1  (Al, Co, Si)                       13.0                       27.0   \n",
       "2      (Si, Os)                       14.0                       76.0   \n",
       "3          (Ga)                       31.0                       31.0   \n",
       "4      (Si, Ru)                       14.0                       44.0   \n",
       "\n",
       "   MagpieData range Number  MagpieData mean Number  MagpieData avg_dev Number  \\\n",
       "0                     27.0               34.166667                   9.111111   \n",
       "1                     14.0               19.000000                   6.400000   \n",
       "2                     62.0               45.000000                  31.000000   \n",
       "3                      0.0               31.000000                   0.000000   \n",
       "4                     30.0               34.000000                  13.333333   \n",
       "\n",
       "   MagpieData mode Number  ...  MagpieData range GSmagmom  \\\n",
       "0                    41.0  ...                   1.548471   \n",
       "1                    14.0  ...                   1.548471   \n",
       "2                    14.0  ...                   0.000000   \n",
       "3                    31.0  ...                   0.000000   \n",
       "4                    44.0  ...                   0.000000   \n",
       "\n",
       "   MagpieData mean GSmagmom  MagpieData avg_dev GSmagmom  \\\n",
       "0                  0.258079                     0.430131   \n",
       "1                  0.619388                     0.743266   \n",
       "2                  0.000000                     0.000000   \n",
       "3                  0.000000                     0.000000   \n",
       "4                  0.000000                     0.000000   \n",
       "\n",
       "   MagpieData mode GSmagmom  MagpieData minimum SpaceGroupNumber  \\\n",
       "0                       0.0                                194.0   \n",
       "1                       0.0                                194.0   \n",
       "2                       0.0                                194.0   \n",
       "3                       0.0                                 64.0   \n",
       "4                       0.0                                194.0   \n",
       "\n",
       "   MagpieData maximum SpaceGroupNumber  MagpieData range SpaceGroupNumber  \\\n",
       "0                                229.0                               35.0   \n",
       "1                                227.0                               33.0   \n",
       "2                                227.0                               33.0   \n",
       "3                                 64.0                                0.0   \n",
       "4                                227.0                               33.0   \n",
       "\n",
       "   MagpieData mean SpaceGroupNumber  MagpieData avg_dev SpaceGroupNumber  \\\n",
       "0                        222.833333                             9.611111   \n",
       "1                        213.400000                            15.520000   \n",
       "2                        210.500000                            16.500000   \n",
       "3                         64.000000                             0.000000   \n",
       "4                        205.000000                            14.666667   \n",
       "\n",
       "   MagpieData mode SpaceGroupNumber  \n",
       "0                             229.0  \n",
       "1                             194.0  \n",
       "2                             194.0  \n",
       "3                              64.0  \n",
       "4                             194.0  \n",
       "\n",
       "[5 rows x 136 columns]"
      ]
     },
     "execution_count": 4,
     "metadata": {},
     "output_type": "execute_result"
    }
   ],
   "source": [
    "from matminer.featurizers.composition import ElementProperty\n",
    "ep_feat = ElementProperty.from_preset(preset_name = 'magpie')\n",
    "df = ep_feat.featurize_dataframe(df, col_id = 'composition')\n",
    "df.head()"
   ]
  },
  {
   "cell_type": "markdown",
   "id": "be816669",
   "metadata": {},
   "source": [
    "#### 添加组分特征"
   ]
  },
  {
   "cell_type": "code",
   "execution_count": 5,
   "id": "9c40eb9d",
   "metadata": {
    "scrolled": false
   },
   "outputs": [
    {
     "data": {
      "application/vnd.jupyter.widget-view+json": {
       "model_id": "ac28ce528f514f2e891564e776bdddf5",
       "version_major": 2,
       "version_minor": 0
      },
      "text/plain": [
       "CompositionToOxidComposition:   0%|          | 0/1181 [00:00<?, ?it/s]"
      ]
     },
     "metadata": {},
     "output_type": "display_data"
    },
    {
     "data": {
      "text/html": [
       "<div>\n",
       "<style scoped>\n",
       "    .dataframe tbody tr th:only-of-type {\n",
       "        vertical-align: middle;\n",
       "    }\n",
       "\n",
       "    .dataframe tbody tr th {\n",
       "        vertical-align: top;\n",
       "    }\n",
       "\n",
       "    .dataframe thead th {\n",
       "        text-align: right;\n",
       "    }\n",
       "</style>\n",
       "<table border=\"1\" class=\"dataframe\">\n",
       "  <thead>\n",
       "    <tr style=\"text-align: right;\">\n",
       "      <th></th>\n",
       "      <th>formula</th>\n",
       "      <th>structure</th>\n",
       "      <th>K_VRH</th>\n",
       "      <th>composition</th>\n",
       "      <th>MagpieData minimum Number</th>\n",
       "      <th>MagpieData maximum Number</th>\n",
       "      <th>MagpieData range Number</th>\n",
       "      <th>MagpieData mean Number</th>\n",
       "      <th>MagpieData avg_dev Number</th>\n",
       "      <th>MagpieData mode Number</th>\n",
       "      <th>...</th>\n",
       "      <th>MagpieData mean GSmagmom</th>\n",
       "      <th>MagpieData avg_dev GSmagmom</th>\n",
       "      <th>MagpieData mode GSmagmom</th>\n",
       "      <th>MagpieData minimum SpaceGroupNumber</th>\n",
       "      <th>MagpieData maximum SpaceGroupNumber</th>\n",
       "      <th>MagpieData range SpaceGroupNumber</th>\n",
       "      <th>MagpieData mean SpaceGroupNumber</th>\n",
       "      <th>MagpieData avg_dev SpaceGroupNumber</th>\n",
       "      <th>MagpieData mode SpaceGroupNumber</th>\n",
       "      <th>composition_oxid</th>\n",
       "    </tr>\n",
       "  </thead>\n",
       "  <tbody>\n",
       "    <tr>\n",
       "      <th>0</th>\n",
       "      <td>Nb4CoSi</td>\n",
       "      <td>[[0.94814328 2.07280467 2.5112    ] Nb, [5.273...</td>\n",
       "      <td>194.268884</td>\n",
       "      <td>(Nb, Co, Si)</td>\n",
       "      <td>14.0</td>\n",
       "      <td>41.0</td>\n",
       "      <td>27.0</td>\n",
       "      <td>34.166667</td>\n",
       "      <td>9.111111</td>\n",
       "      <td>41.0</td>\n",
       "      <td>...</td>\n",
       "      <td>0.258079</td>\n",
       "      <td>0.430131</td>\n",
       "      <td>0.0</td>\n",
       "      <td>194.0</td>\n",
       "      <td>229.0</td>\n",
       "      <td>35.0</td>\n",
       "      <td>222.833333</td>\n",
       "      <td>9.611111</td>\n",
       "      <td>229.0</td>\n",
       "      <td>(Nb0+, Co0+, Si0+)</td>\n",
       "    </tr>\n",
       "    <tr>\n",
       "      <th>1</th>\n",
       "      <td>Al(CoSi)2</td>\n",
       "      <td>[[0. 0. 0.] Al, [1.96639263 1.13529553 0.75278...</td>\n",
       "      <td>175.449907</td>\n",
       "      <td>(Al, Co, Si)</td>\n",
       "      <td>13.0</td>\n",
       "      <td>27.0</td>\n",
       "      <td>14.0</td>\n",
       "      <td>19.000000</td>\n",
       "      <td>6.400000</td>\n",
       "      <td>14.0</td>\n",
       "      <td>...</td>\n",
       "      <td>0.619388</td>\n",
       "      <td>0.743266</td>\n",
       "      <td>0.0</td>\n",
       "      <td>194.0</td>\n",
       "      <td>227.0</td>\n",
       "      <td>33.0</td>\n",
       "      <td>213.400000</td>\n",
       "      <td>15.520000</td>\n",
       "      <td>194.0</td>\n",
       "      <td>(Al3+, Co2+, Co3+, Si4-)</td>\n",
       "    </tr>\n",
       "    <tr>\n",
       "      <th>2</th>\n",
       "      <td>SiOs</td>\n",
       "      <td>[[1.480346 1.480346 1.480346] Si, [0. 0. 0.] Os]</td>\n",
       "      <td>295.077545</td>\n",
       "      <td>(Si, Os)</td>\n",
       "      <td>14.0</td>\n",
       "      <td>76.0</td>\n",
       "      <td>62.0</td>\n",
       "      <td>45.000000</td>\n",
       "      <td>31.000000</td>\n",
       "      <td>14.0</td>\n",
       "      <td>...</td>\n",
       "      <td>0.000000</td>\n",
       "      <td>0.000000</td>\n",
       "      <td>0.0</td>\n",
       "      <td>194.0</td>\n",
       "      <td>227.0</td>\n",
       "      <td>33.0</td>\n",
       "      <td>210.500000</td>\n",
       "      <td>16.500000</td>\n",
       "      <td>194.0</td>\n",
       "      <td>(Si4-, Os4+)</td>\n",
       "    </tr>\n",
       "    <tr>\n",
       "      <th>3</th>\n",
       "      <td>Ga</td>\n",
       "      <td>[[0.         1.09045794 0.84078375] Ga, [0.   ...</td>\n",
       "      <td>49.130670</td>\n",
       "      <td>(Ga)</td>\n",
       "      <td>31.0</td>\n",
       "      <td>31.0</td>\n",
       "      <td>0.0</td>\n",
       "      <td>31.000000</td>\n",
       "      <td>0.000000</td>\n",
       "      <td>31.0</td>\n",
       "      <td>...</td>\n",
       "      <td>0.000000</td>\n",
       "      <td>0.000000</td>\n",
       "      <td>0.0</td>\n",
       "      <td>64.0</td>\n",
       "      <td>64.0</td>\n",
       "      <td>0.0</td>\n",
       "      <td>64.000000</td>\n",
       "      <td>0.000000</td>\n",
       "      <td>64.0</td>\n",
       "      <td>(Ga0+)</td>\n",
       "    </tr>\n",
       "    <tr>\n",
       "      <th>4</th>\n",
       "      <td>SiRu2</td>\n",
       "      <td>[[1.0094265  4.24771709 2.9955487 ] Si, [3.028...</td>\n",
       "      <td>256.768081</td>\n",
       "      <td>(Si, Ru)</td>\n",
       "      <td>14.0</td>\n",
       "      <td>44.0</td>\n",
       "      <td>30.0</td>\n",
       "      <td>34.000000</td>\n",
       "      <td>13.333333</td>\n",
       "      <td>44.0</td>\n",
       "      <td>...</td>\n",
       "      <td>0.000000</td>\n",
       "      <td>0.000000</td>\n",
       "      <td>0.0</td>\n",
       "      <td>194.0</td>\n",
       "      <td>227.0</td>\n",
       "      <td>33.0</td>\n",
       "      <td>205.000000</td>\n",
       "      <td>14.666667</td>\n",
       "      <td>194.0</td>\n",
       "      <td>(Si4-, Ru2+)</td>\n",
       "    </tr>\n",
       "  </tbody>\n",
       "</table>\n",
       "<p>5 rows × 137 columns</p>\n",
       "</div>"
      ],
      "text/plain": [
       "     formula                                          structure       K_VRH  \\\n",
       "0    Nb4CoSi  [[0.94814328 2.07280467 2.5112    ] Nb, [5.273...  194.268884   \n",
       "1  Al(CoSi)2  [[0. 0. 0.] Al, [1.96639263 1.13529553 0.75278...  175.449907   \n",
       "2       SiOs   [[1.480346 1.480346 1.480346] Si, [0. 0. 0.] Os]  295.077545   \n",
       "3         Ga  [[0.         1.09045794 0.84078375] Ga, [0.   ...   49.130670   \n",
       "4      SiRu2  [[1.0094265  4.24771709 2.9955487 ] Si, [3.028...  256.768081   \n",
       "\n",
       "    composition  MagpieData minimum Number  MagpieData maximum Number  \\\n",
       "0  (Nb, Co, Si)                       14.0                       41.0   \n",
       "1  (Al, Co, Si)                       13.0                       27.0   \n",
       "2      (Si, Os)                       14.0                       76.0   \n",
       "3          (Ga)                       31.0                       31.0   \n",
       "4      (Si, Ru)                       14.0                       44.0   \n",
       "\n",
       "   MagpieData range Number  MagpieData mean Number  MagpieData avg_dev Number  \\\n",
       "0                     27.0               34.166667                   9.111111   \n",
       "1                     14.0               19.000000                   6.400000   \n",
       "2                     62.0               45.000000                  31.000000   \n",
       "3                      0.0               31.000000                   0.000000   \n",
       "4                     30.0               34.000000                  13.333333   \n",
       "\n",
       "   MagpieData mode Number  ...  MagpieData mean GSmagmom  \\\n",
       "0                    41.0  ...                  0.258079   \n",
       "1                    14.0  ...                  0.619388   \n",
       "2                    14.0  ...                  0.000000   \n",
       "3                    31.0  ...                  0.000000   \n",
       "4                    44.0  ...                  0.000000   \n",
       "\n",
       "   MagpieData avg_dev GSmagmom  MagpieData mode GSmagmom  \\\n",
       "0                     0.430131                       0.0   \n",
       "1                     0.743266                       0.0   \n",
       "2                     0.000000                       0.0   \n",
       "3                     0.000000                       0.0   \n",
       "4                     0.000000                       0.0   \n",
       "\n",
       "   MagpieData minimum SpaceGroupNumber  MagpieData maximum SpaceGroupNumber  \\\n",
       "0                                194.0                                229.0   \n",
       "1                                194.0                                227.0   \n",
       "2                                194.0                                227.0   \n",
       "3                                 64.0                                 64.0   \n",
       "4                                194.0                                227.0   \n",
       "\n",
       "   MagpieData range SpaceGroupNumber  MagpieData mean SpaceGroupNumber  \\\n",
       "0                               35.0                        222.833333   \n",
       "1                               33.0                        213.400000   \n",
       "2                               33.0                        210.500000   \n",
       "3                                0.0                         64.000000   \n",
       "4                               33.0                        205.000000   \n",
       "\n",
       "   MagpieData avg_dev SpaceGroupNumber  MagpieData mode SpaceGroupNumber  \\\n",
       "0                             9.611111                             229.0   \n",
       "1                            15.520000                             194.0   \n",
       "2                            16.500000                             194.0   \n",
       "3                             0.000000                              64.0   \n",
       "4                            14.666667                             194.0   \n",
       "\n",
       "           composition_oxid  \n",
       "0        (Nb0+, Co0+, Si0+)  \n",
       "1  (Al3+, Co2+, Co3+, Si4-)  \n",
       "2              (Si4-, Os4+)  \n",
       "3                    (Ga0+)  \n",
       "4              (Si4-, Ru2+)  \n",
       "\n",
       "[5 rows x 137 columns]"
      ]
     },
     "execution_count": 5,
     "metadata": {},
     "output_type": "execute_result"
    }
   ],
   "source": [
    "from matminer.featurizers.conversions import CompositionToOxidComposition\n",
    "\n",
    "df = CompositionToOxidComposition().featurize_dataframe(df, 'composition')\n",
    "\n",
    "df.head()"
   ]
  },
  {
   "cell_type": "code",
   "execution_count": 6,
   "id": "701920e6",
   "metadata": {},
   "outputs": [
    {
     "data": {
      "application/vnd.jupyter.widget-view+json": {
       "model_id": "dd342d356bb747e4a732e260844402dd",
       "version_major": 2,
       "version_minor": 0
      },
      "text/plain": [
       "OxidationStates:   0%|          | 0/1181 [00:00<?, ?it/s]"
      ]
     },
     "metadata": {},
     "output_type": "display_data"
    },
    {
     "data": {
      "text/html": [
       "<div>\n",
       "<style scoped>\n",
       "    .dataframe tbody tr th:only-of-type {\n",
       "        vertical-align: middle;\n",
       "    }\n",
       "\n",
       "    .dataframe tbody tr th {\n",
       "        vertical-align: top;\n",
       "    }\n",
       "\n",
       "    .dataframe thead th {\n",
       "        text-align: right;\n",
       "    }\n",
       "</style>\n",
       "<table border=\"1\" class=\"dataframe\">\n",
       "  <thead>\n",
       "    <tr style=\"text-align: right;\">\n",
       "      <th></th>\n",
       "      <th>formula</th>\n",
       "      <th>structure</th>\n",
       "      <th>K_VRH</th>\n",
       "      <th>composition</th>\n",
       "      <th>MagpieData minimum Number</th>\n",
       "      <th>MagpieData maximum Number</th>\n",
       "      <th>MagpieData range Number</th>\n",
       "      <th>MagpieData mean Number</th>\n",
       "      <th>MagpieData avg_dev Number</th>\n",
       "      <th>MagpieData mode Number</th>\n",
       "      <th>...</th>\n",
       "      <th>MagpieData maximum SpaceGroupNumber</th>\n",
       "      <th>MagpieData range SpaceGroupNumber</th>\n",
       "      <th>MagpieData mean SpaceGroupNumber</th>\n",
       "      <th>MagpieData avg_dev SpaceGroupNumber</th>\n",
       "      <th>MagpieData mode SpaceGroupNumber</th>\n",
       "      <th>composition_oxid</th>\n",
       "      <th>minimum oxidation state</th>\n",
       "      <th>maximum oxidation state</th>\n",
       "      <th>range oxidation state</th>\n",
       "      <th>std_dev oxidation state</th>\n",
       "    </tr>\n",
       "  </thead>\n",
       "  <tbody>\n",
       "    <tr>\n",
       "      <th>0</th>\n",
       "      <td>Nb4CoSi</td>\n",
       "      <td>[[0.94814328 2.07280467 2.5112    ] Nb, [5.273...</td>\n",
       "      <td>194.268884</td>\n",
       "      <td>(Nb, Co, Si)</td>\n",
       "      <td>14.0</td>\n",
       "      <td>41.0</td>\n",
       "      <td>27.0</td>\n",
       "      <td>34.166667</td>\n",
       "      <td>9.111111</td>\n",
       "      <td>41.0</td>\n",
       "      <td>...</td>\n",
       "      <td>229.0</td>\n",
       "      <td>35.0</td>\n",
       "      <td>222.833333</td>\n",
       "      <td>9.611111</td>\n",
       "      <td>229.0</td>\n",
       "      <td>(Nb0+, Co0+, Si0+)</td>\n",
       "      <td>0</td>\n",
       "      <td>0</td>\n",
       "      <td>0</td>\n",
       "      <td>0.000000</td>\n",
       "    </tr>\n",
       "    <tr>\n",
       "      <th>1</th>\n",
       "      <td>Al(CoSi)2</td>\n",
       "      <td>[[0. 0. 0.] Al, [1.96639263 1.13529553 0.75278...</td>\n",
       "      <td>175.449907</td>\n",
       "      <td>(Al, Co, Si)</td>\n",
       "      <td>13.0</td>\n",
       "      <td>27.0</td>\n",
       "      <td>14.0</td>\n",
       "      <td>19.000000</td>\n",
       "      <td>6.400000</td>\n",
       "      <td>14.0</td>\n",
       "      <td>...</td>\n",
       "      <td>227.0</td>\n",
       "      <td>33.0</td>\n",
       "      <td>213.400000</td>\n",
       "      <td>15.520000</td>\n",
       "      <td>194.0</td>\n",
       "      <td>(Al3+, Co2+, Co3+, Si4-)</td>\n",
       "      <td>-4</td>\n",
       "      <td>3</td>\n",
       "      <td>7</td>\n",
       "      <td>3.872983</td>\n",
       "    </tr>\n",
       "    <tr>\n",
       "      <th>2</th>\n",
       "      <td>SiOs</td>\n",
       "      <td>[[1.480346 1.480346 1.480346] Si, [0. 0. 0.] Os]</td>\n",
       "      <td>295.077545</td>\n",
       "      <td>(Si, Os)</td>\n",
       "      <td>14.0</td>\n",
       "      <td>76.0</td>\n",
       "      <td>62.0</td>\n",
       "      <td>45.000000</td>\n",
       "      <td>31.000000</td>\n",
       "      <td>14.0</td>\n",
       "      <td>...</td>\n",
       "      <td>227.0</td>\n",
       "      <td>33.0</td>\n",
       "      <td>210.500000</td>\n",
       "      <td>16.500000</td>\n",
       "      <td>194.0</td>\n",
       "      <td>(Si4-, Os4+)</td>\n",
       "      <td>-4</td>\n",
       "      <td>4</td>\n",
       "      <td>8</td>\n",
       "      <td>5.656854</td>\n",
       "    </tr>\n",
       "    <tr>\n",
       "      <th>3</th>\n",
       "      <td>Ga</td>\n",
       "      <td>[[0.         1.09045794 0.84078375] Ga, [0.   ...</td>\n",
       "      <td>49.130670</td>\n",
       "      <td>(Ga)</td>\n",
       "      <td>31.0</td>\n",
       "      <td>31.0</td>\n",
       "      <td>0.0</td>\n",
       "      <td>31.000000</td>\n",
       "      <td>0.000000</td>\n",
       "      <td>31.0</td>\n",
       "      <td>...</td>\n",
       "      <td>64.0</td>\n",
       "      <td>0.0</td>\n",
       "      <td>64.000000</td>\n",
       "      <td>0.000000</td>\n",
       "      <td>64.0</td>\n",
       "      <td>(Ga0+)</td>\n",
       "      <td>0</td>\n",
       "      <td>0</td>\n",
       "      <td>0</td>\n",
       "      <td>0.000000</td>\n",
       "    </tr>\n",
       "    <tr>\n",
       "      <th>4</th>\n",
       "      <td>SiRu2</td>\n",
       "      <td>[[1.0094265  4.24771709 2.9955487 ] Si, [3.028...</td>\n",
       "      <td>256.768081</td>\n",
       "      <td>(Si, Ru)</td>\n",
       "      <td>14.0</td>\n",
       "      <td>44.0</td>\n",
       "      <td>30.0</td>\n",
       "      <td>34.000000</td>\n",
       "      <td>13.333333</td>\n",
       "      <td>44.0</td>\n",
       "      <td>...</td>\n",
       "      <td>227.0</td>\n",
       "      <td>33.0</td>\n",
       "      <td>205.000000</td>\n",
       "      <td>14.666667</td>\n",
       "      <td>194.0</td>\n",
       "      <td>(Si4-, Ru2+)</td>\n",
       "      <td>-4</td>\n",
       "      <td>2</td>\n",
       "      <td>6</td>\n",
       "      <td>4.242641</td>\n",
       "    </tr>\n",
       "  </tbody>\n",
       "</table>\n",
       "<p>5 rows × 141 columns</p>\n",
       "</div>"
      ],
      "text/plain": [
       "     formula                                          structure       K_VRH  \\\n",
       "0    Nb4CoSi  [[0.94814328 2.07280467 2.5112    ] Nb, [5.273...  194.268884   \n",
       "1  Al(CoSi)2  [[0. 0. 0.] Al, [1.96639263 1.13529553 0.75278...  175.449907   \n",
       "2       SiOs   [[1.480346 1.480346 1.480346] Si, [0. 0. 0.] Os]  295.077545   \n",
       "3         Ga  [[0.         1.09045794 0.84078375] Ga, [0.   ...   49.130670   \n",
       "4      SiRu2  [[1.0094265  4.24771709 2.9955487 ] Si, [3.028...  256.768081   \n",
       "\n",
       "    composition  MagpieData minimum Number  MagpieData maximum Number  \\\n",
       "0  (Nb, Co, Si)                       14.0                       41.0   \n",
       "1  (Al, Co, Si)                       13.0                       27.0   \n",
       "2      (Si, Os)                       14.0                       76.0   \n",
       "3          (Ga)                       31.0                       31.0   \n",
       "4      (Si, Ru)                       14.0                       44.0   \n",
       "\n",
       "   MagpieData range Number  MagpieData mean Number  MagpieData avg_dev Number  \\\n",
       "0                     27.0               34.166667                   9.111111   \n",
       "1                     14.0               19.000000                   6.400000   \n",
       "2                     62.0               45.000000                  31.000000   \n",
       "3                      0.0               31.000000                   0.000000   \n",
       "4                     30.0               34.000000                  13.333333   \n",
       "\n",
       "   MagpieData mode Number  ...  MagpieData maximum SpaceGroupNumber  \\\n",
       "0                    41.0  ...                                229.0   \n",
       "1                    14.0  ...                                227.0   \n",
       "2                    14.0  ...                                227.0   \n",
       "3                    31.0  ...                                 64.0   \n",
       "4                    44.0  ...                                227.0   \n",
       "\n",
       "   MagpieData range SpaceGroupNumber  MagpieData mean SpaceGroupNumber  \\\n",
       "0                               35.0                        222.833333   \n",
       "1                               33.0                        213.400000   \n",
       "2                               33.0                        210.500000   \n",
       "3                                0.0                         64.000000   \n",
       "4                               33.0                        205.000000   \n",
       "\n",
       "   MagpieData avg_dev SpaceGroupNumber  MagpieData mode SpaceGroupNumber  \\\n",
       "0                             9.611111                             229.0   \n",
       "1                            15.520000                             194.0   \n",
       "2                            16.500000                             194.0   \n",
       "3                             0.000000                              64.0   \n",
       "4                            14.666667                             194.0   \n",
       "\n",
       "           composition_oxid  minimum oxidation state  maximum oxidation state  \\\n",
       "0        (Nb0+, Co0+, Si0+)                        0                        0   \n",
       "1  (Al3+, Co2+, Co3+, Si4-)                       -4                        3   \n",
       "2              (Si4-, Os4+)                       -4                        4   \n",
       "3                    (Ga0+)                        0                        0   \n",
       "4              (Si4-, Ru2+)                       -4                        2   \n",
       "\n",
       "   range oxidation state  std_dev oxidation state  \n",
       "0                      0                 0.000000  \n",
       "1                      7                 3.872983  \n",
       "2                      8                 5.656854  \n",
       "3                      0                 0.000000  \n",
       "4                      6                 4.242641  \n",
       "\n",
       "[5 rows x 141 columns]"
      ]
     },
     "execution_count": 6,
     "metadata": {},
     "output_type": "execute_result"
    }
   ],
   "source": [
    "from matminer.featurizers.composition import OxidationStates\n",
    "os_feat = OxidationStates()\n",
    "df = os_feat.featurize_dataframe(df, 'composition_oxid')\n",
    "\n",
    "df.head()"
   ]
  },
  {
   "cell_type": "markdown",
   "id": "259b0ba7",
   "metadata": {},
   "source": [
    "#### 添加结构特征"
   ]
  },
  {
   "cell_type": "code",
   "execution_count": 7,
   "id": "2674e56f",
   "metadata": {},
   "outputs": [
    {
     "data": {
      "application/vnd.jupyter.widget-view+json": {
       "model_id": "5a831d29a5e64f8ea3a3bc87425ce84c",
       "version_major": 2,
       "version_minor": 0
      },
      "text/plain": [
       "DensityFeatures:   0%|          | 0/1181 [00:00<?, ?it/s]"
      ]
     },
     "metadata": {},
     "output_type": "display_data"
    },
    {
     "data": {
      "text/html": [
       "<div>\n",
       "<style scoped>\n",
       "    .dataframe tbody tr th:only-of-type {\n",
       "        vertical-align: middle;\n",
       "    }\n",
       "\n",
       "    .dataframe tbody tr th {\n",
       "        vertical-align: top;\n",
       "    }\n",
       "\n",
       "    .dataframe thead th {\n",
       "        text-align: right;\n",
       "    }\n",
       "</style>\n",
       "<table border=\"1\" class=\"dataframe\">\n",
       "  <thead>\n",
       "    <tr style=\"text-align: right;\">\n",
       "      <th></th>\n",
       "      <th>formula</th>\n",
       "      <th>structure</th>\n",
       "      <th>K_VRH</th>\n",
       "      <th>composition</th>\n",
       "      <th>MagpieData minimum Number</th>\n",
       "      <th>MagpieData maximum Number</th>\n",
       "      <th>MagpieData range Number</th>\n",
       "      <th>MagpieData mean Number</th>\n",
       "      <th>MagpieData avg_dev Number</th>\n",
       "      <th>MagpieData mode Number</th>\n",
       "      <th>...</th>\n",
       "      <th>MagpieData avg_dev SpaceGroupNumber</th>\n",
       "      <th>MagpieData mode SpaceGroupNumber</th>\n",
       "      <th>composition_oxid</th>\n",
       "      <th>minimum oxidation state</th>\n",
       "      <th>maximum oxidation state</th>\n",
       "      <th>range oxidation state</th>\n",
       "      <th>std_dev oxidation state</th>\n",
       "      <th>density</th>\n",
       "      <th>vpa</th>\n",
       "      <th>packing fraction</th>\n",
       "    </tr>\n",
       "  </thead>\n",
       "  <tbody>\n",
       "    <tr>\n",
       "      <th>0</th>\n",
       "      <td>Nb4CoSi</td>\n",
       "      <td>[[0.94814328 2.07280467 2.5112    ] Nb, [5.273...</td>\n",
       "      <td>194.268884</td>\n",
       "      <td>(Nb, Co, Si)</td>\n",
       "      <td>14.0</td>\n",
       "      <td>41.0</td>\n",
       "      <td>27.0</td>\n",
       "      <td>34.166667</td>\n",
       "      <td>9.111111</td>\n",
       "      <td>41.0</td>\n",
       "      <td>...</td>\n",
       "      <td>9.611111</td>\n",
       "      <td>229.0</td>\n",
       "      <td>(Nb0+, Co0+, Si0+)</td>\n",
       "      <td>0</td>\n",
       "      <td>0</td>\n",
       "      <td>0</td>\n",
       "      <td>0.000000</td>\n",
       "      <td>7.834556</td>\n",
       "      <td>16.201654</td>\n",
       "      <td>0.688834</td>\n",
       "    </tr>\n",
       "    <tr>\n",
       "      <th>1</th>\n",
       "      <td>Al(CoSi)2</td>\n",
       "      <td>[[0. 0. 0.] Al, [1.96639263 1.13529553 0.75278...</td>\n",
       "      <td>175.449907</td>\n",
       "      <td>(Al, Co, Si)</td>\n",
       "      <td>13.0</td>\n",
       "      <td>27.0</td>\n",
       "      <td>14.0</td>\n",
       "      <td>19.000000</td>\n",
       "      <td>6.400000</td>\n",
       "      <td>14.0</td>\n",
       "      <td>...</td>\n",
       "      <td>15.520000</td>\n",
       "      <td>194.0</td>\n",
       "      <td>(Al3+, Co2+, Co3+, Si4-)</td>\n",
       "      <td>-4</td>\n",
       "      <td>3</td>\n",
       "      <td>7</td>\n",
       "      <td>3.872983</td>\n",
       "      <td>5.384968</td>\n",
       "      <td>12.397466</td>\n",
       "      <td>0.644386</td>\n",
       "    </tr>\n",
       "    <tr>\n",
       "      <th>2</th>\n",
       "      <td>SiOs</td>\n",
       "      <td>[[1.480346 1.480346 1.480346] Si, [0. 0. 0.] Os]</td>\n",
       "      <td>295.077545</td>\n",
       "      <td>(Si, Os)</td>\n",
       "      <td>14.0</td>\n",
       "      <td>76.0</td>\n",
       "      <td>62.0</td>\n",
       "      <td>45.000000</td>\n",
       "      <td>31.000000</td>\n",
       "      <td>14.0</td>\n",
       "      <td>...</td>\n",
       "      <td>16.500000</td>\n",
       "      <td>194.0</td>\n",
       "      <td>(Si4-, Os4+)</td>\n",
       "      <td>-4</td>\n",
       "      <td>4</td>\n",
       "      <td>8</td>\n",
       "      <td>5.656854</td>\n",
       "      <td>13.968635</td>\n",
       "      <td>12.976265</td>\n",
       "      <td>0.569426</td>\n",
       "    </tr>\n",
       "    <tr>\n",
       "      <th>3</th>\n",
       "      <td>Ga</td>\n",
       "      <td>[[0.         1.09045794 0.84078375] Ga, [0.   ...</td>\n",
       "      <td>49.130670</td>\n",
       "      <td>(Ga)</td>\n",
       "      <td>31.0</td>\n",
       "      <td>31.0</td>\n",
       "      <td>0.0</td>\n",
       "      <td>31.000000</td>\n",
       "      <td>0.000000</td>\n",
       "      <td>31.0</td>\n",
       "      <td>...</td>\n",
       "      <td>0.000000</td>\n",
       "      <td>64.0</td>\n",
       "      <td>(Ga0+)</td>\n",
       "      <td>0</td>\n",
       "      <td>0</td>\n",
       "      <td>0</td>\n",
       "      <td>0.000000</td>\n",
       "      <td>6.036267</td>\n",
       "      <td>19.180359</td>\n",
       "      <td>0.479802</td>\n",
       "    </tr>\n",
       "    <tr>\n",
       "      <th>4</th>\n",
       "      <td>SiRu2</td>\n",
       "      <td>[[1.0094265  4.24771709 2.9955487 ] Si, [3.028...</td>\n",
       "      <td>256.768081</td>\n",
       "      <td>(Si, Ru)</td>\n",
       "      <td>14.0</td>\n",
       "      <td>44.0</td>\n",
       "      <td>30.0</td>\n",
       "      <td>34.000000</td>\n",
       "      <td>13.333333</td>\n",
       "      <td>44.0</td>\n",
       "      <td>...</td>\n",
       "      <td>14.666667</td>\n",
       "      <td>194.0</td>\n",
       "      <td>(Si4-, Ru2+)</td>\n",
       "      <td>-4</td>\n",
       "      <td>2</td>\n",
       "      <td>6</td>\n",
       "      <td>4.242641</td>\n",
       "      <td>9.539514</td>\n",
       "      <td>13.358418</td>\n",
       "      <td>0.598395</td>\n",
       "    </tr>\n",
       "  </tbody>\n",
       "</table>\n",
       "<p>5 rows × 144 columns</p>\n",
       "</div>"
      ],
      "text/plain": [
       "     formula                                          structure       K_VRH  \\\n",
       "0    Nb4CoSi  [[0.94814328 2.07280467 2.5112    ] Nb, [5.273...  194.268884   \n",
       "1  Al(CoSi)2  [[0. 0. 0.] Al, [1.96639263 1.13529553 0.75278...  175.449907   \n",
       "2       SiOs   [[1.480346 1.480346 1.480346] Si, [0. 0. 0.] Os]  295.077545   \n",
       "3         Ga  [[0.         1.09045794 0.84078375] Ga, [0.   ...   49.130670   \n",
       "4      SiRu2  [[1.0094265  4.24771709 2.9955487 ] Si, [3.028...  256.768081   \n",
       "\n",
       "    composition  MagpieData minimum Number  MagpieData maximum Number  \\\n",
       "0  (Nb, Co, Si)                       14.0                       41.0   \n",
       "1  (Al, Co, Si)                       13.0                       27.0   \n",
       "2      (Si, Os)                       14.0                       76.0   \n",
       "3          (Ga)                       31.0                       31.0   \n",
       "4      (Si, Ru)                       14.0                       44.0   \n",
       "\n",
       "   MagpieData range Number  MagpieData mean Number  MagpieData avg_dev Number  \\\n",
       "0                     27.0               34.166667                   9.111111   \n",
       "1                     14.0               19.000000                   6.400000   \n",
       "2                     62.0               45.000000                  31.000000   \n",
       "3                      0.0               31.000000                   0.000000   \n",
       "4                     30.0               34.000000                  13.333333   \n",
       "\n",
       "   MagpieData mode Number  ...  MagpieData avg_dev SpaceGroupNumber  \\\n",
       "0                    41.0  ...                             9.611111   \n",
       "1                    14.0  ...                            15.520000   \n",
       "2                    14.0  ...                            16.500000   \n",
       "3                    31.0  ...                             0.000000   \n",
       "4                    44.0  ...                            14.666667   \n",
       "\n",
       "   MagpieData mode SpaceGroupNumber          composition_oxid  \\\n",
       "0                             229.0        (Nb0+, Co0+, Si0+)   \n",
       "1                             194.0  (Al3+, Co2+, Co3+, Si4-)   \n",
       "2                             194.0              (Si4-, Os4+)   \n",
       "3                              64.0                    (Ga0+)   \n",
       "4                             194.0              (Si4-, Ru2+)   \n",
       "\n",
       "   minimum oxidation state  maximum oxidation state  range oxidation state  \\\n",
       "0                        0                        0                      0   \n",
       "1                       -4                        3                      7   \n",
       "2                       -4                        4                      8   \n",
       "3                        0                        0                      0   \n",
       "4                       -4                        2                      6   \n",
       "\n",
       "   std_dev oxidation state    density        vpa  packing fraction  \n",
       "0                 0.000000   7.834556  16.201654          0.688834  \n",
       "1                 3.872983   5.384968  12.397466          0.644386  \n",
       "2                 5.656854  13.968635  12.976265          0.569426  \n",
       "3                 0.000000   6.036267  19.180359          0.479802  \n",
       "4                 4.242641   9.539514  13.358418          0.598395  \n",
       "\n",
       "[5 rows x 144 columns]"
      ]
     },
     "execution_count": 7,
     "metadata": {},
     "output_type": "execute_result"
    }
   ],
   "source": [
    "from matminer.featurizers.structure import DensityFeatures\n",
    "\n",
    "df_feat = DensityFeatures()\n",
    "df = df_feat.featurize_dataframe(df, 'structure')\n",
    "df.head()"
   ]
  },
  {
   "cell_type": "code",
   "execution_count": 8,
   "id": "88df8b22",
   "metadata": {},
   "outputs": [
    {
     "data": {
      "text/plain": [
       "['density', 'vpa', 'packing fraction']"
      ]
     },
     "execution_count": 8,
     "metadata": {},
     "output_type": "execute_result"
    }
   ],
   "source": [
    "df_feat.feature_labels()"
   ]
  },
  {
   "cell_type": "markdown",
   "id": "3ddcfbae",
   "metadata": {},
   "source": [
    "## 8.3 使输入特征与体积模量相关"
   ]
  },
  {
   "cell_type": "markdown",
   "id": "c1cbc52e",
   "metadata": {},
   "source": [
    "#### 定义输入输出"
   ]
  },
  {
   "cell_type": "markdown",
   "id": "dec353f4",
   "metadata": {},
   "source": [
    "除了非数字数据和输出数据，都作为输入数据。"
   ]
  },
  {
   "cell_type": "code",
   "execution_count": 9,
   "id": "30615852",
   "metadata": {},
   "outputs": [
    {
     "name": "stdout",
     "output_type": "stream",
     "text": [
      "There are 139 possible dedscriptor:\n",
      "\n"
     ]
    }
   ],
   "source": [
    "y = df['K_VRH'].values\n",
    "excluded = ['K_VRH', 'formula', 'structure', 'composition', 'composition_oxid']\n",
    "X = df.drop(excluded,axis=1)\n",
    "\n",
    "print(\"There are %s possible dedscriptor:\\n\"%X.shape[1])\n",
    "print('%s'%X.columns.values)"
   ]
  },
  {
   "cell_type": "markdown",
   "id": "a256f8d6",
   "metadata": {},
   "source": [
    "## 8.4 决策树回归"
   ]
  },
  {
   "cell_type": "code",
   "execution_count": 10,
   "id": "9f6ec046",
   "metadata": {},
   "outputs": [
    {
     "name": "stdout",
     "output_type": "stream",
     "text": [
      "training R2 =1.0\n",
      "training RMSE = 0.000\n"
     ]
    }
   ],
   "source": [
    "from sklearn import tree\n",
    "from sklearn.metrics import mean_squared_error\n",
    "import numpy as np\n",
    "\n",
    "clf = tree.DecisionTreeRegressor()\n",
    "clf = clf.fit(X, y)\n",
    "\n",
    "print('training R2 =' + str(round(clf.score(X,y), 3)))\n",
    "print('training RMSE = %.3f' % np.sqrt(mean_squared_error(y_true = y, y_pred = clf.predict(X))))"
   ]
  },
  {
   "cell_type": "code",
   "execution_count": 11,
   "id": "9e59d640",
   "metadata": {},
   "outputs": [
    {
     "data": {
      "text/plain": [
       "<matplotlib.collections.PathCollection at 0x267c6291fa0>"
      ]
     },
     "execution_count": 11,
     "metadata": {},
     "output_type": "execute_result"
    },
    {
     "data": {
      "image/png": "[encoded data removed]",
      "text/plain": [
       "<Figure size 360x360 with 1 Axes>"
      ]
     },
     "metadata": {
      "needs_background": "light"
     },
     "output_type": "display_data"
    }
   ],
   "source": [
    "import matplotlib.pyplot as plt\n",
    "\n",
    "plt.figure(figsize=(5,5))\n",
    "plt.plot([0,400], [0, 400], 'r--')\n",
    "plt.scatter(y, clf.predict(X), s = 80, edgecolor = 'k', alpha = 0.7)"
   ]
  },
  {
   "cell_type": "code",
   "execution_count": 12,
   "id": "0dcff0da",
   "metadata": {},
   "outputs": [
    {
     "name": "stdout",
     "output_type": "stream",
     "text": [
      "Cross-validation results:\n",
      "Folds: 10, mean R2: 0.868\n",
      "Folds: 10, mean RMSE: 27.217\n"
     ]
    }
   ],
   "source": [
    "from sklearn.model_selection import KFold, cross_val_score\n",
    "\n",
    "crossvalidation = KFold(n_splits=10, shuffle=True)\n",
    "r2_scores = cross_val_score(clf, X, y, scoring = 'r2', cv = crossvalidation)\n",
    "rmse_scores = cross_val_score(clf, X, y, scoring='neg_root_mean_squared_error', cv=crossvalidation)\n",
    "\n",
    "print('Cross-validation results:')\n",
    "print('Folds: %i, mean R2: %.3f' % (len(r2_scores), np.mean(r2_scores)))\n",
    "print('Folds: %i, mean RMSE: %.3f' % (len(rmse_scores), -np.mean(rmse_scores)))"
   ]
  },
  {
   "cell_type": "code",
   "execution_count": 13,
   "id": "5e3dff86",
   "metadata": {},
   "outputs": [],
   "source": [
    "from sklearn.model_selection import cross_val_predict\n",
    "y_cv = cross_val_predict(clf, X, y, cv=crossvalidation)"
   ]
  },
  {
   "cell_type": "code",
   "execution_count": 14,
   "id": "d2fc6764",
   "metadata": {},
   "outputs": [
    {
     "data": {
      "text/plain": [
       "<matplotlib.collections.PathCollection at 0x267bd108430>"
      ]
     },
     "execution_count": 14,
     "metadata": {},
     "output_type": "execute_result"
    },
    {
     "data": {
      "image/png": "[encoded data removed]",
      "text/plain": [
       "<Figure size 360x360 with 1 Axes>"
      ]
     },
     "metadata": {
      "needs_background": "light"
     },
     "output_type": "display_data"
    }
   ],
   "source": [
    "plt.figure(figsize=(5,5))\n",
    "plt.plot([0,400],[0,400],'r--')\n",
    "plt.scatter(y, y_cv, s = 80, c = None, edgecolor = 'k', alpha = 0.7)"
   ]
  },
  {
   "cell_type": "markdown",
   "id": "9ed9bbf0",
   "metadata": {},
   "source": [
    "## 8.5 随机森林回归"
   ]
  },
  {
   "cell_type": "markdown",
   "id": "91743134",
   "metadata": {},
   "source": [
    "### 8.5.1 随机森林回归"
   ]
  },
  {
   "cell_type": "markdown",
   "id": "31063176",
   "metadata": {},
   "source": [
    "random_state：随机数种子，如果不设置则随机选择，每次结果会不一样"
   ]
  },
  {
   "cell_type": "code",
   "execution_count": 15,
   "id": "fba51136",
   "metadata": {},
   "outputs": [
    {
     "name": "stdout",
     "output_type": "stream",
     "text": [
      "training R2 = 0.989\n",
      "training RMSE = 7.669\n"
     ]
    }
   ],
   "source": [
    "from sklearn.ensemble import RandomForestRegressor\n",
    "\n",
    "rf = RandomForestRegressor(n_estimators=50, random_state=1)\n",
    "\n",
    "rf.fit(X, y)\n",
    "print('training R2 = ' + str(round(rf.score(X, y), 3)))\n",
    "print('training RMSE = %.3f' % np.sqrt(mean_squared_error(y_true=y, y_pred=rf.predict(X))))"
   ]
  },
  {
   "cell_type": "code",
   "execution_count": 16,
   "id": "73e56285",
   "metadata": {
    "scrolled": false
   },
   "outputs": [
    {
     "data": {
      "text/plain": [
       "<matplotlib.collections.PathCollection at 0x267c649afa0>"
      ]
     },
     "execution_count": 16,
     "metadata": {},
     "output_type": "execute_result"
    },
    {
     "data": {
      "image/png": "[encoded data removed]",
      "text/plain": [
       "<Figure size 360x360 with 1 Axes>"
      ]
     },
     "metadata": {
      "needs_background": "light"
     },
     "output_type": "display_data"
    }
   ],
   "source": [
    "plt.figure(figsize=(5,5))\n",
    "plt.plot([0,400], [0, 400], 'r--')\n",
    "plt.scatter(y, rf.predict(X), s = 80, c = 'g', edgecolor = 'k', alpha = 0.7)"
   ]
  },
  {
   "cell_type": "markdown",
   "id": "d705a6be",
   "metadata": {},
   "source": [
    "### 8.5.2 留出法"
   ]
  },
  {
   "cell_type": "code",
   "execution_count": 17,
   "id": "c92e2f7c",
   "metadata": {},
   "outputs": [
    {
     "name": "stdout",
     "output_type": "stream",
     "text": [
      "training R2 = 0.987\n",
      "training RMSE = 8.218\n",
      "test R2 = 0.941\n",
      "test RMSE = 17.013\n"
     ]
    }
   ],
   "source": [
    "from sklearn.model_selection import train_test_split\n",
    "X_train, X_test, y_train, y_test = train_test_split(X, y, test_size=0.2, random_state=1)\n",
    "\n",
    "rf_reg = RandomForestRegressor(n_estimators=50, random_state=1)\n",
    "rf_reg.fit(X_train, y_train)\n",
    "\n",
    "print('training R2 = %.3f' % rf_reg.score(X_train, y_train))\n",
    "print('training RMSE = %.3f' % np.sqrt(mean_squared_error(y_true=y_train, y_pred=rf_reg.predict(X_train))))\n",
    "print('test R2 = %.3f' % rf_reg.score(X_test, y_test))\n",
    "print('test RMSE = %.3f' % np.sqrt(mean_squared_error(y_true=y_test, y_pred=rf_reg.predict(X_test))))"
   ]
  },
  {
   "cell_type": "code",
   "execution_count": 18,
   "id": "75282e21",
   "metadata": {
    "scrolled": false
   },
   "outputs": [
    {
     "data": {
      "image/png": "[encoded data removed]",
      "text/plain": [
       "<Figure size 720x360 with 1 Axes>"
      ]
     },
     "metadata": {
      "needs_background": "light"
     },
     "output_type": "display_data"
    }
   ],
   "source": [
    "plt.figure(figsize=(10, 5))\n",
    "plt.hist(y_train-rf_reg.predict(X_train),color='blue',bins = np.arange(-100, 100, 2), density = True)\n",
    "plt.hist(y_test-rf_reg.predict(X_test),color='red', bins = np.arange(-100, 100, 5), density = True, alpha = 0.7)\n",
    "plt.show()"
   ]
  },
  {
   "cell_type": "markdown",
   "id": "57fb5356",
   "metadata": {},
   "source": [
    "### 8.5.3 交叉验证"
   ]
  },
  {
   "cell_type": "code",
   "execution_count": 19,
   "id": "64cfc3a5",
   "metadata": {},
   "outputs": [
    {
     "name": "stdout",
     "output_type": "stream",
     "text": [
      "Cross-validation results:\n",
      "Folds: 10, mean R2: 0.927\n",
      "Folds: 10, mean RMSE: 19.321\n"
     ]
    }
   ],
   "source": [
    "r2_scores = cross_val_score(rf, X, y, scoring = 'r2', cv = crossvalidation)\n",
    "rmse_scores = cross_val_score(rf, X, y, scoring='neg_root_mean_squared_error', cv=crossvalidation)\n",
    "\n",
    "print('Cross-validation results:')\n",
    "print('Folds: %i, mean R2: %.3f' % (len(r2_scores), np.mean(r2_scores)))\n",
    "print('Folds: %i, mean RMSE: %.3f' % (len(rmse_scores), -np.mean(rmse_scores)))"
   ]
  },
  {
   "cell_type": "code",
   "execution_count": 20,
   "id": "b2123b47",
   "metadata": {},
   "outputs": [
    {
     "data": {
      "text/plain": [
       "<matplotlib.collections.PathCollection at 0x267c76484f0>"
      ]
     },
     "execution_count": 20,
     "metadata": {},
     "output_type": "execute_result"
    },
    {
     "data": {
      "image/png": "[encoded data removed]",
      "text/plain": [
       "<Figure size 360x360 with 1 Axes>"
      ]
     },
     "metadata": {
      "needs_background": "light"
     },
     "output_type": "display_data"
    }
   ],
   "source": [
    "plt.figure(figsize=(5,5))\n",
    "plt.plot([0,400], [0, 400], 'r--')\n",
    "plt.scatter(y, cross_val_predict(rf, X, y, cv=crossvalidation), s = 80, c = 'g', edgecolor = 'k', alpha = 0.7)"
   ]
  },
  {
   "cell_type": "code",
   "execution_count": 21,
   "id": "d2895ef4",
   "metadata": {},
   "outputs": [
    {
     "data": {
      "image/png": "[encoded data removed]",
      "text/plain": [
       "<Figure size 720x360 with 1 Axes>"
      ]
     },
     "metadata": {
      "needs_background": "light"
     },
     "output_type": "display_data"
    }
   ],
   "source": [
    "importances = rf.feature_importances_\n",
    "imp_sort = np.argsort(importances)[::-1]\n",
    "feat_name = X.columns.values\n",
    "\n",
    "plt.figure(figsize = (10,5))\n",
    "plt.bar(x = feat_name[imp_sort][0:10], height = importances[imp_sort][0:10], color = 'g', edgecolor = 'k')\n",
    "plt.xticks(rotation = -45, fontsize = 15, ha = 'left') # ha 标签对齐方式\n",
    "plt.yticks(fontsize = 15)\n",
    "plt.show()"
   ]
  }
 ],
 "metadata": {
  "kernelspec": {
   "display_name": "Python 3 (ipykernel)",
   "language": "python",
   "name": "python3"
  },
  "language_info": {
   "codemirror_mode": {
    "name": "ipython",
    "version": 3
   },
   "file_extension": ".py",
   "mimetype": "text/x-python",
   "name": "python",
   "nbconvert_exporter": "python",
   "pygments_lexer": "ipython3",
   "version": "3.9.6"
  }
 },
 "nbformat": 4,
 "nbformat_minor": 5
}
