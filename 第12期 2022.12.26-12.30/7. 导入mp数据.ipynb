{
 "cells": [
  {
   "cell_type": "code",
   "execution_count": 2,
   "id": "e7307222",
   "metadata": {},
   "outputs": [],
   "source": [
    "with open('key.txt') as f:\n",
    "    key = f.read()"
   ]
  },
  {
   "cell_type": "code",
   "execution_count": 4,
   "id": "801d03b3",
   "metadata": {},
   "outputs": [
    {
     "name": "stderr",
     "output_type": "stream",
     "text": [
      "C:\\Users\\HUAWEI\\AppData\\Roaming\\Python\\Python38\\site-packages\\mp_api\\client\\client.py:139: builtins.UserWarning: Problem loading MPContribs client: [<twisted.python.failure.Failure OpenSSL.SSL.Error: [('SSL routines', 'tls_process_server_certificate', 'certificate verify failed')]>]\n"
     ]
    },
    {
     "data": {
      "application/vnd.jupyter.widget-view+json": {
       "model_id": "f0fa948947344740a3827b6f8bb141aa",
       "version_major": 2,
       "version_minor": 0
      },
      "text/plain": [
       "Retrieving SummaryDoc documents:   0%|          | 0/1 [00:00<?, ?it/s]"
      ]
     },
     "metadata": {},
     "output_type": "display_data"
    },
    {
     "data": {
      "application/vnd.jupyter.widget-view+json": {
       "model_id": "9ff6e943778b4baca49ccaf0dfcd9703",
       "version_major": 2,
       "version_minor": 0
      },
      "text/plain": [
       "Retrieving MaterialsDoc documents:   0%|          | 0/1 [00:00<?, ?it/s]"
      ]
     },
     "metadata": {},
     "output_type": "display_data"
    }
   ],
   "source": [
    "from mp_api.client import MPRester\n",
    "with MPRester(api_key = key) as mpr:\n",
    "    doc_s = mpr.summary.get_data_by_id('mp-804')\n",
    "    doc_m = mpr.materials.get_data_by_id('mp-804')"
   ]
  },
  {
   "cell_type": "code",
   "execution_count": 6,
   "id": "8b0fc8ca",
   "metadata": {
    "scrolled": false
   },
   "outputs": [
    {
     "data": {
      "text/plain": [
       "Comp: Ga2 N2"
      ]
     },
     "execution_count": 6,
     "metadata": {},
     "output_type": "execute_result"
    }
   ],
   "source": [
    "doc_m.composition"
   ]
  },
  {
   "cell_type": "code",
   "execution_count": 7,
   "id": "ceabef3f",
   "metadata": {},
   "outputs": [
    {
     "data": {
      "text/plain": [
       "Structure Summary\n",
       "Lattice\n",
       "    abc : 3.18892989 3.188930917049292 5.19235725\n",
       " angles : 90.0 90.0 119.9999998231426\n",
       " volume : 45.72832358928343\n",
       "      A : 3.18892989 -0.0 0.0\n",
       "      B : -1.59446545 2.76169519 0.0\n",
       "      C : 0.0 0.0 5.19235725\n",
       "PeriodicSite: Ga (1.5945, 0.9206, 2.5914) [0.6667, 0.3333, 0.4991]\n",
       "PeriodicSite: Ga (-0.0000, 1.8411, 5.1876) [0.3333, 0.6667, 0.9991]\n",
       "PeriodicSite: N (1.5945, 0.9206, 4.5481) [0.6667, 0.3333, 0.8759]\n",
       "PeriodicSite: N (-0.0000, 1.8411, 1.9519) [0.3333, 0.6667, 0.3759]"
      ]
     },
     "execution_count": 7,
     "metadata": {},
     "output_type": "execute_result"
    }
   ],
   "source": [
    "doc_m.structure"
   ]
  },
  {
   "cell_type": "code",
   "execution_count": 8,
   "id": "cdfe1906",
   "metadata": {},
   "outputs": [
    {
     "data": {
      "text/plain": [
       "1.956649378799205"
      ]
     },
     "execution_count": 8,
     "metadata": {},
     "output_type": "execute_result"
    }
   ],
   "source": [
    "doc_m.structure.get_distance(0, 2)"
   ]
  },
  {
   "cell_type": "code",
   "execution_count": 11,
   "id": "f51c1451",
   "metadata": {},
   "outputs": [
    {
     "data": {
      "text/plain": [
       "[[PeriodicSite: N (1.5945, -0.9206, 1.9519) [0.3333, -0.3333, 0.3759],\n",
       "  PeriodicSite: N (-0.0000, 1.8411, 1.9519) [0.3333, 0.6667, 0.3759],\n",
       "  PeriodicSite: N (1.5945, 0.9206, 4.5481) [0.6667, 0.3333, 0.8759],\n",
       "  PeriodicSite: N (3.1889, 1.8411, 1.9519) [1.3333, 0.6667, 0.3759]],\n",
       " [PeriodicSite: N (-1.5945, 0.9206, 4.5481) [-0.3333, 0.3333, 0.8759],\n",
       "  PeriodicSite: N (1.5945, 0.9206, 4.5481) [0.6667, 0.3333, 0.8759],\n",
       "  PeriodicSite: N (-0.0000, 1.8411, 7.1442) [0.3333, 0.6667, 1.3759],\n",
       "  PeriodicSite: N (0.0000, 3.6823, 4.5481) [0.6667, 1.3333, 0.8759]],\n",
       " [PeriodicSite: Ga (1.5945, -0.9206, 5.1876) [0.3333, -0.3333, 0.9991],\n",
       "  PeriodicSite: Ga (1.5945, 0.9206, 2.5914) [0.6667, 0.3333, 0.4991],\n",
       "  PeriodicSite: Ga (-0.0000, 1.8411, 5.1876) [0.3333, 0.6667, 0.9991],\n",
       "  PeriodicSite: Ga (3.1889, 1.8411, 5.1876) [1.3333, 0.6667, 0.9991]],\n",
       " [PeriodicSite: Ga (-1.5945, 0.9206, 2.5914) [-0.3333, 0.3333, 0.4991],\n",
       "  PeriodicSite: Ga (-0.0000, 1.8411, -0.0048) [0.3333, 0.6667, -0.0009],\n",
       "  PeriodicSite: Ga (1.5945, 0.9206, 2.5914) [0.6667, 0.3333, 0.4991],\n",
       "  PeriodicSite: Ga (0.0000, 3.6823, 2.5914) [0.6667, 1.3333, 0.4991]]]"
      ]
     },
     "execution_count": 11,
     "metadata": {},
     "output_type": "execute_result"
    }
   ],
   "source": [
    "doc_m.structure.get_all_neighbors(2.0)"
   ]
  },
  {
   "cell_type": "code",
   "execution_count": 13,
   "id": "fffe7527",
   "metadata": {},
   "outputs": [],
   "source": [
    "doc_m.structure.to(filename = 'GaN.cif')"
   ]
  },
  {
   "cell_type": "code",
   "execution_count": 14,
   "id": "26b5e2ff",
   "metadata": {},
   "outputs": [],
   "source": [
    "doc_m.structure.to(filename = 'POSCAR')"
   ]
  },
  {
   "cell_type": "code",
   "execution_count": 16,
   "id": "1f41d3a5",
   "metadata": {},
   "outputs": [],
   "source": [
    "list_of_available_fields = mpr.summary.available_fields"
   ]
  },
  {
   "cell_type": "code",
   "execution_count": 17,
   "id": "e48a8b1a",
   "metadata": {},
   "outputs": [
    {
     "data": {
      "application/vnd.jupyter.widget-view+json": {
       "model_id": "a2befa8c96fa4d529836d477a73168ab",
       "version_major": 2,
       "version_minor": 0
      },
      "text/plain": [
       "Retrieving SummaryDoc documents:   0%|          | 0/430 [00:00<?, ?it/s]"
      ]
     },
     "metadata": {},
     "output_type": "display_data"
    }
   ],
   "source": [
    "docs = mpr.summary.search(elements = ['Si', 'O'], band_gap = (0.5, 1.0))"
   ]
  },
  {
   "cell_type": "code",
   "execution_count": 32,
   "id": "239b0dff",
   "metadata": {},
   "outputs": [
    {
     "data": {
      "application/vnd.jupyter.widget-view+json": {
       "model_id": "8aa431158453432188fd008c41fa944b",
       "version_major": 2,
       "version_minor": 0
      },
      "text/plain": [
       "Retrieving SummaryDoc documents:   0%|          | 0/648 [00:00<?, ?it/s]"
      ]
     },
     "metadata": {},
     "output_type": "display_data"
    }
   ],
   "source": [
    "docs = mpr.summary.search(elements = ['Si', 'O'], band_gap = (0.5, None),\n",
    "                        energy_above_hull = (0, 0),\n",
    "                        fields = ['material_id', 'composition', 'band_gap',\n",
    "                                 'volume', 'structure'])"
   ]
  },
  {
   "cell_type": "code",
   "execution_count": 34,
   "id": "eae2d3c1",
   "metadata": {},
   "outputs": [
    {
     "data": {
      "text/plain": [
       "648"
      ]
     },
     "execution_count": 34,
     "metadata": {},
     "output_type": "execute_result"
    }
   ],
   "source": [
    "len(docs)"
   ]
  },
  {
   "cell_type": "code",
   "execution_count": 35,
   "id": "c693c340",
   "metadata": {},
   "outputs": [],
   "source": [
    "import pandas as pd"
   ]
  },
  {
   "cell_type": "code",
   "execution_count": 36,
   "id": "fcdcaee4",
   "metadata": {},
   "outputs": [],
   "source": [
    "stable_mpids = []\n",
    "\n",
    "for doc in docs:\n",
    "    stable_mpids.append(doc.material_id)"
   ]
  },
  {
   "cell_type": "code",
   "execution_count": 37,
   "id": "207f24b7",
   "metadata": {},
   "outputs": [],
   "source": [
    "stable_mpids = pd.DataFrame(stable_mpids)"
   ]
  },
  {
   "cell_type": "code",
   "execution_count": 38,
   "id": "c78325b4",
   "metadata": {},
   "outputs": [
    {
     "data": {
      "text/html": [
       "<div>\n",
       "<style scoped>\n",
       "    .dataframe tbody tr th:only-of-type {\n",
       "        vertical-align: middle;\n",
       "    }\n",
       "\n",
       "    .dataframe tbody tr th {\n",
       "        vertical-align: top;\n",
       "    }\n",
       "\n",
       "    .dataframe thead th {\n",
       "        text-align: right;\n",
       "    }\n",
       "</style>\n",
       "<table border=\"1\" class=\"dataframe\">\n",
       "  <thead>\n",
       "    <tr style=\"text-align: right;\">\n",
       "      <th></th>\n",
       "      <th>0</th>\n",
       "    </tr>\n",
       "  </thead>\n",
       "  <tbody>\n",
       "    <tr>\n",
       "      <th>0</th>\n",
       "      <td>mp-560478</td>\n",
       "    </tr>\n",
       "    <tr>\n",
       "      <th>1</th>\n",
       "      <td>mp-18860</td>\n",
       "    </tr>\n",
       "    <tr>\n",
       "      <th>2</th>\n",
       "      <td>mp-1222184</td>\n",
       "    </tr>\n",
       "    <tr>\n",
       "      <th>3</th>\n",
       "      <td>mp-6414</td>\n",
       "    </tr>\n",
       "    <tr>\n",
       "      <th>4</th>\n",
       "      <td>mp-13726</td>\n",
       "    </tr>\n",
       "    <tr>\n",
       "      <th>...</th>\n",
       "      <td>...</td>\n",
       "    </tr>\n",
       "    <tr>\n",
       "      <th>643</th>\n",
       "      <td>mp-581584</td>\n",
       "    </tr>\n",
       "    <tr>\n",
       "      <th>644</th>\n",
       "      <td>mp-15126</td>\n",
       "    </tr>\n",
       "    <tr>\n",
       "      <th>645</th>\n",
       "      <td>mp-6015</td>\n",
       "    </tr>\n",
       "    <tr>\n",
       "      <th>646</th>\n",
       "      <td>mp-759928</td>\n",
       "    </tr>\n",
       "    <tr>\n",
       "      <th>647</th>\n",
       "      <td>mp-17288</td>\n",
       "    </tr>\n",
       "  </tbody>\n",
       "</table>\n",
       "<p>648 rows × 1 columns</p>\n",
       "</div>"
      ],
      "text/plain": [
       "              0\n",
       "0     mp-560478\n",
       "1      mp-18860\n",
       "2    mp-1222184\n",
       "3       mp-6414\n",
       "4      mp-13726\n",
       "..          ...\n",
       "643   mp-581584\n",
       "644    mp-15126\n",
       "645     mp-6015\n",
       "646   mp-759928\n",
       "647    mp-17288\n",
       "\n",
       "[648 rows x 1 columns]"
      ]
     },
     "execution_count": 38,
     "metadata": {},
     "output_type": "execute_result"
    }
   ],
   "source": [
    "stable_mpids"
   ]
  },
  {
   "cell_type": "code",
   "execution_count": 39,
   "id": "aa3d0c18",
   "metadata": {},
   "outputs": [
    {
     "data": {
      "application/vnd.jupyter.widget-view+json": {
       "model_id": "48daa5ba210d4accaed894c71b827a10",
       "version_major": 2,
       "version_minor": 0
      },
      "text/plain": [
       "Retrieving SummaryDoc documents:   0%|          | 0/1724 [00:00<?, ?it/s]"
      ]
     },
     "metadata": {},
     "output_type": "display_data"
    }
   ],
   "source": [
    "docs = mpr.summary.search(elements = ['Li'],\n",
    "                         band_gap = (0.5, None),\n",
    "                         energy_above_hull = (None, 0.005),\n",
    "                         fields = ['material_id', 'formula_pretty',\n",
    "                                  'composition', 'band_gap',\n",
    "                                  'energy_above_hull', 'structure'])"
   ]
  },
  {
   "cell_type": "code",
   "execution_count": 40,
   "id": "fb3cff43",
   "metadata": {},
   "outputs": [],
   "source": [
    "df = []\n",
    "\n",
    "for doc in docs:\n",
    "    df.append([doc.material_id, doc.formula_pretty, doc.composition,\n",
    "              doc.band_gap, doc.energy_above_hull, doc.structure])"
   ]
  },
  {
   "cell_type": "code",
   "execution_count": 41,
   "id": "0dcebef3",
   "metadata": {},
   "outputs": [],
   "source": [
    "df = pd.DataFrame(df, columns = ['mp-id', 'formula', 'composition',\n",
    "                                'band_gap', 'energy_above_hull', 'structure'])"
   ]
  },
  {
   "cell_type": "code",
   "execution_count": 42,
   "id": "f11be8c2",
   "metadata": {},
   "outputs": [
    {
     "data": {
      "text/html": [
       "<div>\n",
       "<style scoped>\n",
       "    .dataframe tbody tr th:only-of-type {\n",
       "        vertical-align: middle;\n",
       "    }\n",
       "\n",
       "    .dataframe tbody tr th {\n",
       "        vertical-align: top;\n",
       "    }\n",
       "\n",
       "    .dataframe thead th {\n",
       "        text-align: right;\n",
       "    }\n",
       "</style>\n",
       "<table border=\"1\" class=\"dataframe\">\n",
       "  <thead>\n",
       "    <tr style=\"text-align: right;\">\n",
       "      <th></th>\n",
       "      <th>mp-id</th>\n",
       "      <th>formula</th>\n",
       "      <th>composition</th>\n",
       "      <th>band_gap</th>\n",
       "      <th>energy_above_hull</th>\n",
       "      <th>structure</th>\n",
       "    </tr>\n",
       "  </thead>\n",
       "  <tbody>\n",
       "    <tr>\n",
       "      <th>0</th>\n",
       "      <td>mp-12829</td>\n",
       "      <td>LiCaGaF6</td>\n",
       "      <td>(Li, Ca, Ga, F)</td>\n",
       "      <td>6.2575</td>\n",
       "      <td>0.000000</td>\n",
       "      <td>[[2.585103   1.49251265 2.46952125] Li, [ 2.58...</td>\n",
       "    </tr>\n",
       "    <tr>\n",
       "      <th>1</th>\n",
       "      <td>mp-18860</td>\n",
       "      <td>Li2VSiO5</td>\n",
       "      <td>(Li, V, Si, O)</td>\n",
       "      <td>2.3621</td>\n",
       "      <td>0.000000</td>\n",
       "      <td>[[-6.00941540e-05  1.49899528e-04  2.26998892e...</td>\n",
       "    </tr>\n",
       "    <tr>\n",
       "      <th>2</th>\n",
       "      <td>mp-29463</td>\n",
       "      <td>LiBeN</td>\n",
       "      <td>(Li, Be, N)</td>\n",
       "      <td>2.0847</td>\n",
       "      <td>0.000000</td>\n",
       "      <td>[[1.04966183 2.16036022 4.18114524] Li, [1.167...</td>\n",
       "    </tr>\n",
       "    <tr>\n",
       "      <th>3</th>\n",
       "      <td>mp-1222516</td>\n",
       "      <td>Li8CuN3</td>\n",
       "      <td>(Li, Cu, N)</td>\n",
       "      <td>0.6396</td>\n",
       "      <td>0.000000</td>\n",
       "      <td>[[ 0.01683982 -2.12224463 -3.68183924] Li, [ 1...</td>\n",
       "    </tr>\n",
       "    <tr>\n",
       "      <th>4</th>\n",
       "      <td>mp-26977</td>\n",
       "      <td>LiMn2P3O10</td>\n",
       "      <td>(Li, Mn, P, O)</td>\n",
       "      <td>3.7862</td>\n",
       "      <td>0.000000</td>\n",
       "      <td>[[0. 0. 0.] Li, [4.3918175 0.        0.       ...</td>\n",
       "    </tr>\n",
       "    <tr>\n",
       "      <th>...</th>\n",
       "      <td>...</td>\n",
       "      <td>...</td>\n",
       "      <td>...</td>\n",
       "      <td>...</td>\n",
       "      <td>...</td>\n",
       "      <td>...</td>\n",
       "    </tr>\n",
       "    <tr>\n",
       "      <th>1719</th>\n",
       "      <td>mp-1192153</td>\n",
       "      <td>LiDy(WO4)2</td>\n",
       "      <td>(Li, Dy, W, O)</td>\n",
       "      <td>3.7868</td>\n",
       "      <td>0.000000</td>\n",
       "      <td>[[1.42884164 5.7772135  7.58066475] Li, [4.477...</td>\n",
       "    </tr>\n",
       "    <tr>\n",
       "      <th>1720</th>\n",
       "      <td>mp-13276</td>\n",
       "      <td>SrLiP</td>\n",
       "      <td>(Sr, Li, P)</td>\n",
       "      <td>1.3648</td>\n",
       "      <td>0.000000</td>\n",
       "      <td>[[0. 0. 0.] Sr, [0.         0.         4.02063...</td>\n",
       "    </tr>\n",
       "    <tr>\n",
       "      <th>1721</th>\n",
       "      <td>mp-6799</td>\n",
       "      <td>LiCa4(BN2)3</td>\n",
       "      <td>(Li, Ca, B, N)</td>\n",
       "      <td>2.1934</td>\n",
       "      <td>0.000000</td>\n",
       "      <td>[[0. 0. 0.] Li, [1.7835535 1.7835535 1.7835535...</td>\n",
       "    </tr>\n",
       "    <tr>\n",
       "      <th>1722</th>\n",
       "      <td>mp-17807</td>\n",
       "      <td>LiUNbO6</td>\n",
       "      <td>(Li, U, Nb, O)</td>\n",
       "      <td>1.5924</td>\n",
       "      <td>0.001068</td>\n",
       "      <td>[[0.01556277 1.36867113 0.01872162] Li, [3.232...</td>\n",
       "    </tr>\n",
       "    <tr>\n",
       "      <th>1723</th>\n",
       "      <td>mp-1220967</td>\n",
       "      <td>NaLiCdS2</td>\n",
       "      <td>(Na, Li, Cd, S)</td>\n",
       "      <td>1.6169</td>\n",
       "      <td>0.000000</td>\n",
       "      <td>[[2.078637   1.20010373 6.85184237] Na, [ 2.07...</td>\n",
       "    </tr>\n",
       "  </tbody>\n",
       "</table>\n",
       "<p>1724 rows × 6 columns</p>\n",
       "</div>"
      ],
      "text/plain": [
       "           mp-id      formula      composition  band_gap  energy_above_hull  \\\n",
       "0       mp-12829     LiCaGaF6  (Li, Ca, Ga, F)    6.2575           0.000000   \n",
       "1       mp-18860     Li2VSiO5   (Li, V, Si, O)    2.3621           0.000000   \n",
       "2       mp-29463        LiBeN      (Li, Be, N)    2.0847           0.000000   \n",
       "3     mp-1222516      Li8CuN3      (Li, Cu, N)    0.6396           0.000000   \n",
       "4       mp-26977   LiMn2P3O10   (Li, Mn, P, O)    3.7862           0.000000   \n",
       "...          ...          ...              ...       ...                ...   \n",
       "1719  mp-1192153   LiDy(WO4)2   (Li, Dy, W, O)    3.7868           0.000000   \n",
       "1720    mp-13276        SrLiP      (Sr, Li, P)    1.3648           0.000000   \n",
       "1721     mp-6799  LiCa4(BN2)3   (Li, Ca, B, N)    2.1934           0.000000   \n",
       "1722    mp-17807      LiUNbO6   (Li, U, Nb, O)    1.5924           0.001068   \n",
       "1723  mp-1220967     NaLiCdS2  (Na, Li, Cd, S)    1.6169           0.000000   \n",
       "\n",
       "                                              structure  \n",
       "0     [[2.585103   1.49251265 2.46952125] Li, [ 2.58...  \n",
       "1     [[-6.00941540e-05  1.49899528e-04  2.26998892e...  \n",
       "2     [[1.04966183 2.16036022 4.18114524] Li, [1.167...  \n",
       "3     [[ 0.01683982 -2.12224463 -3.68183924] Li, [ 1...  \n",
       "4     [[0. 0. 0.] Li, [4.3918175 0.        0.       ...  \n",
       "...                                                 ...  \n",
       "1719  [[1.42884164 5.7772135  7.58066475] Li, [4.477...  \n",
       "1720  [[0. 0. 0.] Sr, [0.         0.         4.02063...  \n",
       "1721  [[0. 0. 0.] Li, [1.7835535 1.7835535 1.7835535...  \n",
       "1722  [[0.01556277 1.36867113 0.01872162] Li, [3.232...  \n",
       "1723  [[2.078637   1.20010373 6.85184237] Na, [ 2.07...  \n",
       "\n",
       "[1724 rows x 6 columns]"
      ]
     },
     "execution_count": 42,
     "metadata": {},
     "output_type": "execute_result"
    }
   ],
   "source": [
    "df"
   ]
  },
  {
   "cell_type": "code",
   "execution_count": null,
   "id": "809ffe0a",
   "metadata": {},
   "outputs": [],
   "source": []
  }
 ],
 "metadata": {
  "kernelspec": {
   "display_name": "Python 3",
   "language": "python",
   "name": "python3"
  },
  "language_info": {
   "codemirror_mode": {
    "name": "ipython",
    "version": 3
   },
   "file_extension": ".py",
   "mimetype": "text/x-python",
   "name": "python",
   "nbconvert_exporter": "python",
   "pygments_lexer": "ipython3",
   "version": "3.8.8"
  }
 },
 "nbformat": 4,
 "nbformat_minor": 5
}
