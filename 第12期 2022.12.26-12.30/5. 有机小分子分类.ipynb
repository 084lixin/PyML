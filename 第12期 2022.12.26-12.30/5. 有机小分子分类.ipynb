{
 "cells": [
  {
   "cell_type": "code",
   "execution_count": 1,
   "id": "5902a667",
   "metadata": {},
   "outputs": [
    {
     "data": {
      "text/html": [
       "<div>\n",
       "<style scoped>\n",
       "    .dataframe tbody tr th:only-of-type {\n",
       "        vertical-align: middle;\n",
       "    }\n",
       "\n",
       "    .dataframe tbody tr th {\n",
       "        vertical-align: top;\n",
       "    }\n",
       "\n",
       "    .dataframe thead th {\n",
       "        text-align: right;\n",
       "    }\n",
       "</style>\n",
       "<table border=\"1\" class=\"dataframe\">\n",
       "  <thead>\n",
       "    <tr style=\"text-align: right;\">\n",
       "      <th></th>\n",
       "      <th>Compound</th>\n",
       "      <th>log(Kow)</th>\n",
       "      <th>EHOMO</th>\n",
       "      <th>Q-</th>\n",
       "      <th>ELUMO</th>\n",
       "      <th>Q+</th>\n",
       "      <th>Class</th>\n",
       "    </tr>\n",
       "  </thead>\n",
       "  <tbody>\n",
       "    <tr>\n",
       "      <th>0</th>\n",
       "      <td>methanol</td>\n",
       "      <td>-0.77</td>\n",
       "      <td>-11.135</td>\n",
       "      <td>-0.5353</td>\n",
       "      <td>3.7775</td>\n",
       "      <td>0.3182</td>\n",
       "      <td>1</td>\n",
       "    </tr>\n",
       "    <tr>\n",
       "      <th>1</th>\n",
       "      <td>ethanol</td>\n",
       "      <td>-0.31</td>\n",
       "      <td>-11.050</td>\n",
       "      <td>-0.5360</td>\n",
       "      <td>3.6513</td>\n",
       "      <td>0.3107</td>\n",
       "      <td>1</td>\n",
       "    </tr>\n",
       "    <tr>\n",
       "      <th>2</th>\n",
       "      <td>1-propanol</td>\n",
       "      <td>0.25</td>\n",
       "      <td>-10.940</td>\n",
       "      <td>-0.5317</td>\n",
       "      <td>3.6324</td>\n",
       "      <td>0.3122</td>\n",
       "      <td>1</td>\n",
       "    </tr>\n",
       "    <tr>\n",
       "      <th>3</th>\n",
       "      <td>2-propanol</td>\n",
       "      <td>0.05</td>\n",
       "      <td>-10.895</td>\n",
       "      <td>-0.5469</td>\n",
       "      <td>3.4925</td>\n",
       "      <td>0.3166</td>\n",
       "      <td>1</td>\n",
       "    </tr>\n",
       "    <tr>\n",
       "      <th>4</th>\n",
       "      <td>1-butanol</td>\n",
       "      <td>0.88</td>\n",
       "      <td>-10.940</td>\n",
       "      <td>-0.5422</td>\n",
       "      <td>3.5041</td>\n",
       "      <td>0.3141</td>\n",
       "      <td>1</td>\n",
       "    </tr>\n",
       "    <tr>\n",
       "      <th>...</th>\n",
       "      <td>...</td>\n",
       "      <td>...</td>\n",
       "      <td>...</td>\n",
       "      <td>...</td>\n",
       "      <td>...</td>\n",
       "      <td>...</td>\n",
       "      <td>...</td>\n",
       "    </tr>\n",
       "    <tr>\n",
       "      <th>185</th>\n",
       "      <td>2-nitroaniline</td>\n",
       "      <td>1.85</td>\n",
       "      <td>-9.068</td>\n",
       "      <td>-0.6488</td>\n",
       "      <td>-0.7937</td>\n",
       "      <td>0.3510</td>\n",
       "      <td>2</td>\n",
       "    </tr>\n",
       "    <tr>\n",
       "      <th>186</th>\n",
       "      <td>3-nitroaniline</td>\n",
       "      <td>1.37</td>\n",
       "      <td>-9.254</td>\n",
       "      <td>-0.9468</td>\n",
       "      <td>-0.9503</td>\n",
       "      <td>0.3922</td>\n",
       "      <td>2</td>\n",
       "    </tr>\n",
       "    <tr>\n",
       "      <th>187</th>\n",
       "      <td>4-nitroaniline</td>\n",
       "      <td>1.39</td>\n",
       "      <td>-9.160</td>\n",
       "      <td>-0.6493</td>\n",
       "      <td>0.7050</td>\n",
       "      <td>0.3134</td>\n",
       "      <td>2</td>\n",
       "    </tr>\n",
       "    <tr>\n",
       "      <th>188</th>\n",
       "      <td>2-chloro-4-nitroaniline</td>\n",
       "      <td>2.06</td>\n",
       "      <td>-9.256</td>\n",
       "      <td>-0.6434</td>\n",
       "      <td>-0.9066</td>\n",
       "      <td>0.3183</td>\n",
       "      <td>2</td>\n",
       "    </tr>\n",
       "    <tr>\n",
       "      <th>189</th>\n",
       "      <td>4-ethoxy-2-nitroaniline</td>\n",
       "      <td>2.38</td>\n",
       "      <td>-8.994</td>\n",
       "      <td>-0.8070</td>\n",
       "      <td>-0.8747</td>\n",
       "      <td>0.3969</td>\n",
       "      <td>2</td>\n",
       "    </tr>\n",
       "  </tbody>\n",
       "</table>\n",
       "<p>190 rows × 7 columns</p>\n",
       "</div>"
      ],
      "text/plain": [
       "                    Compound  log(Kow)   EHOMO      Q-   ELUMO      Q+  Class\n",
       "0                   methanol     -0.77 -11.135 -0.5353  3.7775  0.3182      1\n",
       "1                    ethanol     -0.31 -11.050 -0.5360  3.6513  0.3107      1\n",
       "2                 1-propanol      0.25 -10.940 -0.5317  3.6324  0.3122      1\n",
       "3                 2-propanol      0.05 -10.895 -0.5469  3.4925  0.3166      1\n",
       "4                  1-butanol      0.88 -10.940 -0.5422  3.5041  0.3141      1\n",
       "..                       ...       ...     ...     ...     ...     ...    ...\n",
       "185           2-nitroaniline      1.85  -9.068 -0.6488 -0.7937  0.3510      2\n",
       "186           3-nitroaniline      1.37  -9.254 -0.9468 -0.9503  0.3922      2\n",
       "187           4-nitroaniline      1.39  -9.160 -0.6493  0.7050  0.3134      2\n",
       "188  2-chloro-4-nitroaniline      2.06  -9.256 -0.6434 -0.9066  0.3183      2\n",
       "189  4-ethoxy-2-nitroaniline      2.38  -8.994 -0.8070 -0.8747  0.3969      2\n",
       "\n",
       "[190 rows x 7 columns]"
      ]
     },
     "execution_count": 1,
     "metadata": {},
     "output_type": "execute_result"
    }
   ],
   "source": [
    "import pandas as pd\n",
    "\n",
    "df = pd.read_csv('organic.csv')\n",
    "df"
   ]
  },
  {
   "cell_type": "code",
   "execution_count": 2,
   "id": "23189925",
   "metadata": {},
   "outputs": [
    {
     "data": {
      "text/html": [
       "<div>\n",
       "<style scoped>\n",
       "    .dataframe tbody tr th:only-of-type {\n",
       "        vertical-align: middle;\n",
       "    }\n",
       "\n",
       "    .dataframe tbody tr th {\n",
       "        vertical-align: top;\n",
       "    }\n",
       "\n",
       "    .dataframe thead th {\n",
       "        text-align: right;\n",
       "    }\n",
       "</style>\n",
       "<table border=\"1\" class=\"dataframe\">\n",
       "  <thead>\n",
       "    <tr style=\"text-align: right;\">\n",
       "      <th></th>\n",
       "      <th>Compound</th>\n",
       "      <th>log(Kow)</th>\n",
       "      <th>EHOMO</th>\n",
       "      <th>Q-</th>\n",
       "      <th>ELUMO</th>\n",
       "      <th>Q+</th>\n",
       "      <th>Class</th>\n",
       "      <th>Gap</th>\n",
       "    </tr>\n",
       "  </thead>\n",
       "  <tbody>\n",
       "    <tr>\n",
       "      <th>0</th>\n",
       "      <td>methanol</td>\n",
       "      <td>-0.77</td>\n",
       "      <td>-11.135</td>\n",
       "      <td>-0.5353</td>\n",
       "      <td>3.7775</td>\n",
       "      <td>0.3182</td>\n",
       "      <td>1</td>\n",
       "      <td>14.9125</td>\n",
       "    </tr>\n",
       "    <tr>\n",
       "      <th>1</th>\n",
       "      <td>ethanol</td>\n",
       "      <td>-0.31</td>\n",
       "      <td>-11.050</td>\n",
       "      <td>-0.5360</td>\n",
       "      <td>3.6513</td>\n",
       "      <td>0.3107</td>\n",
       "      <td>1</td>\n",
       "      <td>14.7013</td>\n",
       "    </tr>\n",
       "    <tr>\n",
       "      <th>2</th>\n",
       "      <td>1-propanol</td>\n",
       "      <td>0.25</td>\n",
       "      <td>-10.940</td>\n",
       "      <td>-0.5317</td>\n",
       "      <td>3.6324</td>\n",
       "      <td>0.3122</td>\n",
       "      <td>1</td>\n",
       "      <td>14.5724</td>\n",
       "    </tr>\n",
       "    <tr>\n",
       "      <th>3</th>\n",
       "      <td>2-propanol</td>\n",
       "      <td>0.05</td>\n",
       "      <td>-10.895</td>\n",
       "      <td>-0.5469</td>\n",
       "      <td>3.4925</td>\n",
       "      <td>0.3166</td>\n",
       "      <td>1</td>\n",
       "      <td>14.3875</td>\n",
       "    </tr>\n",
       "    <tr>\n",
       "      <th>4</th>\n",
       "      <td>1-butanol</td>\n",
       "      <td>0.88</td>\n",
       "      <td>-10.940</td>\n",
       "      <td>-0.5422</td>\n",
       "      <td>3.5041</td>\n",
       "      <td>0.3141</td>\n",
       "      <td>1</td>\n",
       "      <td>14.4441</td>\n",
       "    </tr>\n",
       "    <tr>\n",
       "      <th>...</th>\n",
       "      <td>...</td>\n",
       "      <td>...</td>\n",
       "      <td>...</td>\n",
       "      <td>...</td>\n",
       "      <td>...</td>\n",
       "      <td>...</td>\n",
       "      <td>...</td>\n",
       "      <td>...</td>\n",
       "    </tr>\n",
       "    <tr>\n",
       "      <th>185</th>\n",
       "      <td>2-nitroaniline</td>\n",
       "      <td>1.85</td>\n",
       "      <td>-9.068</td>\n",
       "      <td>-0.6488</td>\n",
       "      <td>-0.7937</td>\n",
       "      <td>0.3510</td>\n",
       "      <td>2</td>\n",
       "      <td>8.2743</td>\n",
       "    </tr>\n",
       "    <tr>\n",
       "      <th>186</th>\n",
       "      <td>3-nitroaniline</td>\n",
       "      <td>1.37</td>\n",
       "      <td>-9.254</td>\n",
       "      <td>-0.9468</td>\n",
       "      <td>-0.9503</td>\n",
       "      <td>0.3922</td>\n",
       "      <td>2</td>\n",
       "      <td>8.3037</td>\n",
       "    </tr>\n",
       "    <tr>\n",
       "      <th>187</th>\n",
       "      <td>4-nitroaniline</td>\n",
       "      <td>1.39</td>\n",
       "      <td>-9.160</td>\n",
       "      <td>-0.6493</td>\n",
       "      <td>0.7050</td>\n",
       "      <td>0.3134</td>\n",
       "      <td>2</td>\n",
       "      <td>9.8650</td>\n",
       "    </tr>\n",
       "    <tr>\n",
       "      <th>188</th>\n",
       "      <td>2-chloro-4-nitroaniline</td>\n",
       "      <td>2.06</td>\n",
       "      <td>-9.256</td>\n",
       "      <td>-0.6434</td>\n",
       "      <td>-0.9066</td>\n",
       "      <td>0.3183</td>\n",
       "      <td>2</td>\n",
       "      <td>8.3494</td>\n",
       "    </tr>\n",
       "    <tr>\n",
       "      <th>189</th>\n",
       "      <td>4-ethoxy-2-nitroaniline</td>\n",
       "      <td>2.38</td>\n",
       "      <td>-8.994</td>\n",
       "      <td>-0.8070</td>\n",
       "      <td>-0.8747</td>\n",
       "      <td>0.3969</td>\n",
       "      <td>2</td>\n",
       "      <td>8.1193</td>\n",
       "    </tr>\n",
       "  </tbody>\n",
       "</table>\n",
       "<p>190 rows × 8 columns</p>\n",
       "</div>"
      ],
      "text/plain": [
       "                    Compound  log(Kow)   EHOMO      Q-   ELUMO      Q+  Class  \\\n",
       "0                   methanol     -0.77 -11.135 -0.5353  3.7775  0.3182      1   \n",
       "1                    ethanol     -0.31 -11.050 -0.5360  3.6513  0.3107      1   \n",
       "2                 1-propanol      0.25 -10.940 -0.5317  3.6324  0.3122      1   \n",
       "3                 2-propanol      0.05 -10.895 -0.5469  3.4925  0.3166      1   \n",
       "4                  1-butanol      0.88 -10.940 -0.5422  3.5041  0.3141      1   \n",
       "..                       ...       ...     ...     ...     ...     ...    ...   \n",
       "185           2-nitroaniline      1.85  -9.068 -0.6488 -0.7937  0.3510      2   \n",
       "186           3-nitroaniline      1.37  -9.254 -0.9468 -0.9503  0.3922      2   \n",
       "187           4-nitroaniline      1.39  -9.160 -0.6493  0.7050  0.3134      2   \n",
       "188  2-chloro-4-nitroaniline      2.06  -9.256 -0.6434 -0.9066  0.3183      2   \n",
       "189  4-ethoxy-2-nitroaniline      2.38  -8.994 -0.8070 -0.8747  0.3969      2   \n",
       "\n",
       "         Gap  \n",
       "0    14.9125  \n",
       "1    14.7013  \n",
       "2    14.5724  \n",
       "3    14.3875  \n",
       "4    14.4441  \n",
       "..       ...  \n",
       "185   8.2743  \n",
       "186   8.3037  \n",
       "187   9.8650  \n",
       "188   8.3494  \n",
       "189   8.1193  \n",
       "\n",
       "[190 rows x 8 columns]"
      ]
     },
     "execution_count": 2,
     "metadata": {},
     "output_type": "execute_result"
    }
   ],
   "source": [
    "df['Gap'] = df['ELUMO'] - df['EHOMO']\n",
    "df"
   ]
  },
  {
   "cell_type": "code",
   "execution_count": 3,
   "id": "507f270c",
   "metadata": {},
   "outputs": [],
   "source": [
    "X = df[['Q-', 'Gap']].values\n",
    "y = df['Class'].values"
   ]
  },
  {
   "cell_type": "code",
   "execution_count": 4,
   "id": "ec869007",
   "metadata": {},
   "outputs": [
    {
     "data": {
      "text/plain": [
       "DecisionTreeClassifier()"
      ]
     },
     "execution_count": 4,
     "metadata": {},
     "output_type": "execute_result"
    }
   ],
   "source": [
    "from sklearn import tree\n",
    "\n",
    "clf_tree = tree.DecisionTreeClassifier()\n",
    "clf_tree.fit(X, y)"
   ]
  },
  {
   "cell_type": "code",
   "execution_count": 6,
   "id": "c4769a99",
   "metadata": {},
   "outputs": [
    {
     "data": {
      "image/png": "[encoded data removed]",
      "text/plain": [
       "<Figure size 360x360 with 1 Axes>"
      ]
     },
     "metadata": {
      "needs_background": "light"
     },
     "output_type": "display_data"
    }
   ],
   "source": [
    "import matplotlib.pyplot as plt\n",
    "\n",
    "plt.figure(figsize = (5, 5))\n",
    "x1 = df.iloc[:114, 3]\n",
    "y1 = df.iloc[:114, 7]\n",
    "x2 = df.iloc[114:, 3]\n",
    "y2 = df.iloc[114:, 7]\n",
    "plt.scatter(x1, y1, c = 'b', marker = 's', s = 25)\n",
    "plt.scatter(x2, y2, c = 'r', marker = '^', s = 25)\n",
    "plt.show()"
   ]
  },
  {
   "cell_type": "code",
   "execution_count": 7,
   "id": "a65c9094",
   "metadata": {},
   "outputs": [],
   "source": [
    "import numpy as np\n",
    "\n",
    "xx, yy = np.meshgrid(np.arange(-1.0, 0.1, 0.01), np.arange(8, 15.2, 0.01))\n",
    "coords = np.stack((xx.reshape(-1), yy.reshape(-1)), axis = 1)"
   ]
  },
  {
   "cell_type": "code",
   "execution_count": 15,
   "id": "c818641b",
   "metadata": {},
   "outputs": [],
   "source": [
    "Z = clf_tree.predict(coords)"
   ]
  },
  {
   "cell_type": "code",
   "execution_count": 17,
   "id": "76726d87",
   "metadata": {},
   "outputs": [],
   "source": [
    "Z = Z.reshape(xx.shape)"
   ]
  },
  {
   "cell_type": "code",
   "execution_count": 18,
   "id": "d7c0695c",
   "metadata": {},
   "outputs": [
    {
     "name": "stderr",
     "output_type": "stream",
     "text": [
      "<ipython-input-18-3b20b7bfa911>:5: MatplotlibDeprecationWarning: shading='flat' when X and Y have the same dimensions as C is deprecated since 3.3.  Either specify the corners of the quadrilaterals with X and Y, or pass shading='auto', 'nearest' or 'gouraud', or set rcParams['pcolor.shading'].  This will become an error two minor releases later.\n",
      "  plt.pcolormesh(xx, yy, Z, cmap = light_rgb)\n"
     ]
    },
    {
     "data": {
      "image/png": "[encoded data removed]",
      "text/plain": [
       "<Figure size 360x360 with 1 Axes>"
      ]
     },
     "metadata": {
      "needs_background": "light"
     },
     "output_type": "display_data"
    }
   ],
   "source": [
    "from matplotlib.colors import ListedColormap\n",
    "\n",
    "light_rgb = ListedColormap(['#AAAAFF', '#FFAAAA'])\n",
    "plt.figure(figsize=(5, 5))\n",
    "plt.pcolormesh(xx, yy, Z, cmap = light_rgb)\n",
    "plt.scatter(x1, y1, c = 'b', marker = 's', s = 25)\n",
    "plt.scatter(x2, y2, c = 'r', marker = '^', s = 25)\n",
    "plt.show()"
   ]
  },
  {
   "cell_type": "code",
   "execution_count": 19,
   "id": "44d2e636",
   "metadata": {},
   "outputs": [],
   "source": [
    "from sklearn.pipeline import make_pipeline\n",
    "from sklearn.preprocessing import StandardScaler\n",
    "from sklearn.svm import SVC"
   ]
  },
  {
   "cell_type": "code",
   "execution_count": 23,
   "id": "49e56ea2",
   "metadata": {},
   "outputs": [
    {
     "data": {
      "text/plain": [
       "Pipeline(steps=[('standardscaler', StandardScaler()), ('svc', SVC())])"
      ]
     },
     "execution_count": 23,
     "metadata": {},
     "output_type": "execute_result"
    }
   ],
   "source": [
    "clf_svm = make_pipeline(StandardScaler(), SVC(kernel = 'rbf'))\n",
    "clf_svm.fit(X, y)"
   ]
  },
  {
   "cell_type": "code",
   "execution_count": 24,
   "id": "5d8495c0",
   "metadata": {},
   "outputs": [],
   "source": [
    "Z = clf_svm.predict(coords)\n",
    "Z = Z.reshape(xx.shape)"
   ]
  },
  {
   "cell_type": "code",
   "execution_count": 25,
   "id": "fd311802",
   "metadata": {},
   "outputs": [
    {
     "name": "stderr",
     "output_type": "stream",
     "text": [
      "<ipython-input-25-e443436910b8>:3: MatplotlibDeprecationWarning: shading='flat' when X and Y have the same dimensions as C is deprecated since 3.3.  Either specify the corners of the quadrilaterals with X and Y, or pass shading='auto', 'nearest' or 'gouraud', or set rcParams['pcolor.shading'].  This will become an error two minor releases later.\n",
      "  plt.pcolormesh(xx, yy, Z, cmap = light_rgb)\n"
     ]
    },
    {
     "data": {
      "image/png": "[encoded data removed]",
      "text/plain": [
       "<Figure size 360x360 with 1 Axes>"
      ]
     },
     "metadata": {
      "needs_background": "light"
     },
     "output_type": "display_data"
    }
   ],
   "source": [
    "light_rgb = ListedColormap(['#AAAAFF', '#FFAAAA'])\n",
    "plt.figure(figsize=(5, 5))\n",
    "plt.pcolormesh(xx, yy, Z, cmap = light_rgb)\n",
    "plt.scatter(x1, y1, c = 'b', marker = 's', s = 25)\n",
    "plt.scatter(x2, y2, c = 'r', marker = '^', s = 25)\n",
    "plt.show()"
   ]
  },
  {
   "cell_type": "code",
   "execution_count": null,
   "id": "647277d0",
   "metadata": {},
   "outputs": [],
   "source": []
  }
 ],
 "metadata": {
  "kernelspec": {
   "display_name": "Python 3",
   "language": "python",
   "name": "python3"
  },
  "language_info": {
   "codemirror_mode": {
    "name": "ipython",
    "version": 3
   },
   "file_extension": ".py",
   "mimetype": "text/x-python",
   "name": "python",
   "nbconvert_exporter": "python",
   "pygments_lexer": "ipython3",
   "version": "3.8.8"
  }
 },
 "nbformat": 4,
 "nbformat_minor": 5
}
