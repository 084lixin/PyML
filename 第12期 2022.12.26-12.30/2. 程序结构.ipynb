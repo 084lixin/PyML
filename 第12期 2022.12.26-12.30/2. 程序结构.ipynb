{
 "cells": [
  {
   "cell_type": "code",
   "execution_count": 8,
   "id": "7fd76cf8",
   "metadata": {},
   "outputs": [
    {
     "name": "stdout",
     "output_type": "stream",
     "text": [
      "a is positive\n",
      "the square of a is 25\n"
     ]
    }
   ],
   "source": [
    "a = 5\n",
    "if a > 0:\n",
    "    print('a is positive')\n",
    "    print('the square of a is', a * a)"
   ]
  },
  {
   "cell_type": "code",
   "execution_count": 15,
   "id": "0ddde4e1",
   "metadata": {},
   "outputs": [
    {
     "name": "stdout",
     "output_type": "stream",
     "text": [
      "a is positive\n"
     ]
    }
   ],
   "source": [
    "a = 5\n",
    "if a > 0: print('a is positive')"
   ]
  },
  {
   "cell_type": "code",
   "execution_count": 14,
   "id": "0ac47bee",
   "metadata": {},
   "outputs": [],
   "source": [
    "a = 1\n",
    "if(a < 0):\n",
    "    print('a is negative')\n",
    "    a = 0 - a\n",
    "    print('abs value of a is', a)"
   ]
  },
  {
   "cell_type": "code",
   "execution_count": 18,
   "id": "9046959f",
   "metadata": {},
   "outputs": [
    {
     "name": "stdout",
     "output_type": "stream",
     "text": [
      "is solid\n"
     ]
    }
   ],
   "source": [
    "temp = -25\n",
    "\n",
    "if(temp > 100):\n",
    "    print('is gas')\n",
    "elif(temp > 0):\n",
    "    print('is liquid')\n",
    "else:\n",
    "    print('is solid')"
   ]
  },
  {
   "cell_type": "code",
   "execution_count": 22,
   "id": "3c10622e",
   "metadata": {},
   "outputs": [
    {
     "name": "stdout",
     "output_type": "stream",
     "text": [
      "a = 3\n",
      "a = 6\n",
      "a = 9\n",
      "a = 12\n",
      "a = 15\n",
      "a = 18\n",
      "a is larger than 20\n"
     ]
    }
   ],
   "source": [
    "a = 1\n",
    "while(a <= 20):\n",
    "    if(a % 3 == 0):\n",
    "        print('a =',a)\n",
    "    a+=1\n",
    "else:\n",
    "    print('a is larger than 20')"
   ]
  },
  {
   "cell_type": "code",
   "execution_count": 25,
   "id": "026db5ea",
   "metadata": {},
   "outputs": [
    {
     "name": "stdout",
     "output_type": "stream",
     "text": [
      "a =  1\n",
      "a =  2\n",
      "a =  3\n",
      "a =  4\n",
      "a =  5\n",
      "a =  6\n",
      "a =  7\n",
      "a =  8\n",
      "a =  9\n"
     ]
    }
   ],
   "source": [
    "a = 1\n",
    "while(a < 10):\n",
    "    print('a = ', a)\n",
    "    a+=1"
   ]
  },
  {
   "cell_type": "code",
   "execution_count": 30,
   "id": "ee1043f2",
   "metadata": {},
   "outputs": [
    {
     "name": "stdout",
     "output_type": "stream",
     "text": [
      "1 1 2 4 8 16 32 64 "
     ]
    }
   ],
   "source": [
    "a = 1\n",
    "b = 1\n",
    "while(a < 100):\n",
    "    print(a, end = ' ')\n",
    "    a = b\n",
    "    b = a + b"
   ]
  },
  {
   "cell_type": "code",
   "execution_count": 31,
   "id": "e41a6c78",
   "metadata": {},
   "outputs": [
    {
     "name": "stdout",
     "output_type": "stream",
     "text": [
      "['red', 'purple', 'blue']\n",
      "['red', 'purple']\n",
      "['red']\n"
     ]
    }
   ],
   "source": [
    "a = ['red', 'purple', 'blue']\n",
    "while a:\n",
    "    print(a)\n",
    "    a.pop()"
   ]
  },
  {
   "cell_type": "code",
   "execution_count": 32,
   "id": "ac491042",
   "metadata": {},
   "outputs": [
    {
     "name": "stdout",
     "output_type": "stream",
     "text": [
      "['red', 'blue', 'purple', 'blue']\n",
      "['red', 'purple', 'blue']\n",
      "['red', 'purple']\n"
     ]
    }
   ],
   "source": [
    "a = ['red', 'blue', 'purple', 'blue']\n",
    "while 'blue' in a:\n",
    "    print(a)\n",
    "    a.remove('blue')\n",
    "print(a)"
   ]
  },
  {
   "cell_type": "code",
   "execution_count": 33,
   "id": "b3d8b889",
   "metadata": {},
   "outputs": [
    {
     "name": "stdout",
     "output_type": "stream",
     "text": [
      "H\n",
      "C\n",
      "N\n"
     ]
    }
   ],
   "source": [
    "molecule = ['H', 'C', 'N']\n",
    "for ele in molecule:\n",
    "    print(ele)"
   ]
  },
  {
   "cell_type": "code",
   "execution_count": 34,
   "id": "45d0be04",
   "metadata": {},
   "outputs": [
    {
     "name": "stdout",
     "output_type": "stream",
     "text": [
      "0 H\n",
      "1 C\n",
      "2 N\n"
     ]
    }
   ],
   "source": [
    "for i, ele in enumerate(molecule):\n",
    "    print(i, ele)"
   ]
  },
  {
   "cell_type": "code",
   "execution_count": 37,
   "id": "f1a42690",
   "metadata": {},
   "outputs": [
    {
     "name": "stdout",
     "output_type": "stream",
     "text": [
      "0 C\n",
      "1 H\n",
      "2 3\n"
     ]
    }
   ],
   "source": [
    "mole = 'CH3COOH'\n",
    "for i, j in enumerate(mole):\n",
    "    if i == 3:\n",
    "        break\n",
    "    print(i, j)"
   ]
  },
  {
   "cell_type": "code",
   "execution_count": 38,
   "id": "be4b8229",
   "metadata": {},
   "outputs": [
    {
     "name": "stdout",
     "output_type": "stream",
     "text": [
      "0 C\n",
      "1 H\n",
      "2 3\n",
      "4 O\n",
      "5 O\n",
      "6 H\n"
     ]
    }
   ],
   "source": [
    "mole = 'CH3COOH'\n",
    "for i, j in enumerate(mole):\n",
    "    if i == 3:\n",
    "        continue\n",
    "    print(i, j)"
   ]
  },
  {
   "cell_type": "code",
   "execution_count": 40,
   "id": "e9f7051b",
   "metadata": {},
   "outputs": [
    {
     "name": "stdout",
     "output_type": "stream",
     "text": [
      "1 4 7 10 13 16 19 "
     ]
    }
   ],
   "source": [
    "for i in range(0, 21, 3):\n",
    "    print(i+1, end = ' ')"
   ]
  },
  {
   "cell_type": "code",
   "execution_count": 41,
   "id": "7e21a1c2",
   "metadata": {},
   "outputs": [
    {
     "data": {
      "text/plain": [
       "[0, 0, 0, 0, 0, 0, 0, 0, 0, 0]"
      ]
     },
     "execution_count": 41,
     "metadata": {},
     "output_type": "execute_result"
    }
   ],
   "source": [
    "a = [0,0,0,0,0,0,0,0,0,0]\n",
    "a"
   ]
  },
  {
   "cell_type": "code",
   "execution_count": 46,
   "id": "52a573ac",
   "metadata": {},
   "outputs": [
    {
     "data": {
      "text/plain": [
       "[0, 0, 0, 0, 0, 0, 0, 0, 0, 0]"
      ]
     },
     "execution_count": 46,
     "metadata": {},
     "output_type": "execute_result"
    }
   ],
   "source": [
    "a = []\n",
    "for i in range(10):\n",
    "    a.append(0)\n",
    "a"
   ]
  },
  {
   "cell_type": "code",
   "execution_count": 47,
   "id": "ddcedef7",
   "metadata": {},
   "outputs": [
    {
     "data": {
      "text/plain": [
       "[0, 0, 0, 0, 0, 0, 0, 0, 0, 0]"
      ]
     },
     "execution_count": 47,
     "metadata": {},
     "output_type": "execute_result"
    }
   ],
   "source": [
    "a = [0] * 10\n",
    "a"
   ]
  },
  {
   "cell_type": "markdown",
   "id": "ec2ad9f4",
   "metadata": {},
   "source": [
    "# 15:03继续"
   ]
  },
  {
   "cell_type": "code",
   "execution_count": 48,
   "id": "c479a4b0",
   "metadata": {},
   "outputs": [
    {
     "name": "stdout",
     "output_type": "stream",
     "text": [
      "0 red\n",
      "1 purple\n",
      "2 blue\n"
     ]
    }
   ],
   "source": [
    "a = ['red', 'purple', 'blue']\n",
    "for i in range(len(a)):\n",
    "    print(i, a[i])"
   ]
  },
  {
   "cell_type": "code",
   "execution_count": 56,
   "id": "da5b4df9",
   "metadata": {},
   "outputs": [
    {
     "name": "stdout",
     "output_type": "stream",
     "text": [
      "*\n",
      "**\n",
      "***\n",
      "****\n",
      "*****\n",
      "****\n",
      "***\n",
      "**\n",
      "*\n"
     ]
    }
   ],
   "source": [
    "for i in range(9):\n",
    "    if i < 5: print('*' * (i + 1))\n",
    "    else: print('*' * (9 - i))"
   ]
  },
  {
   "cell_type": "code",
   "execution_count": 57,
   "id": "3e0cb002",
   "metadata": {},
   "outputs": [
    {
     "data": {
      "text/plain": [
       "{0: 'K', 1: 'C', 2: 'N'}"
      ]
     },
     "execution_count": 57,
     "metadata": {},
     "output_type": "execute_result"
    }
   ],
   "source": [
    "dict1 = {}\n",
    "s = 'KCN'\n",
    "for i, dict1[i] in enumerate(s):\n",
    "    pass\n",
    "dict1"
   ]
  },
  {
   "cell_type": "code",
   "execution_count": 58,
   "id": "a658103c",
   "metadata": {},
   "outputs": [
    {
     "name": "stdout",
     "output_type": "stream",
     "text": [
      "0\n",
      "1\n",
      "2\n",
      "3\n",
      "4\n"
     ]
    }
   ],
   "source": [
    "for i in range(5):\n",
    "    print(i)\n",
    "    i = 10"
   ]
  },
  {
   "cell_type": "code",
   "execution_count": 59,
   "id": "47449e47",
   "metadata": {},
   "outputs": [],
   "source": [
    "def phase(t):\n",
    "    if(t > 100):\n",
    "        print('is gas')\n",
    "    elif(t > 0):\n",
    "        print('is liquid')\n",
    "    else:\n",
    "        print('is solid')"
   ]
  },
  {
   "cell_type": "code",
   "execution_count": 61,
   "id": "fc1da27c",
   "metadata": {},
   "outputs": [
    {
     "name": "stdout",
     "output_type": "stream",
     "text": [
      "is solid\n",
      "is liquid\n"
     ]
    }
   ],
   "source": [
    "phase(-5)\n",
    "temp = 25\n",
    "phase(25)"
   ]
  },
  {
   "cell_type": "code",
   "execution_count": 62,
   "id": "b07fc3ab",
   "metadata": {},
   "outputs": [
    {
     "name": "stdout",
     "output_type": "stream",
     "text": [
      "Hello\n",
      "function!\n"
     ]
    }
   ],
   "source": [
    "def a():\n",
    "    b()\n",
    "\n",
    "def b():\n",
    "    print('function!')\n",
    "    \n",
    "print('Hello')\n",
    "a()"
   ]
  },
  {
   "cell_type": "code",
   "execution_count": 63,
   "id": "aec7f5a7",
   "metadata": {},
   "outputs": [],
   "source": [
    "def eV2kJ(x):\n",
    "    res = x * 96.4916\n",
    "    return res"
   ]
  },
  {
   "cell_type": "code",
   "execution_count": 64,
   "id": "0b5647fe",
   "metadata": {},
   "outputs": [
    {
     "data": {
      "text/plain": [
       "144.7374"
      ]
     },
     "execution_count": 64,
     "metadata": {},
     "output_type": "execute_result"
    }
   ],
   "source": [
    "a = eV2kJ(1.5)\n",
    "a"
   ]
  },
  {
   "cell_type": "code",
   "execution_count": 65,
   "id": "496902eb",
   "metadata": {},
   "outputs": [],
   "source": [
    "def eV2kJkcal(x):\n",
    "    res1 = x * 96.4916\n",
    "    res2 = x * 23.0621\n",
    "    return res1, res2"
   ]
  },
  {
   "cell_type": "code",
   "execution_count": 66,
   "id": "efd8a32b",
   "metadata": {},
   "outputs": [
    {
     "data": {
      "text/plain": [
       "(144.7374, 34.59315)"
      ]
     },
     "execution_count": 66,
     "metadata": {},
     "output_type": "execute_result"
    }
   ],
   "source": [
    "a, b = eV2kJkcal(1.5)\n",
    "a, b"
   ]
  },
  {
   "cell_type": "code",
   "execution_count": 68,
   "id": "b22b933e",
   "metadata": {},
   "outputs": [
    {
     "name": "stdout",
     "output_type": "stream",
     "text": [
      "1\n",
      "1\n",
      "2\n",
      "1\n"
     ]
    }
   ],
   "source": [
    "def fun(b):\n",
    "    print(b)\n",
    "    b += 1\n",
    "    print(b)\n",
    "\n",
    "a = 1\n",
    "print(a)\n",
    "fun(a)\n",
    "print(a)"
   ]
  },
  {
   "cell_type": "code",
   "execution_count": 72,
   "id": "cce5151f",
   "metadata": {},
   "outputs": [
    {
     "name": "stdout",
     "output_type": "stream",
     "text": [
      "2315527046832\n",
      "python\n",
      "2315560046384\n",
      "PYTHON\n"
     ]
    }
   ],
   "source": [
    "a = 'python'\n",
    "print(id(a))\n",
    "print(a)\n",
    "a = a.upper()\n",
    "print(id(a))\n",
    "print(a)"
   ]
  },
  {
   "cell_type": "code",
   "execution_count": 69,
   "id": "651ebfc7",
   "metadata": {},
   "outputs": [
    {
     "name": "stdout",
     "output_type": "stream",
     "text": [
      "[525, 566, 573]\n",
      "[525, 566, 573, 'cm-1']\n"
     ]
    }
   ],
   "source": [
    "def fun2(a):\n",
    "    a.append('cm-1')\n",
    "    \n",
    "b = [525, 566, 573]\n",
    "print(b)\n",
    "fun2(b)\n",
    "print(b)"
   ]
  },
  {
   "cell_type": "code",
   "execution_count": 73,
   "id": "e3cc978d",
   "metadata": {},
   "outputs": [
    {
     "name": "stdout",
     "output_type": "stream",
     "text": [
      "[1, 2, 3]\n",
      "2315560045632\n",
      "[1, 2, 3, 4]\n",
      "2315560045632\n"
     ]
    }
   ],
   "source": [
    "list1 = [1, 2, 3]\n",
    "print(list1)\n",
    "print(id(list1))\n",
    "\n",
    "list1.append(4)\n",
    "print(list1)\n",
    "print(id(list1))"
   ]
  },
  {
   "cell_type": "markdown",
   "id": "b9e388b9",
   "metadata": {},
   "source": [
    "# 16:09继续"
   ]
  },
  {
   "cell_type": "code",
   "execution_count": 90,
   "id": "81715872",
   "metadata": {},
   "outputs": [],
   "source": [
    "V = [0.1, 0.2, 0.3, 0.4, 0.5, 0.6]"
   ]
  },
  {
   "cell_type": "code",
   "execution_count": 93,
   "id": "347ca14d",
   "metadata": {},
   "outputs": [],
   "source": [
    "def func(V, pH):\n",
    "    V_RHE = []\n",
    "    for item in V:\n",
    "        res = round(item + 0.592 * pH + 0.241, 3)\n",
    "        V_RHE.append(res)\n",
    "    return V_RHE"
   ]
  },
  {
   "cell_type": "code",
   "execution_count": 94,
   "id": "fff14c5a",
   "metadata": {},
   "outputs": [
    {
     "name": "stdout",
     "output_type": "stream",
     "text": [
      "Input pH:\n",
      "0.5\n",
      "[0.637, 0.737, 0.837, 0.937, 1.037, 1.137]\n"
     ]
    }
   ],
   "source": [
    "print('Input pH:')\n",
    "pH = input()\n",
    "V_RHE = func(V, float(pH))\n",
    "print(V_RHE)"
   ]
  },
  {
   "cell_type": "code",
   "execution_count": null,
   "id": "67e5123c",
   "metadata": {},
   "outputs": [],
   "source": []
  }
 ],
 "metadata": {
  "kernelspec": {
   "display_name": "Python 3",
   "language": "python",
   "name": "python3"
  },
  "language_info": {
   "codemirror_mode": {
    "name": "ipython",
    "version": 3
   },
   "file_extension": ".py",
   "mimetype": "text/x-python",
   "name": "python",
   "nbconvert_exporter": "python",
   "pygments_lexer": "ipython3",
   "version": "3.8.8"
  }
 },
 "nbformat": 4,
 "nbformat_minor": 5
}
