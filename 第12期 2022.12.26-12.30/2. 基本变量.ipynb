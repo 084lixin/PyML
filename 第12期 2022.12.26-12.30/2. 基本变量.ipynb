{
 "cells": [
  {
   "cell_type": "code",
   "execution_count": 1,
   "id": "91f4d61f",
   "metadata": {},
   "outputs": [
    {
     "name": "stdout",
     "output_type": "stream",
     "text": [
      "Hello World\n"
     ]
    }
   ],
   "source": [
    "a = 'Hello World'\n",
    "\n",
    "print(a)"
   ]
  },
  {
   "cell_type": "code",
   "execution_count": 2,
   "id": "dfea8c6e",
   "metadata": {},
   "outputs": [
    {
     "name": "stdout",
     "output_type": "stream",
     "text": [
      "6.28318\n"
     ]
    }
   ],
   "source": [
    "PI = 3.14159\n",
    "\n",
    "print(2*PI)"
   ]
  },
  {
   "cell_type": "code",
   "execution_count": 3,
   "id": "2693e0c9",
   "metadata": {},
   "outputs": [
    {
     "name": "stdout",
     "output_type": "stream",
     "text": [
      "Python\n",
      "Hello, Python !\n"
     ]
    }
   ],
   "source": [
    "name = input()\n",
    "print('Hello,',name,'!')"
   ]
  },
  {
   "cell_type": "code",
   "execution_count": 5,
   "id": "15a337c4",
   "metadata": {},
   "outputs": [
    {
     "ename": "SyntaxError",
     "evalue": "leading zeros in decimal integer literals are not permitted; use an 0o prefix for octal integers (<ipython-input-5-e76b4caaee4c>, line 1)",
     "output_type": "error",
     "traceback": [
      "\u001b[1;36m  File \u001b[1;32m\"<ipython-input-5-e76b4caaee4c>\"\u001b[1;36m, line \u001b[1;32m1\u001b[0m\n\u001b[1;33m    a = 0300\u001b[0m\n\u001b[1;37m           ^\u001b[0m\n\u001b[1;31mSyntaxError\u001b[0m\u001b[1;31m:\u001b[0m leading zeros in decimal integer literals are not permitted; use an 0o prefix for octal integers\n"
     ]
    }
   ],
   "source": [
    "a = 0300"
   ]
  },
  {
   "cell_type": "code",
   "execution_count": 7,
   "id": "f83b142d",
   "metadata": {},
   "outputs": [
    {
     "data": {
      "text/plain": [
       "-3"
      ]
     },
     "execution_count": 7,
     "metadata": {},
     "output_type": "execute_result"
    }
   ],
   "source": [
    "-5//2"
   ]
  },
  {
   "cell_type": "code",
   "execution_count": 10,
   "id": "0821800f",
   "metadata": {},
   "outputs": [
    {
     "data": {
      "text/plain": [
       "6"
      ]
     },
     "execution_count": 10,
     "metadata": {},
     "output_type": "execute_result"
    }
   ],
   "source": [
    "a = '5'\n",
    "b = 1\n",
    "int(a)+b"
   ]
  },
  {
   "cell_type": "code",
   "execution_count": 14,
   "id": "dd1ce51d",
   "metadata": {},
   "outputs": [
    {
     "name": "stdout",
     "output_type": "stream",
     "text": [
      "Input the temperature in Celsius:\n",
      "100\n",
      "Kevin temperature is 373.15 K\n"
     ]
    }
   ],
   "source": [
    "print('Input the temperature in Celsius:')\n",
    "T = input()\n",
    "T = float(T) + 273.15\n",
    "print('Kevin temperature is', T, 'K')"
   ]
  },
  {
   "cell_type": "code",
   "execution_count": 16,
   "id": "5c0ea962",
   "metadata": {},
   "outputs": [
    {
     "name": "stdout",
     "output_type": "stream",
     "text": [
      "1 1 1 1\n"
     ]
    }
   ],
   "source": [
    "a = b = c = d = 1\n",
    "print(a, b, c, d)"
   ]
  },
  {
   "cell_type": "code",
   "execution_count": 18,
   "id": "26ecbcd7",
   "metadata": {},
   "outputs": [
    {
     "data": {
      "text/plain": [
       "(3, 3)"
      ]
     },
     "execution_count": 18,
     "metadata": {},
     "output_type": "execute_result"
    }
   ],
   "source": [
    "a = 3.4\n",
    "b = 3.7\n",
    "\n",
    "int(a), int(b)"
   ]
  },
  {
   "cell_type": "code",
   "execution_count": 19,
   "id": "c35940ae",
   "metadata": {},
   "outputs": [
    {
     "data": {
      "text/plain": [
       "(3, 4)"
      ]
     },
     "execution_count": 19,
     "metadata": {},
     "output_type": "execute_result"
    }
   ],
   "source": [
    "round(a), round(b)"
   ]
  },
  {
   "cell_type": "markdown",
   "id": "2dad7b8c",
   "metadata": {},
   "source": [
    "# 11:07继续"
   ]
  },
  {
   "cell_type": "code",
   "execution_count": 20,
   "id": "fb1758de",
   "metadata": {},
   "outputs": [
    {
     "name": "stdout",
     "output_type": "stream",
     "text": [
      "[1, 2, 3, 4, 5]\n"
     ]
    }
   ],
   "source": [
    "a = [1, 2, 3, 4, 5]\n",
    "print(a)"
   ]
  },
  {
   "cell_type": "code",
   "execution_count": 21,
   "id": "2e9bfd6b",
   "metadata": {},
   "outputs": [
    {
     "data": {
      "text/plain": [
       "1"
      ]
     },
     "execution_count": 21,
     "metadata": {},
     "output_type": "execute_result"
    }
   ],
   "source": [
    "a[0]"
   ]
  },
  {
   "cell_type": "code",
   "execution_count": 22,
   "id": "3df0eca4",
   "metadata": {},
   "outputs": [
    {
     "data": {
      "text/plain": [
       "(5, 5)"
      ]
     },
     "execution_count": 22,
     "metadata": {},
     "output_type": "execute_result"
    }
   ],
   "source": [
    "a[4], a[-1]"
   ]
  },
  {
   "cell_type": "code",
   "execution_count": 23,
   "id": "f9a5770f",
   "metadata": {},
   "outputs": [],
   "source": [
    "list_a = ['uv', 255, 345, 'cm-1', 10]\n",
    "list_b = ['res', 123]"
   ]
  },
  {
   "cell_type": "code",
   "execution_count": 24,
   "id": "f0f316b2",
   "metadata": {},
   "outputs": [
    {
     "data": {
      "text/plain": [
       "[255, 345]"
      ]
     },
     "execution_count": 24,
     "metadata": {},
     "output_type": "execute_result"
    }
   ],
   "source": [
    "list_a[1:3]"
   ]
  },
  {
   "cell_type": "code",
   "execution_count": 27,
   "id": "9fdc66c3",
   "metadata": {},
   "outputs": [
    {
     "data": {
      "text/plain": [
       "[255, 345, 'cm-1', 10]"
      ]
     },
     "execution_count": 27,
     "metadata": {},
     "output_type": "execute_result"
    }
   ],
   "source": [
    "list_a[1:]"
   ]
  },
  {
   "cell_type": "code",
   "execution_count": 29,
   "id": "d6687ae9",
   "metadata": {},
   "outputs": [
    {
     "data": {
      "text/plain": [
       "['uv', 255, 345, 'cm-1', 10, 'res', 123]"
      ]
     },
     "execution_count": 29,
     "metadata": {},
     "output_type": "execute_result"
    }
   ],
   "source": [
    "list_a + list_b"
   ]
  },
  {
   "cell_type": "code",
   "execution_count": 30,
   "id": "eb08c664",
   "metadata": {},
   "outputs": [
    {
     "data": {
      "text/plain": [
       "['uv', 255, 345, 'cm-1', 10]"
      ]
     },
     "execution_count": 30,
     "metadata": {},
     "output_type": "execute_result"
    }
   ],
   "source": [
    "list_a"
   ]
  },
  {
   "cell_type": "code",
   "execution_count": 32,
   "id": "546ff8be",
   "metadata": {},
   "outputs": [
    {
     "data": {
      "text/plain": [
       "range"
      ]
     },
     "execution_count": 32,
     "metadata": {},
     "output_type": "execute_result"
    }
   ],
   "source": [
    "type(range(1, 10, 1))"
   ]
  },
  {
   "cell_type": "code",
   "execution_count": 39,
   "id": "3f51855f",
   "metadata": {},
   "outputs": [
    {
     "data": {
      "text/plain": [
       "[0, 1, 2, 3, 4, 5, 6, 7, 8, 9]"
      ]
     },
     "execution_count": 39,
     "metadata": {},
     "output_type": "execute_result"
    }
   ],
   "source": [
    "list_a = list(range(10))\n",
    "list_a"
   ]
  },
  {
   "cell_type": "code",
   "execution_count": 40,
   "id": "48ee0502",
   "metadata": {},
   "outputs": [
    {
     "data": {
      "text/plain": [
       "[1, 3, 5, 7, 9]"
      ]
     },
     "execution_count": 40,
     "metadata": {},
     "output_type": "execute_result"
    }
   ],
   "source": [
    "list_a = list(range(1, 10, 2))\n",
    "list_a"
   ]
  },
  {
   "cell_type": "code",
   "execution_count": 41,
   "id": "dccc20ec",
   "metadata": {},
   "outputs": [
    {
     "data": {
      "text/plain": [
       "[1, 3, 5, 7, 9, 11]"
      ]
     },
     "execution_count": 41,
     "metadata": {},
     "output_type": "execute_result"
    }
   ],
   "source": [
    "list_a.append(11)\n",
    "list_a"
   ]
  },
  {
   "cell_type": "code",
   "execution_count": 42,
   "id": "e1cf3fc7",
   "metadata": {},
   "outputs": [
    {
     "data": {
      "text/plain": [
       "[1, 3, 5, 6, 7, 9, 11]"
      ]
     },
     "execution_count": 42,
     "metadata": {},
     "output_type": "execute_result"
    }
   ],
   "source": [
    "list_a.insert(3, 6)\n",
    "list_a"
   ]
  },
  {
   "cell_type": "code",
   "execution_count": 43,
   "id": "eff582fc",
   "metadata": {},
   "outputs": [
    {
     "data": {
      "text/plain": [
       "[1, 3, 5, 6, 7, 6, 9, 11]"
      ]
     },
     "execution_count": 43,
     "metadata": {},
     "output_type": "execute_result"
    }
   ],
   "source": [
    "list_a.insert(-2, 6)\n",
    "list_a"
   ]
  },
  {
   "cell_type": "code",
   "execution_count": 44,
   "id": "05513141",
   "metadata": {},
   "outputs": [
    {
     "data": {
      "text/plain": [
       "[1, 3, 6, 7, 6, 9, 11]"
      ]
     },
     "execution_count": 44,
     "metadata": {},
     "output_type": "execute_result"
    }
   ],
   "source": [
    "list_a.remove(5)\n",
    "list_a"
   ]
  },
  {
   "cell_type": "code",
   "execution_count": 45,
   "id": "e98d3e29",
   "metadata": {},
   "outputs": [
    {
     "data": {
      "text/plain": [
       "[1, 3, 7, 6, 9, 11]"
      ]
     },
     "execution_count": 45,
     "metadata": {},
     "output_type": "execute_result"
    }
   ],
   "source": [
    "list_a.remove(6)\n",
    "list_a"
   ]
  },
  {
   "cell_type": "code",
   "execution_count": 46,
   "id": "f81ea94f",
   "metadata": {},
   "outputs": [
    {
     "data": {
      "text/plain": [
       "[1, 3, 6, 9, 11]"
      ]
     },
     "execution_count": 46,
     "metadata": {},
     "output_type": "execute_result"
    }
   ],
   "source": [
    "list_a.pop(2)\n",
    "list_a"
   ]
  },
  {
   "cell_type": "code",
   "execution_count": 47,
   "id": "b0c67407",
   "metadata": {},
   "outputs": [
    {
     "data": {
      "text/plain": [
       "[1, 3, 6, 9]"
      ]
     },
     "execution_count": 47,
     "metadata": {},
     "output_type": "execute_result"
    }
   ],
   "source": [
    "list_a.pop()\n",
    "list_a"
   ]
  },
  {
   "cell_type": "code",
   "execution_count": 48,
   "id": "2ed0b291",
   "metadata": {},
   "outputs": [
    {
     "data": {
      "text/plain": [
       "[1, 3, 6]"
      ]
     },
     "execution_count": 48,
     "metadata": {},
     "output_type": "execute_result"
    }
   ],
   "source": [
    "del list_a[3]\n",
    "list_a"
   ]
  },
  {
   "cell_type": "code",
   "execution_count": 49,
   "id": "eae8b127",
   "metadata": {},
   "outputs": [
    {
     "data": {
      "text/plain": [
       "[1, 3]"
      ]
     },
     "execution_count": 49,
     "metadata": {},
     "output_type": "execute_result"
    }
   ],
   "source": [
    "del list_a[-1]\n",
    "list_a"
   ]
  },
  {
   "cell_type": "code",
   "execution_count": 50,
   "id": "2cce8ee7",
   "metadata": {},
   "outputs": [],
   "source": [
    "del list_a"
   ]
  },
  {
   "cell_type": "code",
   "execution_count": 52,
   "id": "3afdf617",
   "metadata": {},
   "outputs": [],
   "source": [
    "a = []"
   ]
  },
  {
   "cell_type": "code",
   "execution_count": 54,
   "id": "6f5d5eb6",
   "metadata": {},
   "outputs": [
    {
     "data": {
      "text/plain": [
       "list"
      ]
     },
     "execution_count": 54,
     "metadata": {},
     "output_type": "execute_result"
    }
   ],
   "source": [
    "type(a)"
   ]
  },
  {
   "cell_type": "code",
   "execution_count": 55,
   "id": "0943603c",
   "metadata": {},
   "outputs": [
    {
     "name": "stdout",
     "output_type": "stream",
     "text": [
      "['a', 'b', 'c']\n",
      "['c', 'b', 'a']\n"
     ]
    }
   ],
   "source": [
    "a = ['a', 'b', 'c']\n",
    "print(a)\n",
    "a.reverse()\n",
    "print(a)"
   ]
  },
  {
   "cell_type": "code",
   "execution_count": 56,
   "id": "621ab5ca",
   "metadata": {},
   "outputs": [
    {
     "data": {
      "text/plain": [
       "[0, 2, 3, 4, 5]"
      ]
     },
     "execution_count": 56,
     "metadata": {},
     "output_type": "execute_result"
    }
   ],
   "source": [
    "a = [1, 2, 3, 4, 5]\n",
    "a[0] = 0\n",
    "a"
   ]
  },
  {
   "cell_type": "code",
   "execution_count": 61,
   "id": "1104fa55",
   "metadata": {},
   "outputs": [
    {
     "data": {
      "text/plain": [
       "('x', 3)"
      ]
     },
     "execution_count": 61,
     "metadata": {},
     "output_type": "execute_result"
    }
   ],
   "source": [
    "tup1 = (1, 2, 3, 4, 5)\n",
    "tup2 = ('x', 3)\n",
    "tup3 = 'x', 3\n",
    "tup3"
   ]
  },
  {
   "cell_type": "code",
   "execution_count": 62,
   "id": "1015d24e",
   "metadata": {},
   "outputs": [
    {
     "name": "stdout",
     "output_type": "stream",
     "text": [
      "m\n",
      "e\n",
      "olec\n",
      "oeu\n"
     ]
    }
   ],
   "source": [
    "s = 'molecule'\n",
    "print(s[0])\n",
    "print(s[-1])\n",
    "print(s[1:5])\n",
    "print(s[1:7:2])"
   ]
  },
  {
   "cell_type": "code",
   "execution_count": 63,
   "id": "c2387acd",
   "metadata": {},
   "outputs": [
    {
     "data": {
      "text/plain": [
       "['L', 'i', 'F', 'e', 'O', '4']"
      ]
     },
     "execution_count": 63,
     "metadata": {},
     "output_type": "execute_result"
    }
   ],
   "source": [
    "s1 = 'LiFeO4'\n",
    "l1 = list(s1)\n",
    "l1"
   ]
  },
  {
   "cell_type": "code",
   "execution_count": 64,
   "id": "cfa37388",
   "metadata": {},
   "outputs": [
    {
     "data": {
      "text/plain": [
       "'LiFeO4'"
      ]
     },
     "execution_count": 64,
     "metadata": {},
     "output_type": "execute_result"
    }
   ],
   "source": [
    "s2 = ''.join(l1)\n",
    "s2"
   ]
  },
  {
   "cell_type": "code",
   "execution_count": 65,
   "id": "3a51199d",
   "metadata": {},
   "outputs": [
    {
     "name": "stdout",
     "output_type": "stream",
     "text": [
      "True\n",
      "False\n"
     ]
    }
   ],
   "source": [
    "s1 = 'LiFeO4'\n",
    "s2 = 'LiCoO2'\n",
    "\n",
    "print('Fe' in s1)\n",
    "print('Fe' in s2)"
   ]
  },
  {
   "cell_type": "code",
   "execution_count": 66,
   "id": "4b99c6b3",
   "metadata": {},
   "outputs": [
    {
     "data": {
      "text/plain": [
       "{'A', 'a', 'c', 'd', 'n', 'o'}"
      ]
     },
     "execution_count": 66,
     "metadata": {},
     "output_type": "execute_result"
    }
   ],
   "source": [
    "set1 = set('Anaconda')\n",
    "set1"
   ]
  },
  {
   "cell_type": "code",
   "execution_count": 67,
   "id": "9dcd4cd1",
   "metadata": {},
   "outputs": [
    {
     "data": {
      "text/plain": [
       "['s', 'd', 'p']"
      ]
     },
     "execution_count": 67,
     "metadata": {},
     "output_type": "execute_result"
    }
   ],
   "source": [
    "list1 = ['s', 'p', 's', 'd']\n",
    "list1 = list(set(list1))\n",
    "list1"
   ]
  },
  {
   "cell_type": "code",
   "execution_count": 70,
   "id": "d3b33590",
   "metadata": {},
   "outputs": [
    {
     "data": {
      "text/plain": [
       "40"
      ]
     },
     "execution_count": 70,
     "metadata": {},
     "output_type": "execute_result"
    }
   ],
   "source": [
    "dict1 = {'H':1, 'O':16, 'Na':23}\n",
    "mass = dict1['Na'] + dict1['O'] + dict1['H']\n",
    "mass"
   ]
  },
  {
   "cell_type": "code",
   "execution_count": 71,
   "id": "bf7b919f",
   "metadata": {},
   "outputs": [
    {
     "data": {
      "text/plain": [
       "{12: 'C', 14: 'N', 16: 'O'}"
      ]
     },
     "execution_count": 71,
     "metadata": {},
     "output_type": "execute_result"
    }
   ],
   "source": [
    "dict2 = {12:'C', 14:'N'}\n",
    "dict2[16] = 'O'\n",
    "dict2"
   ]
  },
  {
   "cell_type": "code",
   "execution_count": 72,
   "id": "aa690c3b",
   "metadata": {},
   "outputs": [
    {
     "data": {
      "text/plain": [
       "{12: 'C', 14: 'C14', 16: 'O'}"
      ]
     },
     "execution_count": 72,
     "metadata": {},
     "output_type": "execute_result"
    }
   ],
   "source": [
    "dict2[14.0] = 'C14'\n",
    "dict2"
   ]
  },
  {
   "cell_type": "code",
   "execution_count": 73,
   "id": "bbde01fc",
   "metadata": {},
   "outputs": [],
   "source": [
    "del dict2[16]"
   ]
  },
  {
   "cell_type": "code",
   "execution_count": 74,
   "id": "9f570531",
   "metadata": {},
   "outputs": [
    {
     "data": {
      "text/plain": [
       "{12: 'C', 14: 'C14'}"
      ]
     },
     "execution_count": 74,
     "metadata": {},
     "output_type": "execute_result"
    }
   ],
   "source": [
    "dict2"
   ]
  },
  {
   "cell_type": "code",
   "execution_count": null,
   "id": "d3564278",
   "metadata": {},
   "outputs": [],
   "source": []
  }
 ],
 "metadata": {
  "kernelspec": {
   "display_name": "Python 3",
   "language": "python",
   "name": "python3"
  },
  "language_info": {
   "codemirror_mode": {
    "name": "ipython",
    "version": 3
   },
   "file_extension": ".py",
   "mimetype": "text/x-python",
   "name": "python",
   "nbconvert_exporter": "python",
   "pygments_lexer": "ipython3",
   "version": "3.8.8"
  }
 },
 "nbformat": 4,
 "nbformat_minor": 5
}
