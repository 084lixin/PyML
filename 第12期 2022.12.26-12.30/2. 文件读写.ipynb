{
 "cells": [
  {
   "cell_type": "code",
   "execution_count": 1,
   "id": "40e19b9e",
   "metadata": {},
   "outputs": [
    {
     "name": "stdout",
     "output_type": "stream",
     "text": [
      "Experiment\n",
      "3.3\n",
      "2.2\n",
      "2.5\n",
      "3.1\n",
      "3.0\n",
      "eV\n"
     ]
    }
   ],
   "source": [
    "f = open('sample.txt', mode = 'r', encoding = 'UTF-8')\n",
    "res = f.read()\n",
    "f.close()\n",
    "print(res)"
   ]
  },
  {
   "cell_type": "code",
   "execution_count": 2,
   "id": "93de73b9",
   "metadata": {},
   "outputs": [
    {
     "name": "stdout",
     "output_type": "stream",
     "text": [
      "Experiment\n",
      "\n"
     ]
    }
   ],
   "source": [
    "f = open('sample.txt', mode = 'r', encoding = 'UTF-8')\n",
    "res = f.readline()\n",
    "f.close()\n",
    "print(res)"
   ]
  },
  {
   "cell_type": "code",
   "execution_count": 3,
   "id": "3078320c",
   "metadata": {},
   "outputs": [
    {
     "name": "stdout",
     "output_type": "stream",
     "text": [
      "['Experiment\\n', '3.3\\n', '2.2\\n', '2.5\\n', '3.1\\n', '3.0\\n', 'eV']\n"
     ]
    }
   ],
   "source": [
    "f = open('sample.txt', mode = 'r', encoding = 'UTF-8')\n",
    "res = f.readlines()\n",
    "f.close()\n",
    "print(res)"
   ]
  },
  {
   "cell_type": "code",
   "execution_count": 4,
   "id": "a9586617",
   "metadata": {},
   "outputs": [
    {
     "name": "stdout",
     "output_type": "stream",
     "text": [
      "[3.3, 2.2, 2.5, 3.1, 3.0]\n"
     ]
    }
   ],
   "source": [
    "f = open('sample.txt', mode = 'r', encoding = 'UTF-8')\n",
    "f.readline()\n",
    "data = []\n",
    "for i in range(5):\n",
    "    data.append(float(f.readline()))\n",
    "f.close()\n",
    "print(data)"
   ]
  },
  {
   "cell_type": "code",
   "execution_count": 6,
   "id": "cfcdfc7a",
   "metadata": {},
   "outputs": [
    {
     "name": "stdout",
     "output_type": "stream",
     "text": [
      "['3.3\\n', '2.2\\n', '2.5\\n', '3.1\\n', '3.0\\n']\n"
     ]
    }
   ],
   "source": [
    "f = open('sample.txt', mode = 'r', encoding = 'UTF-8')\n",
    "data = f.readlines()\n",
    "f.close()\n",
    "data = data[1:-1]\n",
    "print(data)"
   ]
  },
  {
   "cell_type": "code",
   "execution_count": 7,
   "id": "64fd7efa",
   "metadata": {},
   "outputs": [
    {
     "name": "stdout",
     "output_type": "stream",
     "text": [
      "[3.3, 2.2, 2.5, 3.1, 3.0]\n"
     ]
    }
   ],
   "source": [
    "for i in range(len(data)):\n",
    "    data[i] = float(data[i])\n",
    "print(data)"
   ]
  },
  {
   "cell_type": "code",
   "execution_count": 9,
   "id": "6c7b5715",
   "metadata": {},
   "outputs": [],
   "source": [
    "def avg_list(a):\n",
    "    sum0 = 0\n",
    "    for ele in a:\n",
    "        sum0 += ele\n",
    "    return sum0 / len(a)"
   ]
  },
  {
   "cell_type": "code",
   "execution_count": 11,
   "id": "280a2ade",
   "metadata": {},
   "outputs": [
    {
     "data": {
      "text/plain": [
       "2.82"
      ]
     },
     "execution_count": 11,
     "metadata": {},
     "output_type": "execute_result"
    }
   ],
   "source": [
    "avg_list(data)"
   ]
  },
  {
   "cell_type": "code",
   "execution_count": 14,
   "id": "d7a98c0a",
   "metadata": {},
   "outputs": [],
   "source": [
    "f = open('res.txt', mode = 'w', encoding = 'UTF-8')\n",
    "f.write(str(avg_list(data))+'\\n')\n",
    "f.write(str(avg_list(data))+'\\n')\n",
    "f.write(str(avg_list(data))+'\\n')\n",
    "f.write(str(avg_list(data)))\n",
    "f.close()"
   ]
  },
  {
   "cell_type": "code",
   "execution_count": 15,
   "id": "539622e6",
   "metadata": {},
   "outputs": [
    {
     "name": "stdout",
     "output_type": "stream",
     "text": [
      "[3.3, 2.2, 2.5, 3.1, 3.0]\n"
     ]
    }
   ],
   "source": [
    "with open('sample.txt', mode = 'r', encoding = 'UTF-8') as f:\n",
    "    f.readline()\n",
    "    data = []\n",
    "    for i in range(5):\n",
    "        data.append(float(f.readline()))\n",
    "\n",
    "print(data)"
   ]
  },
  {
   "cell_type": "code",
   "execution_count": 18,
   "id": "149bc142",
   "metadata": {},
   "outputs": [
    {
     "name": "stdout",
     "output_type": "stream",
     "text": [
      "3.00E-10,2.27E-12,2.24E-12,2.30E-12,2.25E-12,2.22E-12,2.25E-12,2.24E-12\n",
      "\n",
      "['3.00E-10', '2.27E-12', '2.24E-12', '2.30E-12', '2.25E-12', '2.22E-12', '2.25E-12', '2.24E-12']\n"
     ]
    }
   ],
   "source": [
    "with open('didz.csv', mode = 'r', encoding = 'UTF-8') as f:\n",
    "    res = f.readline()\n",
    "\n",
    "list_a = res.strip('\\n').split(',')\n",
    "print(res)\n",
    "print(list_a)"
   ]
  },
  {
   "cell_type": "code",
   "execution_count": null,
   "id": "499c8336",
   "metadata": {},
   "outputs": [],
   "source": []
  }
 ],
 "metadata": {
  "kernelspec": {
   "display_name": "Python 3",
   "language": "python",
   "name": "python3"
  },
  "language_info": {
   "codemirror_mode": {
    "name": "ipython",
    "version": 3
   },
   "file_extension": ".py",
   "mimetype": "text/x-python",
   "name": "python",
   "nbconvert_exporter": "python",
   "pygments_lexer": "ipython3",
   "version": "3.8.8"
  }
 },
 "nbformat": 4,
 "nbformat_minor": 5
}
