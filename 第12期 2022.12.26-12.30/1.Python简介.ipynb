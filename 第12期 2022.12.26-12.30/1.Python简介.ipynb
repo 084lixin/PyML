{
 "cells": [
  {
   "cell_type": "markdown",
   "id": "7829383a",
   "metadata": {},
   "source": [
    "大家好，这是一个Python程序"
   ]
  },
  {
   "cell_type": "code",
   "execution_count": 5,
   "id": "ff1ed1a9",
   "metadata": {},
   "outputs": [
    {
     "name": "stdout",
     "output_type": "stream",
     "text": [
      "Hello World!\n"
     ]
    }
   ],
   "source": [
    "print('Hello World!')"
   ]
  },
  {
   "cell_type": "code",
   "execution_count": 9,
   "id": "c30ebe8d",
   "metadata": {},
   "outputs": [
    {
     "name": "stdout",
     "output_type": "stream",
     "text": [
      "Hello! Machine Learning!\n"
     ]
    }
   ],
   "source": [
    "# 注释1\n",
    "\n",
    "'''\n",
    "注释123\n",
    "注释321\n",
    "注释213\n",
    "'''\n",
    "\n",
    "\n",
    "print('Hello!','Machine','Learning!')"
   ]
  },
  {
   "cell_type": "code",
   "execution_count": 11,
   "id": "0507c898",
   "metadata": {},
   "outputs": [
    {
     "name": "stdout",
     "output_type": "stream",
     "text": [
      "I'm fine\n"
     ]
    }
   ],
   "source": [
    "print(\"I'm fine\")"
   ]
  },
  {
   "cell_type": "code",
   "execution_count": 14,
   "id": "1e8b554c",
   "metadata": {},
   "outputs": [
    {
     "name": "stdout",
     "output_type": "stream",
     "text": [
      "Amy: \"I'm fine.\"\n"
     ]
    }
   ],
   "source": [
    "print('Amy: \"I\\'m fine.\"')"
   ]
  },
  {
   "cell_type": "code",
   "execution_count": 16,
   "id": "dbdf00b3",
   "metadata": {},
   "outputs": [
    {
     "name": "stdout",
     "output_type": "stream",
     "text": [
      "1\t2\t3\n",
      "100\t200\t300\n"
     ]
    }
   ],
   "source": [
    "print('1\\t2\\t3')\n",
    "print('100\\t200\\t300')"
   ]
  },
  {
   "cell_type": "code",
   "execution_count": 21,
   "id": "fc7d408e",
   "metadata": {},
   "outputs": [
    {
     "name": "stdout",
     "output_type": "stream",
     "text": [
      "abcdef\n",
      "gh\n"
     ]
    }
   ],
   "source": [
    "print('abcdef')\n",
    "print('gh')"
   ]
  },
  {
   "cell_type": "code",
   "execution_count": 20,
   "id": "a42e8aa0",
   "metadata": {},
   "outputs": [
    {
     "name": "stdout",
     "output_type": "stream",
     "text": [
      "Help on built-in function print in module builtins:\n",
      "\n",
      "print(...)\n",
      "    print(value, ..., sep=' ', end='\\n', file=sys.stdout, flush=False)\n",
      "    \n",
      "    Prints the values to a stream, or to sys.stdout by default.\n",
      "    Optional keyword arguments:\n",
      "    file:  a file-like object (stream); defaults to the current sys.stdout.\n",
      "    sep:   string inserted between values, default a space.\n",
      "    end:   string appended after the last value, default a newline.\n",
      "    flush: whether to forcibly flush the stream.\n",
      "\n"
     ]
    }
   ],
   "source": [
    "help(print)"
   ]
  },
  {
   "cell_type": "markdown",
   "id": "a7f03799",
   "metadata": {},
   "source": [
    "# 10:12继续"
   ]
  },
  {
   "cell_type": "code",
   "execution_count": null,
   "id": "a1108755",
   "metadata": {},
   "outputs": [],
   "source": []
  }
 ],
 "metadata": {
  "kernelspec": {
   "display_name": "Python 3",
   "language": "python",
   "name": "python3"
  },
  "language_info": {
   "codemirror_mode": {
    "name": "ipython",
    "version": 3
   },
   "file_extension": ".py",
   "mimetype": "text/x-python",
   "name": "python",
   "nbconvert_exporter": "python",
   "pygments_lexer": "ipython3",
   "version": "3.8.8"
  }
 },
 "nbformat": 4,
 "nbformat_minor": 5
}
