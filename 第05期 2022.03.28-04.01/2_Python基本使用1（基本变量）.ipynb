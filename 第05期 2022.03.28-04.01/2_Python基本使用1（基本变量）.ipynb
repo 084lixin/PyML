{
 "cells": [
  {
   "cell_type": "markdown",
   "id": "a3dc6512",
   "metadata": {},
   "source": [
    "# 2.Python基本使用"
   ]
  },
  {
   "cell_type": "markdown",
   "id": "162c997c",
   "metadata": {},
   "source": [
    "## 2.1 基本变量、运算符"
   ]
  },
  {
   "cell_type": "markdown",
   "id": "420c356d",
   "metadata": {},
   "source": [
    "#### 原始的Hello World程序"
   ]
  },
  {
   "cell_type": "code",
   "execution_count": 1,
   "id": "50d82a7c",
   "metadata": {
    "scrolled": true
   },
   "outputs": [
    {
     "name": "stdout",
     "output_type": "stream",
     "text": [
      "Hello world!\n"
     ]
    }
   ],
   "source": [
    "print('Hello world!')"
   ]
  },
  {
   "cell_type": "markdown",
   "id": "fedbb6a9",
   "metadata": {},
   "source": [
    "#### 使用变量进行输出"
   ]
  },
  {
   "cell_type": "code",
   "execution_count": 2,
   "id": "73c5500f",
   "metadata": {},
   "outputs": [
    {
     "name": "stdout",
     "output_type": "stream",
     "text": [
      "Hello world!\n"
     ]
    }
   ],
   "source": [
    "a = 'Hello world!'\n",
    "print(a)"
   ]
  },
  {
   "cell_type": "code",
   "execution_count": 3,
   "id": "7fdef9fc",
   "metadata": {},
   "outputs": [
    {
     "name": "stdout",
     "output_type": "stream",
     "text": [
      "3.14\n"
     ]
    }
   ],
   "source": [
    "PI = 3.14\n",
    "print(PI)"
   ]
  },
  {
   "cell_type": "markdown",
   "id": "c88474a2",
   "metadata": {},
   "source": [
    "#### 实操：问候程序，变量接收输入"
   ]
  },
  {
   "cell_type": "code",
   "execution_count": 4,
   "id": "498ac610",
   "metadata": {
    "scrolled": true
   },
   "outputs": [
    {
     "name": "stdout",
     "output_type": "stream",
     "text": [
      "Huang\n",
      "Hello, Huang !\n"
     ]
    }
   ],
   "source": [
    "name = input()\n",
    "print('Hello,',name,'!')"
   ]
  },
  {
   "cell_type": "markdown",
   "id": "ce6f03b6",
   "metadata": {},
   "source": [
    "#### 整数型无法以0为开头"
   ]
  },
  {
   "cell_type": "code",
   "execution_count": 5,
   "id": "01623401",
   "metadata": {},
   "outputs": [
    {
     "ename": "SyntaxError",
     "evalue": "leading zeros in decimal integer literals are not permitted; use an 0o prefix for octal integers (<ipython-input-5-a4483fee8b56>, line 1)",
     "output_type": "error",
     "traceback": [
      "\u001b[1;36m  File \u001b[1;32m\"<ipython-input-5-a4483fee8b56>\"\u001b[1;36m, line \u001b[1;32m1\u001b[0m\n\u001b[1;33m    a = 0755\u001b[0m\n\u001b[1;37m           ^\u001b[0m\n\u001b[1;31mSyntaxError\u001b[0m\u001b[1;31m:\u001b[0m leading zeros in decimal integer literals are not permitted; use an 0o prefix for octal integers\n"
     ]
    }
   ],
   "source": [
    "a = 0755"
   ]
  },
  {
   "cell_type": "markdown",
   "id": "3d3faf11",
   "metadata": {},
   "source": [
    "#### 显示数据类型 type()"
   ]
  },
  {
   "cell_type": "code",
   "execution_count": 6,
   "id": "6c8a67a9",
   "metadata": {},
   "outputs": [
    {
     "data": {
      "text/plain": [
       "int"
      ]
     },
     "execution_count": 6,
     "metadata": {},
     "output_type": "execute_result"
    }
   ],
   "source": [
    "a = 755\n",
    "type(a)"
   ]
  },
  {
   "cell_type": "markdown",
   "id": "fcac065e",
   "metadata": {},
   "source": [
    "#### 运算符，数据转换"
   ]
  },
  {
   "cell_type": "code",
   "execution_count": 14,
   "id": "e87b9a78",
   "metadata": {},
   "outputs": [
    {
     "name": "stdout",
     "output_type": "stream",
     "text": [
      "True\n"
     ]
    }
   ],
   "source": [
    "a=5\n",
    "b=0\n",
    "print(not b)"
   ]
  },
  {
   "cell_type": "code",
   "execution_count": 15,
   "id": "8f4e6bd3",
   "metadata": {},
   "outputs": [
    {
     "name": "stdout",
     "output_type": "stream",
     "text": [
      "6\n"
     ]
    }
   ],
   "source": [
    "a='5'\n",
    "b=1\n",
    "print(int(a)+b)"
   ]
  }
 ],
 "metadata": {
  "kernelspec": {
   "display_name": "Python 3 (ipykernel)",
   "language": "python",
   "name": "python3"
  },
  "language_info": {
   "codemirror_mode": {
    "name": "ipython",
    "version": 3
   },
   "file_extension": ".py",
   "mimetype": "text/x-python",
   "name": "python",
   "nbconvert_exporter": "python",
   "pygments_lexer": "ipython3",
   "version": "3.9.6"
  }
 },
 "nbformat": 4,
 "nbformat_minor": 5
}
