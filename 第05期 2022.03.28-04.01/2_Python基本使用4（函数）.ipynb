{
 "cells": [
  {
   "cell_type": "markdown",
   "id": "360d3f27",
   "metadata": {},
   "source": [
    "## 2.7 函数"
   ]
  },
  {
   "cell_type": "markdown",
   "id": "ec3640c1",
   "metadata": {},
   "source": [
    "#### 函数的使用"
   ]
  },
  {
   "cell_type": "code",
   "execution_count": 1,
   "id": "1cbca1b4",
   "metadata": {},
   "outputs": [
    {
     "name": "stdout",
     "output_type": "stream",
     "text": [
      "is solid\n",
      "is liquid\n"
     ]
    }
   ],
   "source": [
    "def phase(t):\n",
    "    if(t > 100):\n",
    "        print('is gas')\n",
    "    elif(t > 0):\n",
    "        print('is liquid')\n",
    "    else:\n",
    "        print('is solid')\n",
    "\n",
    "phase(-5)\n",
    "temp = 25\n",
    "phase(temp)"
   ]
  },
  {
   "cell_type": "markdown",
   "id": "3dd8ca87",
   "metadata": {},
   "source": [
    "#### 函数的参数传递"
   ]
  },
  {
   "cell_type": "code",
   "execution_count": 2,
   "id": "915265a1",
   "metadata": {},
   "outputs": [
    {
     "name": "stdout",
     "output_type": "stream",
     "text": [
      "1\n",
      "1\n",
      "2\n",
      "1\n"
     ]
    }
   ],
   "source": [
    "def fun(a):\n",
    "    print(a)\n",
    "    a += 1\n",
    "    print(a)\n",
    "\n",
    "a = 1\n",
    "print(a)\n",
    "fun(a)\n",
    "print(a)"
   ]
  },
  {
   "cell_type": "code",
   "execution_count": 3,
   "id": "dff17f61",
   "metadata": {},
   "outputs": [
    {
     "name": "stdout",
     "output_type": "stream",
     "text": [
      "[525, 566, 573]\n",
      "[525, 566, 573, 'cm-1']\n"
     ]
    }
   ],
   "source": [
    "def fun(a):\n",
    "    a.append('cm-1')\n",
    "\n",
    "b = [525, 566, 573]\n",
    "print(b)\n",
    "fun(b)\n",
    "print(b)"
   ]
  },
  {
   "cell_type": "markdown",
   "id": "5a33c70e",
   "metadata": {},
   "source": [
    "## 2.8 实操：N2O4转换速率"
   ]
  },
  {
   "cell_type": "markdown",
   "id": "ee9a4120",
   "metadata": {},
   "source": [
    "转换反应：N2O4 = 2NO2"
   ]
  },
  {
   "cell_type": "markdown",
   "id": "28d245cd",
   "metadata": {},
   "source": [
    "在一定温度及压力下， N2O4分解有0.50（摩尔分数）分解为NO2，若压力变为原来的2倍、4倍、8倍， N2O4的解离分数分别为多少？"
   ]
  },
  {
   "cell_type": "code",
   "execution_count": 4,
   "id": "b06a8b4d",
   "metadata": {},
   "outputs": [],
   "source": [
    "def res(n):\n",
    "    return (1 / (3 * n + 1)) ** 0.5"
   ]
  },
  {
   "cell_type": "code",
   "execution_count": 5,
   "id": "69ef8b20",
   "metadata": {},
   "outputs": [
    {
     "data": {
      "text/plain": [
       "0.5"
      ]
     },
     "execution_count": 5,
     "metadata": {},
     "output_type": "execute_result"
    }
   ],
   "source": [
    "res(1)"
   ]
  },
  {
   "cell_type": "code",
   "execution_count": 6,
   "id": "528b03c4",
   "metadata": {},
   "outputs": [
    {
     "data": {
      "text/plain": [
       "0.3779644730092272"
      ]
     },
     "execution_count": 6,
     "metadata": {},
     "output_type": "execute_result"
    }
   ],
   "source": [
    "res(2)"
   ]
  },
  {
   "cell_type": "code",
   "execution_count": 7,
   "id": "05403552",
   "metadata": {},
   "outputs": [
    {
     "data": {
      "text/plain": [
       "0.2773500981126146"
      ]
     },
     "execution_count": 7,
     "metadata": {},
     "output_type": "execute_result"
    }
   ],
   "source": [
    "res(4)"
   ]
  },
  {
   "cell_type": "code",
   "execution_count": 8,
   "id": "d1989f1b",
   "metadata": {},
   "outputs": [
    {
     "data": {
      "text/plain": [
       "0.2"
      ]
     },
     "execution_count": 8,
     "metadata": {},
     "output_type": "execute_result"
    }
   ],
   "source": [
    "res(8)"
   ]
  }
 ],
 "metadata": {
  "kernelspec": {
   "display_name": "Python 3 (ipykernel)",
   "language": "python",
   "name": "python3"
  },
  "language_info": {
   "codemirror_mode": {
    "name": "ipython",
    "version": 3
   },
   "file_extension": ".py",
   "mimetype": "text/x-python",
   "name": "python",
   "nbconvert_exporter": "python",
   "pygments_lexer": "ipython3",
   "version": "3.9.6"
  }
 },
 "nbformat": 4,
 "nbformat_minor": 5
}
