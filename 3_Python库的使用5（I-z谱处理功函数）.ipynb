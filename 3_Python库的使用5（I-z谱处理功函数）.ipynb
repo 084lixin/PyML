{
 "cells": [
  {
   "cell_type": "markdown",
   "id": "b9cc0daf",
   "metadata": {},
   "source": [
    "## 3.5 实操：I-z谱处理功函数"
   ]
  },
  {
   "cell_type": "code",
   "execution_count": 1,
   "id": "7908fc12",
   "metadata": {},
   "outputs": [],
   "source": [
    "import numpy as np\n",
    "import pandas as pd"
   ]
  },
  {
   "cell_type": "code",
   "execution_count": 2,
   "id": "5349e92b",
   "metadata": {
    "scrolled": false
   },
   "outputs": [
    {
     "data": {
      "text/html": [
       "<div>\n",
       "<style scoped>\n",
       "    .dataframe tbody tr th:only-of-type {\n",
       "        vertical-align: middle;\n",
       "    }\n",
       "\n",
       "    .dataframe tbody tr th {\n",
       "        vertical-align: top;\n",
       "    }\n",
       "\n",
       "    .dataframe thead th {\n",
       "        text-align: right;\n",
       "    }\n",
       "</style>\n",
       "<table border=\"1\" class=\"dataframe\">\n",
       "  <thead>\n",
       "    <tr style=\"text-align: right;\">\n",
       "      <th></th>\n",
       "      <th>z</th>\n",
       "      <th>I1</th>\n",
       "      <th>I2</th>\n",
       "    </tr>\n",
       "  </thead>\n",
       "  <tbody>\n",
       "    <tr>\n",
       "      <th>0</th>\n",
       "      <td>3.000000e-10</td>\n",
       "      <td>2.270000e-12</td>\n",
       "      <td>2.240000e-12</td>\n",
       "    </tr>\n",
       "    <tr>\n",
       "      <th>1</th>\n",
       "      <td>3.000000e-10</td>\n",
       "      <td>2.060000e-12</td>\n",
       "      <td>1.900000e-12</td>\n",
       "    </tr>\n",
       "    <tr>\n",
       "      <th>2</th>\n",
       "      <td>3.000000e-10</td>\n",
       "      <td>2.790000e-12</td>\n",
       "      <td>1.560000e-12</td>\n",
       "    </tr>\n",
       "    <tr>\n",
       "      <th>3</th>\n",
       "      <td>2.990000e-10</td>\n",
       "      <td>2.600000e-12</td>\n",
       "      <td>1.930000e-12</td>\n",
       "    </tr>\n",
       "    <tr>\n",
       "      <th>4</th>\n",
       "      <td>2.990000e-10</td>\n",
       "      <td>1.740000e-12</td>\n",
       "      <td>9.890000e-13</td>\n",
       "    </tr>\n",
       "    <tr>\n",
       "      <th>...</th>\n",
       "      <td>...</td>\n",
       "      <td>...</td>\n",
       "      <td>...</td>\n",
       "    </tr>\n",
       "    <tr>\n",
       "      <th>995</th>\n",
       "      <td>1.010000e-10</td>\n",
       "      <td>1.410000e-10</td>\n",
       "      <td>1.410000e-10</td>\n",
       "    </tr>\n",
       "    <tr>\n",
       "      <th>996</th>\n",
       "      <td>1.010000e-10</td>\n",
       "      <td>1.400000e-10</td>\n",
       "      <td>1.410000e-10</td>\n",
       "    </tr>\n",
       "    <tr>\n",
       "      <th>997</th>\n",
       "      <td>1.000000e-10</td>\n",
       "      <td>1.410000e-10</td>\n",
       "      <td>1.430000e-10</td>\n",
       "    </tr>\n",
       "    <tr>\n",
       "      <th>998</th>\n",
       "      <td>1.000000e-10</td>\n",
       "      <td>1.420000e-10</td>\n",
       "      <td>1.420000e-10</td>\n",
       "    </tr>\n",
       "    <tr>\n",
       "      <th>999</th>\n",
       "      <td>1.000000e-10</td>\n",
       "      <td>1.440000e-10</td>\n",
       "      <td>1.440000e-10</td>\n",
       "    </tr>\n",
       "  </tbody>\n",
       "</table>\n",
       "<p>1000 rows × 3 columns</p>\n",
       "</div>"
      ],
      "text/plain": [
       "                z            I1            I2\n",
       "0    3.000000e-10  2.270000e-12  2.240000e-12\n",
       "1    3.000000e-10  2.060000e-12  1.900000e-12\n",
       "2    3.000000e-10  2.790000e-12  1.560000e-12\n",
       "3    2.990000e-10  2.600000e-12  1.930000e-12\n",
       "4    2.990000e-10  1.740000e-12  9.890000e-13\n",
       "..            ...           ...           ...\n",
       "995  1.010000e-10  1.410000e-10  1.410000e-10\n",
       "996  1.010000e-10  1.400000e-10  1.410000e-10\n",
       "997  1.000000e-10  1.410000e-10  1.430000e-10\n",
       "998  1.000000e-10  1.420000e-10  1.420000e-10\n",
       "999  1.000000e-10  1.440000e-10  1.440000e-10\n",
       "\n",
       "[1000 rows x 3 columns]"
      ]
     },
     "execution_count": 2,
     "metadata": {},
     "output_type": "execute_result"
    }
   ],
   "source": [
    "with open('iz.csv', mode = 'r', encoding = 'UTF-8') as f:\n",
    "    df = pd.read_csv(f, names = ['z', 'I1', 'I2'])\n",
    "df"
   ]
  },
  {
   "cell_type": "markdown",
   "id": "8f363486",
   "metadata": {},
   "source": [
    "#### df中增加列"
   ]
  },
  {
   "cell_type": "code",
   "execution_count": 3,
   "id": "fd9539c8",
   "metadata": {},
   "outputs": [
    {
     "data": {
      "text/html": [
       "<div>\n",
       "<style scoped>\n",
       "    .dataframe tbody tr th:only-of-type {\n",
       "        vertical-align: middle;\n",
       "    }\n",
       "\n",
       "    .dataframe tbody tr th {\n",
       "        vertical-align: top;\n",
       "    }\n",
       "\n",
       "    .dataframe thead th {\n",
       "        text-align: right;\n",
       "    }\n",
       "</style>\n",
       "<table border=\"1\" class=\"dataframe\">\n",
       "  <thead>\n",
       "    <tr style=\"text-align: right;\">\n",
       "      <th></th>\n",
       "      <th>z</th>\n",
       "      <th>I1</th>\n",
       "      <th>I2</th>\n",
       "      <th>Imean</th>\n",
       "    </tr>\n",
       "  </thead>\n",
       "  <tbody>\n",
       "    <tr>\n",
       "      <th>0</th>\n",
       "      <td>3.000000e-10</td>\n",
       "      <td>2.270000e-12</td>\n",
       "      <td>2.240000e-12</td>\n",
       "      <td>2.255000e-12</td>\n",
       "    </tr>\n",
       "    <tr>\n",
       "      <th>1</th>\n",
       "      <td>3.000000e-10</td>\n",
       "      <td>2.060000e-12</td>\n",
       "      <td>1.900000e-12</td>\n",
       "      <td>1.980000e-12</td>\n",
       "    </tr>\n",
       "    <tr>\n",
       "      <th>2</th>\n",
       "      <td>3.000000e-10</td>\n",
       "      <td>2.790000e-12</td>\n",
       "      <td>1.560000e-12</td>\n",
       "      <td>2.175000e-12</td>\n",
       "    </tr>\n",
       "    <tr>\n",
       "      <th>3</th>\n",
       "      <td>2.990000e-10</td>\n",
       "      <td>2.600000e-12</td>\n",
       "      <td>1.930000e-12</td>\n",
       "      <td>2.265000e-12</td>\n",
       "    </tr>\n",
       "    <tr>\n",
       "      <th>4</th>\n",
       "      <td>2.990000e-10</td>\n",
       "      <td>1.740000e-12</td>\n",
       "      <td>9.890000e-13</td>\n",
       "      <td>1.364500e-12</td>\n",
       "    </tr>\n",
       "    <tr>\n",
       "      <th>...</th>\n",
       "      <td>...</td>\n",
       "      <td>...</td>\n",
       "      <td>...</td>\n",
       "      <td>...</td>\n",
       "    </tr>\n",
       "    <tr>\n",
       "      <th>995</th>\n",
       "      <td>1.010000e-10</td>\n",
       "      <td>1.410000e-10</td>\n",
       "      <td>1.410000e-10</td>\n",
       "      <td>1.410000e-10</td>\n",
       "    </tr>\n",
       "    <tr>\n",
       "      <th>996</th>\n",
       "      <td>1.010000e-10</td>\n",
       "      <td>1.400000e-10</td>\n",
       "      <td>1.410000e-10</td>\n",
       "      <td>1.405000e-10</td>\n",
       "    </tr>\n",
       "    <tr>\n",
       "      <th>997</th>\n",
       "      <td>1.000000e-10</td>\n",
       "      <td>1.410000e-10</td>\n",
       "      <td>1.430000e-10</td>\n",
       "      <td>1.420000e-10</td>\n",
       "    </tr>\n",
       "    <tr>\n",
       "      <th>998</th>\n",
       "      <td>1.000000e-10</td>\n",
       "      <td>1.420000e-10</td>\n",
       "      <td>1.420000e-10</td>\n",
       "      <td>1.420000e-10</td>\n",
       "    </tr>\n",
       "    <tr>\n",
       "      <th>999</th>\n",
       "      <td>1.000000e-10</td>\n",
       "      <td>1.440000e-10</td>\n",
       "      <td>1.440000e-10</td>\n",
       "      <td>1.440000e-10</td>\n",
       "    </tr>\n",
       "  </tbody>\n",
       "</table>\n",
       "<p>1000 rows × 4 columns</p>\n",
       "</div>"
      ],
      "text/plain": [
       "                z            I1            I2         Imean\n",
       "0    3.000000e-10  2.270000e-12  2.240000e-12  2.255000e-12\n",
       "1    3.000000e-10  2.060000e-12  1.900000e-12  1.980000e-12\n",
       "2    3.000000e-10  2.790000e-12  1.560000e-12  2.175000e-12\n",
       "3    2.990000e-10  2.600000e-12  1.930000e-12  2.265000e-12\n",
       "4    2.990000e-10  1.740000e-12  9.890000e-13  1.364500e-12\n",
       "..            ...           ...           ...           ...\n",
       "995  1.010000e-10  1.410000e-10  1.410000e-10  1.410000e-10\n",
       "996  1.010000e-10  1.400000e-10  1.410000e-10  1.405000e-10\n",
       "997  1.000000e-10  1.410000e-10  1.430000e-10  1.420000e-10\n",
       "998  1.000000e-10  1.420000e-10  1.420000e-10  1.420000e-10\n",
       "999  1.000000e-10  1.440000e-10  1.440000e-10  1.440000e-10\n",
       "\n",
       "[1000 rows x 4 columns]"
      ]
     },
     "execution_count": 3,
     "metadata": {},
     "output_type": "execute_result"
    }
   ],
   "source": [
    "df['Imean'] = 0.5 * (df['I1'] + df['I2'])\n",
    "df"
   ]
  },
  {
   "cell_type": "code",
   "execution_count": 4,
   "id": "cdd99952",
   "metadata": {},
   "outputs": [],
   "source": [
    "z = np.array(df['z']) * 1e10\n",
    "lnI = np.log(np.array(df['Imean']) * 1e12)"
   ]
  },
  {
   "cell_type": "markdown",
   "id": "846cbbcc",
   "metadata": {},
   "source": [
    "#### np.polyfit进行线性拟合"
   ]
  },
  {
   "cell_type": "code",
   "execution_count": 5,
   "id": "4e921fc0",
   "metadata": {},
   "outputs": [
    {
     "name": "stdout",
     "output_type": "stream",
     "text": [
      "[-2.1268743   7.14673331]\n"
     ]
    }
   ],
   "source": [
    "fit_res = np.polyfit(z, lnI, 1)\n",
    "print(fit_res)"
   ]
  },
  {
   "cell_type": "code",
   "execution_count": 6,
   "id": "14ae833a",
   "metadata": {},
   "outputs": [
    {
     "data": {
      "text/plain": [
       "4.306461770837469"
      ]
     },
     "execution_count": 6,
     "metadata": {},
     "output_type": "execute_result"
    }
   ],
   "source": [
    "wf_res = 0.952 * pow(fit_res[0], 2)\n",
    "wf_res"
   ]
  }
 ],
 "metadata": {
  "kernelspec": {
   "display_name": "Python 3 (ipykernel)",
   "language": "python",
   "name": "python3"
  },
  "language_info": {
   "codemirror_mode": {
    "name": "ipython",
    "version": 3
   },
   "file_extension": ".py",
   "mimetype": "text/x-python",
   "name": "python",
   "nbconvert_exporter": "python",
   "pygments_lexer": "ipython3",
   "version": "3.9.6"
  }
 },
 "nbformat": 4,
 "nbformat_minor": 5
}
