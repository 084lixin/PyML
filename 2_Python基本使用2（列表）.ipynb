{
 "cells": [
  {
   "cell_type": "markdown",
   "id": "d3f51c90",
   "metadata": {},
   "source": [
    "## 2.2 列表"
   ]
  },
  {
   "cell_type": "markdown",
   "id": "aa02cd5c",
   "metadata": {},
   "source": [
    "#### 列表的创建与使用"
   ]
  },
  {
   "cell_type": "code",
   "execution_count": 1,
   "id": "e28f6268",
   "metadata": {},
   "outputs": [
    {
     "name": "stdout",
     "output_type": "stream",
     "text": [
      "[1, 2, 3, 4, 5]\n",
      "1\n"
     ]
    }
   ],
   "source": [
    "a=[1, 2, 3, 4, 5]\n",
    "print(a)\n",
    "print(a[0])"
   ]
  },
  {
   "cell_type": "code",
   "execution_count": 2,
   "id": "49b8ec15",
   "metadata": {
    "scrolled": true
   },
   "outputs": [
    {
     "name": "stdout",
     "output_type": "stream",
     "text": [
      "['uv', 255, 345, 'cm-1', 10]\n",
      "uv\n",
      "10\n",
      "[255, 345]\n",
      "['uv', 255]\n",
      "['uv', 255, 345, 'cm-1', 10, 'uv', 255, 345, 'cm-1', 10]\n",
      "['uv', 255, 345, 'cm-1', 10, 'res', 123]\n"
     ]
    }
   ],
   "source": [
    "list_a = [ 'uv', 255 , 345, 'cm-1', 10 ]\n",
    "list_b = ['res', 123]\n",
    "\n",
    "print (list_a)\n",
    "print (list_a[0])\n",
    "print (list_a[-1])\n",
    "print (list_a[1:3])\n",
    "print (list_a[:2])\n",
    "print (list_a * 2)\n",
    "print (list_a + list_b)"
   ]
  },
  {
   "cell_type": "markdown",
   "id": "4e3a0816",
   "metadata": {},
   "source": [
    "#### 练习题答案"
   ]
  },
  {
   "cell_type": "code",
   "execution_count": 3,
   "id": "95afb24d",
   "metadata": {},
   "outputs": [
    {
     "data": {
      "text/plain": [
       "[1.2, 1.4, 1.3, 1.9]"
      ]
     },
     "execution_count": 3,
     "metadata": {},
     "output_type": "execute_result"
    }
   ],
   "source": [
    "list_a = ['density', 1.2, 1.4, 1.3, 1.9]\n",
    "\n",
    "list_a = list_a[1:]\n",
    "\n",
    "list_a"
   ]
  },
  {
   "cell_type": "markdown",
   "id": "df1ffdcd",
   "metadata": {},
   "source": [
    "#### range()函数"
   ]
  },
  {
   "cell_type": "code",
   "execution_count": 4,
   "id": "c6e55a72",
   "metadata": {},
   "outputs": [
    {
     "data": {
      "text/plain": [
       "range"
      ]
     },
     "execution_count": 4,
     "metadata": {},
     "output_type": "execute_result"
    }
   ],
   "source": [
    "type(range(1, 5, 1))"
   ]
  },
  {
   "cell_type": "code",
   "execution_count": 5,
   "id": "0c261ca5",
   "metadata": {},
   "outputs": [
    {
     "name": "stdout",
     "output_type": "stream",
     "text": [
      "[1, 2, 3, 4, 5, 6, 7, 8, 9]\n"
     ]
    }
   ],
   "source": [
    "list_a = list(range(1, 10, 1))\n",
    "print(list_a)"
   ]
  },
  {
   "cell_type": "code",
   "execution_count": 6,
   "id": "bdee8b65",
   "metadata": {},
   "outputs": [
    {
     "name": "stdout",
     "output_type": "stream",
     "text": [
      "[1, 3, 5, 7, 9]\n"
     ]
    }
   ],
   "source": [
    "list_a = list(range(1, 10, 2))\n",
    "print(list_a)"
   ]
  },
  {
   "cell_type": "markdown",
   "id": "c6bf42c8",
   "metadata": {},
   "source": [
    "#### 列表的插入"
   ]
  },
  {
   "cell_type": "code",
   "execution_count": 7,
   "id": "f8935a7a",
   "metadata": {},
   "outputs": [
    {
     "name": "stdout",
     "output_type": "stream",
     "text": [
      "[1, 3, 5, 7, 9, 11]\n",
      "[1, 3, 5, 6, 7, 9, 11]\n"
     ]
    }
   ],
   "source": [
    "list_a.append(11)\n",
    "print(list_a)\n",
    "\n",
    "list_a.insert(3, 6)\n",
    "print(list_a)"
   ]
  },
  {
   "cell_type": "markdown",
   "id": "cd73d93f",
   "metadata": {},
   "source": [
    "#### 列表的删除"
   ]
  },
  {
   "cell_type": "code",
   "execution_count": 8,
   "id": "685fe37a",
   "metadata": {},
   "outputs": [
    {
     "data": {
      "text/plain": [
       "[1, 3, 5, 7, 9, 11]"
      ]
     },
     "execution_count": 8,
     "metadata": {},
     "output_type": "execute_result"
    }
   ],
   "source": [
    "list_a.remove(6)\n",
    "list_a"
   ]
  },
  {
   "cell_type": "code",
   "execution_count": 9,
   "id": "9f00312b",
   "metadata": {},
   "outputs": [
    {
     "name": "stdout",
     "output_type": "stream",
     "text": [
      "[1, 3, 5, 9, 11, 7]\n"
     ]
    }
   ],
   "source": [
    "list_a.append(7)\n",
    "list_a.remove(7)\n",
    "print(list_a)"
   ]
  },
  {
   "cell_type": "code",
   "execution_count": 10,
   "id": "394f6b9f",
   "metadata": {},
   "outputs": [
    {
     "name": "stdout",
     "output_type": "stream",
     "text": [
      "[1, 3, 9, 11, 7]\n"
     ]
    }
   ],
   "source": [
    "list_a.pop(2)\n",
    "print(list_a)"
   ]
  },
  {
   "cell_type": "code",
   "execution_count": 11,
   "id": "22ba9edf",
   "metadata": {},
   "outputs": [
    {
     "data": {
      "text/plain": [
       "[1, 3, 9, 7]"
      ]
     },
     "execution_count": 11,
     "metadata": {},
     "output_type": "execute_result"
    }
   ],
   "source": [
    "del list_a[3]\n",
    "list_a"
   ]
  },
  {
   "cell_type": "code",
   "execution_count": 12,
   "id": "e2d867ab",
   "metadata": {},
   "outputs": [
    {
     "data": {
      "text/plain": [
       "[1, 3, 9]"
      ]
     },
     "execution_count": 12,
     "metadata": {},
     "output_type": "execute_result"
    }
   ],
   "source": [
    "del list_a[-1]\n",
    "list_a"
   ]
  },
  {
   "cell_type": "markdown",
   "id": "065eb920",
   "metadata": {},
   "source": [
    "#### 练习题答案"
   ]
  },
  {
   "cell_type": "code",
   "execution_count": 13,
   "id": "2ba65372",
   "metadata": {},
   "outputs": [
    {
     "name": "stdout",
     "output_type": "stream",
     "text": [
      "output1: [1, 3, 5]\n",
      "output2: [3, 5]\n"
     ]
    }
   ],
   "source": [
    "values = []\n",
    "values.append(1)\n",
    "values.append(3)\n",
    "values.append(5)\n",
    "print('output1:',values)\n",
    "values = values[1:]\n",
    "print('output2:',values)"
   ]
  }
 ],
 "metadata": {
  "kernelspec": {
   "display_name": "Python 3 (ipykernel)",
   "language": "python",
   "name": "python3"
  },
  "language_info": {
   "codemirror_mode": {
    "name": "ipython",
    "version": 3
   },
   "file_extension": ".py",
   "mimetype": "text/x-python",
   "name": "python",
   "nbconvert_exporter": "python",
   "pygments_lexer": "ipython3",
   "version": "3.9.6"
  }
 },
 "nbformat": 4,
 "nbformat_minor": 5
}
