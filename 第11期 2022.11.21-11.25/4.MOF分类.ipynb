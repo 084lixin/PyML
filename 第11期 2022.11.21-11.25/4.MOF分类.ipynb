{
 "cells": [
  {
   "cell_type": "code",
   "execution_count": 1,
   "id": "bbb928f4",
   "metadata": {},
   "outputs": [],
   "source": [
    "import pandas as pd"
   ]
  },
  {
   "cell_type": "code",
   "execution_count": 2,
   "id": "45e7d25a",
   "metadata": {},
   "outputs": [
    {
     "data": {
      "text/html": [
       "<div>\n",
       "<style scoped>\n",
       "    .dataframe tbody tr th:only-of-type {\n",
       "        vertical-align: middle;\n",
       "    }\n",
       "\n",
       "    .dataframe tbody tr th {\n",
       "        vertical-align: top;\n",
       "    }\n",
       "\n",
       "    .dataframe thead th {\n",
       "        text-align: right;\n",
       "    }\n",
       "</style>\n",
       "<table border=\"1\" class=\"dataframe\">\n",
       "  <thead>\n",
       "    <tr style=\"text-align: right;\">\n",
       "      <th></th>\n",
       "      <th>pld</th>\n",
       "      <th>surface_area_m2g</th>\n",
       "      <th>label</th>\n",
       "    </tr>\n",
       "  </thead>\n",
       "  <tbody>\n",
       "    <tr>\n",
       "      <th>0</th>\n",
       "      <td>2.93515</td>\n",
       "      <td>18.4268</td>\n",
       "      <td>0</td>\n",
       "    </tr>\n",
       "    <tr>\n",
       "      <th>1</th>\n",
       "      <td>3.21360</td>\n",
       "      <td>613.2570</td>\n",
       "      <td>1</td>\n",
       "    </tr>\n",
       "    <tr>\n",
       "      <th>2</th>\n",
       "      <td>3.98810</td>\n",
       "      <td>258.3630</td>\n",
       "      <td>0</td>\n",
       "    </tr>\n",
       "    <tr>\n",
       "      <th>3</th>\n",
       "      <td>6.93817</td>\n",
       "      <td>365.9500</td>\n",
       "      <td>0</td>\n",
       "    </tr>\n",
       "    <tr>\n",
       "      <th>4</th>\n",
       "      <td>1.91197</td>\n",
       "      <td>247.3670</td>\n",
       "      <td>1</td>\n",
       "    </tr>\n",
       "    <tr>\n",
       "      <th>...</th>\n",
       "      <td>...</td>\n",
       "      <td>...</td>\n",
       "      <td>...</td>\n",
       "    </tr>\n",
       "    <tr>\n",
       "      <th>193</th>\n",
       "      <td>5.32598</td>\n",
       "      <td>241.8870</td>\n",
       "      <td>0</td>\n",
       "    </tr>\n",
       "    <tr>\n",
       "      <th>194</th>\n",
       "      <td>10.73000</td>\n",
       "      <td>602.5550</td>\n",
       "      <td>0</td>\n",
       "    </tr>\n",
       "    <tr>\n",
       "      <th>195</th>\n",
       "      <td>2.52259</td>\n",
       "      <td>25.6035</td>\n",
       "      <td>0</td>\n",
       "    </tr>\n",
       "    <tr>\n",
       "      <th>196</th>\n",
       "      <td>2.49261</td>\n",
       "      <td>11.6380</td>\n",
       "      <td>0</td>\n",
       "    </tr>\n",
       "    <tr>\n",
       "      <th>197</th>\n",
       "      <td>2.87997</td>\n",
       "      <td>184.7530</td>\n",
       "      <td>0</td>\n",
       "    </tr>\n",
       "  </tbody>\n",
       "</table>\n",
       "<p>198 rows × 3 columns</p>\n",
       "</div>"
      ],
      "text/plain": [
       "          pld  surface_area_m2g  label\n",
       "0     2.93515           18.4268      0\n",
       "1     3.21360          613.2570      1\n",
       "2     3.98810          258.3630      0\n",
       "3     6.93817          365.9500      0\n",
       "4     1.91197          247.3670      1\n",
       "..        ...               ...    ...\n",
       "193   5.32598          241.8870      0\n",
       "194  10.73000          602.5550      0\n",
       "195   2.52259           25.6035      0\n",
       "196   2.49261           11.6380      0\n",
       "197   2.87997          184.7530      0\n",
       "\n",
       "[198 rows x 3 columns]"
      ]
     },
     "execution_count": 2,
     "metadata": {},
     "output_type": "execute_result"
    }
   ],
   "source": [
    "df = pd.read_csv('mof.csv')\n",
    "df"
   ]
  },
  {
   "cell_type": "code",
   "execution_count": 3,
   "id": "27b5df9e",
   "metadata": {},
   "outputs": [],
   "source": [
    "X0 = df['pld']\n",
    "X1 = df['surface_area_m2g']"
   ]
  },
  {
   "cell_type": "code",
   "execution_count": 4,
   "id": "38919ffc",
   "metadata": {},
   "outputs": [
    {
     "data": {
      "image/png": "[encoded data removed]",
      "text/plain": [
       "<Figure size 360x360 with 1 Axes>"
      ]
     },
     "metadata": {
      "needs_background": "light"
     },
     "output_type": "display_data"
    }
   ],
   "source": [
    "import matplotlib.pyplot as plt\n",
    "\n",
    "plt.figure(figsize = (5, 5))\n",
    "plt.scatter(X0, X1, c = df['label'], cmap = 'bwr', s = 20)\n",
    "plt.show()"
   ]
  },
  {
   "cell_type": "code",
   "execution_count": 5,
   "id": "ce3ee3c0",
   "metadata": {},
   "outputs": [],
   "source": [
    "X = df[['pld', 'surface_area_m2g']].values\n",
    "y = df['label']"
   ]
  },
  {
   "cell_type": "code",
   "execution_count": 6,
   "id": "30eccadb",
   "metadata": {},
   "outputs": [],
   "source": [
    "from sklearn.neighbors import KNeighborsClassifier"
   ]
  },
  {
   "cell_type": "code",
   "execution_count": 7,
   "id": "11662c3e",
   "metadata": {},
   "outputs": [
    {
     "data": {
      "text/plain": [
       "KNeighborsClassifier()"
      ]
     },
     "execution_count": 7,
     "metadata": {},
     "output_type": "execute_result"
    }
   ],
   "source": [
    "clf_knn = KNeighborsClassifier()\n",
    "clf_knn.fit(X, y)"
   ]
  },
  {
   "cell_type": "code",
   "execution_count": 8,
   "id": "4b176fd2",
   "metadata": {},
   "outputs": [],
   "source": [
    "import numpy as np"
   ]
  },
  {
   "cell_type": "code",
   "execution_count": 9,
   "id": "53893690",
   "metadata": {},
   "outputs": [
    {
     "data": {
      "text/plain": [
       "(0.86536, 11.4623)"
      ]
     },
     "execution_count": 9,
     "metadata": {},
     "output_type": "execute_result"
    }
   ],
   "source": [
    "np.min(df['pld']), np.max(df['pld'])"
   ]
  },
  {
   "cell_type": "code",
   "execution_count": 10,
   "id": "0b9d1865",
   "metadata": {},
   "outputs": [
    {
     "data": {
      "text/plain": [
       "(0.969831, 2198.28)"
      ]
     },
     "execution_count": 10,
     "metadata": {},
     "output_type": "execute_result"
    }
   ],
   "source": [
    "np.min(df['surface_area_m2g']), np.max(df['surface_area_m2g'])"
   ]
  },
  {
   "cell_type": "code",
   "execution_count": 11,
   "id": "1dc9a910",
   "metadata": {},
   "outputs": [],
   "source": [
    "xx, yy = np.meshgrid(np.arange(0.0, 12.0, 0.1), np.arange(-100, 2300, 1))\n",
    "coords = np.stack((xx.reshape(-1), yy.reshape(-1)), axis = 1)"
   ]
  },
  {
   "cell_type": "code",
   "execution_count": 12,
   "id": "8e845cc0",
   "metadata": {},
   "outputs": [],
   "source": [
    "Z = clf_knn.predict(coords)\n",
    "Z = Z.reshape(xx.shape)"
   ]
  },
  {
   "cell_type": "code",
   "execution_count": 13,
   "id": "f9758774",
   "metadata": {},
   "outputs": [],
   "source": [
    "from matplotlib.colors import ListedColormap\n",
    "\n",
    "def plot_res(X0, X1, xx, yy, Z):\n",
    "    light_rgb = ListedColormap(['#AAAAFF', '#FFAAAA'])\n",
    "    plt.figure(figsize = (5, 5))\n",
    "    plt.pcolormesh(xx, yy, Z, shading='auto', cmap = light_rgb)\n",
    "    plt.scatter(X0, X1, c = df['label'], cmap = 'bwr', s = 20)\n",
    "    plt.show()"
   ]
  },
  {
   "cell_type": "code",
   "execution_count": 14,
   "id": "2620b568",
   "metadata": {},
   "outputs": [
    {
     "data": {
      "image/png": "[encoded data removed]",
      "text/plain": [
       "<Figure size 360x360 with 1 Axes>"
      ]
     },
     "metadata": {
      "needs_background": "light"
     },
     "output_type": "display_data"
    }
   ],
   "source": [
    "plot_res(X0, X1, xx, yy, Z)"
   ]
  },
  {
   "cell_type": "code",
   "execution_count": 15,
   "id": "48a93ff9",
   "metadata": {},
   "outputs": [],
   "source": [
    "from sklearn.preprocessing import StandardScaler"
   ]
  },
  {
   "cell_type": "code",
   "execution_count": 16,
   "id": "1e155d28",
   "metadata": {},
   "outputs": [],
   "source": [
    "scaler = StandardScaler()"
   ]
  },
  {
   "cell_type": "code",
   "execution_count": 17,
   "id": "4b4d3f7f",
   "metadata": {},
   "outputs": [],
   "source": [
    "X_scaler = scaler.fit_transform(X)"
   ]
  },
  {
   "cell_type": "code",
   "execution_count": 18,
   "id": "b30d29f1",
   "metadata": {},
   "outputs": [
    {
     "data": {
      "image/png": "[encoded data removed]",
      "text/plain": [
       "<Figure size 360x360 with 1 Axes>"
      ]
     },
     "metadata": {
      "needs_background": "light"
     },
     "output_type": "display_data"
    }
   ],
   "source": [
    "plt.figure(figsize = (5, 5))\n",
    "plt.scatter(X_scaler[:, 0], X_scaler[:, 1], c = df['label'], cmap = 'bwr', s = 20)\n",
    "plt.show()"
   ]
  },
  {
   "cell_type": "code",
   "execution_count": 19,
   "id": "c3a1686b",
   "metadata": {},
   "outputs": [
    {
     "data": {
      "text/plain": [
       "KNeighborsClassifier()"
      ]
     },
     "execution_count": 19,
     "metadata": {},
     "output_type": "execute_result"
    }
   ],
   "source": [
    "clf_knn = KNeighborsClassifier()\n",
    "clf_knn.fit(X_scaler, y)"
   ]
  },
  {
   "cell_type": "code",
   "execution_count": 20,
   "id": "c333beec",
   "metadata": {},
   "outputs": [],
   "source": [
    "xx_s, yy_s = np.meshgrid(np.arange(-3, 5, 0.1), np.arange(-2, 7, 0.1))\n",
    "coords_s = np.stack((xx_s.reshape(-1), yy_s.reshape(-1)), axis = 1)"
   ]
  },
  {
   "cell_type": "code",
   "execution_count": 21,
   "id": "ae0546d2",
   "metadata": {},
   "outputs": [],
   "source": [
    "Z_s = clf_knn.predict(coords_s)\n",
    "Z_s = Z_s.reshape(xx_s.shape)"
   ]
  },
  {
   "cell_type": "code",
   "execution_count": 22,
   "id": "19f3055a",
   "metadata": {},
   "outputs": [
    {
     "data": {
      "image/png": "[encoded data removed]",
      "text/plain": [
       "<Figure size 360x360 with 1 Axes>"
      ]
     },
     "metadata": {
      "needs_background": "light"
     },
     "output_type": "display_data"
    }
   ],
   "source": [
    "plot_res(X_scaler[:, 0], X_scaler[:, 1], xx_s, yy_s, Z_s)"
   ]
  },
  {
   "cell_type": "code",
   "execution_count": 23,
   "id": "5cb4dbde",
   "metadata": {},
   "outputs": [],
   "source": [
    "Z = clf_knn.predict(scaler.transform(coords))\n",
    "Z = Z.reshape(xx.shape)"
   ]
  },
  {
   "cell_type": "code",
   "execution_count": 24,
   "id": "127f7895",
   "metadata": {},
   "outputs": [
    {
     "data": {
      "image/png": "[encoded data removed]",
      "text/plain": [
       "<Figure size 360x360 with 1 Axes>"
      ]
     },
     "metadata": {
      "needs_background": "light"
     },
     "output_type": "display_data"
    }
   ],
   "source": [
    "plot_res(X0, X1, xx, yy, Z)"
   ]
  },
  {
   "cell_type": "code",
   "execution_count": 25,
   "id": "d1580987",
   "metadata": {},
   "outputs": [],
   "source": [
    "from sklearn.pipeline import make_pipeline\n",
    "from sklearn.svm import SVC"
   ]
  },
  {
   "cell_type": "code",
   "execution_count": 26,
   "id": "7cf6529c",
   "metadata": {},
   "outputs": [
    {
     "data": {
      "text/plain": [
       "Pipeline(steps=[('standardscaler', StandardScaler()),\n",
       "                ('svc', SVC(kernel='linear'))])"
      ]
     },
     "execution_count": 26,
     "metadata": {},
     "output_type": "execute_result"
    }
   ],
   "source": [
    "clf_svm = make_pipeline(StandardScaler(), SVC(kernel = 'linear'))\n",
    "clf_svm.fit(X, y)"
   ]
  },
  {
   "cell_type": "code",
   "execution_count": 27,
   "id": "61d9ba8c",
   "metadata": {},
   "outputs": [],
   "source": [
    "Z = clf_svm.predict(coords)\n",
    "Z = Z.reshape(xx.shape)"
   ]
  },
  {
   "cell_type": "code",
   "execution_count": 28,
   "id": "0800599f",
   "metadata": {},
   "outputs": [
    {
     "data": {
      "image/png": "[encoded data removed]",
      "text/plain": [
       "<Figure size 360x360 with 1 Axes>"
      ]
     },
     "metadata": {
      "needs_background": "light"
     },
     "output_type": "display_data"
    }
   ],
   "source": [
    "plot_res(X0, X1, xx, yy, Z)"
   ]
  },
  {
   "cell_type": "code",
   "execution_count": 29,
   "id": "957c859b",
   "metadata": {},
   "outputs": [
    {
     "data": {
      "text/plain": [
       "Pipeline(steps=[('standardscaler', StandardScaler()), ('svc', SVC())])"
      ]
     },
     "execution_count": 29,
     "metadata": {},
     "output_type": "execute_result"
    }
   ],
   "source": [
    "clf_svm2 = make_pipeline(StandardScaler(), SVC(kernel = 'rbf'))\n",
    "clf_svm2.fit(X, y)"
   ]
  },
  {
   "cell_type": "code",
   "execution_count": 30,
   "id": "6ca73e36",
   "metadata": {},
   "outputs": [],
   "source": [
    "Z = clf_svm2.predict(coords)\n",
    "Z = Z.reshape(xx.shape)"
   ]
  },
  {
   "cell_type": "code",
   "execution_count": 31,
   "id": "7890e0ca",
   "metadata": {},
   "outputs": [
    {
     "data": {
      "image/png": "[encoded data removed]",
      "text/plain": [
       "<Figure size 360x360 with 1 Axes>"
      ]
     },
     "metadata": {
      "needs_background": "light"
     },
     "output_type": "display_data"
    }
   ],
   "source": [
    "plot_res(X0, X1, xx, yy, Z)"
   ]
  },
  {
   "cell_type": "markdown",
   "id": "ac277320",
   "metadata": {},
   "source": [
    "# 15:00继续"
   ]
  },
  {
   "cell_type": "code",
   "execution_count": 32,
   "id": "3b360159",
   "metadata": {},
   "outputs": [],
   "source": [
    "from sklearn.metrics import precision_score"
   ]
  },
  {
   "cell_type": "code",
   "execution_count": 42,
   "id": "79350acb",
   "metadata": {},
   "outputs": [
    {
     "data": {
      "text/plain": [
       "0.8910891089108911"
      ]
     },
     "execution_count": 42,
     "metadata": {},
     "output_type": "execute_result"
    }
   ],
   "source": [
    "precision_score(y, clf_knn.predict(X_scaler))"
   ]
  },
  {
   "cell_type": "code",
   "execution_count": 43,
   "id": "08ae2ef8",
   "metadata": {},
   "outputs": [],
   "source": [
    "from sklearn.metrics import recall_score"
   ]
  },
  {
   "cell_type": "code",
   "execution_count": 44,
   "id": "1c109e85",
   "metadata": {},
   "outputs": [
    {
     "data": {
      "text/plain": [
       "0.8823529411764706"
      ]
     },
     "execution_count": 44,
     "metadata": {},
     "output_type": "execute_result"
    }
   ],
   "source": [
    "recall_score(y, clf_knn.predict(X_scaler))"
   ]
  },
  {
   "cell_type": "code",
   "execution_count": 45,
   "id": "d7e0f32c",
   "metadata": {},
   "outputs": [],
   "source": [
    "y_score = clf_knn.predict_proba(X_scaler)"
   ]
  },
  {
   "cell_type": "code",
   "execution_count": 47,
   "id": "ccce6d65",
   "metadata": {},
   "outputs": [],
   "source": [
    "y_score = y_score[:, 1]"
   ]
  },
  {
   "cell_type": "code",
   "execution_count": 49,
   "id": "c9aee42f",
   "metadata": {},
   "outputs": [],
   "source": [
    "from sklearn.metrics import PrecisionRecallDisplay"
   ]
  },
  {
   "cell_type": "code",
   "execution_count": 50,
   "id": "4bdeef68",
   "metadata": {},
   "outputs": [
    {
     "data": {
      "image/png": "[encoded data removed]",
      "text/plain": [
       "<Figure size 432x288 with 1 Axes>"
      ]
     },
     "metadata": {
      "needs_background": "light"
     },
     "output_type": "display_data"
    }
   ],
   "source": [
    "display = PrecisionRecallDisplay.from_predictions(y, y_score, name = 'knn')"
   ]
  },
  {
   "cell_type": "code",
   "execution_count": 52,
   "id": "fa78eff9",
   "metadata": {},
   "outputs": [],
   "source": [
    "from sklearn.metrics import precision_recall_curve"
   ]
  },
  {
   "cell_type": "code",
   "execution_count": 54,
   "id": "d2c09563",
   "metadata": {},
   "outputs": [],
   "source": [
    "precision_knn, recall_knn, thresholds_knn = precision_recall_curve(y, y_score)"
   ]
  },
  {
   "cell_type": "code",
   "execution_count": 55,
   "id": "d569274f",
   "metadata": {},
   "outputs": [
    {
     "data": {
      "text/plain": [
       "(array([0.70833333, 0.83478261, 0.89108911, 0.96341463, 1.        ,\n",
       "        1.        ]),\n",
       " array([1.        , 0.94117647, 0.88235294, 0.7745098 , 0.61764706,\n",
       "        0.        ]),\n",
       " array([0.2, 0.4, 0.6, 0.8, 1. ]))"
      ]
     },
     "execution_count": 55,
     "metadata": {},
     "output_type": "execute_result"
    }
   ],
   "source": [
    "precision_knn, recall_knn, thresholds_knn"
   ]
  },
  {
   "cell_type": "code",
   "execution_count": 58,
   "id": "303d21a8",
   "metadata": {},
   "outputs": [
    {
     "data": {
      "text/plain": [
       "SVC(kernel='linear', probability=True)"
      ]
     },
     "execution_count": 58,
     "metadata": {},
     "output_type": "execute_result"
    }
   ],
   "source": [
    "clf_svm3 = SVC(kernel = 'linear', probability = True)\n",
    "clf_svm3.fit(X_scaler, y)"
   ]
  },
  {
   "cell_type": "code",
   "execution_count": 59,
   "id": "51b44208",
   "metadata": {},
   "outputs": [],
   "source": [
    "precision_svm3, recall_svm3, thresholds_svm3 = precision_recall_curve(y, clf_svm3.predict_proba(X_scaler)[:, 1])"
   ]
  },
  {
   "cell_type": "code",
   "execution_count": 60,
   "id": "1af13e39",
   "metadata": {},
   "outputs": [
    {
     "data": {
      "text/plain": [
       "SVC(probability=True)"
      ]
     },
     "execution_count": 60,
     "metadata": {},
     "output_type": "execute_result"
    }
   ],
   "source": [
    "clf_svm4 = SVC(kernel = 'rbf', probability = True)\n",
    "clf_svm4.fit(X_scaler, y)"
   ]
  },
  {
   "cell_type": "code",
   "execution_count": 61,
   "id": "66975e55",
   "metadata": {},
   "outputs": [],
   "source": [
    "precision_svm4, recall_svm4, thresholds_svm4 = precision_recall_curve(y, clf_svm4.predict_proba(X_scaler)[:, 1])"
   ]
  },
  {
   "cell_type": "code",
   "execution_count": 64,
   "id": "1c36cce3",
   "metadata": {},
   "outputs": [
    {
     "data": {
      "image/png": "[encoded data removed]",
      "text/plain": [
       "<Figure size 288x288 with 1 Axes>"
      ]
     },
     "metadata": {
      "needs_background": "light"
     },
     "output_type": "display_data"
    }
   ],
   "source": [
    "fig, ax = plt.subplots(figsize = (4, 4))\n",
    "\n",
    "ax.step(recall_knn, precision_knn, label = 'knn')\n",
    "ax.step(recall_svm3, precision_svm3, label = 'svm_linear')\n",
    "ax.step(recall_svm4, precision_svm4, label = 'svm_rbf')\n",
    "ax.plot([0, 1], [0, 1], 'k--')\n",
    "ax.set_xlim(0.5, 1.05)\n",
    "ax.set_ylim(0.5, 1.05)\n",
    "ax.spines['right'].set_visible(False)\n",
    "ax.spines['top'].set_visible(False)\n",
    "fig.legend()\n",
    "\n",
    "plt.show()"
   ]
  },
  {
   "cell_type": "code",
   "execution_count": 65,
   "id": "068e75ac",
   "metadata": {},
   "outputs": [],
   "source": [
    "from sklearn.metrics import f1_score"
   ]
  },
  {
   "cell_type": "code",
   "execution_count": 66,
   "id": "72485983",
   "metadata": {},
   "outputs": [
    {
     "data": {
      "text/plain": [
       "0.8866995073891626"
      ]
     },
     "execution_count": 66,
     "metadata": {},
     "output_type": "execute_result"
    }
   ],
   "source": [
    "f1_score(y, clf_knn.predict(X_scaler))"
   ]
  },
  {
   "cell_type": "code",
   "execution_count": 67,
   "id": "a370d4c6",
   "metadata": {},
   "outputs": [
    {
     "data": {
      "text/plain": [
       "0.854368932038835"
      ]
     },
     "execution_count": 67,
     "metadata": {},
     "output_type": "execute_result"
    }
   ],
   "source": [
    "f1_score(y, clf_svm3.predict(X_scaler))"
   ]
  },
  {
   "cell_type": "markdown",
   "id": "a077781c",
   "metadata": {},
   "source": [
    "# 16:07继续"
   ]
  },
  {
   "cell_type": "code",
   "execution_count": 68,
   "id": "087ace50",
   "metadata": {},
   "outputs": [],
   "source": [
    "from sklearn.metrics import roc_curve"
   ]
  },
  {
   "cell_type": "code",
   "execution_count": 69,
   "id": "012176bc",
   "metadata": {},
   "outputs": [],
   "source": [
    "fpr_knn, tpr_knn, thresholds_knn = roc_curve(y, clf_knn.predict_proba(X_scaler)[:, 1], pos_label = 1)"
   ]
  },
  {
   "cell_type": "code",
   "execution_count": 70,
   "id": "3fa686c7",
   "metadata": {},
   "outputs": [
    {
     "data": {
      "text/plain": [
       "(array([0.        , 0.        , 0.03125   , 0.11458333, 0.19791667,\n",
       "        0.4375    , 1.        ]),\n",
       " array([0.        , 0.61764706, 0.7745098 , 0.88235294, 0.94117647,\n",
       "        1.        , 1.        ]),\n",
       " array([2. , 1. , 0.8, 0.6, 0.4, 0.2, 0. ]))"
      ]
     },
     "execution_count": 70,
     "metadata": {},
     "output_type": "execute_result"
    }
   ],
   "source": [
    "fpr_knn, tpr_knn, thresholds_knn"
   ]
  },
  {
   "cell_type": "code",
   "execution_count": 71,
   "id": "9571e3fa",
   "metadata": {},
   "outputs": [
    {
     "data": {
      "image/png": "[encoded data removed]",
      "text/plain": [
       "<Figure size 288x288 with 1 Axes>"
      ]
     },
     "metadata": {
      "needs_background": "light"
     },
     "output_type": "display_data"
    }
   ],
   "source": [
    "plt.figure(figsize = (4, 4))\n",
    "plt.plot(fpr_knn, tpr_knn)\n",
    "plt.show()"
   ]
  },
  {
   "cell_type": "code",
   "execution_count": 72,
   "id": "36275cf0",
   "metadata": {},
   "outputs": [],
   "source": [
    "fpr_svm3, tpr_svm3, thresholds_svm3 = roc_curve(y, clf_svm3.predict_proba(X_scaler)[:, 1], pos_label = 1)"
   ]
  },
  {
   "cell_type": "code",
   "execution_count": 73,
   "id": "bacf7e56",
   "metadata": {},
   "outputs": [
    {
     "data": {
      "image/png": "[encoded data removed]",
      "text/plain": [
       "<Figure size 288x288 with 1 Axes>"
      ]
     },
     "metadata": {
      "needs_background": "light"
     },
     "output_type": "display_data"
    }
   ],
   "source": [
    "plt.figure(figsize = (4, 4))\n",
    "plt.plot(fpr_knn, tpr_knn, label = 'knn')\n",
    "plt.plot(fpr_svm3, tpr_svm3, label = 'svm')\n",
    "plt.legend()\n",
    "plt.show()"
   ]
  },
  {
   "cell_type": "code",
   "execution_count": 74,
   "id": "d562a72c",
   "metadata": {},
   "outputs": [
    {
     "data": {
      "text/plain": [
       "0.9618055555555556"
      ]
     },
     "execution_count": 74,
     "metadata": {},
     "output_type": "execute_result"
    }
   ],
   "source": [
    "from sklearn.metrics import auc\n",
    "\n",
    "roc_auc = auc(fpr_knn, tpr_knn)\n",
    "roc_auc"
   ]
  },
  {
   "cell_type": "code",
   "execution_count": 75,
   "id": "f6c3ef50",
   "metadata": {},
   "outputs": [
    {
     "data": {
      "text/plain": [
       "0.9441380718954249"
      ]
     },
     "execution_count": 75,
     "metadata": {},
     "output_type": "execute_result"
    }
   ],
   "source": [
    "roc_auc = auc(fpr_svm3, tpr_svm3)\n",
    "roc_auc"
   ]
  },
  {
   "cell_type": "code",
   "execution_count": null,
   "id": "421cd557",
   "metadata": {},
   "outputs": [],
   "source": []
  }
 ],
 "metadata": {
  "kernelspec": {
   "display_name": "Python 3",
   "language": "python",
   "name": "python3"
  },
  "language_info": {
   "codemirror_mode": {
    "name": "ipython",
    "version": 3
   },
   "file_extension": ".py",
   "mimetype": "text/x-python",
   "name": "python",
   "nbconvert_exporter": "python",
   "pygments_lexer": "ipython3",
   "version": "3.8.8"
  }
 },
 "nbformat": 4,
 "nbformat_minor": 5
}
