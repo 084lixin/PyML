{
 "cells": [
  {
   "cell_type": "code",
   "execution_count": 1,
   "id": "5cfc8c55",
   "metadata": {},
   "outputs": [],
   "source": [
    "from mp_api.client import MPRester"
   ]
  },
  {
   "cell_type": "code",
   "execution_count": 3,
   "id": "7d825006",
   "metadata": {},
   "outputs": [],
   "source": [
    "with open('key.txt') as f:\n",
    "    key = f.read()"
   ]
  },
  {
   "cell_type": "code",
   "execution_count": 4,
   "id": "c3cf2472",
   "metadata": {},
   "outputs": [
    {
     "name": "stderr",
     "output_type": "stream",
     "text": [
      "C:\\Users\\HUAWEI\\AppData\\Roaming\\Python\\Python38\\site-packages\\mp_api\\client.py:138: builtins.UserWarning: Problem loading MPContribs client: [<twisted.python.failure.Failure OpenSSL.SSL.Error: [('SSL routines', 'tls_process_server_certificate', 'certificate verify failed')]>]\n"
     ]
    },
    {
     "data": {
      "application/vnd.jupyter.widget-view+json": {
       "model_id": "d45aff280fb9482f9094118dfef1cf86",
       "version_major": 2,
       "version_minor": 0
      },
      "text/plain": [
       "Retrieving SummaryDoc documents:   0%|          | 0/1 [00:00<?, ?it/s]"
      ]
     },
     "metadata": {},
     "output_type": "display_data"
    },
    {
     "data": {
      "application/vnd.jupyter.widget-view+json": {
       "model_id": "b6d1fe245e474f8da0acae1d98fb195c",
       "version_major": 2,
       "version_minor": 0
      },
      "text/plain": [
       "Retrieving MaterialsDoc documents:   0%|          | 0/1 [00:00<?, ?it/s]"
      ]
     },
     "metadata": {},
     "output_type": "display_data"
    }
   ],
   "source": [
    "with MPRester(api_key = key) as mpr:\n",
    "    doc_s = mpr.summary.get_data_by_id('mp-804')\n",
    "    doc_m = mpr.materials.get_data_by_id('mp-804')"
   ]
  },
  {
   "cell_type": "code",
   "execution_count": 9,
   "id": "534ecb90",
   "metadata": {},
   "outputs": [
    {
     "data": {
      "text/plain": [
       "Comp: Ga2 N2"
      ]
     },
     "execution_count": 9,
     "metadata": {},
     "output_type": "execute_result"
    }
   ],
   "source": [
    "doc_m.composition"
   ]
  },
  {
   "cell_type": "code",
   "execution_count": 10,
   "id": "e421beb6",
   "metadata": {},
   "outputs": [
    {
     "data": {
      "text/plain": [
       "Structure Summary\n",
       "Lattice\n",
       "    abc : 3.2162901334217344 3.2162901334217344 5.239962\n",
       " angles : 90.0 90.0 120.00000274450079\n",
       " volume : 46.9428220153705\n",
       "      A : 1.608145 -2.785389 0.0\n",
       "      B : 1.608145 2.785389 0.0\n",
       "      C : 0.0 0.0 5.239962\n",
       "PeriodicSite: Ga (1.6081, -0.9285, 2.6154) [0.6667, 0.3333, 0.4991]\n",
       "PeriodicSite: Ga (1.6081, 0.9285, 5.2354) [0.3333, 0.6667, 0.9991]\n",
       "PeriodicSite: N (1.6081, -0.9285, 4.5896) [0.6667, 0.3333, 0.8759]\n",
       "PeriodicSite: N (1.6081, 0.9285, 1.9696) [0.3333, 0.6667, 0.3759]"
      ]
     },
     "execution_count": 10,
     "metadata": {},
     "output_type": "execute_result"
    }
   ],
   "source": [
    "doc_m.structure"
   ]
  },
  {
   "cell_type": "code",
   "execution_count": 13,
   "id": "d3fedb04",
   "metadata": {},
   "outputs": [
    {
     "data": {
      "text/plain": [
       "1.9742080831200006"
      ]
     },
     "execution_count": 13,
     "metadata": {},
     "output_type": "execute_result"
    }
   ],
   "source": [
    "doc_m.structure.get_distance(0, 2)"
   ]
  },
  {
   "cell_type": "code",
   "execution_count": 14,
   "id": "b99ea6a6",
   "metadata": {},
   "outputs": [
    {
     "data": {
      "text/plain": [
       "[[PeriodicSite: N (0.0000, -1.8569, 1.9696) [0.3333, -0.3333, 0.3759],\n",
       "  PeriodicSite: N (3.2163, -1.8569, 1.9696) [1.3333, 0.6667, 0.3759],\n",
       "  PeriodicSite: N (1.6081, 0.9285, 1.9696) [0.3333, 0.6667, 0.3759],\n",
       "  PeriodicSite: N (1.6081, -0.9285, 4.5896) [0.6667, 0.3333, 0.8759]],\n",
       " [PeriodicSite: N (0.0000, 1.8569, 4.5896) [-0.3333, 0.3333, 0.8759],\n",
       "  PeriodicSite: N (1.6081, -0.9285, 4.5896) [0.6667, 0.3333, 0.8759],\n",
       "  PeriodicSite: N (1.6081, 0.9285, 7.2096) [0.3333, 0.6667, 1.3759],\n",
       "  PeriodicSite: N (3.2163, 1.8569, 4.5896) [0.6667, 1.3333, 0.8759]],\n",
       " [PeriodicSite: Ga (0.0000, -1.8569, 5.2354) [0.3333, -0.3333, 0.9991],\n",
       "  PeriodicSite: Ga (3.2163, -1.8569, 5.2354) [1.3333, 0.6667, 0.9991],\n",
       "  PeriodicSite: Ga (1.6081, -0.9285, 2.6154) [0.6667, 0.3333, 0.4991],\n",
       "  PeriodicSite: Ga (1.6081, 0.9285, 5.2354) [0.3333, 0.6667, 0.9991]],\n",
       " [PeriodicSite: Ga (0.0000, 1.8569, 2.6154) [-0.3333, 0.3333, 0.4991],\n",
       "  PeriodicSite: Ga (1.6081, 0.9285, -0.0046) [0.3333, 0.6667, -0.0009],\n",
       "  PeriodicSite: Ga (1.6081, -0.9285, 2.6154) [0.6667, 0.3333, 0.4991],\n",
       "  PeriodicSite: Ga (3.2163, 1.8569, 2.6154) [0.6667, 1.3333, 0.4991]]]"
      ]
     },
     "execution_count": 14,
     "metadata": {},
     "output_type": "execute_result"
    }
   ],
   "source": [
    "doc_m.structure.get_all_neighbors(2.0)"
   ]
  },
  {
   "cell_type": "code",
   "execution_count": 15,
   "id": "0bc4b6e1",
   "metadata": {},
   "outputs": [],
   "source": [
    "doc_m.structure.to(filename = 'GaN.cif')"
   ]
  },
  {
   "cell_type": "code",
   "execution_count": 16,
   "id": "3559cd92",
   "metadata": {},
   "outputs": [],
   "source": [
    "doc_m.structure.to(filename = 'POSCAR')"
   ]
  },
  {
   "cell_type": "code",
   "execution_count": 17,
   "id": "8daaa5ec",
   "metadata": {},
   "outputs": [],
   "source": [
    "list_of_available_fields = mpr.summary.available_fields"
   ]
  },
  {
   "cell_type": "code",
   "execution_count": 19,
   "id": "a432aba0",
   "metadata": {},
   "outputs": [
    {
     "data": {
      "application/vnd.jupyter.widget-view+json": {
       "model_id": "8b4c5cd128624f7a860e048b59063d44",
       "version_major": 2,
       "version_minor": 0
      },
      "text/plain": [
       "Retrieving SummaryDoc documents:   0%|          | 0/332 [00:00<?, ?it/s]"
      ]
     },
     "metadata": {},
     "output_type": "display_data"
    }
   ],
   "source": [
    "docs = mpr.summary.search(elements = ['Si', 'O'], band_gap = (0.5, 1.0))"
   ]
  },
  {
   "cell_type": "code",
   "execution_count": 22,
   "id": "373b2a4d",
   "metadata": {
    "scrolled": false
   },
   "outputs": [
    {
     "data": {
      "application/vnd.jupyter.widget-view+json": {
       "model_id": "2612eb33625c406b9dc0778b41ae11f2",
       "version_major": 2,
       "version_minor": 0
      },
      "text/plain": [
       "Retrieving SummaryDoc documents:   0%|          | 0/625 [00:00<?, ?it/s]"
      ]
     },
     "metadata": {},
     "output_type": "display_data"
    }
   ],
   "source": [
    "docs = mpr.summary.search(elements = ['Si', 'O'], band_gap = (0.5, None),\n",
    "                         energy_above_hull = (0, 0),\n",
    "                         fields = ['material_id', 'composition', 'band_gap',\n",
    "                                  'volume', 'structure'])"
   ]
  },
  {
   "cell_type": "code",
   "execution_count": 23,
   "id": "7064bc52",
   "metadata": {},
   "outputs": [
    {
     "data": {
      "text/plain": [
       "2.4113"
      ]
     },
     "execution_count": 23,
     "metadata": {},
     "output_type": "execute_result"
    }
   ],
   "source": [
    "docs[0].band_gap"
   ]
  },
  {
   "cell_type": "code",
   "execution_count": 24,
   "id": "b3e911cc",
   "metadata": {},
   "outputs": [],
   "source": [
    "import pandas as pd"
   ]
  },
  {
   "cell_type": "code",
   "execution_count": 25,
   "id": "35455988",
   "metadata": {},
   "outputs": [],
   "source": [
    "stable_mpids = []\n",
    "\n",
    "for doc in docs:\n",
    "    stable_mpids.append(doc.material_id)"
   ]
  },
  {
   "cell_type": "code",
   "execution_count": 26,
   "id": "e0e40b45",
   "metadata": {},
   "outputs": [],
   "source": [
    "stable_mpids = pd.DataFrame(stable_mpids)"
   ]
  },
  {
   "cell_type": "code",
   "execution_count": 27,
   "id": "20436730",
   "metadata": {},
   "outputs": [
    {
     "data": {
      "text/html": [
       "<div>\n",
       "<style scoped>\n",
       "    .dataframe tbody tr th:only-of-type {\n",
       "        vertical-align: middle;\n",
       "    }\n",
       "\n",
       "    .dataframe tbody tr th {\n",
       "        vertical-align: top;\n",
       "    }\n",
       "\n",
       "    .dataframe thead th {\n",
       "        text-align: right;\n",
       "    }\n",
       "</style>\n",
       "<table border=\"1\" class=\"dataframe\">\n",
       "  <thead>\n",
       "    <tr style=\"text-align: right;\">\n",
       "      <th></th>\n",
       "      <th>0</th>\n",
       "    </tr>\n",
       "  </thead>\n",
       "  <tbody>\n",
       "    <tr>\n",
       "      <th>0</th>\n",
       "      <td>mp-541929</td>\n",
       "    </tr>\n",
       "    <tr>\n",
       "      <th>1</th>\n",
       "      <td>mp-694049</td>\n",
       "    </tr>\n",
       "    <tr>\n",
       "      <th>2</th>\n",
       "      <td>mp-560478</td>\n",
       "    </tr>\n",
       "    <tr>\n",
       "      <th>3</th>\n",
       "      <td>mp-1197149</td>\n",
       "    </tr>\n",
       "    <tr>\n",
       "      <th>4</th>\n",
       "      <td>mp-1192403</td>\n",
       "    </tr>\n",
       "    <tr>\n",
       "      <th>...</th>\n",
       "      <td>...</td>\n",
       "    </tr>\n",
       "    <tr>\n",
       "      <th>620</th>\n",
       "      <td>mp-1019558</td>\n",
       "    </tr>\n",
       "    <tr>\n",
       "      <th>621</th>\n",
       "      <td>mp-1221115</td>\n",
       "    </tr>\n",
       "    <tr>\n",
       "      <th>622</th>\n",
       "      <td>mp-560638</td>\n",
       "    </tr>\n",
       "    <tr>\n",
       "      <th>623</th>\n",
       "      <td>mp-1223595</td>\n",
       "    </tr>\n",
       "    <tr>\n",
       "      <th>624</th>\n",
       "      <td>mp-18460</td>\n",
       "    </tr>\n",
       "  </tbody>\n",
       "</table>\n",
       "<p>625 rows × 1 columns</p>\n",
       "</div>"
      ],
      "text/plain": [
       "              0\n",
       "0     mp-541929\n",
       "1     mp-694049\n",
       "2     mp-560478\n",
       "3    mp-1197149\n",
       "4    mp-1192403\n",
       "..          ...\n",
       "620  mp-1019558\n",
       "621  mp-1221115\n",
       "622   mp-560638\n",
       "623  mp-1223595\n",
       "624    mp-18460\n",
       "\n",
       "[625 rows x 1 columns]"
      ]
     },
     "execution_count": 27,
     "metadata": {},
     "output_type": "execute_result"
    }
   ],
   "source": [
    "stable_mpids"
   ]
  },
  {
   "cell_type": "code",
   "execution_count": 28,
   "id": "9a30bcb8",
   "metadata": {},
   "outputs": [
    {
     "data": {
      "application/vnd.jupyter.widget-view+json": {
       "model_id": "4f345a31d26e4ce49d9c032f87b94dc7",
       "version_major": 2,
       "version_minor": 0
      },
      "text/plain": [
       "Retrieving SummaryDoc documents:   0%|          | 0/1690 [00:00<?, ?it/s]"
      ]
     },
     "metadata": {},
     "output_type": "display_data"
    }
   ],
   "source": [
    "docs = mpr.summary.search(elements = ['Li'],\n",
    "                         band_gap = (0.5, None),\n",
    "                         energy_above_hull = (None, 0.005),\n",
    "                         fields = ['material_id', 'formula_pretty',\n",
    "                                  'composition', 'band_gap',\n",
    "                                  'energy_above_hull', 'structure'])"
   ]
  },
  {
   "cell_type": "code",
   "execution_count": 29,
   "id": "ebfbbe0d",
   "metadata": {},
   "outputs": [],
   "source": [
    "df = []\n",
    "\n",
    "for doc in docs:\n",
    "    df.append([doc.material_id, doc.formula_pretty, doc.composition,\n",
    "              doc.band_gap, doc.energy_above_hull, doc.structure])"
   ]
  },
  {
   "cell_type": "code",
   "execution_count": 30,
   "id": "ac132830",
   "metadata": {},
   "outputs": [],
   "source": [
    "df = pd.DataFrame(df, columns = ['mp-id', 'formula', 'composition',\n",
    "                                'band_gap', 'energy_above_hull', 'structure'])"
   ]
  },
  {
   "cell_type": "code",
   "execution_count": 31,
   "id": "14738cd0",
   "metadata": {},
   "outputs": [
    {
     "data": {
      "text/html": [
       "<div>\n",
       "<style scoped>\n",
       "    .dataframe tbody tr th:only-of-type {\n",
       "        vertical-align: middle;\n",
       "    }\n",
       "\n",
       "    .dataframe tbody tr th {\n",
       "        vertical-align: top;\n",
       "    }\n",
       "\n",
       "    .dataframe thead th {\n",
       "        text-align: right;\n",
       "    }\n",
       "</style>\n",
       "<table border=\"1\" class=\"dataframe\">\n",
       "  <thead>\n",
       "    <tr style=\"text-align: right;\">\n",
       "      <th></th>\n",
       "      <th>mp-id</th>\n",
       "      <th>formula</th>\n",
       "      <th>composition</th>\n",
       "      <th>band_gap</th>\n",
       "      <th>energy_above_hull</th>\n",
       "      <th>structure</th>\n",
       "    </tr>\n",
       "  </thead>\n",
       "  <tbody>\n",
       "    <tr>\n",
       "      <th>0</th>\n",
       "      <td>mp-559938</td>\n",
       "      <td>LiV3(TeO6)2</td>\n",
       "      <td>(Li, V, Te, O)</td>\n",
       "      <td>1.8361</td>\n",
       "      <td>0.000000</td>\n",
       "      <td>[[3.46786082 5.37704423 1.17536962] Li, [0.360...</td>\n",
       "    </tr>\n",
       "    <tr>\n",
       "      <th>1</th>\n",
       "      <td>mp-5614</td>\n",
       "      <td>Li3BS3</td>\n",
       "      <td>(Li, B, S)</td>\n",
       "      <td>2.8882</td>\n",
       "      <td>0.000000</td>\n",
       "      <td>[[ 3.75995262  5.47485373 10.05718029] Li, [0....</td>\n",
       "    </tr>\n",
       "    <tr>\n",
       "      <th>2</th>\n",
       "      <td>mp-777795</td>\n",
       "      <td>Li8Mn7Fe(BO3)8</td>\n",
       "      <td>(Li, Mn, Fe, B, O)</td>\n",
       "      <td>2.6565</td>\n",
       "      <td>0.002964</td>\n",
       "      <td>[[ 4.71579609  5.90844627 13.40481555] Li, [ 8...</td>\n",
       "    </tr>\n",
       "    <tr>\n",
       "      <th>3</th>\n",
       "      <td>mp-1111845</td>\n",
       "      <td>Cs2LiNdBr6</td>\n",
       "      <td>(Cs, Li, Nd, Br)</td>\n",
       "      <td>3.9972</td>\n",
       "      <td>0.000000</td>\n",
       "      <td>[[8.5284315 8.5284315 8.5284315] Cs, [2.842810...</td>\n",
       "    </tr>\n",
       "    <tr>\n",
       "      <th>4</th>\n",
       "      <td>mp-760164</td>\n",
       "      <td>Li2VFe(P2O7)2</td>\n",
       "      <td>(Li, V, Fe, P, O)</td>\n",
       "      <td>1.7204</td>\n",
       "      <td>0.003478</td>\n",
       "      <td>[[5.2602744  6.61727174 4.54775657] Li, [1.132...</td>\n",
       "    </tr>\n",
       "    <tr>\n",
       "      <th>...</th>\n",
       "      <td>...</td>\n",
       "      <td>...</td>\n",
       "      <td>...</td>\n",
       "      <td>...</td>\n",
       "      <td>...</td>\n",
       "      <td>...</td>\n",
       "    </tr>\n",
       "    <tr>\n",
       "      <th>1685</th>\n",
       "      <td>mp-5127</td>\n",
       "      <td>LiCuO</td>\n",
       "      <td>(Li, Cu, O)</td>\n",
       "      <td>1.4376</td>\n",
       "      <td>0.000000</td>\n",
       "      <td>[[5.5381878 0.        0.       ] Li, [2.962758...</td>\n",
       "    </tr>\n",
       "    <tr>\n",
       "      <th>1686</th>\n",
       "      <td>mp-1211213</td>\n",
       "      <td>Li3Tb3(TeO6)2</td>\n",
       "      <td>(Li, Tb, Te, O)</td>\n",
       "      <td>3.5219</td>\n",
       "      <td>0.000000</td>\n",
       "      <td>[[4.67001675 0.         3.1133445 ] Li, [1.556...</td>\n",
       "    </tr>\n",
       "    <tr>\n",
       "      <th>1687</th>\n",
       "      <td>mp-759377</td>\n",
       "      <td>LiTi2(PO4)3</td>\n",
       "      <td>(Li, Ti, P, O)</td>\n",
       "      <td>2.5726</td>\n",
       "      <td>0.002326</td>\n",
       "      <td>[[9.8104437  2.4878921  1.99640268] Li, [8.188...</td>\n",
       "    </tr>\n",
       "    <tr>\n",
       "      <th>1688</th>\n",
       "      <td>mp-554940</td>\n",
       "      <td>LiCr3O8</td>\n",
       "      <td>(Li, Cr, O)</td>\n",
       "      <td>0.6994</td>\n",
       "      <td>0.003006</td>\n",
       "      <td>[[-2.00264091 -4.6230315   6.34593698] Li, [ 3...</td>\n",
       "    </tr>\n",
       "    <tr>\n",
       "      <th>1689</th>\n",
       "      <td>mp-778744</td>\n",
       "      <td>Li2MnNi(PO4)2</td>\n",
       "      <td>(Li, Mn, Ni, P, O)</td>\n",
       "      <td>2.6905</td>\n",
       "      <td>0.004495</td>\n",
       "      <td>[[1.03718918e+01 1.21560420e-05 7.52555873e-03...</td>\n",
       "    </tr>\n",
       "  </tbody>\n",
       "</table>\n",
       "<p>1690 rows × 6 columns</p>\n",
       "</div>"
      ],
      "text/plain": [
       "           mp-id         formula         composition  band_gap  \\\n",
       "0      mp-559938     LiV3(TeO6)2      (Li, V, Te, O)    1.8361   \n",
       "1        mp-5614          Li3BS3          (Li, B, S)    2.8882   \n",
       "2      mp-777795  Li8Mn7Fe(BO3)8  (Li, Mn, Fe, B, O)    2.6565   \n",
       "3     mp-1111845      Cs2LiNdBr6    (Cs, Li, Nd, Br)    3.9972   \n",
       "4      mp-760164   Li2VFe(P2O7)2   (Li, V, Fe, P, O)    1.7204   \n",
       "...          ...             ...                 ...       ...   \n",
       "1685     mp-5127           LiCuO         (Li, Cu, O)    1.4376   \n",
       "1686  mp-1211213   Li3Tb3(TeO6)2     (Li, Tb, Te, O)    3.5219   \n",
       "1687   mp-759377     LiTi2(PO4)3      (Li, Ti, P, O)    2.5726   \n",
       "1688   mp-554940         LiCr3O8         (Li, Cr, O)    0.6994   \n",
       "1689   mp-778744   Li2MnNi(PO4)2  (Li, Mn, Ni, P, O)    2.6905   \n",
       "\n",
       "      energy_above_hull                                          structure  \n",
       "0              0.000000  [[3.46786082 5.37704423 1.17536962] Li, [0.360...  \n",
       "1              0.000000  [[ 3.75995262  5.47485373 10.05718029] Li, [0....  \n",
       "2              0.002964  [[ 4.71579609  5.90844627 13.40481555] Li, [ 8...  \n",
       "3              0.000000  [[8.5284315 8.5284315 8.5284315] Cs, [2.842810...  \n",
       "4              0.003478  [[5.2602744  6.61727174 4.54775657] Li, [1.132...  \n",
       "...                 ...                                                ...  \n",
       "1685           0.000000  [[5.5381878 0.        0.       ] Li, [2.962758...  \n",
       "1686           0.000000  [[4.67001675 0.         3.1133445 ] Li, [1.556...  \n",
       "1687           0.002326  [[9.8104437  2.4878921  1.99640268] Li, [8.188...  \n",
       "1688           0.003006  [[-2.00264091 -4.6230315   6.34593698] Li, [ 3...  \n",
       "1689           0.004495  [[1.03718918e+01 1.21560420e-05 7.52555873e-03...  \n",
       "\n",
       "[1690 rows x 6 columns]"
      ]
     },
     "execution_count": 31,
     "metadata": {},
     "output_type": "execute_result"
    }
   ],
   "source": [
    "df"
   ]
  },
  {
   "cell_type": "code",
   "execution_count": null,
   "id": "595753a6",
   "metadata": {},
   "outputs": [],
   "source": []
  }
 ],
 "metadata": {
  "kernelspec": {
   "display_name": "Python 3",
   "language": "python",
   "name": "python3"
  },
  "language_info": {
   "codemirror_mode": {
    "name": "ipython",
    "version": 3
   },
   "file_extension": ".py",
   "mimetype": "text/x-python",
   "name": "python",
   "nbconvert_exporter": "python",
   "pygments_lexer": "ipython3",
   "version": "3.8.8"
  }
 },
 "nbformat": 4,
 "nbformat_minor": 5
}
