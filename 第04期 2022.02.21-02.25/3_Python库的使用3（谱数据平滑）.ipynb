{
 "cells": [
  {
   "cell_type": "markdown",
   "id": "a99f4b7e",
   "metadata": {},
   "source": [
    "## 3.3 实操：谱数据平滑"
   ]
  },
  {
   "cell_type": "markdown",
   "id": "8780a1d2",
   "metadata": {},
   "source": [
    "### 3.3.1 使用read_csv读文件"
   ]
  },
  {
   "cell_type": "code",
   "execution_count": 1,
   "id": "35875b8b",
   "metadata": {},
   "outputs": [],
   "source": [
    "import pandas as pd"
   ]
  },
  {
   "cell_type": "code",
   "execution_count": 2,
   "id": "8c7772af",
   "metadata": {},
   "outputs": [
    {
     "data": {
      "text/html": [
       "<div>\n",
       "<style scoped>\n",
       "    .dataframe tbody tr th:only-of-type {\n",
       "        vertical-align: middle;\n",
       "    }\n",
       "\n",
       "    .dataframe tbody tr th {\n",
       "        vertical-align: top;\n",
       "    }\n",
       "\n",
       "    .dataframe thead th {\n",
       "        text-align: right;\n",
       "    }\n",
       "</style>\n",
       "<table border=\"1\" class=\"dataframe\">\n",
       "  <thead>\n",
       "    <tr style=\"text-align: right;\">\n",
       "      <th></th>\n",
       "      <th>0</th>\n",
       "      <th>1</th>\n",
       "    </tr>\n",
       "  </thead>\n",
       "  <tbody>\n",
       "    <tr>\n",
       "      <th>0</th>\n",
       "      <td>200.0</td>\n",
       "      <td>0.128823</td>\n",
       "    </tr>\n",
       "    <tr>\n",
       "      <th>1</th>\n",
       "      <td>200.2</td>\n",
       "      <td>0.117582</td>\n",
       "    </tr>\n",
       "    <tr>\n",
       "      <th>2</th>\n",
       "      <td>200.4</td>\n",
       "      <td>0.125130</td>\n",
       "    </tr>\n",
       "    <tr>\n",
       "      <th>3</th>\n",
       "      <td>200.6</td>\n",
       "      <td>0.121738</td>\n",
       "    </tr>\n",
       "    <tr>\n",
       "      <th>4</th>\n",
       "      <td>200.8</td>\n",
       "      <td>0.104534</td>\n",
       "    </tr>\n",
       "    <tr>\n",
       "      <th>...</th>\n",
       "      <td>...</td>\n",
       "      <td>...</td>\n",
       "    </tr>\n",
       "    <tr>\n",
       "      <th>1096</th>\n",
       "      <td>419.2</td>\n",
       "      <td>0.022818</td>\n",
       "    </tr>\n",
       "    <tr>\n",
       "      <th>1097</th>\n",
       "      <td>419.4</td>\n",
       "      <td>0.025858</td>\n",
       "    </tr>\n",
       "    <tr>\n",
       "      <th>1098</th>\n",
       "      <td>419.6</td>\n",
       "      <td>0.029388</td>\n",
       "    </tr>\n",
       "    <tr>\n",
       "      <th>1099</th>\n",
       "      <td>419.8</td>\n",
       "      <td>0.021187</td>\n",
       "    </tr>\n",
       "    <tr>\n",
       "      <th>1100</th>\n",
       "      <td>420.0</td>\n",
       "      <td>0.028926</td>\n",
       "    </tr>\n",
       "  </tbody>\n",
       "</table>\n",
       "<p>1101 rows × 2 columns</p>\n",
       "</div>"
      ],
      "text/plain": [
       "          0         1\n",
       "0     200.0  0.128823\n",
       "1     200.2  0.117582\n",
       "2     200.4  0.125130\n",
       "3     200.6  0.121738\n",
       "4     200.8  0.104534\n",
       "...     ...       ...\n",
       "1096  419.2  0.022818\n",
       "1097  419.4  0.025858\n",
       "1098  419.6  0.029388\n",
       "1099  419.8  0.021187\n",
       "1100  420.0  0.028926\n",
       "\n",
       "[1101 rows x 2 columns]"
      ]
     },
     "execution_count": 2,
     "metadata": {},
     "output_type": "execute_result"
    }
   ],
   "source": [
    "df = pd.read_csv('UV_noise.csv', header = None)\n",
    "df"
   ]
  },
  {
   "cell_type": "code",
   "execution_count": 3,
   "id": "41fb882a",
   "metadata": {},
   "outputs": [],
   "source": [
    "import numpy as np\n",
    "\n",
    "wl = np.array(df[0])\n",
    "Abs = np.array(df[1])"
   ]
  },
  {
   "cell_type": "code",
   "execution_count": 4,
   "id": "b887fe53",
   "metadata": {},
   "outputs": [
    {
     "data": {
      "image/png": "[encoded data removed]",
      "text/plain": [
       "<Figure size 432x288 with 1 Axes>"
      ]
     },
     "metadata": {
      "needs_background": "light"
     },
     "output_type": "display_data"
    }
   ],
   "source": [
    "import matplotlib.pyplot as plt\n",
    "plt.plot(wl, Abs)\n",
    "plt.show()"
   ]
  },
  {
   "cell_type": "markdown",
   "id": "2d7552ab",
   "metadata": {},
   "source": [
    "#### Savitzky-Golay平滑"
   ]
  },
  {
   "cell_type": "code",
   "execution_count": 5,
   "id": "381db2c8",
   "metadata": {},
   "outputs": [],
   "source": [
    "from scipy.signal import savgol_filter\n",
    "Abs_smooth = savgol_filter(Abs, 9, 2)"
   ]
  },
  {
   "cell_type": "markdown",
   "id": "ed779984",
   "metadata": {},
   "source": [
    "#### 以下代码为输出平滑后结果"
   ]
  },
  {
   "cell_type": "code",
   "execution_count": 6,
   "id": "0f24e08f",
   "metadata": {},
   "outputs": [],
   "source": [
    "#with open('UV_filter.csv', mode = 'a',encoding = 'UTF-8') as f:\n",
    "#    for i in range(len(wl)):\n",
    "#        f.write(str(wl[i])+','+str(Abs[i])+','+str(Abs_smooth[i])+'\\n')"
   ]
  },
  {
   "cell_type": "markdown",
   "id": "d501c6d9",
   "metadata": {},
   "source": [
    "### 3.3.2 可视化"
   ]
  },
  {
   "cell_type": "code",
   "execution_count": 7,
   "id": "19373c52",
   "metadata": {},
   "outputs": [
    {
     "data": {
      "image/png": "[encoded data removed]",
      "text/plain": [
       "<Figure size 432x288 with 1 Axes>"
      ]
     },
     "metadata": {
      "needs_background": "light"
     },
     "output_type": "display_data"
    }
   ],
   "source": [
    "plt.plot(wl, Abs)\n",
    "plt.plot(wl, Abs_smooth)\n",
    "plt.show()"
   ]
  }
 ],
 "metadata": {
  "kernelspec": {
   "display_name": "Python 3 (ipykernel)",
   "language": "python",
   "name": "python3"
  },
  "language_info": {
   "codemirror_mode": {
    "name": "ipython",
    "version": 3
   },
   "file_extension": ".py",
   "mimetype": "text/x-python",
   "name": "python",
   "nbconvert_exporter": "python",
   "pygments_lexer": "ipython3",
   "version": "3.9.6"
  }
 },
 "nbformat": 4,
 "nbformat_minor": 5
}
