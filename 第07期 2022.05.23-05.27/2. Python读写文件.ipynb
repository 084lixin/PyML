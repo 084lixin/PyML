{
 "cells": [
  {
   "cell_type": "code",
   "execution_count": 1,
   "id": "fed47784",
   "metadata": {
    "scrolled": true
   },
   "outputs": [
    {
     "name": "stdout",
     "output_type": "stream",
     "text": [
      "Experiment\n",
      "3.3\n",
      "2.2\n",
      "2.5\n",
      "3.1\n",
      "3.0\n",
      "eV\n"
     ]
    }
   ],
   "source": [
    "f = open('sample.txt', mode = 'r', encoding = 'UTF-8')\n",
    "res = f.read()\n",
    "f.close()\n",
    "print(res)"
   ]
  },
  {
   "cell_type": "code",
   "execution_count": 2,
   "id": "de3beb8b",
   "metadata": {},
   "outputs": [
    {
     "name": "stdout",
     "output_type": "stream",
     "text": [
      "Experiment\n",
      "\n"
     ]
    }
   ],
   "source": [
    "f = open('sample.txt', mode = 'r', encoding = 'UTF-8')\n",
    "res = f.readline()\n",
    "f.close()\n",
    "print(res)"
   ]
  },
  {
   "cell_type": "code",
   "execution_count": 3,
   "id": "e312bc28",
   "metadata": {},
   "outputs": [
    {
     "name": "stdout",
     "output_type": "stream",
     "text": [
      "['Experiment\\n', '3.3\\n', '2.2\\n', '2.5\\n', '3.1\\n', '3.0\\n', 'eV']\n"
     ]
    }
   ],
   "source": [
    "f = open('sample.txt', mode = 'r', encoding = 'UTF-8')\n",
    "res = f.readlines()\n",
    "f.close()\n",
    "print(res)"
   ]
  },
  {
   "cell_type": "code",
   "execution_count": 4,
   "id": "2ef6b2c6",
   "metadata": {},
   "outputs": [
    {
     "name": "stdout",
     "output_type": "stream",
     "text": [
      "[3.3, 2.2, 2.5, 3.1, 3.0]\n"
     ]
    }
   ],
   "source": [
    "f = open('sample.txt', mode = 'r', encoding = 'UTF-8')\n",
    "f.readline()\n",
    "data = []\n",
    "for i in range(5):\n",
    "    data.append(float(f.readline()))\n",
    "f.close()\n",
    "print(data)"
   ]
  },
  {
   "cell_type": "code",
   "execution_count": 5,
   "id": "64e8486d",
   "metadata": {},
   "outputs": [
    {
     "name": "stdout",
     "output_type": "stream",
     "text": [
      "[3.3, 2.2, 2.5, 3.1, 3.0]\n"
     ]
    }
   ],
   "source": [
    "f = open('sample.txt', mode = 'r', encoding = 'UTF-8')\n",
    "data = f.readlines()\n",
    "f.close()\n",
    "data = data[1:-1]\n",
    "for i in range(len(data)):\n",
    "    data[i] = float(data[i])\n",
    "print(data)"
   ]
  },
  {
   "cell_type": "code",
   "execution_count": 6,
   "id": "995ecc05",
   "metadata": {},
   "outputs": [],
   "source": [
    "def avg_list(a):\n",
    "    sum = 0\n",
    "    for ele in a:\n",
    "        sum += ele\n",
    "    return sum / len(a)"
   ]
  },
  {
   "cell_type": "code",
   "execution_count": 7,
   "id": "e891d634",
   "metadata": {},
   "outputs": [
    {
     "data": {
      "text/plain": [
       "2.82"
      ]
     },
     "execution_count": 7,
     "metadata": {},
     "output_type": "execute_result"
    }
   ],
   "source": [
    "avg_list(data)"
   ]
  },
  {
   "cell_type": "code",
   "execution_count": 8,
   "id": "c8d11100",
   "metadata": {},
   "outputs": [],
   "source": [
    "f = open('res.txt', mode = 'w', encoding = 'UTF-8')\n",
    "f.write(str(avg_list(data)) + '\\n')\n",
    "f.write(str(avg_list(data)))\n",
    "f.close()"
   ]
  },
  {
   "cell_type": "code",
   "execution_count": 10,
   "id": "7520adb8",
   "metadata": {},
   "outputs": [
    {
     "name": "stdout",
     "output_type": "stream",
     "text": [
      "[3.3, 2.2, 2.5, 3.1, 3.0]\n"
     ]
    }
   ],
   "source": [
    "with open('sample.txt', mode = 'r', encoding = 'UTF-8') as f:\n",
    "    f.readline()\n",
    "    data = []\n",
    "    for i in range(5):\n",
    "        data.append(float(f.readline()))\n",
    "print(data)"
   ]
  },
  {
   "cell_type": "code",
   "execution_count": 12,
   "id": "5a247111",
   "metadata": {},
   "outputs": [
    {
     "name": "stdout",
     "output_type": "stream",
     "text": [
      "['3.00E-10', '2.27E-12', '2.24E-12', '2.30E-12', '2.25E-12', '2.22E-12', '2.25E-12', '2.24E-12']\n",
      "['2.90E-10', '2.81E-12', '1.84E-12', '2.99E-12', '2.58E-12', '2.31E-12', '2.80E-12', '2.50E-12']\n"
     ]
    }
   ],
   "source": [
    "with open('didz.csv', mode = 'r', encoding = 'UTF-8') as f:\n",
    "    res = f.readline()\n",
    "    data1 = res.strip('\\n').split(',')\n",
    "    data2 = f.readline().strip('\\n').split(',')\n",
    "\n",
    "print(data1)\n",
    "print(data2)"
   ]
  },
  {
   "cell_type": "code",
   "execution_count": null,
   "id": "aaaa1492",
   "metadata": {},
   "outputs": [],
   "source": []
  }
 ],
 "metadata": {
  "kernelspec": {
   "display_name": "Python 3",
   "language": "python",
   "name": "python3"
  },
  "language_info": {
   "codemirror_mode": {
    "name": "ipython",
    "version": 3
   },
   "file_extension": ".py",
   "mimetype": "text/x-python",
   "name": "python",
   "nbconvert_exporter": "python",
   "pygments_lexer": "ipython3",
   "version": "3.8.8"
  }
 },
 "nbformat": 4,
 "nbformat_minor": 5
}
