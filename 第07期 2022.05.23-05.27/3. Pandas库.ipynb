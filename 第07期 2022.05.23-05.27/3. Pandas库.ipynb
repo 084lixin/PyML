{
 "cells": [
  {
   "cell_type": "code",
   "execution_count": 1,
   "id": "ad4b7589",
   "metadata": {},
   "outputs": [],
   "source": [
    "import pandas as pd"
   ]
  },
  {
   "cell_type": "code",
   "execution_count": 2,
   "id": "0bb566b0",
   "metadata": {},
   "outputs": [
    {
     "name": "stdout",
     "output_type": "stream",
     "text": [
      "0     50\n",
      "1     50\n",
      "2    100\n",
      "dtype: int64\n"
     ]
    }
   ],
   "source": [
    "s = pd.Series([50, 50, 100])\n",
    "print(s)"
   ]
  },
  {
   "cell_type": "code",
   "execution_count": 3,
   "id": "d110da7f",
   "metadata": {},
   "outputs": [
    {
     "name": "stdout",
     "output_type": "stream",
     "text": [
      "Red        50\n",
      "Purple     50\n",
      "Blue      100\n",
      "dtype: int64\n"
     ]
    }
   ],
   "source": [
    "s.index = ['Red', 'Purple', 'Blue']\n",
    "print(s)"
   ]
  },
  {
   "cell_type": "code",
   "execution_count": 5,
   "id": "38491709",
   "metadata": {},
   "outputs": [
    {
     "name": "stdout",
     "output_type": "stream",
     "text": [
      "Red        50\n",
      "Purple     50\n",
      "Blue      100\n",
      "dtype: int64\n"
     ]
    }
   ],
   "source": [
    "print(pd.Series([50, 50, 100], index = ['Red', 'Purple', 'Blue']))"
   ]
  },
  {
   "cell_type": "code",
   "execution_count": 6,
   "id": "9f009fc7",
   "metadata": {},
   "outputs": [
    {
     "data": {
      "text/html": [
       "<div>\n",
       "<style scoped>\n",
       "    .dataframe tbody tr th:only-of-type {\n",
       "        vertical-align: middle;\n",
       "    }\n",
       "\n",
       "    .dataframe tbody tr th {\n",
       "        vertical-align: top;\n",
       "    }\n",
       "\n",
       "    .dataframe thead th {\n",
       "        text-align: right;\n",
       "    }\n",
       "</style>\n",
       "<table border=\"1\" class=\"dataframe\">\n",
       "  <thead>\n",
       "    <tr style=\"text-align: right;\">\n",
       "      <th></th>\n",
       "      <th>name</th>\n",
       "      <th>score1</th>\n",
       "      <th>score2</th>\n",
       "    </tr>\n",
       "  </thead>\n",
       "  <tbody>\n",
       "    <tr>\n",
       "      <th>0</th>\n",
       "      <td>Red</td>\n",
       "      <td>50</td>\n",
       "      <td>60</td>\n",
       "    </tr>\n",
       "    <tr>\n",
       "      <th>1</th>\n",
       "      <td>Purple</td>\n",
       "      <td>60</td>\n",
       "      <td>50</td>\n",
       "    </tr>\n",
       "    <tr>\n",
       "      <th>2</th>\n",
       "      <td>Blue</td>\n",
       "      <td>100</td>\n",
       "      <td>100</td>\n",
       "    </tr>\n",
       "  </tbody>\n",
       "</table>\n",
       "</div>"
      ],
      "text/plain": [
       "     name  score1  score2\n",
       "0     Red      50      60\n",
       "1  Purple      60      50\n",
       "2    Blue     100     100"
      ]
     },
     "execution_count": 6,
     "metadata": {},
     "output_type": "execute_result"
    }
   ],
   "source": [
    "data = [['Red', 50, 60], ['Purple', 60, 50], ['Blue', 100, 100]]\n",
    "df = pd.DataFrame(data, columns = ['name', 'score1', 'score2'])\n",
    "df"
   ]
  },
  {
   "cell_type": "code",
   "execution_count": 10,
   "id": "a645b89b",
   "metadata": {},
   "outputs": [
    {
     "data": {
      "text/html": [
       "<div>\n",
       "<style scoped>\n",
       "    .dataframe tbody tr th:only-of-type {\n",
       "        vertical-align: middle;\n",
       "    }\n",
       "\n",
       "    .dataframe tbody tr th {\n",
       "        vertical-align: top;\n",
       "    }\n",
       "\n",
       "    .dataframe thead th {\n",
       "        text-align: right;\n",
       "    }\n",
       "</style>\n",
       "<table border=\"1\" class=\"dataframe\">\n",
       "  <thead>\n",
       "    <tr style=\"text-align: right;\">\n",
       "      <th></th>\n",
       "      <th>score1</th>\n",
       "      <th>score2</th>\n",
       "    </tr>\n",
       "  </thead>\n",
       "  <tbody>\n",
       "    <tr>\n",
       "      <th>Red</th>\n",
       "      <td>50</td>\n",
       "      <td>60</td>\n",
       "    </tr>\n",
       "    <tr>\n",
       "      <th>Purple</th>\n",
       "      <td>60</td>\n",
       "      <td>50</td>\n",
       "    </tr>\n",
       "    <tr>\n",
       "      <th>Blue</th>\n",
       "      <td>100</td>\n",
       "      <td>100</td>\n",
       "    </tr>\n",
       "  </tbody>\n",
       "</table>\n",
       "</div>"
      ],
      "text/plain": [
       "        score1  score2\n",
       "Red         50      60\n",
       "Purple      60      50\n",
       "Blue       100     100"
      ]
     },
     "execution_count": 10,
     "metadata": {},
     "output_type": "execute_result"
    }
   ],
   "source": [
    "data = [[50, 60], [60, 50], [100, 100]]\n",
    "df = pd.DataFrame(data, columns = ['score1', 'score2'])\n",
    "df.index = ['Red', 'Purple', 'Blue']\n",
    "df"
   ]
  },
  {
   "cell_type": "code",
   "execution_count": 11,
   "id": "34264dba",
   "metadata": {},
   "outputs": [],
   "source": [
    "df.columns = ['s1', 's2']"
   ]
  },
  {
   "cell_type": "code",
   "execution_count": 12,
   "id": "46c51d78",
   "metadata": {},
   "outputs": [
    {
     "data": {
      "text/html": [
       "<div>\n",
       "<style scoped>\n",
       "    .dataframe tbody tr th:only-of-type {\n",
       "        vertical-align: middle;\n",
       "    }\n",
       "\n",
       "    .dataframe tbody tr th {\n",
       "        vertical-align: top;\n",
       "    }\n",
       "\n",
       "    .dataframe thead th {\n",
       "        text-align: right;\n",
       "    }\n",
       "</style>\n",
       "<table border=\"1\" class=\"dataframe\">\n",
       "  <thead>\n",
       "    <tr style=\"text-align: right;\">\n",
       "      <th></th>\n",
       "      <th>s1</th>\n",
       "      <th>s2</th>\n",
       "    </tr>\n",
       "  </thead>\n",
       "  <tbody>\n",
       "    <tr>\n",
       "      <th>Red</th>\n",
       "      <td>50</td>\n",
       "      <td>60</td>\n",
       "    </tr>\n",
       "    <tr>\n",
       "      <th>Purple</th>\n",
       "      <td>60</td>\n",
       "      <td>50</td>\n",
       "    </tr>\n",
       "    <tr>\n",
       "      <th>Blue</th>\n",
       "      <td>100</td>\n",
       "      <td>100</td>\n",
       "    </tr>\n",
       "  </tbody>\n",
       "</table>\n",
       "</div>"
      ],
      "text/plain": [
       "         s1   s2\n",
       "Red      50   60\n",
       "Purple   60   50\n",
       "Blue    100  100"
      ]
     },
     "execution_count": 12,
     "metadata": {},
     "output_type": "execute_result"
    }
   ],
   "source": [
    "df"
   ]
  },
  {
   "cell_type": "code",
   "execution_count": 13,
   "id": "d65b2277",
   "metadata": {},
   "outputs": [
    {
     "data": {
      "text/plain": [
       "Red        50\n",
       "Purple     60\n",
       "Blue      100\n",
       "Name: s1, dtype: int64"
      ]
     },
     "execution_count": 13,
     "metadata": {},
     "output_type": "execute_result"
    }
   ],
   "source": [
    "df['s1']"
   ]
  },
  {
   "cell_type": "code",
   "execution_count": 14,
   "id": "61d6da99",
   "metadata": {},
   "outputs": [
    {
     "data": {
      "text/plain": [
       "50"
      ]
     },
     "execution_count": 14,
     "metadata": {},
     "output_type": "execute_result"
    }
   ],
   "source": [
    "df['s1']['Red']"
   ]
  },
  {
   "cell_type": "markdown",
   "id": "0e0347bf",
   "metadata": {},
   "source": [
    "# 11:13继续"
   ]
  },
  {
   "cell_type": "code",
   "execution_count": 15,
   "id": "549daece",
   "metadata": {},
   "outputs": [
    {
     "data": {
      "text/html": [
       "<div>\n",
       "<style scoped>\n",
       "    .dataframe tbody tr th:only-of-type {\n",
       "        vertical-align: middle;\n",
       "    }\n",
       "\n",
       "    .dataframe tbody tr th {\n",
       "        vertical-align: top;\n",
       "    }\n",
       "\n",
       "    .dataframe thead th {\n",
       "        text-align: right;\n",
       "    }\n",
       "</style>\n",
       "<table border=\"1\" class=\"dataframe\">\n",
       "  <thead>\n",
       "    <tr style=\"text-align: right;\">\n",
       "      <th></th>\n",
       "      <th>0</th>\n",
       "      <th>1</th>\n",
       "      <th>2</th>\n",
       "      <th>3</th>\n",
       "      <th>4</th>\n",
       "      <th>5</th>\n",
       "      <th>6</th>\n",
       "      <th>7</th>\n",
       "    </tr>\n",
       "  </thead>\n",
       "  <tbody>\n",
       "    <tr>\n",
       "      <th>0</th>\n",
       "      <td>3.000000e-10</td>\n",
       "      <td>2.270000e-12</td>\n",
       "      <td>2.240000e-12</td>\n",
       "      <td>2.300000e-12</td>\n",
       "      <td>2.250000e-12</td>\n",
       "      <td>2.220000e-12</td>\n",
       "      <td>2.250000e-12</td>\n",
       "      <td>2.240000e-12</td>\n",
       "    </tr>\n",
       "    <tr>\n",
       "      <th>1</th>\n",
       "      <td>2.900000e-10</td>\n",
       "      <td>2.810000e-12</td>\n",
       "      <td>1.840000e-12</td>\n",
       "      <td>2.990000e-12</td>\n",
       "      <td>2.580000e-12</td>\n",
       "      <td>2.310000e-12</td>\n",
       "      <td>2.800000e-12</td>\n",
       "      <td>2.500000e-12</td>\n",
       "    </tr>\n",
       "    <tr>\n",
       "      <th>2</th>\n",
       "      <td>3.000000e-10</td>\n",
       "      <td>2.270000e-12</td>\n",
       "      <td>2.240000e-12</td>\n",
       "      <td>2.300000e-12</td>\n",
       "      <td>2.250000e-12</td>\n",
       "      <td>2.220000e-12</td>\n",
       "      <td>2.250000e-12</td>\n",
       "      <td>2.240000e-12</td>\n",
       "    </tr>\n",
       "    <tr>\n",
       "      <th>3</th>\n",
       "      <td>2.900000e-10</td>\n",
       "      <td>2.810000e-12</td>\n",
       "      <td>1.840000e-12</td>\n",
       "      <td>2.990000e-12</td>\n",
       "      <td>2.580000e-12</td>\n",
       "      <td>2.310000e-12</td>\n",
       "      <td>2.800000e-12</td>\n",
       "      <td>2.500000e-12</td>\n",
       "    </tr>\n",
       "  </tbody>\n",
       "</table>\n",
       "</div>"
      ],
      "text/plain": [
       "              0             1             2             3             4  \\\n",
       "0  3.000000e-10  2.270000e-12  2.240000e-12  2.300000e-12  2.250000e-12   \n",
       "1  2.900000e-10  2.810000e-12  1.840000e-12  2.990000e-12  2.580000e-12   \n",
       "2  3.000000e-10  2.270000e-12  2.240000e-12  2.300000e-12  2.250000e-12   \n",
       "3  2.900000e-10  2.810000e-12  1.840000e-12  2.990000e-12  2.580000e-12   \n",
       "\n",
       "              5             6             7  \n",
       "0  2.220000e-12  2.250000e-12  2.240000e-12  \n",
       "1  2.310000e-12  2.800000e-12  2.500000e-12  \n",
       "2  2.220000e-12  2.250000e-12  2.240000e-12  \n",
       "3  2.310000e-12  2.800000e-12  2.500000e-12  "
      ]
     },
     "execution_count": 15,
     "metadata": {},
     "output_type": "execute_result"
    }
   ],
   "source": [
    "df = pd.read_csv('didz.csv', header = None)\n",
    "df"
   ]
  },
  {
   "cell_type": "code",
   "execution_count": null,
   "id": "bf91f01d",
   "metadata": {},
   "outputs": [],
   "source": []
  }
 ],
 "metadata": {
  "kernelspec": {
   "display_name": "Python 3",
   "language": "python",
   "name": "python3"
  },
  "language_info": {
   "codemirror_mode": {
    "name": "ipython",
    "version": 3
   },
   "file_extension": ".py",
   "mimetype": "text/x-python",
   "name": "python",
   "nbconvert_exporter": "python",
   "pygments_lexer": "ipython3",
   "version": "3.8.8"
  }
 },
 "nbformat": 4,
 "nbformat_minor": 5
}
