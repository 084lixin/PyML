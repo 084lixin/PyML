{
 "cells": [
  {
   "cell_type": "markdown",
   "id": "c405bc18",
   "metadata": {},
   "source": [
    "这是一个代码"
   ]
  },
  {
   "cell_type": "code",
   "execution_count": 4,
   "id": "e9a9b41d",
   "metadata": {},
   "outputs": [
    {
     "name": "stdout",
     "output_type": "stream",
     "text": [
      "Hello World\n"
     ]
    }
   ],
   "source": [
    "print('Hello World')"
   ]
  },
  {
   "cell_type": "code",
   "execution_count": 6,
   "id": "c2a3c83f",
   "metadata": {},
   "outputs": [
    {
     "name": "stdout",
     "output_type": "stream",
     "text": [
      "Hello! Machine Learning\n"
     ]
    }
   ],
   "source": [
    "print('Hello!','Machine','Learning')"
   ]
  },
  {
   "cell_type": "code",
   "execution_count": 8,
   "id": "38a80232",
   "metadata": {},
   "outputs": [
    {
     "name": "stdout",
     "output_type": "stream",
     "text": [
      "I'm fine\n"
     ]
    }
   ],
   "source": [
    "print(\"I'm fine\")"
   ]
  },
  {
   "cell_type": "code",
   "execution_count": 9,
   "id": "e491958d",
   "metadata": {},
   "outputs": [
    {
     "name": "stdout",
     "output_type": "stream",
     "text": [
      "Amy: \"I'm fine.\"\n"
     ]
    }
   ],
   "source": [
    "print('Amy: \"I\\'m fine.\"')"
   ]
  },
  {
   "cell_type": "code",
   "execution_count": 11,
   "id": "1ed1f0e3",
   "metadata": {},
   "outputs": [
    {
     "name": "stdout",
     "output_type": "stream",
     "text": [
      "1 2 3\n",
      "100 200 300\n"
     ]
    }
   ],
   "source": [
    "print('1 2 3')\n",
    "print('100 200 300')"
   ]
  },
  {
   "cell_type": "code",
   "execution_count": 14,
   "id": "e698ca53",
   "metadata": {},
   "outputs": [
    {
     "name": "stdout",
     "output_type": "stream",
     "text": [
      "abcde\n",
      "f\n"
     ]
    }
   ],
   "source": [
    "print('abcde\\nf')"
   ]
  },
  {
   "cell_type": "markdown",
   "id": "055445bb",
   "metadata": {},
   "source": [
    "# 10:05继续"
   ]
  },
  {
   "cell_type": "code",
   "execution_count": null,
   "id": "fff41cae",
   "metadata": {},
   "outputs": [],
   "source": []
  }
 ],
 "metadata": {
  "kernelspec": {
   "display_name": "Python 3",
   "language": "python",
   "name": "python3"
  },
  "language_info": {
   "codemirror_mode": {
    "name": "ipython",
    "version": 3
   },
   "file_extension": ".py",
   "mimetype": "text/x-python",
   "name": "python",
   "nbconvert_exporter": "python",
   "pygments_lexer": "ipython3",
   "version": "3.8.8"
  }
 },
 "nbformat": 4,
 "nbformat_minor": 5
}
