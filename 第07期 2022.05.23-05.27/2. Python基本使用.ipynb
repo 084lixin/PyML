{
 "cells": [
  {
   "cell_type": "code",
   "execution_count": 5,
   "id": "2b4796f8",
   "metadata": {},
   "outputs": [
    {
     "name": "stdout",
     "output_type": "stream",
     "text": [
      "Python\n"
     ]
    }
   ],
   "source": [
    "a = 'Python'\n",
    "print(a)"
   ]
  },
  {
   "cell_type": "code",
   "execution_count": 6,
   "id": "f9675253",
   "metadata": {},
   "outputs": [
    {
     "name": "stdout",
     "output_type": "stream",
     "text": [
      "Huang\n",
      "Hello, Huang !\n"
     ]
    }
   ],
   "source": [
    "name = input()\n",
    "print('Hello,', name, '!')"
   ]
  },
  {
   "cell_type": "code",
   "execution_count": 9,
   "id": "ab2ebbfa",
   "metadata": {},
   "outputs": [
    {
     "name": "stdout",
     "output_type": "stream",
     "text": [
      "755\n"
     ]
    }
   ],
   "source": [
    "a = 755\n",
    "print(a)"
   ]
  },
  {
   "cell_type": "code",
   "execution_count": 15,
   "id": "693d95be",
   "metadata": {},
   "outputs": [
    {
     "name": "stdout",
     "output_type": "stream",
     "text": [
      "5\n"
     ]
    }
   ],
   "source": [
    "a = '5'\n",
    "print(a)"
   ]
  },
  {
   "cell_type": "code",
   "execution_count": 20,
   "id": "c195c699",
   "metadata": {},
   "outputs": [
    {
     "name": "stdout",
     "output_type": "stream",
     "text": [
      "6\n"
     ]
    }
   ],
   "source": [
    "a = '5'\n",
    "b=1\n",
    "print(int(a)+b)"
   ]
  },
  {
   "cell_type": "code",
   "execution_count": 21,
   "id": "ac00b26f",
   "metadata": {},
   "outputs": [
    {
     "name": "stdout",
     "output_type": "stream",
     "text": [
      "1 1 1 1\n"
     ]
    }
   ],
   "source": [
    "a=b=c=d=1\n",
    "print(a,b,c,d)"
   ]
  },
  {
   "cell_type": "code",
   "execution_count": 22,
   "id": "f55fcd54",
   "metadata": {},
   "outputs": [
    {
     "data": {
      "text/plain": [
       "(3.4, 3.5)"
      ]
     },
     "execution_count": 22,
     "metadata": {},
     "output_type": "execute_result"
    }
   ],
   "source": [
    "a = 3.4\n",
    "b = 3.5\n",
    "a, b"
   ]
  },
  {
   "cell_type": "code",
   "execution_count": 23,
   "id": "b43f7920",
   "metadata": {},
   "outputs": [
    {
     "data": {
      "text/plain": [
       "(3, 3)"
      ]
     },
     "execution_count": 23,
     "metadata": {},
     "output_type": "execute_result"
    }
   ],
   "source": [
    "int(a), int(b)"
   ]
  },
  {
   "cell_type": "code",
   "execution_count": 24,
   "id": "ebeb901a",
   "metadata": {},
   "outputs": [
    {
     "data": {
      "text/plain": [
       "(3, 4)"
      ]
     },
     "execution_count": 24,
     "metadata": {},
     "output_type": "execute_result"
    }
   ],
   "source": [
    "round(a), round(b)"
   ]
  },
  {
   "cell_type": "code",
   "execution_count": 26,
   "id": "1d97d386",
   "metadata": {},
   "outputs": [
    {
     "name": "stdout",
     "output_type": "stream",
     "text": [
      "Input the temperature in Celsius:\n",
      "100\n",
      "Kevin temperature is 373.15 K\n"
     ]
    }
   ],
   "source": [
    "print('Input the temperature in Celsius:')\n",
    "T = input()\n",
    "T = float(T) + 273.15\n",
    "print('Kevin temperature is', T, 'K')"
   ]
  },
  {
   "cell_type": "code",
   "execution_count": 30,
   "id": "b685715d",
   "metadata": {},
   "outputs": [
    {
     "data": {
      "text/plain": [
       "5"
      ]
     },
     "execution_count": 30,
     "metadata": {},
     "output_type": "execute_result"
    }
   ],
   "source": [
    "a = 5\n",
    "a"
   ]
  },
  {
   "cell_type": "markdown",
   "id": "1bebfd3e",
   "metadata": {},
   "source": [
    "# 11:03继续"
   ]
  },
  {
   "cell_type": "code",
   "execution_count": 31,
   "id": "07ceaa6d",
   "metadata": {},
   "outputs": [
    {
     "data": {
      "text/plain": [
       "[1, 2, 3, 4, 5]"
      ]
     },
     "execution_count": 31,
     "metadata": {},
     "output_type": "execute_result"
    }
   ],
   "source": [
    "a = [1,2,3,4,5]\n",
    "a"
   ]
  },
  {
   "cell_type": "code",
   "execution_count": 34,
   "id": "2e9fbf8c",
   "metadata": {},
   "outputs": [
    {
     "data": {
      "text/plain": [
       "5"
      ]
     },
     "execution_count": 34,
     "metadata": {},
     "output_type": "execute_result"
    }
   ],
   "source": [
    "a[-1]"
   ]
  },
  {
   "cell_type": "code",
   "execution_count": 35,
   "id": "defe3a6b",
   "metadata": {},
   "outputs": [
    {
     "name": "stdout",
     "output_type": "stream",
     "text": [
      "10\n"
     ]
    }
   ],
   "source": [
    "list_a = ['uv', 255, 345, 'cm-1', 10]\n",
    "list_b = ['res', 123]\n",
    "\n",
    "print(list_a[-1])"
   ]
  },
  {
   "cell_type": "code",
   "execution_count": 36,
   "id": "3a84ff15",
   "metadata": {},
   "outputs": [
    {
     "name": "stdout",
     "output_type": "stream",
     "text": [
      "[255, 345]\n"
     ]
    }
   ],
   "source": [
    "print(list_a[1:3])"
   ]
  },
  {
   "cell_type": "code",
   "execution_count": 41,
   "id": "1ab84192",
   "metadata": {},
   "outputs": [
    {
     "name": "stdout",
     "output_type": "stream",
     "text": [
      "['uv', 255, 345, 'cm-1', 10]\n"
     ]
    }
   ],
   "source": [
    "print(list_a[:])"
   ]
  },
  {
   "cell_type": "code",
   "execution_count": 45,
   "id": "c50419c1",
   "metadata": {},
   "outputs": [
    {
     "name": "stdout",
     "output_type": "stream",
     "text": [
      "['uv', 255, 345, 'cm-1', 10, 'res', 123]\n"
     ]
    }
   ],
   "source": [
    "print(list_a + list_b)"
   ]
  },
  {
   "cell_type": "markdown",
   "id": "998378e5",
   "metadata": {},
   "source": [
    "range()构建列表"
   ]
  },
  {
   "cell_type": "code",
   "execution_count": 59,
   "id": "87a6c98c",
   "metadata": {},
   "outputs": [
    {
     "data": {
      "text/plain": [
       "[1, 3, 5, 7, 9]"
      ]
     },
     "execution_count": 59,
     "metadata": {},
     "output_type": "execute_result"
    }
   ],
   "source": [
    "list_a = list(range(1, 10, 2))\n",
    "list_a"
   ]
  },
  {
   "cell_type": "code",
   "execution_count": 60,
   "id": "eab3f544",
   "metadata": {},
   "outputs": [],
   "source": [
    "list_a.append(11)"
   ]
  },
  {
   "cell_type": "code",
   "execution_count": 61,
   "id": "10f597be",
   "metadata": {},
   "outputs": [
    {
     "data": {
      "text/plain": [
       "[1, 3, 5, 7, 9, 11]"
      ]
     },
     "execution_count": 61,
     "metadata": {},
     "output_type": "execute_result"
    }
   ],
   "source": [
    "list_a"
   ]
  },
  {
   "cell_type": "code",
   "execution_count": 62,
   "id": "dfce4999",
   "metadata": {},
   "outputs": [
    {
     "data": {
      "text/plain": [
       "[1, 3, 5, 6, 7, 9, 11]"
      ]
     },
     "execution_count": 62,
     "metadata": {},
     "output_type": "execute_result"
    }
   ],
   "source": [
    "list_a.insert(3, 6)\n",
    "list_a"
   ]
  },
  {
   "cell_type": "code",
   "execution_count": 63,
   "id": "0783083c",
   "metadata": {},
   "outputs": [
    {
     "data": {
      "text/plain": [
       "[1, 3, 5, 6, 7, 6, 9, 11]"
      ]
     },
     "execution_count": 63,
     "metadata": {},
     "output_type": "execute_result"
    }
   ],
   "source": [
    "list_a.insert(-2, 6)\n",
    "list_a"
   ]
  },
  {
   "cell_type": "code",
   "execution_count": 64,
   "id": "7f7b4074",
   "metadata": {},
   "outputs": [
    {
     "data": {
      "text/plain": [
       "[1, 3, 6, 7, 6, 9, 11]"
      ]
     },
     "execution_count": 64,
     "metadata": {},
     "output_type": "execute_result"
    }
   ],
   "source": [
    "list_a.remove(5)\n",
    "list_a"
   ]
  },
  {
   "cell_type": "code",
   "execution_count": 65,
   "id": "2427887a",
   "metadata": {},
   "outputs": [
    {
     "data": {
      "text/plain": [
       "[1, 3, 7, 6, 9, 11]"
      ]
     },
     "execution_count": 65,
     "metadata": {},
     "output_type": "execute_result"
    }
   ],
   "source": [
    "list_a.remove(6)\n",
    "list_a"
   ]
  },
  {
   "cell_type": "markdown",
   "id": "28a926dc",
   "metadata": {},
   "source": [
    "pop()"
   ]
  },
  {
   "cell_type": "code",
   "execution_count": 66,
   "id": "d913ff7a",
   "metadata": {},
   "outputs": [
    {
     "data": {
      "text/plain": [
       "[1, 3, 6, 9, 11]"
      ]
     },
     "execution_count": 66,
     "metadata": {},
     "output_type": "execute_result"
    }
   ],
   "source": [
    "list_a.pop(2)\n",
    "list_a"
   ]
  },
  {
   "cell_type": "code",
   "execution_count": 67,
   "id": "d74808a6",
   "metadata": {},
   "outputs": [
    {
     "data": {
      "text/plain": [
       "[1, 3, 6, 9]"
      ]
     },
     "execution_count": 67,
     "metadata": {},
     "output_type": "execute_result"
    }
   ],
   "source": [
    "list_a.pop()\n",
    "list_a"
   ]
  },
  {
   "cell_type": "code",
   "execution_count": 69,
   "id": "d246984c",
   "metadata": {},
   "outputs": [],
   "source": [
    "a = []"
   ]
  },
  {
   "cell_type": "code",
   "execution_count": 75,
   "id": "baf13d29",
   "metadata": {},
   "outputs": [
    {
     "data": {
      "text/plain": [
       "('x', 2)"
      ]
     },
     "execution_count": 75,
     "metadata": {},
     "output_type": "execute_result"
    }
   ],
   "source": [
    "tup1 = (1, 2, 3, 4, 5)\n",
    "tup2 = ('x', 3)\n",
    "tup3 = 'x', 2\n",
    "tup3"
   ]
  },
  {
   "cell_type": "code",
   "execution_count": 76,
   "id": "147f6ec0",
   "metadata": {},
   "outputs": [
    {
     "data": {
      "text/plain": [
       "(int, tuple)"
      ]
     },
     "execution_count": 76,
     "metadata": {},
     "output_type": "execute_result"
    }
   ],
   "source": [
    "tup1 = (5)\n",
    "tup2 = (5,)\n",
    "type(tup1), type(tup2)"
   ]
  },
  {
   "cell_type": "code",
   "execution_count": 77,
   "id": "b3fbcc83",
   "metadata": {},
   "outputs": [
    {
     "ename": "TypeError",
     "evalue": "'tuple' object does not support item assignment",
     "output_type": "error",
     "traceback": [
      "\u001b[1;31m---------------------------------------------------------------------------\u001b[0m",
      "\u001b[1;31mTypeError\u001b[0m                                 Traceback (most recent call last)",
      "\u001b[1;32m<ipython-input-77-9c7896b03f67>\u001b[0m in \u001b[0;36m<module>\u001b[1;34m\u001b[0m\n\u001b[0;32m      1\u001b[0m \u001b[0mtup1\u001b[0m \u001b[1;33m=\u001b[0m \u001b[1;33m(\u001b[0m\u001b[1;36m1\u001b[0m\u001b[1;33m,\u001b[0m \u001b[1;36m2\u001b[0m\u001b[1;33m,\u001b[0m \u001b[1;36m3\u001b[0m\u001b[1;33m,\u001b[0m \u001b[1;36m4\u001b[0m\u001b[1;33m,\u001b[0m \u001b[1;36m5\u001b[0m\u001b[1;33m)\u001b[0m\u001b[1;33m\u001b[0m\u001b[1;33m\u001b[0m\u001b[0m\n\u001b[1;32m----> 2\u001b[1;33m \u001b[0mtup1\u001b[0m\u001b[1;33m[\u001b[0m\u001b[1;36m0\u001b[0m\u001b[1;33m]\u001b[0m \u001b[1;33m=\u001b[0m \u001b[1;36m0\u001b[0m\u001b[1;33m\u001b[0m\u001b[1;33m\u001b[0m\u001b[0m\n\u001b[0m",
      "\u001b[1;31mTypeError\u001b[0m: 'tuple' object does not support item assignment"
     ]
    }
   ],
   "source": [
    "tup1 = (1, 2, 3, 4, 5)\n",
    "tup1[0] = 0"
   ]
  },
  {
   "cell_type": "code",
   "execution_count": 78,
   "id": "36e64451",
   "metadata": {},
   "outputs": [
    {
     "name": "stdout",
     "output_type": "stream",
     "text": [
      "m\n",
      "e\n",
      "olec\n",
      "oeu\n"
     ]
    }
   ],
   "source": [
    "s = 'molecule'\n",
    "print(s[0])\n",
    "print(s[-1])\n",
    "print(s[1:5])\n",
    "print(s[1:7:2])"
   ]
  },
  {
   "cell_type": "code",
   "execution_count": 79,
   "id": "471d86a5",
   "metadata": {},
   "outputs": [
    {
     "name": "stdout",
     "output_type": "stream",
     "text": [
      "['L', 'i', 'F', 'e', 'P', 'O', '4']\n"
     ]
    }
   ],
   "source": [
    "s1 = 'LiFePO4'\n",
    "l1 = list(s1)\n",
    "print(l1)"
   ]
  },
  {
   "cell_type": "code",
   "execution_count": 80,
   "id": "5f80df34",
   "metadata": {},
   "outputs": [
    {
     "data": {
      "text/plain": [
       "'LiFePO4'"
      ]
     },
     "execution_count": 80,
     "metadata": {},
     "output_type": "execute_result"
    }
   ],
   "source": [
    "s2 = ''.join(l1)\n",
    "s2"
   ]
  },
  {
   "cell_type": "code",
   "execution_count": 81,
   "id": "27ae90e5",
   "metadata": {},
   "outputs": [
    {
     "name": "stdout",
     "output_type": "stream",
     "text": [
      "True\n",
      "False\n"
     ]
    }
   ],
   "source": [
    "mole1 = 'LiFePO4'\n",
    "mole2 = 'LiCoO2'\n",
    "\n",
    "print('Fe' in mole1)\n",
    "print('Fe' in mole2)"
   ]
  },
  {
   "cell_type": "code",
   "execution_count": 82,
   "id": "286684e7",
   "metadata": {},
   "outputs": [
    {
     "data": {
      "text/plain": [
       "{'a', 'c', 'd', 'n', 'o'}"
      ]
     },
     "execution_count": 82,
     "metadata": {},
     "output_type": "execute_result"
    }
   ],
   "source": [
    "set1 = set('anaconda')\n",
    "set1"
   ]
  },
  {
   "cell_type": "code",
   "execution_count": 83,
   "id": "f1889e95",
   "metadata": {},
   "outputs": [
    {
     "data": {
      "text/plain": [
       "['d', 's', 'p']"
      ]
     },
     "execution_count": 83,
     "metadata": {},
     "output_type": "execute_result"
    }
   ],
   "source": [
    "list2d = ['s', 'p', 's', 'd']\n",
    "list2d = list(set(list2d))\n",
    "list2d"
   ]
  },
  {
   "cell_type": "code",
   "execution_count": 84,
   "id": "19b30424",
   "metadata": {},
   "outputs": [
    {
     "data": {
      "text/plain": [
       "{'H': 1, 'O': 16, 'Na': 23}"
      ]
     },
     "execution_count": 84,
     "metadata": {},
     "output_type": "execute_result"
    }
   ],
   "source": [
    "dict1 = {'H':1, 'O':16, 'Na':23}\n",
    "dict1"
   ]
  },
  {
   "cell_type": "code",
   "execution_count": 86,
   "id": "eaa6993a",
   "metadata": {},
   "outputs": [
    {
     "data": {
      "text/plain": [
       "40"
      ]
     },
     "execution_count": 86,
     "metadata": {},
     "output_type": "execute_result"
    }
   ],
   "source": [
    "mass = dict1['Na'] + dict1['O'] + dict1['H']\n",
    "mass"
   ]
  },
  {
   "cell_type": "code",
   "execution_count": 87,
   "id": "21f7050b",
   "metadata": {},
   "outputs": [
    {
     "data": {
      "text/plain": [
       "dict_keys(['H', 'O', 'Na'])"
      ]
     },
     "execution_count": 87,
     "metadata": {},
     "output_type": "execute_result"
    }
   ],
   "source": [
    "dict1.keys()"
   ]
  },
  {
   "cell_type": "code",
   "execution_count": 88,
   "id": "30cf955c",
   "metadata": {},
   "outputs": [
    {
     "data": {
      "text/plain": [
       "dict_values([1, 16, 23])"
      ]
     },
     "execution_count": 88,
     "metadata": {},
     "output_type": "execute_result"
    }
   ],
   "source": [
    "dict1.values()"
   ]
  },
  {
   "cell_type": "code",
   "execution_count": 89,
   "id": "0ac4741b",
   "metadata": {},
   "outputs": [
    {
     "data": {
      "text/plain": [
       "{12: 'C', 14: 'N', 16: 'O'}"
      ]
     },
     "execution_count": 89,
     "metadata": {},
     "output_type": "execute_result"
    }
   ],
   "source": [
    "dict2 = {}\n",
    "dict2[12] = 'C'\n",
    "dict2[14] = 'N'\n",
    "dict2[16] = 'O'\n",
    "dict2"
   ]
  },
  {
   "cell_type": "code",
   "execution_count": 90,
   "id": "a92c165e",
   "metadata": {},
   "outputs": [
    {
     "data": {
      "text/plain": [
       "{12: 'C', 14: 'C14', 16: 'O'}"
      ]
     },
     "execution_count": 90,
     "metadata": {},
     "output_type": "execute_result"
    }
   ],
   "source": [
    "dict2[14.0] = 'C14'\n",
    "dict2"
   ]
  },
  {
   "cell_type": "code",
   "execution_count": 91,
   "id": "d48dd332",
   "metadata": {},
   "outputs": [
    {
     "data": {
      "text/plain": [
       "{12: 'C', 16: 'O'}"
      ]
     },
     "execution_count": 91,
     "metadata": {},
     "output_type": "execute_result"
    }
   ],
   "source": [
    "dict2.pop(14)\n",
    "dict2"
   ]
  },
  {
   "cell_type": "code",
   "execution_count": null,
   "id": "76d26002",
   "metadata": {},
   "outputs": [],
   "source": []
  }
 ],
 "metadata": {
  "kernelspec": {
   "display_name": "Python 3",
   "language": "python",
   "name": "python3"
  },
  "language_info": {
   "codemirror_mode": {
    "name": "ipython",
    "version": 3
   },
   "file_extension": ".py",
   "mimetype": "text/x-python",
   "name": "python",
   "nbconvert_exporter": "python",
   "pygments_lexer": "ipython3",
   "version": "3.8.8"
  }
 },
 "nbformat": 4,
 "nbformat_minor": 5
}
