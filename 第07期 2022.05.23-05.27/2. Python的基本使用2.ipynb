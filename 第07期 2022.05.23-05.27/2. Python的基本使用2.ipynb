{
 "cells": [
  {
   "cell_type": "code",
   "execution_count": 14,
   "id": "9ec540e7",
   "metadata": {},
   "outputs": [
    {
     "name": "stdout",
     "output_type": "stream",
     "text": [
      "a is negative\n",
      "abs value of a is 5\n"
     ]
    }
   ],
   "source": [
    "a = -5\n",
    "\n",
    "if(a < 0):\n",
    "    print('a is negative')\n",
    "    a = 0 - a\n",
    "    print('abs value of a is', a)"
   ]
  },
  {
   "cell_type": "code",
   "execution_count": 6,
   "id": "fd0a57c4",
   "metadata": {},
   "outputs": [
    {
     "name": "stdout",
     "output_type": "stream",
     "text": [
      "is solid\n"
     ]
    }
   ],
   "source": [
    "temp = -25\n",
    "if(temp > 100):\n",
    "    print('is gas')\n",
    "elif(temp > 0):\n",
    "    print('is liquid')\n",
    "else:\n",
    "    print('is solid')"
   ]
  },
  {
   "cell_type": "code",
   "execution_count": 21,
   "id": "b4ee0c3c",
   "metadata": {},
   "outputs": [
    {
     "name": "stdout",
     "output_type": "stream",
     "text": [
      "a = 3\n",
      "a = 6\n",
      "a = 9\n",
      "a = 12\n",
      "a = 15\n",
      "a = 18\n",
      "20\n"
     ]
    }
   ],
   "source": [
    "a = 1\n",
    "while a < 20:\n",
    "    if(a % 3 == 0):\n",
    "        print('a =', a)\n",
    "    a += 1\n",
    "else:\n",
    "    print(a)"
   ]
  },
  {
   "cell_type": "code",
   "execution_count": 23,
   "id": "3aa338fd",
   "metadata": {},
   "outputs": [
    {
     "name": "stdout",
     "output_type": "stream",
     "text": [
      "a =  1\n",
      "a =  2\n",
      "a =  3\n",
      "a =  4\n",
      "a =  5\n",
      "a =  6\n",
      "a =  7\n",
      "a =  8\n",
      "a =  9\n"
     ]
    }
   ],
   "source": [
    "a = 1\n",
    "while(a < 10):\n",
    "    print('a = ', a)\n",
    "    a += 1"
   ]
  },
  {
   "cell_type": "code",
   "execution_count": 28,
   "id": "94e8bb47",
   "metadata": {},
   "outputs": [
    {
     "name": "stdout",
     "output_type": "stream",
     "text": [
      "1 1 2 4 8 16 32 64 "
     ]
    }
   ],
   "source": [
    "a = 1\n",
    "b = 1\n",
    "while(a < 100):\n",
    "    print(a, end = ' ')\n",
    "    a, b = b, a + b"
   ]
  },
  {
   "cell_type": "code",
   "execution_count": 29,
   "id": "69f75bcb",
   "metadata": {},
   "outputs": [
    {
     "name": "stdout",
     "output_type": "stream",
     "text": [
      "['red', 'purple', 'blue']\n",
      "['red', 'purple']\n",
      "['red']\n"
     ]
    }
   ],
   "source": [
    "a = ['red', 'purple', 'blue']\n",
    "while a:\n",
    "    print(a)\n",
    "    a.pop()"
   ]
  },
  {
   "cell_type": "code",
   "execution_count": 30,
   "id": "a151cb37",
   "metadata": {},
   "outputs": [
    {
     "name": "stdout",
     "output_type": "stream",
     "text": [
      "['red', 'purple', 'blue']\n",
      "['red', 'purple']\n"
     ]
    }
   ],
   "source": [
    "a = ['red', 'purple', 'blue']\n",
    "while 'blue' in a:\n",
    "    print(a)\n",
    "    a.remove('blue')\n",
    "print(a)"
   ]
  },
  {
   "cell_type": "code",
   "execution_count": 31,
   "id": "7d2dd99d",
   "metadata": {},
   "outputs": [
    {
     "name": "stdout",
     "output_type": "stream",
     "text": [
      "H\n",
      "C\n",
      "N\n"
     ]
    }
   ],
   "source": [
    "molecule = ['H', 'C', 'N']\n",
    "for ele in molecule:\n",
    "    print(ele)"
   ]
  },
  {
   "cell_type": "code",
   "execution_count": 32,
   "id": "f9acc057",
   "metadata": {},
   "outputs": [
    {
     "name": "stdout",
     "output_type": "stream",
     "text": [
      "0 H\n",
      "1 C\n",
      "2 N\n"
     ]
    }
   ],
   "source": [
    "for i, ele in enumerate(molecule):\n",
    "    print(i, ele)"
   ]
  },
  {
   "cell_type": "code",
   "execution_count": 33,
   "id": "d6664558",
   "metadata": {},
   "outputs": [
    {
     "name": "stdout",
     "output_type": "stream",
     "text": [
      "0 C\n",
      "1 H\n",
      "2 3\n"
     ]
    }
   ],
   "source": [
    "mole = 'CH3COOH'\n",
    "for i, j in enumerate(mole):\n",
    "    if i == 3:\n",
    "        break\n",
    "    print(i, j)"
   ]
  },
  {
   "cell_type": "code",
   "execution_count": 34,
   "id": "1bd937c7",
   "metadata": {},
   "outputs": [
    {
     "name": "stdout",
     "output_type": "stream",
     "text": [
      "0 C\n",
      "1 H\n",
      "2 3\n",
      "4 O\n",
      "5 O\n",
      "6 H\n"
     ]
    }
   ],
   "source": [
    "mole = 'CH3COOH'\n",
    "for i, j in enumerate(mole):\n",
    "    if i == 3:\n",
    "        continue\n",
    "    print(i, j)"
   ]
  },
  {
   "cell_type": "code",
   "execution_count": 36,
   "id": "97cadff3",
   "metadata": {},
   "outputs": [
    {
     "name": "stdout",
     "output_type": "stream",
     "text": [
      "0 3 6 9 12 15 18 "
     ]
    }
   ],
   "source": [
    "for i in range(0, 21, 3):\n",
    "    print(i, end = ' ')"
   ]
  },
  {
   "cell_type": "code",
   "execution_count": 39,
   "id": "d0c41fac",
   "metadata": {},
   "outputs": [
    {
     "data": {
      "text/plain": [
       "[0, 0, 0, 0, 0, 0, 0, 0, 0, 0]"
      ]
     },
     "execution_count": 39,
     "metadata": {},
     "output_type": "execute_result"
    }
   ],
   "source": [
    "a = []\n",
    "for i in range(10):\n",
    "    a.append(0)\n",
    "a"
   ]
  },
  {
   "cell_type": "code",
   "execution_count": 40,
   "id": "32a96e7e",
   "metadata": {},
   "outputs": [
    {
     "data": {
      "text/plain": [
       "[0, 0, 0, 0, 0, 0, 0, 0, 0, 0]"
      ]
     },
     "execution_count": 40,
     "metadata": {},
     "output_type": "execute_result"
    }
   ],
   "source": [
    "a = [0] * 10\n",
    "a"
   ]
  },
  {
   "cell_type": "code",
   "execution_count": 41,
   "id": "ac6a1d9b",
   "metadata": {},
   "outputs": [
    {
     "name": "stdout",
     "output_type": "stream",
     "text": [
      "0 red\n",
      "1 purple\n",
      "2 blue\n"
     ]
    }
   ],
   "source": [
    "a = ['red', 'purple', 'blue']\n",
    "for i in range(len(a)):\n",
    "    print(i, a[i])"
   ]
  },
  {
   "cell_type": "code",
   "execution_count": 42,
   "id": "69f11ec5",
   "metadata": {},
   "outputs": [
    {
     "data": {
      "text/plain": [
       "3"
      ]
     },
     "execution_count": 42,
     "metadata": {},
     "output_type": "execute_result"
    }
   ],
   "source": [
    "len(a)"
   ]
  },
  {
   "cell_type": "code",
   "execution_count": 45,
   "id": "ab5fc4ff",
   "metadata": {},
   "outputs": [
    {
     "name": "stdout",
     "output_type": "stream",
     "text": [
      "*\n",
      "**\n",
      "***\n",
      "****\n",
      "*****\n",
      "****\n",
      "***\n",
      "**\n",
      "*\n"
     ]
    }
   ],
   "source": [
    "for i in range(9):\n",
    "    if i < 5:\n",
    "        print('*' * (i + 1))\n",
    "    else:\n",
    "        print('*' * (9 - i))"
   ]
  },
  {
   "cell_type": "markdown",
   "id": "51b290c4",
   "metadata": {},
   "source": [
    "# 15:11继续"
   ]
  },
  {
   "cell_type": "code",
   "execution_count": 46,
   "id": "4f41c3c5",
   "metadata": {},
   "outputs": [
    {
     "data": {
      "text/plain": [
       "{0: 'K', 1: 'C', 2: 'N'}"
      ]
     },
     "execution_count": 46,
     "metadata": {},
     "output_type": "execute_result"
    }
   ],
   "source": [
    "dict3 = {}\n",
    "s = 'KCN'\n",
    "for i, dict3[i] in enumerate(s):\n",
    "    pass\n",
    "dict3"
   ]
  },
  {
   "cell_type": "markdown",
   "id": "9a2d2c2f",
   "metadata": {},
   "source": [
    "遍历"
   ]
  },
  {
   "cell_type": "code",
   "execution_count": 47,
   "id": "700a4ece",
   "metadata": {},
   "outputs": [
    {
     "name": "stdout",
     "output_type": "stream",
     "text": [
      "0\n",
      "1\n",
      "2\n",
      "3\n",
      "4\n"
     ]
    }
   ],
   "source": [
    "for i in range(5):\n",
    "    print(i)\n",
    "    i = 10"
   ]
  },
  {
   "cell_type": "code",
   "execution_count": 55,
   "id": "92ac4f7b",
   "metadata": {},
   "outputs": [],
   "source": [
    "def phase(t):\n",
    "    if(t > 100):\n",
    "        print('is gas')\n",
    "    elif(t > 0):\n",
    "        print('is liquid')\n",
    "    else:\n",
    "        print('is solid')"
   ]
  },
  {
   "cell_type": "code",
   "execution_count": 56,
   "id": "47b81e30",
   "metadata": {},
   "outputs": [
    {
     "name": "stdout",
     "output_type": "stream",
     "text": [
      "is liquid\n"
     ]
    }
   ],
   "source": [
    "temp = 25\n",
    "phase(temp)"
   ]
  },
  {
   "cell_type": "code",
   "execution_count": 57,
   "id": "bf0446ea",
   "metadata": {},
   "outputs": [],
   "source": [
    "def eV2kJ(x):\n",
    "    res = x * 96.4916\n",
    "    return res"
   ]
  },
  {
   "cell_type": "code",
   "execution_count": 58,
   "id": "1ce5edbd",
   "metadata": {},
   "outputs": [
    {
     "data": {
      "text/plain": [
       "144.7374"
      ]
     },
     "execution_count": 58,
     "metadata": {},
     "output_type": "execute_result"
    }
   ],
   "source": [
    "a = eV2kJ(1.5)\n",
    "a"
   ]
  },
  {
   "cell_type": "code",
   "execution_count": 59,
   "id": "4fc02e66",
   "metadata": {},
   "outputs": [],
   "source": [
    "def eV2kJkcal(x):\n",
    "    res1 = x * 96.4916\n",
    "    res2 = x * 23.0621\n",
    "    return res1, res2"
   ]
  },
  {
   "cell_type": "code",
   "execution_count": 60,
   "id": "894a8e03",
   "metadata": {},
   "outputs": [
    {
     "data": {
      "text/plain": [
       "(144.7374, 34.59315)"
      ]
     },
     "execution_count": 60,
     "metadata": {},
     "output_type": "execute_result"
    }
   ],
   "source": [
    "a, b = eV2kJkcal(1.5)\n",
    "a, b"
   ]
  },
  {
   "cell_type": "code",
   "execution_count": 61,
   "id": "0b74ed87",
   "metadata": {},
   "outputs": [
    {
     "name": "stdout",
     "output_type": "stream",
     "text": [
      "1\n",
      "1\n",
      "2\n",
      "1\n"
     ]
    }
   ],
   "source": [
    "def fun(a):\n",
    "    print(a)\n",
    "    a += 1\n",
    "    print(a)\n",
    "\n",
    "a = 1\n",
    "print(a)\n",
    "fun(a)\n",
    "print(a)"
   ]
  },
  {
   "cell_type": "code",
   "execution_count": 66,
   "id": "ba76fb84",
   "metadata": {},
   "outputs": [
    {
     "name": "stdout",
     "output_type": "stream",
     "text": [
      "[525, 566, 573]\n",
      "[525, 566, 573, 'cm-1']\n"
     ]
    }
   ],
   "source": [
    "def fun(a):\n",
    "    a.append('cm-1')\n",
    "\n",
    "b = [525, 566, 573]\n",
    "print(b)\n",
    "fun(b)\n",
    "print(b)"
   ]
  },
  {
   "cell_type": "code",
   "execution_count": 67,
   "id": "c91b9684",
   "metadata": {},
   "outputs": [
    {
     "name": "stdout",
     "output_type": "stream",
     "text": [
      "[1, 2, 3]\n",
      "2371582809280\n",
      "[1, 2, 3, 4]\n",
      "2371582809280\n"
     ]
    }
   ],
   "source": [
    "list1 = [1, 2, 3]\n",
    "print(list1)\n",
    "print(id(list1))\n",
    "\n",
    "list1.append(4)\n",
    "print(list1)\n",
    "print(id(list1))"
   ]
  },
  {
   "cell_type": "code",
   "execution_count": 76,
   "id": "e654a265",
   "metadata": {},
   "outputs": [],
   "source": [
    "def res_numerical(x, num = 1000):\n",
    "    x0 = 0\n",
    "    y0 = 0.5\n",
    "    res = [0.5]\n",
    "    step = x / num\n",
    "    i = 0\n",
    "    while(i < num):\n",
    "        y0 += step * (x0 * y0 * y0 - x0 * y0)\n",
    "        x0 += step\n",
    "        res.append(round(y0, 3))\n",
    "        i += 1\n",
    "    return res"
   ]
  },
  {
   "cell_type": "code",
   "execution_count": 78,
   "id": "7d6c4398",
   "metadata": {},
   "outputs": [
    {
     "data": {
      "text/plain": [
       "[0.378]"
      ]
     },
     "execution_count": 78,
     "metadata": {},
     "output_type": "execute_result"
    }
   ],
   "source": [
    "res_numerical(1)[-1:]"
   ]
  },
  {
   "cell_type": "code",
   "execution_count": 73,
   "id": "c1ba3e16",
   "metadata": {},
   "outputs": [],
   "source": [
    "def res_analytical(x, num = 10):\n",
    "    e = 2.71828\n",
    "    x0 = 0\n",
    "    res = [0.5]\n",
    "    step = x / num\n",
    "    i = 0\n",
    "    while(i < num):\n",
    "        x0 += step\n",
    "        y = 1 / (e ** (0.5 * x0 * x0) + 1)\n",
    "        res.append(round(y, 3))\n",
    "        i += 1\n",
    "    return res"
   ]
  },
  {
   "cell_type": "code",
   "execution_count": 75,
   "id": "a3af3ef5",
   "metadata": {},
   "outputs": [
    {
     "data": {
      "text/plain": [
       "[0.5, 0.499, 0.495, 0.489, 0.48, 0.469, 0.455, 0.439, 0.421, 0.4, 0.378]"
      ]
     },
     "execution_count": 75,
     "metadata": {},
     "output_type": "execute_result"
    }
   ],
   "source": [
    "res_analytical(1)"
   ]
  },
  {
   "cell_type": "markdown",
   "id": "5da85371",
   "metadata": {},
   "source": [
    "# 16:25继续"
   ]
  },
  {
   "cell_type": "code",
   "execution_count": null,
   "id": "4fb40f96",
   "metadata": {},
   "outputs": [],
   "source": []
  }
 ],
 "metadata": {
  "kernelspec": {
   "display_name": "Python 3",
   "language": "python",
   "name": "python3"
  },
  "language_info": {
   "codemirror_mode": {
    "name": "ipython",
    "version": 3
   },
   "file_extension": ".py",
   "mimetype": "text/x-python",
   "name": "python",
   "nbconvert_exporter": "python",
   "pygments_lexer": "ipython3",
   "version": "3.8.8"
  }
 },
 "nbformat": 4,
 "nbformat_minor": 5
}
