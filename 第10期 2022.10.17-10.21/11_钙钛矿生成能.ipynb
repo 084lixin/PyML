{
 "cells": [
  {
   "cell_type": "code",
   "execution_count": 1,
   "id": "f76ddba6",
   "metadata": {},
   "outputs": [
    {
     "data": {
      "text/html": [
       "<div>\n",
       "<style scoped>\n",
       "    .dataframe tbody tr th:only-of-type {\n",
       "        vertical-align: middle;\n",
       "    }\n",
       "\n",
       "    .dataframe tbody tr th {\n",
       "        vertical-align: top;\n",
       "    }\n",
       "\n",
       "    .dataframe thead th {\n",
       "        text-align: right;\n",
       "    }\n",
       "</style>\n",
       "<table border=\"1\" class=\"dataframe\">\n",
       "  <thead>\n",
       "    <tr style=\"text-align: right;\">\n",
       "      <th></th>\n",
       "      <th>fermi level</th>\n",
       "      <th>fermi width</th>\n",
       "      <th>e_form</th>\n",
       "      <th>gap is direct</th>\n",
       "      <th>structure</th>\n",
       "      <th>mu_b</th>\n",
       "      <th>formula</th>\n",
       "      <th>vbm</th>\n",
       "      <th>cbm</th>\n",
       "      <th>gap gllbsc</th>\n",
       "    </tr>\n",
       "  </thead>\n",
       "  <tbody>\n",
       "    <tr>\n",
       "      <th>0</th>\n",
       "      <td>0.312138</td>\n",
       "      <td>0.001837</td>\n",
       "      <td>2.16</td>\n",
       "      <td>True</td>\n",
       "      <td>[[0. 0. 0.] Rh, [1.97726555 1.97726555 1.97726...</td>\n",
       "      <td>1.974478e-02</td>\n",
       "      <td>RhTeN3</td>\n",
       "      <td>6.187694</td>\n",
       "      <td>6.187694</td>\n",
       "      <td>0.0</td>\n",
       "    </tr>\n",
       "    <tr>\n",
       "      <th>1</th>\n",
       "      <td>0.297083</td>\n",
       "      <td>0.001837</td>\n",
       "      <td>1.52</td>\n",
       "      <td>True</td>\n",
       "      <td>[[2.54041798 0.         0.        ] Hf, [1.020...</td>\n",
       "      <td>-2.253054e-05</td>\n",
       "      <td>HfTeO3</td>\n",
       "      <td>6.033125</td>\n",
       "      <td>6.033125</td>\n",
       "      <td>0.0</td>\n",
       "    </tr>\n",
       "    <tr>\n",
       "      <th>2</th>\n",
       "      <td>0.191139</td>\n",
       "      <td>0.003675</td>\n",
       "      <td>1.48</td>\n",
       "      <td>True</td>\n",
       "      <td>[[0.60790913 0.         0.        ] Re, [2.186...</td>\n",
       "      <td>4.982109e+00</td>\n",
       "      <td>ReAsO2F</td>\n",
       "      <td>6.602253</td>\n",
       "      <td>6.602253</td>\n",
       "      <td>0.0</td>\n",
       "    </tr>\n",
       "    <tr>\n",
       "      <th>3</th>\n",
       "      <td>0.316346</td>\n",
       "      <td>0.001837</td>\n",
       "      <td>1.24</td>\n",
       "      <td>True</td>\n",
       "      <td>[[2.83091357 0.         0.        ] W, [2.6573...</td>\n",
       "      <td>-8.684496e-01</td>\n",
       "      <td>WReO2S</td>\n",
       "      <td>5.738462</td>\n",
       "      <td>5.738462</td>\n",
       "      <td>0.0</td>\n",
       "    </tr>\n",
       "    <tr>\n",
       "      <th>4</th>\n",
       "      <td>0.312658</td>\n",
       "      <td>0.003675</td>\n",
       "      <td>0.62</td>\n",
       "      <td>True</td>\n",
       "      <td>[[0.00518937 0.         0.        ] Bi, [2.172...</td>\n",
       "      <td>2.164069e-15</td>\n",
       "      <td>BiHfO2F</td>\n",
       "      <td>6.074736</td>\n",
       "      <td>6.074736</td>\n",
       "      <td>0.0</td>\n",
       "    </tr>\n",
       "    <tr>\n",
       "      <th>...</th>\n",
       "      <td>...</td>\n",
       "      <td>...</td>\n",
       "      <td>...</td>\n",
       "      <td>...</td>\n",
       "      <td>...</td>\n",
       "      <td>...</td>\n",
       "      <td>...</td>\n",
       "      <td>...</td>\n",
       "      <td>...</td>\n",
       "      <td>...</td>\n",
       "    </tr>\n",
       "    <tr>\n",
       "      <th>18923</th>\n",
       "      <td>0.123028</td>\n",
       "      <td>0.001837</td>\n",
       "      <td>1.66</td>\n",
       "      <td>True</td>\n",
       "      <td>[[4.44077598 0.         0.        ] Rb, [2.652...</td>\n",
       "      <td>1.566419e+00</td>\n",
       "      <td>RbPdO2S</td>\n",
       "      <td>5.164060</td>\n",
       "      <td>5.164060</td>\n",
       "      <td>0.0</td>\n",
       "    </tr>\n",
       "    <tr>\n",
       "      <th>18924</th>\n",
       "      <td>0.081229</td>\n",
       "      <td>0.001837</td>\n",
       "      <td>2.12</td>\n",
       "      <td>True</td>\n",
       "      <td>[[4.56913824e-03 7.21569024e-19 0.00000000e+00...</td>\n",
       "      <td>1.993566e+00</td>\n",
       "      <td>LiBaO2N</td>\n",
       "      <td>5.062501</td>\n",
       "      <td>5.062501</td>\n",
       "      <td>0.0</td>\n",
       "    </tr>\n",
       "    <tr>\n",
       "      <th>18925</th>\n",
       "      <td>0.189810</td>\n",
       "      <td>0.003675</td>\n",
       "      <td>1.50</td>\n",
       "      <td>True</td>\n",
       "      <td>[[0.0040044 0.        0.       ] Zn, [1.821570...</td>\n",
       "      <td>1.599586e+00</td>\n",
       "      <td>ZnBeOFN</td>\n",
       "      <td>6.589724</td>\n",
       "      <td>6.589724</td>\n",
       "      <td>0.0</td>\n",
       "    </tr>\n",
       "    <tr>\n",
       "      <th>18926</th>\n",
       "      <td>0.209947</td>\n",
       "      <td>0.001837</td>\n",
       "      <td>2.48</td>\n",
       "      <td>True</td>\n",
       "      <td>[[0. 0. 0.] Ca, [2.16744896 2.16744896 2.16744...</td>\n",
       "      <td>3.280734e+00</td>\n",
       "      <td>CaTlN3</td>\n",
       "      <td>5.411525</td>\n",
       "      <td>5.411525</td>\n",
       "      <td>0.0</td>\n",
       "    </tr>\n",
       "    <tr>\n",
       "      <th>18927</th>\n",
       "      <td>0.234465</td>\n",
       "      <td>0.001837</td>\n",
       "      <td>1.06</td>\n",
       "      <td>True</td>\n",
       "      <td>[[1.23999712 4.09195837 4.09195837] Al, [2.500...</td>\n",
       "      <td>-3.202471e-01</td>\n",
       "      <td>AlSnO3</td>\n",
       "      <td>5.676383</td>\n",
       "      <td>5.676383</td>\n",
       "      <td>0.0</td>\n",
       "    </tr>\n",
       "  </tbody>\n",
       "</table>\n",
       "<p>18928 rows × 10 columns</p>\n",
       "</div>"
      ],
      "text/plain": [
       "       fermi level  fermi width  e_form  gap is direct  \\\n",
       "0         0.312138     0.001837    2.16           True   \n",
       "1         0.297083     0.001837    1.52           True   \n",
       "2         0.191139     0.003675    1.48           True   \n",
       "3         0.316346     0.001837    1.24           True   \n",
       "4         0.312658     0.003675    0.62           True   \n",
       "...            ...          ...     ...            ...   \n",
       "18923     0.123028     0.001837    1.66           True   \n",
       "18924     0.081229     0.001837    2.12           True   \n",
       "18925     0.189810     0.003675    1.50           True   \n",
       "18926     0.209947     0.001837    2.48           True   \n",
       "18927     0.234465     0.001837    1.06           True   \n",
       "\n",
       "                                               structure          mu_b  \\\n",
       "0      [[0. 0. 0.] Rh, [1.97726555 1.97726555 1.97726...  1.974478e-02   \n",
       "1      [[2.54041798 0.         0.        ] Hf, [1.020... -2.253054e-05   \n",
       "2      [[0.60790913 0.         0.        ] Re, [2.186...  4.982109e+00   \n",
       "3      [[2.83091357 0.         0.        ] W, [2.6573... -8.684496e-01   \n",
       "4      [[0.00518937 0.         0.        ] Bi, [2.172...  2.164069e-15   \n",
       "...                                                  ...           ...   \n",
       "18923  [[4.44077598 0.         0.        ] Rb, [2.652...  1.566419e+00   \n",
       "18924  [[4.56913824e-03 7.21569024e-19 0.00000000e+00...  1.993566e+00   \n",
       "18925  [[0.0040044 0.        0.       ] Zn, [1.821570...  1.599586e+00   \n",
       "18926  [[0. 0. 0.] Ca, [2.16744896 2.16744896 2.16744...  3.280734e+00   \n",
       "18927  [[1.23999712 4.09195837 4.09195837] Al, [2.500... -3.202471e-01   \n",
       "\n",
       "       formula       vbm       cbm  gap gllbsc  \n",
       "0       RhTeN3  6.187694  6.187694         0.0  \n",
       "1       HfTeO3  6.033125  6.033125         0.0  \n",
       "2      ReAsO2F  6.602253  6.602253         0.0  \n",
       "3       WReO2S  5.738462  5.738462         0.0  \n",
       "4      BiHfO2F  6.074736  6.074736         0.0  \n",
       "...        ...       ...       ...         ...  \n",
       "18923  RbPdO2S  5.164060  5.164060         0.0  \n",
       "18924  LiBaO2N  5.062501  5.062501         0.0  \n",
       "18925  ZnBeOFN  6.589724  6.589724         0.0  \n",
       "18926   CaTlN3  5.411525  5.411525         0.0  \n",
       "18927   AlSnO3  5.676383  5.676383         0.0  \n",
       "\n",
       "[18928 rows x 10 columns]"
      ]
     },
     "execution_count": 1,
     "metadata": {},
     "output_type": "execute_result"
    }
   ],
   "source": [
    "from matminer.datasets import load_dataset\n",
    "df = load_dataset('castelli_perovskites', data_home = '.')\n",
    "df"
   ]
  },
  {
   "cell_type": "code",
   "execution_count": 2,
   "id": "9f35336a",
   "metadata": {},
   "outputs": [
    {
     "data": {
      "text/html": [
       "<div>\n",
       "<style scoped>\n",
       "    .dataframe tbody tr th:only-of-type {\n",
       "        vertical-align: middle;\n",
       "    }\n",
       "\n",
       "    .dataframe tbody tr th {\n",
       "        vertical-align: top;\n",
       "    }\n",
       "\n",
       "    .dataframe thead th {\n",
       "        text-align: right;\n",
       "    }\n",
       "</style>\n",
       "<table border=\"1\" class=\"dataframe\">\n",
       "  <thead>\n",
       "    <tr style=\"text-align: right;\">\n",
       "      <th></th>\n",
       "      <th>formula</th>\n",
       "      <th>structure</th>\n",
       "      <th>e_form</th>\n",
       "    </tr>\n",
       "  </thead>\n",
       "  <tbody>\n",
       "    <tr>\n",
       "      <th>0</th>\n",
       "      <td>RhTeN3</td>\n",
       "      <td>[[0. 0. 0.] Rh, [1.97726555 1.97726555 1.97726...</td>\n",
       "      <td>2.16</td>\n",
       "    </tr>\n",
       "    <tr>\n",
       "      <th>1</th>\n",
       "      <td>HfTeO3</td>\n",
       "      <td>[[2.54041798 0.         0.        ] Hf, [1.020...</td>\n",
       "      <td>1.52</td>\n",
       "    </tr>\n",
       "    <tr>\n",
       "      <th>2</th>\n",
       "      <td>ReAsO2F</td>\n",
       "      <td>[[0.60790913 0.         0.        ] Re, [2.186...</td>\n",
       "      <td>1.48</td>\n",
       "    </tr>\n",
       "    <tr>\n",
       "      <th>3</th>\n",
       "      <td>WReO2S</td>\n",
       "      <td>[[2.83091357 0.         0.        ] W, [2.6573...</td>\n",
       "      <td>1.24</td>\n",
       "    </tr>\n",
       "    <tr>\n",
       "      <th>4</th>\n",
       "      <td>BiHfO2F</td>\n",
       "      <td>[[0.00518937 0.         0.        ] Bi, [2.172...</td>\n",
       "      <td>0.62</td>\n",
       "    </tr>\n",
       "    <tr>\n",
       "      <th>...</th>\n",
       "      <td>...</td>\n",
       "      <td>...</td>\n",
       "      <td>...</td>\n",
       "    </tr>\n",
       "    <tr>\n",
       "      <th>18923</th>\n",
       "      <td>RbPdO2S</td>\n",
       "      <td>[[4.44077598 0.         0.        ] Rb, [2.652...</td>\n",
       "      <td>1.66</td>\n",
       "    </tr>\n",
       "    <tr>\n",
       "      <th>18924</th>\n",
       "      <td>LiBaO2N</td>\n",
       "      <td>[[4.56913824e-03 7.21569024e-19 0.00000000e+00...</td>\n",
       "      <td>2.12</td>\n",
       "    </tr>\n",
       "    <tr>\n",
       "      <th>18925</th>\n",
       "      <td>ZnBeOFN</td>\n",
       "      <td>[[0.0040044 0.        0.       ] Zn, [1.821570...</td>\n",
       "      <td>1.50</td>\n",
       "    </tr>\n",
       "    <tr>\n",
       "      <th>18926</th>\n",
       "      <td>CaTlN3</td>\n",
       "      <td>[[0. 0. 0.] Ca, [2.16744896 2.16744896 2.16744...</td>\n",
       "      <td>2.48</td>\n",
       "    </tr>\n",
       "    <tr>\n",
       "      <th>18927</th>\n",
       "      <td>AlSnO3</td>\n",
       "      <td>[[1.23999712 4.09195837 4.09195837] Al, [2.500...</td>\n",
       "      <td>1.06</td>\n",
       "    </tr>\n",
       "  </tbody>\n",
       "</table>\n",
       "<p>18928 rows × 3 columns</p>\n",
       "</div>"
      ],
      "text/plain": [
       "       formula                                          structure  e_form\n",
       "0       RhTeN3  [[0. 0. 0.] Rh, [1.97726555 1.97726555 1.97726...    2.16\n",
       "1       HfTeO3  [[2.54041798 0.         0.        ] Hf, [1.020...    1.52\n",
       "2      ReAsO2F  [[0.60790913 0.         0.        ] Re, [2.186...    1.48\n",
       "3       WReO2S  [[2.83091357 0.         0.        ] W, [2.6573...    1.24\n",
       "4      BiHfO2F  [[0.00518937 0.         0.        ] Bi, [2.172...    0.62\n",
       "...        ...                                                ...     ...\n",
       "18923  RbPdO2S  [[4.44077598 0.         0.        ] Rb, [2.652...    1.66\n",
       "18924  LiBaO2N  [[4.56913824e-03 7.21569024e-19 0.00000000e+00...    2.12\n",
       "18925  ZnBeOFN  [[0.0040044 0.        0.       ] Zn, [1.821570...    1.50\n",
       "18926   CaTlN3  [[0. 0. 0.] Ca, [2.16744896 2.16744896 2.16744...    2.48\n",
       "18927   AlSnO3  [[1.23999712 4.09195837 4.09195837] Al, [2.500...    1.06\n",
       "\n",
       "[18928 rows x 3 columns]"
      ]
     },
     "execution_count": 2,
     "metadata": {},
     "output_type": "execute_result"
    }
   ],
   "source": [
    "df = df[['formula', 'structure', 'e_form']]\n",
    "df"
   ]
  },
  {
   "cell_type": "code",
   "execution_count": 3,
   "id": "6f35a600",
   "metadata": {},
   "outputs": [],
   "source": [
    "from matminer.featurizers.structure.matrix import SineCoulombMatrix"
   ]
  },
  {
   "cell_type": "code",
   "execution_count": 4,
   "id": "cede16ef",
   "metadata": {},
   "outputs": [],
   "source": [
    "scm = SineCoulombMatrix()"
   ]
  },
  {
   "cell_type": "code",
   "execution_count": 5,
   "id": "d97a117a",
   "metadata": {},
   "outputs": [
    {
     "data": {
      "application/vnd.jupyter.widget-view+json": {
       "model_id": "2965a6f525734972856a436e5bb98e9b",
       "version_major": 2,
       "version_minor": 0
      },
      "text/plain": [
       "SineCoulombMatrix:   0%|          | 0/18928 [00:00<?, ?it/s]"
      ]
     },
     "metadata": {},
     "output_type": "display_data"
    },
    {
     "data": {
      "text/html": [
       "<div>\n",
       "<style scoped>\n",
       "    .dataframe tbody tr th:only-of-type {\n",
       "        vertical-align: middle;\n",
       "    }\n",
       "\n",
       "    .dataframe tbody tr th {\n",
       "        vertical-align: top;\n",
       "    }\n",
       "\n",
       "    .dataframe thead th {\n",
       "        text-align: right;\n",
       "    }\n",
       "</style>\n",
       "<table border=\"1\" class=\"dataframe\">\n",
       "  <thead>\n",
       "    <tr style=\"text-align: right;\">\n",
       "      <th></th>\n",
       "      <th>formula</th>\n",
       "      <th>structure</th>\n",
       "      <th>e_form</th>\n",
       "      <th>sine coulomb matrix eig 0</th>\n",
       "      <th>sine coulomb matrix eig 1</th>\n",
       "      <th>sine coulomb matrix eig 2</th>\n",
       "      <th>sine coulomb matrix eig 3</th>\n",
       "      <th>sine coulomb matrix eig 4</th>\n",
       "    </tr>\n",
       "  </thead>\n",
       "  <tbody>\n",
       "    <tr>\n",
       "      <th>0</th>\n",
       "      <td>RhTeN3</td>\n",
       "      <td>[[0. 0. 0.] Rh, [1.97726555 1.97726555 1.97726...</td>\n",
       "      <td>2.16</td>\n",
       "      <td>4625.320870</td>\n",
       "      <td>6585.202097</td>\n",
       "      <td>61.006802</td>\n",
       "      <td>48.722309</td>\n",
       "      <td>48.722309</td>\n",
       "    </tr>\n",
       "    <tr>\n",
       "      <th>1</th>\n",
       "      <td>HfTeO3</td>\n",
       "      <td>[[2.54041798 0.         0.        ] Hf, [1.020...</td>\n",
       "      <td>1.52</td>\n",
       "      <td>14351.888011</td>\n",
       "      <td>6557.781894</td>\n",
       "      <td>84.251230</td>\n",
       "      <td>66.483920</td>\n",
       "      <td>67.933795</td>\n",
       "    </tr>\n",
       "    <tr>\n",
       "      <th>2</th>\n",
       "      <td>ReAsO2F</td>\n",
       "      <td>[[0.60790913 0.         0.        ] Re, [2.186...</td>\n",
       "      <td>1.48</td>\n",
       "      <td>15820.020902</td>\n",
       "      <td>2204.018374</td>\n",
       "      <td>99.520457</td>\n",
       "      <td>75.201486</td>\n",
       "      <td>67.521421</td>\n",
       "    </tr>\n",
       "    <tr>\n",
       "      <th>3</th>\n",
       "      <td>WReO2S</td>\n",
       "      <td>[[2.83091357 0.         0.        ] W, [2.6573...</td>\n",
       "      <td>1.24</td>\n",
       "      <td>16125.298405</td>\n",
       "      <td>15010.096393</td>\n",
       "      <td>386.690949</td>\n",
       "      <td>77.742334</td>\n",
       "      <td>67.292949</td>\n",
       "    </tr>\n",
       "    <tr>\n",
       "      <th>4</th>\n",
       "      <td>BiHfO2F</td>\n",
       "      <td>[[0.00518937 0.         0.        ] Bi, [2.172...</td>\n",
       "      <td>0.62</td>\n",
       "      <td>20204.068544</td>\n",
       "      <td>14310.617564</td>\n",
       "      <td>99.884674</td>\n",
       "      <td>75.088405</td>\n",
       "      <td>67.922798</td>\n",
       "    </tr>\n",
       "    <tr>\n",
       "      <th>...</th>\n",
       "      <td>...</td>\n",
       "      <td>...</td>\n",
       "      <td>...</td>\n",
       "      <td>...</td>\n",
       "      <td>...</td>\n",
       "      <td>...</td>\n",
       "      <td>...</td>\n",
       "      <td>...</td>\n",
       "    </tr>\n",
       "    <tr>\n",
       "      <th>18923</th>\n",
       "      <td>RbPdO2S</td>\n",
       "      <td>[[4.44077598 0.         0.        ] Rb, [2.652...</td>\n",
       "      <td>1.66</td>\n",
       "      <td>4902.783923</td>\n",
       "      <td>2895.759325</td>\n",
       "      <td>386.126549</td>\n",
       "      <td>77.025270</td>\n",
       "      <td>68.225725</td>\n",
       "    </tr>\n",
       "    <tr>\n",
       "      <th>18924</th>\n",
       "      <td>LiBaO2N</td>\n",
       "      <td>[[4.56913824e-03 7.21569024e-19 0.00000000e+00...</td>\n",
       "      <td>2.12</td>\n",
       "      <td>7846.470330</td>\n",
       "      <td>6.824681</td>\n",
       "      <td>79.526624</td>\n",
       "      <td>51.747209</td>\n",
       "      <td>68.318163</td>\n",
       "    </tr>\n",
       "    <tr>\n",
       "      <th>18925</th>\n",
       "      <td>ZnBeOFN</td>\n",
       "      <td>[[0.0040044 0.        0.       ] Zn, [1.821570...</td>\n",
       "      <td>1.50</td>\n",
       "      <td>1755.317245</td>\n",
       "      <td>13.002765</td>\n",
       "      <td>100.675184</td>\n",
       "      <td>51.406032</td>\n",
       "      <td>72.063014</td>\n",
       "    </tr>\n",
       "    <tr>\n",
       "      <th>18926</th>\n",
       "      <td>CaTlN3</td>\n",
       "      <td>[[0. 0. 0.] Ca, [2.16744896 2.16744896 2.16744...</td>\n",
       "      <td>2.48</td>\n",
       "      <td>19026.880421</td>\n",
       "      <td>662.857925</td>\n",
       "      <td>60.381413</td>\n",
       "      <td>49.129131</td>\n",
       "      <td>49.129131</td>\n",
       "    </tr>\n",
       "    <tr>\n",
       "      <th>18927</th>\n",
       "      <td>AlSnO3</td>\n",
       "      <td>[[1.23999712 4.09195837 4.09195837] Al, [2.500...</td>\n",
       "      <td>1.06</td>\n",
       "      <td>5979.058399</td>\n",
       "      <td>237.724504</td>\n",
       "      <td>81.823147</td>\n",
       "      <td>67.223206</td>\n",
       "      <td>67.664370</td>\n",
       "    </tr>\n",
       "  </tbody>\n",
       "</table>\n",
       "<p>18928 rows × 8 columns</p>\n",
       "</div>"
      ],
      "text/plain": [
       "       formula                                          structure  e_form  \\\n",
       "0       RhTeN3  [[0. 0. 0.] Rh, [1.97726555 1.97726555 1.97726...    2.16   \n",
       "1       HfTeO3  [[2.54041798 0.         0.        ] Hf, [1.020...    1.52   \n",
       "2      ReAsO2F  [[0.60790913 0.         0.        ] Re, [2.186...    1.48   \n",
       "3       WReO2S  [[2.83091357 0.         0.        ] W, [2.6573...    1.24   \n",
       "4      BiHfO2F  [[0.00518937 0.         0.        ] Bi, [2.172...    0.62   \n",
       "...        ...                                                ...     ...   \n",
       "18923  RbPdO2S  [[4.44077598 0.         0.        ] Rb, [2.652...    1.66   \n",
       "18924  LiBaO2N  [[4.56913824e-03 7.21569024e-19 0.00000000e+00...    2.12   \n",
       "18925  ZnBeOFN  [[0.0040044 0.        0.       ] Zn, [1.821570...    1.50   \n",
       "18926   CaTlN3  [[0. 0. 0.] Ca, [2.16744896 2.16744896 2.16744...    2.48   \n",
       "18927   AlSnO3  [[1.23999712 4.09195837 4.09195837] Al, [2.500...    1.06   \n",
       "\n",
       "       sine coulomb matrix eig 0  sine coulomb matrix eig 1  \\\n",
       "0                    4625.320870                6585.202097   \n",
       "1                   14351.888011                6557.781894   \n",
       "2                   15820.020902                2204.018374   \n",
       "3                   16125.298405               15010.096393   \n",
       "4                   20204.068544               14310.617564   \n",
       "...                          ...                        ...   \n",
       "18923                4902.783923                2895.759325   \n",
       "18924                7846.470330                   6.824681   \n",
       "18925                1755.317245                  13.002765   \n",
       "18926               19026.880421                 662.857925   \n",
       "18927                5979.058399                 237.724504   \n",
       "\n",
       "       sine coulomb matrix eig 2  sine coulomb matrix eig 3  \\\n",
       "0                      61.006802                  48.722309   \n",
       "1                      84.251230                  66.483920   \n",
       "2                      99.520457                  75.201486   \n",
       "3                     386.690949                  77.742334   \n",
       "4                      99.884674                  75.088405   \n",
       "...                          ...                        ...   \n",
       "18923                 386.126549                  77.025270   \n",
       "18924                  79.526624                  51.747209   \n",
       "18925                 100.675184                  51.406032   \n",
       "18926                  60.381413                  49.129131   \n",
       "18927                  81.823147                  67.223206   \n",
       "\n",
       "       sine coulomb matrix eig 4  \n",
       "0                      48.722309  \n",
       "1                      67.933795  \n",
       "2                      67.521421  \n",
       "3                      67.292949  \n",
       "4                      67.922798  \n",
       "...                          ...  \n",
       "18923                  68.225725  \n",
       "18924                  68.318163  \n",
       "18925                  72.063014  \n",
       "18926                  49.129131  \n",
       "18927                  67.664370  \n",
       "\n",
       "[18928 rows x 8 columns]"
      ]
     },
     "execution_count": 5,
     "metadata": {},
     "output_type": "execute_result"
    }
   ],
   "source": [
    "df2 = scm.fit_featurize_dataframe(df, 'structure')\n",
    "df2"
   ]
  },
  {
   "cell_type": "code",
   "execution_count": 6,
   "id": "51f12564",
   "metadata": {},
   "outputs": [],
   "source": [
    "X = df2.drop(['formula', 'structure', 'e_form'], axis = 1).values\n",
    "y = df2['e_form'].values"
   ]
  },
  {
   "cell_type": "code",
   "execution_count": 7,
   "id": "45db191f",
   "metadata": {},
   "outputs": [],
   "source": [
    "from sklearn.preprocessing import StandardScaler"
   ]
  },
  {
   "cell_type": "code",
   "execution_count": 8,
   "id": "564e9124",
   "metadata": {},
   "outputs": [],
   "source": [
    "ssx = StandardScaler()\n",
    "X_s = ssx.fit_transform(X)"
   ]
  },
  {
   "cell_type": "code",
   "execution_count": 9,
   "id": "4a34c684",
   "metadata": {},
   "outputs": [
    {
     "data": {
      "text/plain": [
       "array([[-0.71459102,  0.93391087, -0.5470184 , -1.27892074, -1.29616634],\n",
       "       [ 0.72555802,  0.92705871, -0.30922293,  0.15250962,  0.8423551 ],\n",
       "       [ 0.94293483, -0.16092369, -0.15301547,  0.85506913,  0.79645183],\n",
       "       ...,\n",
       "       [-1.13953364, -0.70844686, -0.14120236, -1.06263622,  1.30199802],\n",
       "       [ 1.4177535 , -0.54605151, -0.55341626, -1.24613445, -1.25088106],\n",
       "       [-0.51415198, -0.65229009, -0.33406273,  0.21208959,  0.81236415]])"
      ]
     },
     "execution_count": 9,
     "metadata": {},
     "output_type": "execute_result"
    }
   ],
   "source": [
    "X_s"
   ]
  },
  {
   "cell_type": "code",
   "execution_count": 10,
   "id": "9f2d784f",
   "metadata": {},
   "outputs": [],
   "source": [
    "from sklearn.model_selection import train_test_split\n",
    "\n",
    "X_train, X_test, y_train, y_test = train_test_split(X_s, y, random_state = 1)"
   ]
  },
  {
   "cell_type": "markdown",
   "id": "be2cc945",
   "metadata": {},
   "source": [
    "# 15:16继续"
   ]
  },
  {
   "cell_type": "code",
   "execution_count": 11,
   "id": "e6b39218",
   "metadata": {},
   "outputs": [
    {
     "data": {
      "text/plain": [
       "XGBRegressor(base_score=0.5, booster='gbtree', callbacks=None,\n",
       "             colsample_bylevel=1, colsample_bynode=1, colsample_bytree=1,\n",
       "             early_stopping_rounds=None, enable_categorical=False,\n",
       "             eval_metric=None, gamma=0, gpu_id=-1, grow_policy='depthwise',\n",
       "             importance_type=None, interaction_constraints='',\n",
       "             learning_rate=0.300000012, max_bin=256, max_cat_to_onehot=4,\n",
       "             max_delta_step=0, max_depth=6, max_leaves=0, min_child_weight=1,\n",
       "             missing=nan, monotone_constraints='()', n_estimators=100, n_jobs=0,\n",
       "             num_parallel_tree=1, predictor='auto', random_state=0, reg_alpha=0,\n",
       "             reg_lambda=1, ...)"
      ]
     },
     "execution_count": 11,
     "metadata": {},
     "output_type": "execute_result"
    }
   ],
   "source": [
    "from xgboost import XGBRegressor\n",
    "\n",
    "xgb = XGBRegressor(objective = 'reg:squarederror')\n",
    "xgb.fit(X_train, y_train)"
   ]
  },
  {
   "cell_type": "code",
   "execution_count": 12,
   "id": "58f81f7b",
   "metadata": {},
   "outputs": [
    {
     "data": {
      "image/png": "[encoded data removed]",
      "text/plain": [
       "<Figure size 360x360 with 1 Axes>"
      ]
     },
     "metadata": {
      "needs_background": "light"
     },
     "output_type": "display_data"
    }
   ],
   "source": [
    "import matplotlib.pyplot as plt\n",
    "\n",
    "plt.figure(figsize = (5, 5))\n",
    "plt.scatter(y_train, xgb.predict(X_train), s = 1, color = 'b', alpha = 0.5)\n",
    "plt.scatter(y_test, xgb.predict(X_test), s = 1, color = 'r', alpha = 0.5)\n",
    "plt.plot([-1, 6], [-1, 6], 'k--')\n",
    "plt.show()"
   ]
  },
  {
   "cell_type": "code",
   "execution_count": 13,
   "id": "eb75ad1c",
   "metadata": {},
   "outputs": [
    {
     "data": {
      "text/plain": [
       "0.9253101106570809"
      ]
     },
     "execution_count": 13,
     "metadata": {},
     "output_type": "execute_result"
    }
   ],
   "source": [
    "xgb.score(X_train, y_train)"
   ]
  },
  {
   "cell_type": "code",
   "execution_count": 14,
   "id": "611409dd",
   "metadata": {},
   "outputs": [
    {
     "data": {
      "text/plain": [
       "0.8166458552280731"
      ]
     },
     "execution_count": 14,
     "metadata": {},
     "output_type": "execute_result"
    }
   ],
   "source": [
    "xgb.score(X_test, y_test)"
   ]
  },
  {
   "cell_type": "code",
   "execution_count": 15,
   "id": "75882849",
   "metadata": {},
   "outputs": [],
   "source": [
    "xgb2 = XGBRegressor(objective = 'reg:squarederror')"
   ]
  },
  {
   "cell_type": "code",
   "execution_count": 16,
   "id": "6cce66f5",
   "metadata": {},
   "outputs": [],
   "source": [
    "from sklearn.model_selection import cross_val_score"
   ]
  },
  {
   "cell_type": "code",
   "execution_count": 18,
   "id": "3b7a6f90",
   "metadata": {},
   "outputs": [
    {
     "name": "stdout",
     "output_type": "stream",
     "text": [
      "Cross-validation results:\n",
      "Folds: 5, mean R2: 0.828\n"
     ]
    }
   ],
   "source": [
    "scores_r2 = cross_val_score(xgb2, X, y, scoring = 'r2', cv = 5)\n",
    "\n",
    "print('Cross-validation results:')\n",
    "print('Folds: %i, mean R2: %.3f' % (len(scores_r2), scores_r2.mean()))"
   ]
  },
  {
   "cell_type": "code",
   "execution_count": 26,
   "id": "cd231e27",
   "metadata": {},
   "outputs": [],
   "source": [
    "from sklearn.decomposition import PCA"
   ]
  },
  {
   "cell_type": "code",
   "execution_count": 27,
   "id": "26395045",
   "metadata": {},
   "outputs": [],
   "source": [
    "pca = PCA(n_components = 3)\n",
    "X_p = pca.fit_transform(X)"
   ]
  },
  {
   "cell_type": "code",
   "execution_count": 28,
   "id": "f9dc17ee",
   "metadata": {},
   "outputs": [
    {
     "data": {
      "text/plain": [
       "array([[-3.42190577e+03,  5.05467425e+03, -5.74020717e+01],\n",
       "       [ 5.81213094e+03,  1.99859546e+03, -3.67736386e+01],\n",
       "       [ 5.85092634e+03, -2.59585612e+03, -1.60205994e+01],\n",
       "       ...,\n",
       "       [-8.19644697e+03, -2.96363548e+02, -7.11716178e+00],\n",
       "       [ 8.41806900e+03, -5.05937910e+03, -5.65133936e+01],\n",
       "       [-4.11289434e+03, -1.39863728e+03, -2.72999118e+01]])"
      ]
     },
     "execution_count": 28,
     "metadata": {},
     "output_type": "execute_result"
    }
   ],
   "source": [
    "X_p"
   ]
  },
  {
   "cell_type": "code",
   "execution_count": 29,
   "id": "d95c539c",
   "metadata": {},
   "outputs": [],
   "source": [
    "ssx2 = StandardScaler()\n",
    "X_ps = ssx2.fit_transform(X_p)"
   ]
  },
  {
   "cell_type": "code",
   "execution_count": 30,
   "id": "ad551230",
   "metadata": {},
   "outputs": [],
   "source": [
    "X_trainp, X_testp, y_trainp, y_testp = train_test_split(X_ps, y, random_state = 1)"
   ]
  },
  {
   "cell_type": "code",
   "execution_count": 31,
   "id": "ac6aa6bb",
   "metadata": {},
   "outputs": [
    {
     "data": {
      "text/plain": [
       "XGBRegressor(base_score=0.5, booster='gbtree', callbacks=None,\n",
       "             colsample_bylevel=1, colsample_bynode=1, colsample_bytree=1,\n",
       "             early_stopping_rounds=None, enable_categorical=False,\n",
       "             eval_metric=None, gamma=0, gpu_id=-1, grow_policy='depthwise',\n",
       "             importance_type=None, interaction_constraints='',\n",
       "             learning_rate=0.300000012, max_bin=256, max_cat_to_onehot=4,\n",
       "             max_delta_step=0, max_depth=6, max_leaves=0, min_child_weight=1,\n",
       "             missing=nan, monotone_constraints='()', n_estimators=100, n_jobs=0,\n",
       "             num_parallel_tree=1, predictor='auto', random_state=0, reg_alpha=0,\n",
       "             reg_lambda=1, ...)"
      ]
     },
     "execution_count": 31,
     "metadata": {},
     "output_type": "execute_result"
    }
   ],
   "source": [
    "from xgboost import XGBRegressor\n",
    "\n",
    "xgb3 = XGBRegressor(objective = 'reg:squarederror')\n",
    "xgb3.fit(X_trainp, y_trainp)"
   ]
  },
  {
   "cell_type": "code",
   "execution_count": 32,
   "id": "890134d8",
   "metadata": {},
   "outputs": [
    {
     "data": {
      "image/png": "[encoded data removed]",
      "text/plain": [
       "<Figure size 360x360 with 1 Axes>"
      ]
     },
     "metadata": {
      "needs_background": "light"
     },
     "output_type": "display_data"
    }
   ],
   "source": [
    "import matplotlib.pyplot as plt\n",
    "\n",
    "plt.figure(figsize = (5, 5))\n",
    "plt.scatter(y_trainp, xgb3.predict(X_trainp), s = 1, color = 'b', alpha = 0.5)\n",
    "plt.scatter(y_testp, xgb3.predict(X_testp), s = 1, color = 'r', alpha = 0.5)\n",
    "plt.plot([-1, 6], [-1, 6], 'k--')\n",
    "plt.show()"
   ]
  },
  {
   "cell_type": "code",
   "execution_count": 33,
   "id": "1e753f3f",
   "metadata": {},
   "outputs": [
    {
     "data": {
      "text/plain": [
       "0.6704535174119586"
      ]
     },
     "execution_count": 33,
     "metadata": {},
     "output_type": "execute_result"
    }
   ],
   "source": [
    "xgb3.score(X_trainp, y_trainp)"
   ]
  },
  {
   "cell_type": "code",
   "execution_count": 34,
   "id": "6f1b4e45",
   "metadata": {},
   "outputs": [
    {
     "data": {
      "text/plain": [
       "0.463052724928566"
      ]
     },
     "execution_count": 34,
     "metadata": {},
     "output_type": "execute_result"
    }
   ],
   "source": [
    "xgb3.score(X_testp, y_testp)"
   ]
  },
  {
   "cell_type": "markdown",
   "id": "c02e722c",
   "metadata": {},
   "source": [
    "# 16:02继续"
   ]
  },
  {
   "cell_type": "code",
   "execution_count": null,
   "id": "f972d140",
   "metadata": {},
   "outputs": [],
   "source": []
  }
 ],
 "metadata": {
  "kernelspec": {
   "display_name": "Python 3",
   "language": "python",
   "name": "python3"
  },
  "language_info": {
   "codemirror_mode": {
    "name": "ipython",
    "version": 3
   },
   "file_extension": ".py",
   "mimetype": "text/x-python",
   "name": "python",
   "nbconvert_exporter": "python",
   "pygments_lexer": "ipython3",
   "version": "3.8.8"
  }
 },
 "nbformat": 4,
 "nbformat_minor": 5
}
