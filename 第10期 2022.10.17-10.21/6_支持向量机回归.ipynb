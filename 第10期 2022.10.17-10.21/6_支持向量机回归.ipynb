{
 "cells": [
  {
   "cell_type": "code",
   "execution_count": 1,
   "id": "de090db4",
   "metadata": {},
   "outputs": [],
   "source": [
    "import pandas as pd"
   ]
  },
  {
   "cell_type": "code",
   "execution_count": 2,
   "id": "c79ace7b",
   "metadata": {},
   "outputs": [
    {
     "data": {
      "text/html": [
       "<div>\n",
       "<style scoped>\n",
       "    .dataframe tbody tr th:only-of-type {\n",
       "        vertical-align: middle;\n",
       "    }\n",
       "\n",
       "    .dataframe tbody tr th {\n",
       "        vertical-align: top;\n",
       "    }\n",
       "\n",
       "    .dataframe thead th {\n",
       "        text-align: right;\n",
       "    }\n",
       "</style>\n",
       "<table border=\"1\" class=\"dataframe\">\n",
       "  <thead>\n",
       "    <tr style=\"text-align: right;\">\n",
       "      <th></th>\n",
       "      <th>atom</th>\n",
       "      <th>GH</th>\n",
       "      <th>rcov</th>\n",
       "      <th>rd</th>\n",
       "      <th>Ef</th>\n",
       "      <th>IE</th>\n",
       "      <th>EN</th>\n",
       "      <th>epsilon_d</th>\n",
       "      <th>n</th>\n",
       "      <th>q</th>\n",
       "      <th>d_occ</th>\n",
       "      <th>d_unocc</th>\n",
       "    </tr>\n",
       "  </thead>\n",
       "  <tbody>\n",
       "    <tr>\n",
       "      <th>0</th>\n",
       "      <td>Sc</td>\n",
       "      <td>-0.190</td>\n",
       "      <td>1.70</td>\n",
       "      <td>0.310</td>\n",
       "      <td>-8.282</td>\n",
       "      <td>6.561</td>\n",
       "      <td>1.36</td>\n",
       "      <td>1.064</td>\n",
       "      <td>3</td>\n",
       "      <td>1.640</td>\n",
       "      <td>0.85</td>\n",
       "      <td>4.17</td>\n",
       "    </tr>\n",
       "    <tr>\n",
       "      <th>1</th>\n",
       "      <td>Ti</td>\n",
       "      <td>-0.500</td>\n",
       "      <td>1.60</td>\n",
       "      <td>0.280</td>\n",
       "      <td>-8.326</td>\n",
       "      <td>6.827</td>\n",
       "      <td>1.54</td>\n",
       "      <td>0.998</td>\n",
       "      <td>4</td>\n",
       "      <td>1.404</td>\n",
       "      <td>0.83</td>\n",
       "      <td>3.58</td>\n",
       "    </tr>\n",
       "    <tr>\n",
       "      <th>2</th>\n",
       "      <td>V</td>\n",
       "      <td>-0.270</td>\n",
       "      <td>1.53</td>\n",
       "      <td>0.260</td>\n",
       "      <td>-7.494</td>\n",
       "      <td>6.746</td>\n",
       "      <td>1.63</td>\n",
       "      <td>1.316</td>\n",
       "      <td>5</td>\n",
       "      <td>1.341</td>\n",
       "      <td>1.22</td>\n",
       "      <td>2.57</td>\n",
       "    </tr>\n",
       "    <tr>\n",
       "      <th>3</th>\n",
       "      <td>Cr</td>\n",
       "      <td>0.310</td>\n",
       "      <td>1.39</td>\n",
       "      <td>0.250</td>\n",
       "      <td>-6.604</td>\n",
       "      <td>6.766</td>\n",
       "      <td>1.66</td>\n",
       "      <td>0.944</td>\n",
       "      <td>6</td>\n",
       "      <td>1.263</td>\n",
       "      <td>2.36</td>\n",
       "      <td>0.98</td>\n",
       "    </tr>\n",
       "    <tr>\n",
       "      <th>4</th>\n",
       "      <td>Mn</td>\n",
       "      <td>0.430</td>\n",
       "      <td>1.39</td>\n",
       "      <td>0.230</td>\n",
       "      <td>-6.520</td>\n",
       "      <td>7.434</td>\n",
       "      <td>1.55</td>\n",
       "      <td>-0.513</td>\n",
       "      <td>7</td>\n",
       "      <td>1.279</td>\n",
       "      <td>1.33</td>\n",
       "      <td>2.46</td>\n",
       "    </tr>\n",
       "    <tr>\n",
       "      <th>...</th>\n",
       "      <td>...</td>\n",
       "      <td>...</td>\n",
       "      <td>...</td>\n",
       "      <td>...</td>\n",
       "      <td>...</td>\n",
       "      <td>...</td>\n",
       "      <td>...</td>\n",
       "      <td>...</td>\n",
       "      <td>...</td>\n",
       "      <td>...</td>\n",
       "      <td>...</td>\n",
       "      <td>...</td>\n",
       "    </tr>\n",
       "    <tr>\n",
       "      <th>94</th>\n",
       "      <td>Ag</td>\n",
       "      <td>2.048</td>\n",
       "      <td>1.45</td>\n",
       "      <td>0.385</td>\n",
       "      <td>-3.331</td>\n",
       "      <td>7.576</td>\n",
       "      <td>1.93</td>\n",
       "      <td>-4.020</td>\n",
       "      <td>11</td>\n",
       "      <td>0.773</td>\n",
       "      <td>0.03</td>\n",
       "      <td>0.45</td>\n",
       "    </tr>\n",
       "    <tr>\n",
       "      <th>95</th>\n",
       "      <td>Cd</td>\n",
       "      <td>0.245</td>\n",
       "      <td>1.44</td>\n",
       "      <td>0.370</td>\n",
       "      <td>-2.291</td>\n",
       "      <td>8.994</td>\n",
       "      <td>1.69</td>\n",
       "      <td>-2.120</td>\n",
       "      <td>12</td>\n",
       "      <td>1.069</td>\n",
       "      <td>0.43</td>\n",
       "      <td>0.01</td>\n",
       "    </tr>\n",
       "    <tr>\n",
       "      <th>96</th>\n",
       "      <td>Hf</td>\n",
       "      <td>-1.127</td>\n",
       "      <td>1.75</td>\n",
       "      <td>0.630</td>\n",
       "      <td>-9.987</td>\n",
       "      <td>6.824</td>\n",
       "      <td>1.30</td>\n",
       "      <td>0.453</td>\n",
       "      <td>4</td>\n",
       "      <td>1.571</td>\n",
       "      <td>0.54</td>\n",
       "      <td>2.16</td>\n",
       "    </tr>\n",
       "    <tr>\n",
       "      <th>97</th>\n",
       "      <td>Ta</td>\n",
       "      <td>-1.092</td>\n",
       "      <td>1.70</td>\n",
       "      <td>0.605</td>\n",
       "      <td>-9.573</td>\n",
       "      <td>7.887</td>\n",
       "      <td>1.50</td>\n",
       "      <td>0.120</td>\n",
       "      <td>5</td>\n",
       "      <td>1.605</td>\n",
       "      <td>1.01</td>\n",
       "      <td>1.94</td>\n",
       "    </tr>\n",
       "    <tr>\n",
       "      <th>98</th>\n",
       "      <td>W</td>\n",
       "      <td>-0.951</td>\n",
       "      <td>1.62</td>\n",
       "      <td>0.590</td>\n",
       "      <td>-8.916</td>\n",
       "      <td>7.980</td>\n",
       "      <td>2.36</td>\n",
       "      <td>0.061</td>\n",
       "      <td>6</td>\n",
       "      <td>1.483</td>\n",
       "      <td>2.00</td>\n",
       "      <td>2.25</td>\n",
       "    </tr>\n",
       "  </tbody>\n",
       "</table>\n",
       "<p>99 rows × 12 columns</p>\n",
       "</div>"
      ],
      "text/plain": [
       "   atom     GH  rcov     rd     Ef     IE    EN  epsilon_d   n      q  d_occ  \\\n",
       "0    Sc -0.190  1.70  0.310 -8.282  6.561  1.36      1.064   3  1.640   0.85   \n",
       "1    Ti -0.500  1.60  0.280 -8.326  6.827  1.54      0.998   4  1.404   0.83   \n",
       "2     V -0.270  1.53  0.260 -7.494  6.746  1.63      1.316   5  1.341   1.22   \n",
       "3    Cr  0.310  1.39  0.250 -6.604  6.766  1.66      0.944   6  1.263   2.36   \n",
       "4    Mn  0.430  1.39  0.230 -6.520  7.434  1.55     -0.513   7  1.279   1.33   \n",
       "..  ...    ...   ...    ...    ...    ...   ...        ...  ..    ...    ...   \n",
       "94   Ag  2.048  1.45  0.385 -3.331  7.576  1.93     -4.020  11  0.773   0.03   \n",
       "95   Cd  0.245  1.44  0.370 -2.291  8.994  1.69     -2.120  12  1.069   0.43   \n",
       "96   Hf -1.127  1.75  0.630 -9.987  6.824  1.30      0.453   4  1.571   0.54   \n",
       "97   Ta -1.092  1.70  0.605 -9.573  7.887  1.50      0.120   5  1.605   1.01   \n",
       "98    W -0.951  1.62  0.590 -8.916  7.980  2.36      0.061   6  1.483   2.00   \n",
       "\n",
       "    d_unocc  \n",
       "0      4.17  \n",
       "1      3.58  \n",
       "2      2.57  \n",
       "3      0.98  \n",
       "4      2.46  \n",
       "..      ...  \n",
       "94     0.45  \n",
       "95     0.01  \n",
       "96     2.16  \n",
       "97     1.94  \n",
       "98     2.25  \n",
       "\n",
       "[99 rows x 12 columns]"
      ]
     },
     "execution_count": 2,
     "metadata": {},
     "output_type": "execute_result"
    }
   ],
   "source": [
    "df = pd.read_csv('HER.csv')\n",
    "df"
   ]
  },
  {
   "cell_type": "code",
   "execution_count": 3,
   "id": "54716a70",
   "metadata": {},
   "outputs": [],
   "source": [
    "y = df['GH'].values\n",
    "X = df.drop(['atom', 'GH'], axis = 'columns').values"
   ]
  },
  {
   "cell_type": "code",
   "execution_count": 4,
   "id": "7f91ae88",
   "metadata": {},
   "outputs": [
    {
     "data": {
      "text/plain": [
       "((99, 10), (99,))"
      ]
     },
     "execution_count": 4,
     "metadata": {},
     "output_type": "execute_result"
    }
   ],
   "source": [
    "X.shape, y.shape"
   ]
  },
  {
   "cell_type": "code",
   "execution_count": 6,
   "id": "bef1b6d7",
   "metadata": {},
   "outputs": [],
   "source": [
    "from sklearn.preprocessing import MinMaxScaler\n",
    "\n",
    "nms = MinMaxScaler()\n",
    "X = nms.fit_transform(X)"
   ]
  },
  {
   "cell_type": "code",
   "execution_count": 8,
   "id": "08be52c0",
   "metadata": {},
   "outputs": [],
   "source": [
    "from sklearn.utils import shuffle\n",
    "\n",
    "X_r, y_r = shuffle(X, y)\n",
    "X_train, y_train = X_r[:-20, :], y_r[:-20]\n",
    "X_test, y_test = X_r[-20:, :], y_r[-20:]"
   ]
  },
  {
   "cell_type": "code",
   "execution_count": 9,
   "id": "e5a66a97",
   "metadata": {},
   "outputs": [
    {
     "data": {
      "text/plain": [
       "SVR()"
      ]
     },
     "execution_count": 9,
     "metadata": {},
     "output_type": "execute_result"
    }
   ],
   "source": [
    "from sklearn.svm import SVR\n",
    "\n",
    "svr = SVR()\n",
    "svr.fit(X_train, y_train)"
   ]
  },
  {
   "cell_type": "code",
   "execution_count": 13,
   "id": "b6b37d40",
   "metadata": {},
   "outputs": [
    {
     "data": {
      "image/png": "[encoded data removed]",
      "text/plain": [
       "<Figure size 288x288 with 1 Axes>"
      ]
     },
     "metadata": {
      "needs_background": "light"
     },
     "output_type": "display_data"
    }
   ],
   "source": [
    "import matplotlib.pyplot as plt\n",
    "\n",
    "plt.figure(figsize = (4, 4))\n",
    "plt.scatter(y_train, svr.predict(X_train), alpha = 0.7, s = 80,\n",
    "            edgecolor = 'k', label = 'training')\n",
    "plt.scatter(y_test, svr.predict(X_test), alpha = 0.7, s = 80,\n",
    "           color = 'yellow', marker = '^', edgecolor = 'k', label = 'test')\n",
    "plt.plot([-1.7, 2.5], [-1.7, 2.5], 'r--')\n",
    "plt.legend()\n",
    "plt.xlabel('DFT')\n",
    "plt.ylabel('prediction')\n",
    "plt.show()"
   ]
  },
  {
   "cell_type": "code",
   "execution_count": 14,
   "id": "39dd57e5",
   "metadata": {},
   "outputs": [
    {
     "name": "stdout",
     "output_type": "stream",
     "text": [
      "Cross-validation results:\n",
      "Folds: 5, mean R2: 0.905\n",
      "Folds: 5, mean RMSE: 0.309\n"
     ]
    }
   ],
   "source": [
    "from sklearn.model_selection import cross_val_score\n",
    "\n",
    "r2_scores_svr = cross_val_score(svr, X_r, y_r, scoring = 'r2', cv = 5)\n",
    "rmse_scores_svr = cross_val_score(svr, X_r, y_r,\n",
    "                                  scoring = 'neg_root_mean_squared_error',\n",
    "                                  cv = 5)\n",
    "print('Cross-validation results:')\n",
    "print('Folds: %i, mean R2: %.3f' % (len(r2_scores_svr), r2_scores_svr.mean()))\n",
    "print('Folds: %i, mean RMSE: %.3f' % (len(rmse_scores_svr), -rmse_scores_svr.mean()))"
   ]
  },
  {
   "cell_type": "markdown",
   "id": "cf733662",
   "metadata": {},
   "source": [
    "## 11:18继续"
   ]
  },
  {
   "cell_type": "code",
   "execution_count": null,
   "id": "2ba5c1ec",
   "metadata": {},
   "outputs": [],
   "source": []
  }
 ],
 "metadata": {
  "kernelspec": {
   "display_name": "Python 3",
   "language": "python",
   "name": "python3"
  },
  "language_info": {
   "codemirror_mode": {
    "name": "ipython",
    "version": 3
   },
   "file_extension": ".py",
   "mimetype": "text/x-python",
   "name": "python",
   "nbconvert_exporter": "python",
   "pygments_lexer": "ipython3",
   "version": "3.8.8"
  }
 },
 "nbformat": 4,
 "nbformat_minor": 5
}
