{
 "cells": [
  {
   "cell_type": "code",
   "execution_count": 2,
   "id": "fbf8f85f",
   "metadata": {},
   "outputs": [
    {
     "data": {
      "text/html": [
       "<div>\n",
       "<style scoped>\n",
       "    .dataframe tbody tr th:only-of-type {\n",
       "        vertical-align: middle;\n",
       "    }\n",
       "\n",
       "    .dataframe tbody tr th {\n",
       "        vertical-align: top;\n",
       "    }\n",
       "\n",
       "    .dataframe thead th {\n",
       "        text-align: right;\n",
       "    }\n",
       "</style>\n",
       "<table border=\"1\" class=\"dataframe\">\n",
       "  <thead>\n",
       "    <tr style=\"text-align: right;\">\n",
       "      <th></th>\n",
       "      <th>formula</th>\n",
       "      <th>c</th>\n",
       "      <th>mn</th>\n",
       "      <th>si</th>\n",
       "      <th>cr</th>\n",
       "      <th>ni</th>\n",
       "      <th>mo</th>\n",
       "      <th>v</th>\n",
       "      <th>n</th>\n",
       "      <th>nb</th>\n",
       "      <th>co</th>\n",
       "      <th>w</th>\n",
       "      <th>al</th>\n",
       "      <th>ti</th>\n",
       "      <th>yield strength</th>\n",
       "      <th>tensile strength</th>\n",
       "      <th>elongation</th>\n",
       "    </tr>\n",
       "  </thead>\n",
       "  <tbody>\n",
       "    <tr>\n",
       "      <th>0</th>\n",
       "      <td>Fe0.620C0.000953Mn0.000521Si0.00102Cr0.000110N...</td>\n",
       "      <td>0.02</td>\n",
       "      <td>0.05</td>\n",
       "      <td>0.05</td>\n",
       "      <td>0.01</td>\n",
       "      <td>19.70</td>\n",
       "      <td>2.95</td>\n",
       "      <td>0.01</td>\n",
       "      <td>0.00</td>\n",
       "      <td>0.01</td>\n",
       "      <td>15.00</td>\n",
       "      <td>0.00</td>\n",
       "      <td>0.15</td>\n",
       "      <td>1.55</td>\n",
       "      <td>2411.5</td>\n",
       "      <td>2473.5</td>\n",
       "      <td>7.0</td>\n",
       "    </tr>\n",
       "    <tr>\n",
       "      <th>1</th>\n",
       "      <td>Fe0.623C0.00854Mn0.000104Si0.000203Cr0.147Ni0....</td>\n",
       "      <td>0.18</td>\n",
       "      <td>0.01</td>\n",
       "      <td>0.01</td>\n",
       "      <td>13.44</td>\n",
       "      <td>0.01</td>\n",
       "      <td>3.01</td>\n",
       "      <td>0.46</td>\n",
       "      <td>0.04</td>\n",
       "      <td>0.01</td>\n",
       "      <td>19.46</td>\n",
       "      <td>2.35</td>\n",
       "      <td>0.04</td>\n",
       "      <td>0.00</td>\n",
       "      <td>1123.1</td>\n",
       "      <td>1929.2</td>\n",
       "      <td>8.0</td>\n",
       "    </tr>\n",
       "    <tr>\n",
       "      <th>2</th>\n",
       "      <td>Fe0.625Mn0.000102Si0.000200Cr0.0936Ni0.129Mo0....</td>\n",
       "      <td>0.00</td>\n",
       "      <td>0.01</td>\n",
       "      <td>0.01</td>\n",
       "      <td>8.67</td>\n",
       "      <td>13.45</td>\n",
       "      <td>0.82</td>\n",
       "      <td>0.01</td>\n",
       "      <td>0.00</td>\n",
       "      <td>0.01</td>\n",
       "      <td>13.90</td>\n",
       "      <td>0.00</td>\n",
       "      <td>0.39</td>\n",
       "      <td>0.57</td>\n",
       "      <td>1736.3</td>\n",
       "      <td>1871.8</td>\n",
       "      <td>NaN</td>\n",
       "    </tr>\n",
       "    <tr>\n",
       "      <th>3</th>\n",
       "      <td>Fe0.634C0.000478Mn0.000523Si0.00102Cr0.000111N...</td>\n",
       "      <td>0.01</td>\n",
       "      <td>0.05</td>\n",
       "      <td>0.05</td>\n",
       "      <td>0.01</td>\n",
       "      <td>17.70</td>\n",
       "      <td>3.95</td>\n",
       "      <td>0.01</td>\n",
       "      <td>0.00</td>\n",
       "      <td>0.01</td>\n",
       "      <td>15.00</td>\n",
       "      <td>0.00</td>\n",
       "      <td>0.13</td>\n",
       "      <td>1.47</td>\n",
       "      <td>2487.3</td>\n",
       "      <td>2514.9</td>\n",
       "      <td>9.0</td>\n",
       "    </tr>\n",
       "    <tr>\n",
       "      <th>4</th>\n",
       "      <td>Fe0.636C0.000474Mn0.000518Si0.00101Cr0.000109N...</td>\n",
       "      <td>0.01</td>\n",
       "      <td>0.05</td>\n",
       "      <td>0.05</td>\n",
       "      <td>0.01</td>\n",
       "      <td>19.40</td>\n",
       "      <td>1.45</td>\n",
       "      <td>0.01</td>\n",
       "      <td>0.00</td>\n",
       "      <td>0.01</td>\n",
       "      <td>14.90</td>\n",
       "      <td>0.00</td>\n",
       "      <td>0.13</td>\n",
       "      <td>1.55</td>\n",
       "      <td>2249.6</td>\n",
       "      <td>2315.0</td>\n",
       "      <td>8.5</td>\n",
       "    </tr>\n",
       "    <tr>\n",
       "      <th>...</th>\n",
       "      <td>...</td>\n",
       "      <td>...</td>\n",
       "      <td>...</td>\n",
       "      <td>...</td>\n",
       "      <td>...</td>\n",
       "      <td>...</td>\n",
       "      <td>...</td>\n",
       "      <td>...</td>\n",
       "      <td>...</td>\n",
       "      <td>...</td>\n",
       "      <td>...</td>\n",
       "      <td>...</td>\n",
       "      <td>...</td>\n",
       "      <td>...</td>\n",
       "      <td>...</td>\n",
       "      <td>...</td>\n",
       "      <td>...</td>\n",
       "    </tr>\n",
       "    <tr>\n",
       "      <th>307</th>\n",
       "      <td>Fe0.823C0.0176Mn0.00183Si0.000198Cr0.0779Ni0.0...</td>\n",
       "      <td>0.38</td>\n",
       "      <td>0.18</td>\n",
       "      <td>0.01</td>\n",
       "      <td>7.27</td>\n",
       "      <td>0.01</td>\n",
       "      <td>3.77</td>\n",
       "      <td>0.96</td>\n",
       "      <td>0.00</td>\n",
       "      <td>0.01</td>\n",
       "      <td>4.90</td>\n",
       "      <td>0.00</td>\n",
       "      <td>0.03</td>\n",
       "      <td>0.00</td>\n",
       "      <td>1722.5</td>\n",
       "      <td>1998.1</td>\n",
       "      <td>5.0</td>\n",
       "    </tr>\n",
       "    <tr>\n",
       "      <th>308</th>\n",
       "      <td>Fe0.823Mn0.000618Si0.00101Cr0.0561Ni0.0984Mo0....</td>\n",
       "      <td>0.00</td>\n",
       "      <td>0.06</td>\n",
       "      <td>0.05</td>\n",
       "      <td>5.15</td>\n",
       "      <td>10.20</td>\n",
       "      <td>3.20</td>\n",
       "      <td>0.01</td>\n",
       "      <td>0.00</td>\n",
       "      <td>0.01</td>\n",
       "      <td>0.01</td>\n",
       "      <td>0.00</td>\n",
       "      <td>0.03</td>\n",
       "      <td>0.09</td>\n",
       "      <td>1019.0</td>\n",
       "      <td>1019.0</td>\n",
       "      <td>19.0</td>\n",
       "    </tr>\n",
       "    <tr>\n",
       "      <th>309</th>\n",
       "      <td>Fe0.825C0.0174Mn0.00175Si0.000201Cr0.0565Ni0.0...</td>\n",
       "      <td>0.37</td>\n",
       "      <td>0.17</td>\n",
       "      <td>0.01</td>\n",
       "      <td>5.20</td>\n",
       "      <td>0.01</td>\n",
       "      <td>5.84</td>\n",
       "      <td>1.05</td>\n",
       "      <td>0.00</td>\n",
       "      <td>0.91</td>\n",
       "      <td>4.88</td>\n",
       "      <td>0.00</td>\n",
       "      <td>0.03</td>\n",
       "      <td>0.00</td>\n",
       "      <td>1860.3</td>\n",
       "      <td>2156.6</td>\n",
       "      <td>3.0</td>\n",
       "    </tr>\n",
       "    <tr>\n",
       "      <th>310</th>\n",
       "      <td>Fe0.858C0.0191Mn0.00194Si0.000199Cr0.0753Ni0.0...</td>\n",
       "      <td>0.41</td>\n",
       "      <td>0.19</td>\n",
       "      <td>0.01</td>\n",
       "      <td>6.99</td>\n",
       "      <td>0.01</td>\n",
       "      <td>5.84</td>\n",
       "      <td>0.92</td>\n",
       "      <td>0.00</td>\n",
       "      <td>0.01</td>\n",
       "      <td>0.02</td>\n",
       "      <td>0.00</td>\n",
       "      <td>0.03</td>\n",
       "      <td>0.00</td>\n",
       "      <td>1812.1</td>\n",
       "      <td>2087.7</td>\n",
       "      <td>2.0</td>\n",
       "    </tr>\n",
       "    <tr>\n",
       "      <th>311</th>\n",
       "      <td>Fe0.860C0.0125Mn0.00274Si0.000198Cr0.00439Ni0....</td>\n",
       "      <td>0.27</td>\n",
       "      <td>0.27</td>\n",
       "      <td>0.01</td>\n",
       "      <td>0.41</td>\n",
       "      <td>8.28</td>\n",
       "      <td>0.49</td>\n",
       "      <td>0.07</td>\n",
       "      <td>0.00</td>\n",
       "      <td>0.01</td>\n",
       "      <td>3.90</td>\n",
       "      <td>0.00</td>\n",
       "      <td>0.03</td>\n",
       "      <td>0.00</td>\n",
       "      <td>1139.7</td>\n",
       "      <td>1236.3</td>\n",
       "      <td>15.4</td>\n",
       "    </tr>\n",
       "  </tbody>\n",
       "</table>\n",
       "<p>312 rows × 17 columns</p>\n",
       "</div>"
      ],
      "text/plain": [
       "                                               formula     c    mn    si  \\\n",
       "0    Fe0.620C0.000953Mn0.000521Si0.00102Cr0.000110N...  0.02  0.05  0.05   \n",
       "1    Fe0.623C0.00854Mn0.000104Si0.000203Cr0.147Ni0....  0.18  0.01  0.01   \n",
       "2    Fe0.625Mn0.000102Si0.000200Cr0.0936Ni0.129Mo0....  0.00  0.01  0.01   \n",
       "3    Fe0.634C0.000478Mn0.000523Si0.00102Cr0.000111N...  0.01  0.05  0.05   \n",
       "4    Fe0.636C0.000474Mn0.000518Si0.00101Cr0.000109N...  0.01  0.05  0.05   \n",
       "..                                                 ...   ...   ...   ...   \n",
       "307  Fe0.823C0.0176Mn0.00183Si0.000198Cr0.0779Ni0.0...  0.38  0.18  0.01   \n",
       "308  Fe0.823Mn0.000618Si0.00101Cr0.0561Ni0.0984Mo0....  0.00  0.06  0.05   \n",
       "309  Fe0.825C0.0174Mn0.00175Si0.000201Cr0.0565Ni0.0...  0.37  0.17  0.01   \n",
       "310  Fe0.858C0.0191Mn0.00194Si0.000199Cr0.0753Ni0.0...  0.41  0.19  0.01   \n",
       "311  Fe0.860C0.0125Mn0.00274Si0.000198Cr0.00439Ni0....  0.27  0.27  0.01   \n",
       "\n",
       "        cr     ni    mo     v     n    nb     co     w    al    ti  \\\n",
       "0     0.01  19.70  2.95  0.01  0.00  0.01  15.00  0.00  0.15  1.55   \n",
       "1    13.44   0.01  3.01  0.46  0.04  0.01  19.46  2.35  0.04  0.00   \n",
       "2     8.67  13.45  0.82  0.01  0.00  0.01  13.90  0.00  0.39  0.57   \n",
       "3     0.01  17.70  3.95  0.01  0.00  0.01  15.00  0.00  0.13  1.47   \n",
       "4     0.01  19.40  1.45  0.01  0.00  0.01  14.90  0.00  0.13  1.55   \n",
       "..     ...    ...   ...   ...   ...   ...    ...   ...   ...   ...   \n",
       "307   7.27   0.01  3.77  0.96  0.00  0.01   4.90  0.00  0.03  0.00   \n",
       "308   5.15  10.20  3.20  0.01  0.00  0.01   0.01  0.00  0.03  0.09   \n",
       "309   5.20   0.01  5.84  1.05  0.00  0.91   4.88  0.00  0.03  0.00   \n",
       "310   6.99   0.01  5.84  0.92  0.00  0.01   0.02  0.00  0.03  0.00   \n",
       "311   0.41   8.28  0.49  0.07  0.00  0.01   3.90  0.00  0.03  0.00   \n",
       "\n",
       "     yield strength  tensile strength  elongation  \n",
       "0            2411.5            2473.5         7.0  \n",
       "1            1123.1            1929.2         8.0  \n",
       "2            1736.3            1871.8         NaN  \n",
       "3            2487.3            2514.9         9.0  \n",
       "4            2249.6            2315.0         8.5  \n",
       "..              ...               ...         ...  \n",
       "307          1722.5            1998.1         5.0  \n",
       "308          1019.0            1019.0        19.0  \n",
       "309          1860.3            2156.6         3.0  \n",
       "310          1812.1            2087.7         2.0  \n",
       "311          1139.7            1236.3        15.4  \n",
       "\n",
       "[312 rows x 17 columns]"
      ]
     },
     "execution_count": 2,
     "metadata": {},
     "output_type": "execute_result"
    }
   ],
   "source": [
    "from matminer.datasets import load_dataset\n",
    "\n",
    "df = load_dataset('steel_strength', data_home = '.')\n",
    "df"
   ]
  },
  {
   "cell_type": "code",
   "execution_count": 3,
   "id": "f83c7191",
   "metadata": {},
   "outputs": [],
   "source": [
    "X = df.drop(['formula', 'yield strength', 'tensile strength', 'elongation'], axis = 1)\n",
    "y = df['tensile strength'].values"
   ]
  },
  {
   "cell_type": "code",
   "execution_count": 4,
   "id": "d9bdacba",
   "metadata": {},
   "outputs": [],
   "source": [
    "from sklearn.tree import DecisionTreeRegressor\n",
    "\n",
    "dt = DecisionTreeRegressor()"
   ]
  },
  {
   "cell_type": "code",
   "execution_count": 6,
   "id": "678f3927",
   "metadata": {},
   "outputs": [
    {
     "name": "stdout",
     "output_type": "stream",
     "text": [
      "Cross-validation results:\n",
      "Folds: 10, mean R2: 0.665\n",
      "Folds: 10, mean RMSE: 182.363\n"
     ]
    }
   ],
   "source": [
    "from sklearn.model_selection import KFold, cross_val_score\n",
    "\n",
    "crossvalidation = KFold(n_splits = 10, shuffle = True)\n",
    "r2_scores = cross_val_score(dt, X, y, scoring = 'r2', cv = crossvalidation)\n",
    "rmse_scores = cross_val_score(dt, X, y,\n",
    "                              scoring = 'neg_root_mean_squared_error',\n",
    "                              cv = crossvalidation)\n",
    "print('Cross-validation results:')\n",
    "print('Folds: %i, mean R2: %.3f' % (len(r2_scores), r2_scores.mean()))\n",
    "print('Folds: %i, mean RMSE: %.3f' % (len(rmse_scores), -rmse_scores.mean()))"
   ]
  },
  {
   "cell_type": "code",
   "execution_count": 7,
   "id": "37981d49",
   "metadata": {},
   "outputs": [],
   "source": [
    "from sklearn.model_selection import cross_val_predict\n",
    "\n",
    "y_cv = cross_val_predict(dt, X, y, cv = crossvalidation)"
   ]
  },
  {
   "cell_type": "code",
   "execution_count": 10,
   "id": "4fd2647f",
   "metadata": {},
   "outputs": [
    {
     "data": {
      "image/png": "[encoded data removed]",
      "text/plain": [
       "<Figure size 288x288 with 1 Axes>"
      ]
     },
     "metadata": {
      "needs_background": "light"
     },
     "output_type": "display_data"
    }
   ],
   "source": [
    "import matplotlib.pyplot as plt\n",
    "plt.figure(figsize = (4, 4))\n",
    "plt.plot([800, 2800], [800, 2800], 'r--')\n",
    "plt.scatter(y, y_cv, s = 80, edgecolor = 'k', alpha = 0.7)\n",
    "plt.show()"
   ]
  },
  {
   "cell_type": "code",
   "execution_count": 11,
   "id": "53f69c39",
   "metadata": {},
   "outputs": [
    {
     "data": {
      "text/plain": [
       "DecisionTreeRegressor()"
      ]
     },
     "execution_count": 11,
     "metadata": {},
     "output_type": "execute_result"
    }
   ],
   "source": [
    "dt.fit(X, y)"
   ]
  },
  {
   "cell_type": "code",
   "execution_count": 13,
   "id": "4e5e147a",
   "metadata": {},
   "outputs": [],
   "source": [
    "import numpy as np"
   ]
  },
  {
   "cell_type": "code",
   "execution_count": 15,
   "id": "899bccfb",
   "metadata": {},
   "outputs": [],
   "source": [
    "importances_dt = dt.feature_importances_\n",
    "imp_sort_dt = np.argsort(importances_dt)[::-1]\n",
    "feat_name = X.columns.values"
   ]
  },
  {
   "cell_type": "code",
   "execution_count": 19,
   "id": "6ec1419d",
   "metadata": {},
   "outputs": [
    {
     "data": {
      "text/plain": [
       "array(['c', 'mn', 'si', 'cr', 'ni', 'mo', 'v', 'n', 'nb', 'co', 'w', 'al',\n",
       "       'ti'], dtype=object)"
      ]
     },
     "execution_count": 19,
     "metadata": {},
     "output_type": "execute_result"
    }
   ],
   "source": [
    "feat_name"
   ]
  },
  {
   "cell_type": "code",
   "execution_count": 17,
   "id": "134037d4",
   "metadata": {},
   "outputs": [
    {
     "data": {
      "image/png": "[encoded data removed]",
      "text/plain": [
       "<Figure size 720x360 with 1 Axes>"
      ]
     },
     "metadata": {
      "needs_background": "light"
     },
     "output_type": "display_data"
    }
   ],
   "source": [
    "plt.figure(figsize = (10, 5))\n",
    "plt.bar(x = feat_name[imp_sort_dt][0:10],\n",
    "        height = importances_dt[imp_sort_dt][0:10],\n",
    "        edgecolor = 'k')\n",
    "plt.xticks(fontsize = 15)\n",
    "plt.yticks(fontsize = 15)\n",
    "plt.show()"
   ]
  },
  {
   "cell_type": "code",
   "execution_count": 20,
   "id": "9c0625c2",
   "metadata": {},
   "outputs": [],
   "source": [
    "from sklearn.ensemble import RandomForestRegressor\n",
    "\n",
    "rf = RandomForestRegressor()"
   ]
  },
  {
   "cell_type": "code",
   "execution_count": 21,
   "id": "8ebb67b9",
   "metadata": {},
   "outputs": [
    {
     "name": "stdout",
     "output_type": "stream",
     "text": [
      "Cross-validation results:\n",
      "Folds: 10, mean R2: 0.843\n",
      "Folds: 10, mean RMSE: 132.544\n"
     ]
    }
   ],
   "source": [
    "r2_scores = cross_val_score(rf, X, y, scoring = 'r2', cv = crossvalidation)\n",
    "rmse_scores = cross_val_score(rf, X, y,\n",
    "                              scoring = 'neg_root_mean_squared_error',\n",
    "                              cv = crossvalidation)\n",
    "print('Cross-validation results:')\n",
    "print('Folds: %i, mean R2: %.3f' % (len(r2_scores), r2_scores.mean()))\n",
    "print('Folds: %i, mean RMSE: %.3f' % (len(rmse_scores), -rmse_scores.mean()))"
   ]
  },
  {
   "cell_type": "code",
   "execution_count": 22,
   "id": "11a7b97e",
   "metadata": {},
   "outputs": [
    {
     "data": {
      "image/png": "[encoded data removed]",
      "text/plain": [
       "<Figure size 288x288 with 1 Axes>"
      ]
     },
     "metadata": {
      "needs_background": "light"
     },
     "output_type": "display_data"
    }
   ],
   "source": [
    "plt.figure(figsize = (4, 4))\n",
    "plt.plot([800, 2800], [800, 2800], 'r--')\n",
    "plt.scatter(y, cross_val_predict(rf, X, y, cv = crossvalidation),\n",
    "            s = 80, edgecolor = 'k', alpha = 0.7)\n",
    "plt.show()"
   ]
  },
  {
   "cell_type": "markdown",
   "id": "43614ef6",
   "metadata": {},
   "source": [
    "# 11:17继续"
   ]
  },
  {
   "cell_type": "code",
   "execution_count": 24,
   "id": "1f3acebb",
   "metadata": {},
   "outputs": [],
   "source": [
    "from sklearn.ensemble import ExtraTreesRegressor\n",
    "\n",
    "et = ExtraTreesRegressor()"
   ]
  },
  {
   "cell_type": "code",
   "execution_count": 25,
   "id": "14d0ed4f",
   "metadata": {},
   "outputs": [
    {
     "name": "stdout",
     "output_type": "stream",
     "text": [
      "Cross-validation results:\n",
      "Folds: 10, mean R2: 0.900\n",
      "Folds: 10, mean RMSE: 107.098\n"
     ]
    }
   ],
   "source": [
    "r2_scores = cross_val_score(et, X, y, scoring = 'r2', cv = crossvalidation)\n",
    "rmse_scores = cross_val_score(et, X, y,\n",
    "                              scoring = 'neg_root_mean_squared_error',\n",
    "                              cv = crossvalidation)\n",
    "print('Cross-validation results:')\n",
    "print('Folds: %i, mean R2: %.3f' % (len(r2_scores), r2_scores.mean()))\n",
    "print('Folds: %i, mean RMSE: %.3f' % (len(rmse_scores), -rmse_scores.mean()))"
   ]
  },
  {
   "cell_type": "code",
   "execution_count": 26,
   "id": "1cdb61cd",
   "metadata": {},
   "outputs": [
    {
     "data": {
      "text/plain": [
       "ExtraTreesRegressor()"
      ]
     },
     "execution_count": 26,
     "metadata": {},
     "output_type": "execute_result"
    }
   ],
   "source": [
    "et.fit(X, y)"
   ]
  },
  {
   "cell_type": "code",
   "execution_count": 27,
   "id": "9b8278e2",
   "metadata": {},
   "outputs": [],
   "source": [
    "importances_et = et.feature_importances_\n",
    "imp_sort_et = np.argsort(importances_et)[::-1]"
   ]
  },
  {
   "cell_type": "code",
   "execution_count": 29,
   "id": "56486425",
   "metadata": {},
   "outputs": [
    {
     "data": {
      "image/png": "[encoded data removed]",
      "text/plain": [
       "<Figure size 720x360 with 1 Axes>"
      ]
     },
     "metadata": {
      "needs_background": "light"
     },
     "output_type": "display_data"
    }
   ],
   "source": [
    "plt.figure(figsize = (10, 5))\n",
    "plt.bar(x = feat_name[imp_sort_et][0:10],\n",
    "        height = importances_et[imp_sort_et][0:10],\n",
    "        color = 'm', edgecolor = 'k')\n",
    "plt.xticks(fontsize = 15)\n",
    "plt.yticks(fontsize = 15)\n",
    "plt.show()"
   ]
  },
  {
   "cell_type": "code",
   "execution_count": null,
   "id": "9baf177d",
   "metadata": {},
   "outputs": [],
   "source": []
  }
 ],
 "metadata": {
  "kernelspec": {
   "display_name": "Python 3",
   "language": "python",
   "name": "python3"
  },
  "language_info": {
   "codemirror_mode": {
    "name": "ipython",
    "version": 3
   },
   "file_extension": ".py",
   "mimetype": "text/x-python",
   "name": "python",
   "nbconvert_exporter": "python",
   "pygments_lexer": "ipython3",
   "version": "3.8.8"
  }
 },
 "nbformat": 4,
 "nbformat_minor": 5
}
