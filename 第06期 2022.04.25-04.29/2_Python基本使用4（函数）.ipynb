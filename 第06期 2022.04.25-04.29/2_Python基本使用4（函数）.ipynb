{
 "cells": [
  {
   "cell_type": "markdown",
   "id": "360d3f27",
   "metadata": {},
   "source": [
    "## 2.7 函数"
   ]
  },
  {
   "cell_type": "markdown",
   "id": "ec3640c1",
   "metadata": {},
   "source": [
    "#### 函数的使用"
   ]
  },
  {
   "cell_type": "code",
   "execution_count": 1,
   "id": "1cbca1b4",
   "metadata": {},
   "outputs": [
    {
     "name": "stdout",
     "output_type": "stream",
     "text": [
      "is solid\n",
      "is liquid\n"
     ]
    }
   ],
   "source": [
    "def phase(t):\n",
    "    if(t > 100):\n",
    "        print('is gas')\n",
    "    elif(t > 0):\n",
    "        print('is liquid')\n",
    "    else:\n",
    "        print('is solid')\n",
    "\n",
    "phase(-5)\n",
    "temp = 25\n",
    "phase(temp)"
   ]
  },
  {
   "cell_type": "markdown",
   "id": "c7702a2d",
   "metadata": {},
   "source": [
    "#### 返回值"
   ]
  },
  {
   "cell_type": "code",
   "execution_count": 1,
   "id": "c8d0fcdc",
   "metadata": {},
   "outputs": [],
   "source": [
    "def eV2kJ(x):\n",
    "    res = x * 96.4916\n",
    "    return res"
   ]
  },
  {
   "cell_type": "code",
   "execution_count": 2,
   "id": "934e60df",
   "metadata": {},
   "outputs": [
    {
     "data": {
      "text/plain": [
       "144.7374"
      ]
     },
     "execution_count": 2,
     "metadata": {},
     "output_type": "execute_result"
    }
   ],
   "source": [
    "a = eV2kJ(1.5)\n",
    "a"
   ]
  },
  {
   "cell_type": "markdown",
   "id": "3dd8ca87",
   "metadata": {},
   "source": [
    "#### 函数的参数传递"
   ]
  },
  {
   "cell_type": "code",
   "execution_count": 2,
   "id": "915265a1",
   "metadata": {},
   "outputs": [
    {
     "name": "stdout",
     "output_type": "stream",
     "text": [
      "1\n",
      "1\n",
      "2\n",
      "1\n"
     ]
    }
   ],
   "source": [
    "def fun(a):\n",
    "    print(a)\n",
    "    a += 1\n",
    "    print(a)\n",
    "\n",
    "a = 1\n",
    "print(a)\n",
    "fun(a)\n",
    "print(a)"
   ]
  },
  {
   "cell_type": "code",
   "execution_count": 3,
   "id": "dff17f61",
   "metadata": {},
   "outputs": [
    {
     "name": "stdout",
     "output_type": "stream",
     "text": [
      "[525, 566, 573]\n",
      "[525, 566, 573, 'cm-1']\n"
     ]
    }
   ],
   "source": [
    "def fun(a):\n",
    "    a.append('cm-1')\n",
    "\n",
    "b = [525, 566, 573]\n",
    "print(b)\n",
    "fun(b)\n",
    "print(b)"
   ]
  },
  {
   "cell_type": "markdown",
   "id": "5a33c70e",
   "metadata": {},
   "source": [
    "## 2.8 实操：求解微分方程"
   ]
  },
  {
   "cell_type": "raw",
   "id": "192ae769",
   "metadata": {},
   "source": [
    "方程形式：y' + xy = xy^2\n",
    "初始值y(0) = 1/2\n",
    "求y(1)"
   ]
  },
  {
   "cell_type": "code",
   "execution_count": 3,
   "id": "b06a8b4d",
   "metadata": {},
   "outputs": [],
   "source": [
    "def res_numerical(x, num = 10):\n",
    "    x0 = 0\n",
    "    y0 = 0.5\n",
    "    res = [0.5]\n",
    "    step = x / num\n",
    "    i = 0\n",
    "    while(i < num):\n",
    "        y0 += step * (x0 * y0 * y0 - x0 * y0)\n",
    "        x0 += step\n",
    "        res.append(round(y0, 3))\n",
    "        i += 1\n",
    "    return res"
   ]
  },
  {
   "cell_type": "code",
   "execution_count": 4,
   "id": "13f3152c",
   "metadata": {},
   "outputs": [],
   "source": [
    "def res_analytical(x, num = 10):\n",
    "    e = 2.71828\n",
    "    x0 = 0\n",
    "    res = [0.5]\n",
    "    step = x / num\n",
    "    i = 0\n",
    "    while(i < num):\n",
    "        x0 += step\n",
    "        y = 1 / (e ** (0.5 * x0 * x0) + 1)\n",
    "        res.append(round(y, 3))\n",
    "        i += 1\n",
    "    return res"
   ]
  },
  {
   "cell_type": "code",
   "execution_count": 5,
   "id": "d1989f1b",
   "metadata": {},
   "outputs": [
    {
     "data": {
      "text/plain": [
       "[0.5, 0.5, 0.497, 0.493, 0.485, 0.475, 0.463, 0.448, 0.43, 0.411, 0.389]"
      ]
     },
     "execution_count": 5,
     "metadata": {},
     "output_type": "execute_result"
    }
   ],
   "source": [
    "res_numerical(1)"
   ]
  },
  {
   "cell_type": "code",
   "execution_count": 6,
   "id": "a94b697b",
   "metadata": {},
   "outputs": [
    {
     "data": {
      "text/plain": [
       "[0.5, 0.499, 0.495, 0.489, 0.48, 0.469, 0.455, 0.439, 0.421, 0.4, 0.378]"
      ]
     },
     "execution_count": 6,
     "metadata": {},
     "output_type": "execute_result"
    }
   ],
   "source": [
    "res_analytical(1)"
   ]
  }
 ],
 "metadata": {
  "kernelspec": {
   "display_name": "Python 3 (ipykernel)",
   "language": "python",
   "name": "python3"
  },
  "language_info": {
   "codemirror_mode": {
    "name": "ipython",
    "version": 3
   },
   "file_extension": ".py",
   "mimetype": "text/x-python",
   "name": "python",
   "nbconvert_exporter": "python",
   "pygments_lexer": "ipython3",
   "version": "3.9.6"
  }
 },
 "nbformat": 4,
 "nbformat_minor": 5
}
