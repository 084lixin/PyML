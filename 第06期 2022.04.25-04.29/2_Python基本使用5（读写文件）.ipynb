{
 "cells": [
  {
   "cell_type": "markdown",
   "id": "e7a947b3",
   "metadata": {},
   "source": [
    "## 2.9 读写文件"
   ]
  },
  {
   "cell_type": "markdown",
   "id": "74f1af01",
   "metadata": {},
   "source": [
    "### 2.9.1 read(), readline()与readlines()"
   ]
  },
  {
   "cell_type": "code",
   "execution_count": 1,
   "id": "3e5f61f6",
   "metadata": {},
   "outputs": [
    {
     "name": "stdout",
     "output_type": "stream",
     "text": [
      "Experiment\n",
      "3.3\n",
      "2.2\n",
      "2.5\n",
      "3.1\n",
      "3.0\n",
      "eV\n"
     ]
    }
   ],
   "source": [
    "f = open('sample.txt', mode = 'r', encoding = 'UTF-8')\n",
    "res = f.read()\n",
    "f.close()\n",
    "print(res)"
   ]
  },
  {
   "cell_type": "code",
   "execution_count": 2,
   "id": "0dd95b54",
   "metadata": {},
   "outputs": [
    {
     "name": "stdout",
     "output_type": "stream",
     "text": [
      "Experiment\n",
      "\n"
     ]
    }
   ],
   "source": [
    "f = open('sample.txt', mode = 'r', encoding = 'UTF-8')\n",
    "res = f.readline()\n",
    "f.close()\n",
    "print(res)"
   ]
  },
  {
   "cell_type": "code",
   "execution_count": 3,
   "id": "eabf3db6",
   "metadata": {},
   "outputs": [
    {
     "name": "stdout",
     "output_type": "stream",
     "text": [
      "['Experiment\\n', '3.3\\n', '2.2\\n', '2.5\\n', '3.1\\n', '3.0\\n', 'eV']\n"
     ]
    }
   ],
   "source": [
    "f = open('sample.txt', mode = 'r', encoding = 'UTF-8')\n",
    "res = f.readlines()\n",
    "f.close()\n",
    "print(res)"
   ]
  },
  {
   "cell_type": "markdown",
   "id": "c37ee0bb",
   "metadata": {},
   "source": [
    "### 2.9.2 数据处理"
   ]
  },
  {
   "cell_type": "code",
   "execution_count": 4,
   "id": "b873be2e",
   "metadata": {},
   "outputs": [
    {
     "name": "stdout",
     "output_type": "stream",
     "text": [
      "[3.3, 2.2, 2.5, 3.1, 3.0]\n"
     ]
    }
   ],
   "source": [
    "f = open('sample.txt',mode = 'r', encoding = 'UTF-8')\n",
    "f.readline()\n",
    "data = []\n",
    "for i in range(5):\n",
    "    data.append(float(f.readline()))\n",
    "f.close()\n",
    "print(data)"
   ]
  },
  {
   "cell_type": "code",
   "execution_count": 5,
   "id": "0d0cec0a",
   "metadata": {},
   "outputs": [
    {
     "name": "stdout",
     "output_type": "stream",
     "text": [
      "[3.3, 2.2, 2.5, 3.1, 3.0]\n"
     ]
    }
   ],
   "source": [
    "f = open('sample.txt',mode = 'r', encoding = 'UTF-8')\n",
    "data = f.readlines()\n",
    "f.close()\n",
    "data = data[1:-1]\n",
    "for i in range(len(data)):\n",
    "    data[i] = float(data[i])\n",
    "print(data)"
   ]
  },
  {
   "cell_type": "code",
   "execution_count": 6,
   "id": "7a62ccfc",
   "metadata": {},
   "outputs": [],
   "source": [
    "def avg_list(a):\n",
    "    sum = 0\n",
    "    for ele in a:\n",
    "        sum += ele\n",
    "    return sum / len(a)"
   ]
  },
  {
   "cell_type": "code",
   "execution_count": 7,
   "id": "0a0f9b6e",
   "metadata": {},
   "outputs": [
    {
     "data": {
      "text/plain": [
       "2.82"
      ]
     },
     "execution_count": 7,
     "metadata": {},
     "output_type": "execute_result"
    }
   ],
   "source": [
    "avg_list(data)"
   ]
  },
  {
   "cell_type": "markdown",
   "id": "b2fdb58e",
   "metadata": {},
   "source": [
    "### 2.9.3 写文件"
   ]
  },
  {
   "cell_type": "code",
   "execution_count": 8,
   "id": "b13b5256",
   "metadata": {},
   "outputs": [],
   "source": [
    "f = open('res.txt', mode = 'w', encoding = 'UTF-8')\n",
    "f.write(str(avg_list(data))+'\\n')\n",
    "f.write(str(avg_list(data)))\n",
    "f.close()"
   ]
  },
  {
   "cell_type": "markdown",
   "id": "979c6c1b",
   "metadata": {},
   "source": [
    "### 2.9.4 使用with open打开文件"
   ]
  },
  {
   "cell_type": "code",
   "execution_count": 9,
   "id": "c05b8024",
   "metadata": {},
   "outputs": [
    {
     "name": "stdout",
     "output_type": "stream",
     "text": [
      "[3.3, 2.2, 2.5, 3.1, 3.0]\n"
     ]
    }
   ],
   "source": [
    "with open('sample.txt',mode = 'r', encoding = 'UTF-8') as f:\n",
    "    f.readline()\n",
    "    data = []\n",
    "    for i in range(5):\n",
    "        data.append(float(f.readline()))\n",
    "\n",
    "print(data)"
   ]
  },
  {
   "cell_type": "markdown",
   "id": "ef3402e5",
   "metadata": {},
   "source": [
    "### 2.9.5 打开csv格式文件"
   ]
  },
  {
   "cell_type": "code",
   "execution_count": 10,
   "id": "f8286558",
   "metadata": {},
   "outputs": [
    {
     "name": "stdout",
     "output_type": "stream",
     "text": [
      "3.00E-10,2.27E-12,2.24E-12,2.30E-12,2.25E-12,2.22E-12,2.25E-12,2.24E-12\n",
      "\n"
     ]
    }
   ],
   "source": [
    "with open('didz.csv', mode = 'r',encoding = 'UTF-8') as f:\n",
    "    res = f.readline()\n",
    "print(res)"
   ]
  },
  {
   "cell_type": "code",
   "execution_count": 11,
   "id": "9242b043",
   "metadata": {},
   "outputs": [
    {
     "name": "stdout",
     "output_type": "stream",
     "text": [
      "['3.00E-10,2.27E-12,2.24E-12,2.30E-12,2.25E-12,2.22E-12,2.25E-12,2.24E-12\\n', '2.90E-10,2.81E-12,1.84E-12,2.99E-12,2.58E-12,2.31E-12,2.80E-12,2.50E-12\\n', '3.00E-10,2.27E-12,2.24E-12,2.30E-12,2.25E-12,2.22E-12,2.25E-12,2.24E-12\\n', '2.90E-10,2.81E-12,1.84E-12,2.99E-12,2.58E-12,2.31E-12,2.80E-12,2.50E-12']\n"
     ]
    }
   ],
   "source": [
    "with open('didz.csv', mode = 'r',encoding = 'UTF-8') as f:\n",
    "    res = f.readlines()\n",
    "print(res)"
   ]
  },
  {
   "cell_type": "code",
   "execution_count": 12,
   "id": "5d021a67",
   "metadata": {},
   "outputs": [
    {
     "name": "stdout",
     "output_type": "stream",
     "text": [
      "['2.27E-12', '2.24E-12', '2.30E-12', '2.25E-12', '2.22E-12', '2.25E-12', '2.24E-12']\n",
      "['2.81E-12', '1.84E-12', '2.99E-12', '2.58E-12', '2.31E-12', '2.80E-12', '2.50E-12']\n"
     ]
    }
   ],
   "source": [
    "with open('didz.csv', mode = 'r',encoding = 'UTF-8') as f:\n",
    "    res = f.readline()\n",
    "    I_max = res.strip('\\n').split(',')\n",
    "    I_min = f.readline().strip('\\n').split(',')\n",
    "\n",
    "z_max = I_max[0]\n",
    "z_min = I_min[0]\n",
    "I_max = I_max[1:]\n",
    "I_min = I_min[1:]\n",
    "print(I_max)\n",
    "print(I_min)"
   ]
  },
  {
   "cell_type": "markdown",
   "id": "ba2f2a8a",
   "metadata": {},
   "source": [
    "### 2.9.6 list字符转浮点"
   ]
  },
  {
   "cell_type": "code",
   "execution_count": 13,
   "id": "0f40a9b8",
   "metadata": {},
   "outputs": [
    {
     "name": "stdout",
     "output_type": "stream",
     "text": [
      "[2.27e-12, 2.24e-12, 2.3e-12, 2.25e-12, 2.22e-12, 2.25e-12, 2.24e-12]\n"
     ]
    }
   ],
   "source": [
    "I_max_f = []\n",
    "for i in I_max:\n",
    "    I_max_f.append(float(i))\n",
    "print(I_max_f)"
   ]
  },
  {
   "cell_type": "code",
   "execution_count": 14,
   "id": "fbf6fe6d",
   "metadata": {},
   "outputs": [
    {
     "name": "stdout",
     "output_type": "stream",
     "text": [
      "[2.27e-12, 2.24e-12, 2.3e-12, 2.25e-12, 2.22e-12, 2.25e-12, 2.24e-12]\n"
     ]
    }
   ],
   "source": [
    "for i in range(len(I_max)):\n",
    "    I_max[i] = float(I_max[i])\n",
    "print(I_max)"
   ]
  }
 ],
 "metadata": {
  "kernelspec": {
   "display_name": "Python 3 (ipykernel)",
   "language": "python",
   "name": "python3"
  },
  "language_info": {
   "codemirror_mode": {
    "name": "ipython",
    "version": 3
   },
   "file_extension": ".py",
   "mimetype": "text/x-python",
   "name": "python",
   "nbconvert_exporter": "python",
   "pygments_lexer": "ipython3",
   "version": "3.9.6"
  }
 },
 "nbformat": 4,
 "nbformat_minor": 5
}
