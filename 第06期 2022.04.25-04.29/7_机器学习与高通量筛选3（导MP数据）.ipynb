{
 "cells": [
  {
   "cell_type": "markdown",
   "id": "221e5927",
   "metadata": {},
   "source": [
    "# 7.3 导入Materials Project数据"
   ]
  },
  {
   "cell_type": "markdown",
   "id": "5cc36b8e",
   "metadata": {},
   "source": [
    "## 7.3.1 使用matminer"
   ]
  },
  {
   "cell_type": "code",
   "execution_count": null,
   "id": "9ad00211",
   "metadata": {},
   "outputs": [],
   "source": [
    "from matminer.data_retrieval.retrieve_MP import MPDataRetrieval\n",
    "mpd = MPDataRetrieval(api_key = 'YOUR API KEY')\n",
    "data = mpd.get_data('Fe2O3', ['formula', 'band_gap'])\n",
    "print(data)"
   ]
  },
  {
   "cell_type": "code",
   "execution_count": null,
   "id": "d33ebeda",
   "metadata": {
    "scrolled": false
   },
   "outputs": [],
   "source": [
    "import pandas as pd\n",
    "\n",
    "df = pd.DataFrame(data)\n",
    "df"
   ]
  }
 ],
 "metadata": {
  "kernelspec": {
   "display_name": "Python 3 (ipykernel)",
   "language": "python",
   "name": "python3"
  },
  "language_info": {
   "codemirror_mode": {
    "name": "ipython",
    "version": 3
   },
   "file_extension": ".py",
   "mimetype": "text/x-python",
   "name": "python",
   "nbconvert_exporter": "python",
   "pygments_lexer": "ipython3",
   "version": "3.9.6"
  }
 },
 "nbformat": 4,
 "nbformat_minor": 5
}
