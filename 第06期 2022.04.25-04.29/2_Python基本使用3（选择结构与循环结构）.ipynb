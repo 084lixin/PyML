{
 "cells": [
  {
   "cell_type": "markdown",
   "id": "fe3d94ee",
   "metadata": {},
   "source": [
    "## 2.4 if语句"
   ]
  },
  {
   "cell_type": "markdown",
   "id": "799e6959",
   "metadata": {},
   "source": [
    "#### if语句与if ... else ...语句"
   ]
  },
  {
   "cell_type": "code",
   "execution_count": 1,
   "id": "27d9e4f3",
   "metadata": {},
   "outputs": [
    {
     "name": "stdout",
     "output_type": "stream",
     "text": [
      "a is positive\n",
      "the square of a is 25\n"
     ]
    }
   ],
   "source": [
    "a = 5\n",
    "if(a > 0):\n",
    "    print('a is positive')\n",
    "    print('the square of a is', a * a)"
   ]
  },
  {
   "cell_type": "code",
   "execution_count": 2,
   "id": "171abecc",
   "metadata": {},
   "outputs": [
    {
     "name": "stdout",
     "output_type": "stream",
     "text": [
      "a is positive\n"
     ]
    }
   ],
   "source": [
    "a = 5\n",
    "if(a > 0):print('a is positive')"
   ]
  },
  {
   "cell_type": "code",
   "execution_count": 3,
   "id": "ad233c54",
   "metadata": {},
   "outputs": [
    {
     "name": "stdout",
     "output_type": "stream",
     "text": [
      "is liquid\n"
     ]
    }
   ],
   "source": [
    "temp = 25\n",
    "if(temp > 100):\n",
    "    print('is gas')\n",
    "elif(temp > 0):\n",
    "    print('is liquid')\n",
    "else:\n",
    "    print('is solid')"
   ]
  },
  {
   "cell_type": "markdown",
   "id": "04409641",
   "metadata": {},
   "source": [
    "## 2.5 while语句"
   ]
  },
  {
   "cell_type": "markdown",
   "id": "4d04ff77",
   "metadata": {},
   "source": [
    "#### while语句的使用"
   ]
  },
  {
   "cell_type": "code",
   "execution_count": 4,
   "id": "df210783",
   "metadata": {},
   "outputs": [
    {
     "name": "stdout",
     "output_type": "stream",
     "text": [
      "a= 1\n",
      "a= 2\n",
      "a= 3\n",
      "a= 4\n",
      "a= 5\n",
      "a= 6\n",
      "a= 7\n",
      "a= 8\n",
      "a= 9\n"
     ]
    }
   ],
   "source": [
    "a = 1\n",
    "while(a < 10):\n",
    "    print('a=',a)\n",
    "    a +=1"
   ]
  },
  {
   "cell_type": "code",
   "execution_count": 5,
   "id": "4f7a5ddc",
   "metadata": {},
   "outputs": [
    {
     "name": "stdout",
     "output_type": "stream",
     "text": [
      "a= 3\n",
      "a= 6\n",
      "a= 9\n",
      "a= 12\n",
      "a= 15\n",
      "a= 18\n"
     ]
    }
   ],
   "source": [
    "a = 1\n",
    "while(a < 20):\n",
    "    if(a % 3 == 0):\n",
    "        print('a=',a)\n",
    "    a +=1"
   ]
  },
  {
   "cell_type": "markdown",
   "id": "77dbf5f8",
   "metadata": {},
   "source": [
    "#### while语句与if语句连用"
   ]
  },
  {
   "cell_type": "code",
   "execution_count": 6,
   "id": "fd1614ac",
   "metadata": {
    "scrolled": true
   },
   "outputs": [
    {
     "name": "stdout",
     "output_type": "stream",
     "text": [
      "a= 3\n",
      "a= 6\n",
      "a= 9\n",
      "a= 12\n",
      "a= 15\n",
      "a= 18\n",
      "a is larger than 20\n"
     ]
    }
   ],
   "source": [
    "a = 1\n",
    "while(a <= 20):\n",
    "    if(a % 3 == 0):\n",
    "        print('a=',a)\n",
    "    a +=1\n",
    "else:\n",
    "    print('a is larger than 20')"
   ]
  },
  {
   "cell_type": "markdown",
   "id": "d618e43b",
   "metadata": {},
   "source": [
    "#### 死循环"
   ]
  },
  {
   "cell_type": "code",
   "execution_count": 7,
   "id": "aac422ec",
   "metadata": {},
   "outputs": [],
   "source": [
    "#a = 1\n",
    "#while(a < 10):\n",
    "#    print('a=',a)\n",
    "#    a -= 1"
   ]
  },
  {
   "cell_type": "markdown",
   "id": "713f62a3",
   "metadata": {},
   "source": [
    "#### 输出Fibonacci数列"
   ]
  },
  {
   "cell_type": "code",
   "execution_count": 8,
   "id": "b749ca8c",
   "metadata": {},
   "outputs": [
    {
     "name": "stdout",
     "output_type": "stream",
     "text": [
      "1 1 2 3 5 8 13 21 34 55 89 "
     ]
    }
   ],
   "source": [
    "a = 1\n",
    "b = 1\n",
    "while a < 100:\n",
    "    print(a, end = ' ')\n",
    "    a, b = b, a + b"
   ]
  },
  {
   "cell_type": "markdown",
   "id": "b0ec1e2b",
   "metadata": {},
   "source": [
    "#### while遍历列表"
   ]
  },
  {
   "cell_type": "code",
   "execution_count": 9,
   "id": "e05879ba",
   "metadata": {},
   "outputs": [
    {
     "name": "stdout",
     "output_type": "stream",
     "text": [
      "['red', 'purple', 'blue']\n",
      "['red', 'purple']\n",
      "['red']\n"
     ]
    }
   ],
   "source": [
    "a = ['red', 'purple', 'blue']\n",
    "while a:\n",
    "    print(a)\n",
    "    a.pop()"
   ]
  },
  {
   "cell_type": "code",
   "execution_count": 10,
   "id": "22a78ead",
   "metadata": {},
   "outputs": [
    {
     "name": "stdout",
     "output_type": "stream",
     "text": [
      "['red', 'purple', 'blue']\n"
     ]
    }
   ],
   "source": [
    "a = ['red', 'purple', 'blue']\n",
    "while 'blue' in a:\n",
    "    print(a)\n",
    "    a.remove('blue')"
   ]
  },
  {
   "cell_type": "markdown",
   "id": "9cb2ba45",
   "metadata": {},
   "source": [
    "## 2.6 for语句"
   ]
  },
  {
   "cell_type": "markdown",
   "id": "83bb6f6d",
   "metadata": {},
   "source": [
    "### 2.6.1 基本使用"
   ]
  },
  {
   "cell_type": "markdown",
   "id": "167ad48c",
   "metadata": {},
   "source": [
    "#### for语句的使用"
   ]
  },
  {
   "cell_type": "code",
   "execution_count": 11,
   "id": "eb8f8930",
   "metadata": {},
   "outputs": [
    {
     "name": "stdout",
     "output_type": "stream",
     "text": [
      "H\n",
      "C\n",
      "N\n"
     ]
    }
   ],
   "source": [
    "molecule = ['H', 'C', 'N']\n",
    "for ele in molecule:\n",
    "    print(ele)"
   ]
  },
  {
   "cell_type": "code",
   "execution_count": 12,
   "id": "b9d615b7",
   "metadata": {},
   "outputs": [
    {
     "name": "stdout",
     "output_type": "stream",
     "text": [
      "0 H\n",
      "1 C\n",
      "2 N\n"
     ]
    }
   ],
   "source": [
    "for i, ele in enumerate(molecule):\n",
    "    print(i, ele)"
   ]
  },
  {
   "cell_type": "markdown",
   "id": "f0c16e6f",
   "metadata": {},
   "source": [
    "#### break语句与continue语句"
   ]
  },
  {
   "cell_type": "code",
   "execution_count": 13,
   "id": "1c398223",
   "metadata": {},
   "outputs": [
    {
     "name": "stdout",
     "output_type": "stream",
     "text": [
      "0 C\n",
      "1 H\n",
      "2 3\n"
     ]
    }
   ],
   "source": [
    "mole = 'CH3COOH'\n",
    "for i, j in enumerate(mole):\n",
    "    if i == 3:\n",
    "        break\n",
    "    print(i, j)"
   ]
  },
  {
   "cell_type": "code",
   "execution_count": 14,
   "id": "746bffc6",
   "metadata": {
    "scrolled": true
   },
   "outputs": [
    {
     "name": "stdout",
     "output_type": "stream",
     "text": [
      "0 C\n",
      "1 H\n",
      "3 C\n",
      "4 O\n",
      "5 O\n",
      "6 H\n"
     ]
    }
   ],
   "source": [
    "mole = 'CH3COOH'\n",
    "for i, j in enumerate(mole):\n",
    "    if i == 2:\n",
    "        continue\n",
    "    print(i, j)"
   ]
  },
  {
   "cell_type": "markdown",
   "id": "fc823d35",
   "metadata": {},
   "source": [
    "### 2.6.2 for与range联用"
   ]
  },
  {
   "cell_type": "code",
   "execution_count": 15,
   "id": "975335c9",
   "metadata": {},
   "outputs": [
    {
     "name": "stdout",
     "output_type": "stream",
     "text": [
      "0 3 6 9 12 15 18 "
     ]
    }
   ],
   "source": [
    "for i in range(0, 21, 3):\n",
    "    print(i, end = ' ')"
   ]
  },
  {
   "cell_type": "code",
   "execution_count": 16,
   "id": "26a35fb8",
   "metadata": {},
   "outputs": [
    {
     "name": "stdout",
     "output_type": "stream",
     "text": [
      "0 1 2 3 4 "
     ]
    }
   ],
   "source": [
    "for i in range(5):\n",
    "    print(i, end = ' ')"
   ]
  },
  {
   "cell_type": "code",
   "execution_count": 17,
   "id": "61f864b7",
   "metadata": {},
   "outputs": [
    {
     "name": "stdout",
     "output_type": "stream",
     "text": [
      "2 3 4 "
     ]
    }
   ],
   "source": [
    "for i in range(2, 5):\n",
    "    print(i, end = ' ')"
   ]
  },
  {
   "cell_type": "code",
   "execution_count": 18,
   "id": "73314725",
   "metadata": {},
   "outputs": [
    {
     "name": "stdout",
     "output_type": "stream",
     "text": [
      "1 3 "
     ]
    }
   ],
   "source": [
    "for i in range(1, 5, 2):\n",
    "    print(i, end = ' ')"
   ]
  },
  {
   "cell_type": "markdown",
   "id": "f7746c79",
   "metadata": {},
   "source": [
    "### 2.6.3 for语句遍历list"
   ]
  },
  {
   "cell_type": "code",
   "execution_count": 26,
   "id": "2b1f9883",
   "metadata": {},
   "outputs": [
    {
     "name": "stdout",
     "output_type": "stream",
     "text": [
      "0 red\n",
      "1 purple\n",
      "2 blue\n"
     ]
    }
   ],
   "source": [
    "a = ['red', 'purple', 'blue']\n",
    "for i in range(len(a)):\n",
    "    print(i, a[i])"
   ]
  },
  {
   "cell_type": "code",
   "execution_count": 27,
   "id": "9a60c2f7",
   "metadata": {},
   "outputs": [
    {
     "data": {
      "text/plain": [
       "[0, 1, 2, 3, 4]"
      ]
     },
     "execution_count": 27,
     "metadata": {},
     "output_type": "execute_result"
    }
   ],
   "source": [
    "a = list(range(5))\n",
    "a"
   ]
  },
  {
   "cell_type": "code",
   "execution_count": 28,
   "id": "a556b0c8",
   "metadata": {},
   "outputs": [
    {
     "name": "stdout",
     "output_type": "stream",
     "text": [
      "H\n",
      "C\n",
      "O\n",
      "O\n",
      "H\n"
     ]
    }
   ],
   "source": [
    "mole = 'HCOOH'\n",
    "for i in mole:\n",
    "    print(i)"
   ]
  },
  {
   "cell_type": "code",
   "execution_count": 29,
   "id": "db59702b",
   "metadata": {},
   "outputs": [
    {
     "name": "stdout",
     "output_type": "stream",
     "text": [
      "0 H\n",
      "1 C\n",
      "2 O\n",
      "3 O\n",
      "4 H\n"
     ]
    }
   ],
   "source": [
    "for i, j in enumerate(mole):\n",
    "    print(i, j)"
   ]
  },
  {
   "cell_type": "markdown",
   "id": "097c7761",
   "metadata": {},
   "source": [
    "### 2.6.4 练习"
   ]
  },
  {
   "cell_type": "code",
   "execution_count": 31,
   "id": "ab446550",
   "metadata": {},
   "outputs": [
    {
     "name": "stdout",
     "output_type": "stream",
     "text": [
      "*\n",
      "**\n",
      "***\n",
      "****\n",
      "*****\n",
      "****\n",
      "***\n",
      "**\n",
      "*\n"
     ]
    }
   ],
   "source": [
    "for i in range(9):\n",
    "    if i < 5:\n",
    "        print('*' * (i + 1))\n",
    "    else:\n",
    "        print('*' * (9 - i))"
   ]
  }
 ],
 "metadata": {
  "kernelspec": {
   "display_name": "Python 3 (ipykernel)",
   "language": "python",
   "name": "python3"
  },
  "language_info": {
   "codemirror_mode": {
    "name": "ipython",
    "version": 3
   },
   "file_extension": ".py",
   "mimetype": "text/x-python",
   "name": "python",
   "nbconvert_exporter": "python",
   "pygments_lexer": "ipython3",
   "version": "3.9.6"
  }
 },
 "nbformat": 4,
 "nbformat_minor": 5
}
