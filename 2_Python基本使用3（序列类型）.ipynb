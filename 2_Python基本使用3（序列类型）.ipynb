{
 "cells": [
  {
   "cell_type": "markdown",
   "id": "dbf25fe2",
   "metadata": {},
   "source": [
    "## 2.3 序列类型"
   ]
  },
  {
   "cell_type": "markdown",
   "id": "d198c275",
   "metadata": {},
   "source": [
    "### 2.3.1 字符串（string）"
   ]
  },
  {
   "cell_type": "code",
   "execution_count": 1,
   "id": "84ca21cf",
   "metadata": {
    "scrolled": true
   },
   "outputs": [
    {
     "name": "stdout",
     "output_type": "stream",
     "text": [
      "m\n",
      "e\n",
      "olec\n",
      "oeu\n"
     ]
    }
   ],
   "source": [
    "s = 'molecule'\n",
    "print(s[0])\n",
    "print(s[-1])\n",
    "print(s[1:5])\n",
    "print(s[1:7:2])"
   ]
  },
  {
   "cell_type": "code",
   "execution_count": 2,
   "id": "723dab72",
   "metadata": {},
   "outputs": [
    {
     "data": {
      "text/plain": [
       "['m', 'o', 'l', 'e', 'c', 'u', 'l', 'e']"
      ]
     },
     "execution_count": 2,
     "metadata": {},
     "output_type": "execute_result"
    }
   ],
   "source": [
    "list(s)"
   ]
  },
  {
   "cell_type": "code",
   "execution_count": 3,
   "id": "98935f0f",
   "metadata": {},
   "outputs": [
    {
     "name": "stdout",
     "output_type": "stream",
     "text": [
      "new is  ['H', '2', 'S'] and old is  ['H', '2', 'S']\n"
     ]
    }
   ],
   "source": [
    "old = list('H2O')\n",
    "new = old\n",
    "new[2] = 'S'\n",
    "print('new is ', new, 'and old is ',old)"
   ]
  },
  {
   "cell_type": "code",
   "execution_count": 4,
   "id": "baebb355",
   "metadata": {},
   "outputs": [
    {
     "name": "stdout",
     "output_type": "stream",
     "text": [
      "new is  ['H', '2', 'S'] and old is  ['H', '2', 'O']\n"
     ]
    }
   ],
   "source": [
    "old = list('H2O')\n",
    "new = old[:]\n",
    "new[2] = 'S'\n",
    "print('new is ', new, 'and old is ',old)"
   ]
  },
  {
   "cell_type": "markdown",
   "id": "6cd6ade7",
   "metadata": {},
   "source": [
    "### 2.3.2 元组（tuple）"
   ]
  },
  {
   "cell_type": "code",
   "execution_count": 5,
   "id": "5ce2f655",
   "metadata": {},
   "outputs": [
    {
     "name": "stdout",
     "output_type": "stream",
     "text": [
      "(1, 2, 3, 4, 5) ('x', 3) ('x', 2)\n"
     ]
    }
   ],
   "source": [
    "tup1 = (1,2,3,4,5)\n",
    "tup2 = ('x', 3)\n",
    "tup3 = 'x', 2\n",
    "\n",
    "print(tup1, tup2, tup3)"
   ]
  },
  {
   "cell_type": "code",
   "execution_count": 6,
   "id": "db7be886",
   "metadata": {},
   "outputs": [
    {
     "name": "stdout",
     "output_type": "stream",
     "text": [
      "<class 'int'> <class 'tuple'>\n"
     ]
    }
   ],
   "source": [
    "tup1 = (5)\n",
    "tup2 = (5,)\n",
    "print(type(tup1),type(tup2))"
   ]
  },
  {
   "cell_type": "code",
   "execution_count": 7,
   "id": "df6e430e",
   "metadata": {},
   "outputs": [
    {
     "ename": "TypeError",
     "evalue": "'tuple' object does not support item assignment",
     "output_type": "error",
     "traceback": [
      "\u001b[1;31m---------------------------------------------------------------------------\u001b[0m",
      "\u001b[1;31mTypeError\u001b[0m                                 Traceback (most recent call last)",
      "\u001b[1;32m~\\AppData\\Local\\Temp/ipykernel_14608/2083683400.py\u001b[0m in \u001b[0;36m<module>\u001b[1;34m\u001b[0m\n\u001b[0;32m      1\u001b[0m \u001b[0mtup1\u001b[0m \u001b[1;33m=\u001b[0m \u001b[1;33m(\u001b[0m\u001b[1;36m1\u001b[0m\u001b[1;33m,\u001b[0m \u001b[1;36m2\u001b[0m\u001b[1;33m,\u001b[0m \u001b[1;36m3\u001b[0m\u001b[1;33m,\u001b[0m \u001b[1;36m4\u001b[0m\u001b[1;33m,\u001b[0m \u001b[1;36m5\u001b[0m\u001b[1;33m)\u001b[0m\u001b[1;33m\u001b[0m\u001b[1;33m\u001b[0m\u001b[0m\n\u001b[1;32m----> 2\u001b[1;33m \u001b[0mtup1\u001b[0m\u001b[1;33m[\u001b[0m\u001b[1;36m0\u001b[0m\u001b[1;33m]\u001b[0m \u001b[1;33m=\u001b[0m \u001b[1;36m0\u001b[0m\u001b[1;33m\u001b[0m\u001b[1;33m\u001b[0m\u001b[0m\n\u001b[0m",
      "\u001b[1;31mTypeError\u001b[0m: 'tuple' object does not support item assignment"
     ]
    }
   ],
   "source": [
    "tup1 = (1, 2, 3, 4, 5)\n",
    "tup1[0] = 0"
   ]
  },
  {
   "cell_type": "markdown",
   "id": "6a164c5e",
   "metadata": {},
   "source": [
    "### 2.3.3 集合（set）"
   ]
  },
  {
   "cell_type": "code",
   "execution_count": 8,
   "id": "93f6e12c",
   "metadata": {},
   "outputs": [
    {
     "data": {
      "text/plain": [
       "{'a', 'c', 'd', 'n', 'o'}"
      ]
     },
     "execution_count": 8,
     "metadata": {},
     "output_type": "execute_result"
    }
   ],
   "source": [
    "set1 = set('anaconda')\n",
    "set1"
   ]
  },
  {
   "cell_type": "code",
   "execution_count": 9,
   "id": "7cbe2e40",
   "metadata": {},
   "outputs": [
    {
     "data": {
      "text/plain": [
       "{'n', 'o'}"
      ]
     },
     "execution_count": 9,
     "metadata": {},
     "output_type": "execute_result"
    }
   ],
   "source": [
    "set2 = set('python')\n",
    "set1 & set2"
   ]
  },
  {
   "cell_type": "markdown",
   "id": "0acc4ade",
   "metadata": {},
   "source": [
    "### 2.3.4 字典（dictionary）"
   ]
  },
  {
   "cell_type": "code",
   "execution_count": 10,
   "id": "d1647803",
   "metadata": {},
   "outputs": [
    {
     "data": {
      "text/plain": [
       "40"
      ]
     },
     "execution_count": 10,
     "metadata": {},
     "output_type": "execute_result"
    }
   ],
   "source": [
    "dict1 = {'H' : 1, 'O' : 16, 'Na' : 23}\n",
    "mass = dict1['Na'] + dict1['O'] + dict1['H']\n",
    "mass"
   ]
  },
  {
   "cell_type": "code",
   "execution_count": 11,
   "id": "71df2a2e",
   "metadata": {},
   "outputs": [
    {
     "name": "stdout",
     "output_type": "stream",
     "text": [
      "C14\n"
     ]
    }
   ],
   "source": [
    "dict2 = {}\n",
    "dict2[12] = 'C'\n",
    "dict2[14] = 'N'\n",
    "dict2[14.0] = 'C14'\n",
    "\n",
    "print(dict2[14])"
   ]
  }
 ],
 "metadata": {
  "kernelspec": {
   "display_name": "Python 3 (ipykernel)",
   "language": "python",
   "name": "python3"
  },
  "language_info": {
   "codemirror_mode": {
    "name": "ipython",
    "version": 3
   },
   "file_extension": ".py",
   "mimetype": "text/x-python",
   "name": "python",
   "nbconvert_exporter": "python",
   "pygments_lexer": "ipython3",
   "version": "3.9.6"
  }
 },
 "nbformat": 4,
 "nbformat_minor": 5
}
