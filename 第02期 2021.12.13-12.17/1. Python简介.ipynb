{
 "cells": [
  {
   "cell_type": "markdown",
   "id": "dc7bc0ff",
   "metadata": {},
   "source": [
    "# 1. Python简介"
   ]
  },
  {
   "cell_type": "markdown",
   "id": "42712228",
   "metadata": {},
   "source": [
    "## 1.1 第一个Python程序"
   ]
  },
  {
   "cell_type": "markdown",
   "id": "5066a827",
   "metadata": {},
   "source": [
    "#### 输出Hello World!"
   ]
  },
  {
   "cell_type": "code",
   "execution_count": 1,
   "id": "24e185df",
   "metadata": {},
   "outputs": [
    {
     "name": "stdout",
     "output_type": "stream",
     "text": [
      "Hello World!\n"
     ]
    }
   ],
   "source": [
    "print('Hello World!')"
   ]
  },
  {
   "cell_type": "markdown",
   "id": "6cbf7661",
   "metadata": {},
   "source": [
    "#### 报错，查看错误说明"
   ]
  },
  {
   "cell_type": "code",
   "execution_count": 2,
   "id": "9e7be3ad",
   "metadata": {},
   "outputs": [
    {
     "ename": "SyntaxError",
     "evalue": "invalid syntax (<ipython-input-2-898d2b40ca9e>, line 1)",
     "output_type": "error",
     "traceback": [
      "\u001b[1;36m  File \u001b[1;32m\"<ipython-input-2-898d2b40ca9e>\"\u001b[1;36m, line \u001b[1;32m1\u001b[0m\n\u001b[1;33m    print(Hello World!)\u001b[0m\n\u001b[1;37m                ^\u001b[0m\n\u001b[1;31mSyntaxError\u001b[0m\u001b[1;31m:\u001b[0m invalid syntax\n"
     ]
    }
   ],
   "source": [
    "print(Hello World!)"
   ]
  },
  {
   "cell_type": "markdown",
   "id": "b8bc07d8",
   "metadata": {},
   "source": [
    "#### 逗号输出时显示为空格"
   ]
  },
  {
   "cell_type": "code",
   "execution_count": 3,
   "id": "def1f9f7",
   "metadata": {},
   "outputs": [
    {
     "name": "stdout",
     "output_type": "stream",
     "text": [
      "Hello! Machine Learning!\n"
     ]
    }
   ],
   "source": [
    "print('Hello!','Machine','Learning!')"
   ]
  },
  {
   "cell_type": "markdown",
   "id": "64799772",
   "metadata": {},
   "source": [
    "## 1.2 转义字符"
   ]
  },
  {
   "cell_type": "code",
   "execution_count": 4,
   "id": "d71ba396",
   "metadata": {},
   "outputs": [
    {
     "ename": "SyntaxError",
     "evalue": "invalid syntax (<ipython-input-4-470215fd291d>, line 1)",
     "output_type": "error",
     "traceback": [
      "\u001b[1;36m  File \u001b[1;32m\"<ipython-input-4-470215fd291d>\"\u001b[1;36m, line \u001b[1;32m1\u001b[0m\n\u001b[1;33m    print('I'm fine.')\u001b[0m\n\u001b[1;37m             ^\u001b[0m\n\u001b[1;31mSyntaxError\u001b[0m\u001b[1;31m:\u001b[0m invalid syntax\n"
     ]
    }
   ],
   "source": [
    "print('I'm fine.')"
   ]
  },
  {
   "cell_type": "code",
   "execution_count": 5,
   "id": "ca04be8b",
   "metadata": {},
   "outputs": [
    {
     "name": "stdout",
     "output_type": "stream",
     "text": [
      "I'm fine.\n"
     ]
    }
   ],
   "source": [
    "print('I\\'m fine.')"
   ]
  },
  {
   "cell_type": "code",
   "execution_count": 6,
   "id": "e939d1f3",
   "metadata": {},
   "outputs": [
    {
     "name": "stdout",
     "output_type": "stream",
     "text": [
      "abcde\bf\n"
     ]
    }
   ],
   "source": [
    "print('abcde\\bf')"
   ]
  },
  {
   "cell_type": "code",
   "execution_count": 7,
   "id": "b7c0381d",
   "metadata": {},
   "outputs": [
    {
     "name": "stdout",
     "output_type": "stream",
     "text": [
      "abcde\r",
      "f\n"
     ]
    }
   ],
   "source": [
    "print('abcde\\rf')"
   ]
  },
  {
   "cell_type": "code",
   "execution_count": 8,
   "id": "ddc79f64",
   "metadata": {},
   "outputs": [
    {
     "name": "stdout",
     "output_type": "stream",
     "text": [
      "1\t2\t3\n",
      "100\t200\t300\n"
     ]
    }
   ],
   "source": [
    "print('1\\t2\\t3')\n",
    "print('100\\t200\\t300')"
   ]
  },
  {
   "cell_type": "markdown",
   "id": "f695bb9d",
   "metadata": {},
   "source": [
    "## 1.3 查看帮助文件"
   ]
  },
  {
   "cell_type": "code",
   "execution_count": 9,
   "id": "7f7ddd7b",
   "metadata": {},
   "outputs": [
    {
     "name": "stdout",
     "output_type": "stream",
     "text": [
      "Help on built-in function print in module builtins:\n",
      "\n",
      "print(...)\n",
      "    print(value, ..., sep=' ', end='\\n', file=sys.stdout, flush=False)\n",
      "    \n",
      "    Prints the values to a stream, or to sys.stdout by default.\n",
      "    Optional keyword arguments:\n",
      "    file:  a file-like object (stream); defaults to the current sys.stdout.\n",
      "    sep:   string inserted between values, default a space.\n",
      "    end:   string appended after the last value, default a newline.\n",
      "    flush: whether to forcibly flush the stream.\n",
      "\n"
     ]
    }
   ],
   "source": [
    "help(print)"
   ]
  },
  {
   "cell_type": "code",
   "execution_count": 10,
   "id": "3e376a2a",
   "metadata": {},
   "outputs": [],
   "source": [
    "print?"
   ]
  }
 ],
 "metadata": {
  "kernelspec": {
   "display_name": "Python 3 (ipykernel)",
   "language": "python",
   "name": "python3"
  },
  "language_info": {
   "codemirror_mode": {
    "name": "ipython",
    "version": 3
   },
   "file_extension": ".py",
   "mimetype": "text/x-python",
   "name": "python",
   "nbconvert_exporter": "python",
   "pygments_lexer": "ipython3",
   "version": "3.9.6"
  }
 },
 "nbformat": 4,
 "nbformat_minor": 5
}
