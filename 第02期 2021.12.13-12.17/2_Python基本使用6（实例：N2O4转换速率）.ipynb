{
 "cells": [
  {
   "cell_type": "markdown",
   "id": "b9cc0daf",
   "metadata": {},
   "source": [
    "# 2.8 实操：N2O4转换速率"
   ]
  },
  {
   "cell_type": "markdown",
   "id": "1da2f7a5",
   "metadata": {},
   "source": [
    "转换反应：N2O4 = 2NO2"
   ]
  },
  {
   "cell_type": "markdown",
   "id": "f9bd6644",
   "metadata": {},
   "source": [
    "在一定温度及压力下， N2O4分解有0.50（摩尔分数）分解为NO2，若压力变为原来的2倍、4倍、8倍， N2O4的解离分数分别为多少？"
   ]
  },
  {
   "cell_type": "code",
   "execution_count": 1,
   "id": "ac0ba557",
   "metadata": {},
   "outputs": [],
   "source": [
    "def res(n):\n",
    "    return (1 / (3 * n + 1)) ** 0.5"
   ]
  },
  {
   "cell_type": "code",
   "execution_count": 2,
   "id": "3c59db8a",
   "metadata": {},
   "outputs": [
    {
     "data": {
      "text/plain": [
       "0.5"
      ]
     },
     "execution_count": 2,
     "metadata": {},
     "output_type": "execute_result"
    }
   ],
   "source": [
    "res(1)"
   ]
  },
  {
   "cell_type": "code",
   "execution_count": 3,
   "id": "ddca5ab9",
   "metadata": {},
   "outputs": [
    {
     "data": {
      "text/plain": [
       "0.3779644730092272"
      ]
     },
     "execution_count": 3,
     "metadata": {},
     "output_type": "execute_result"
    }
   ],
   "source": [
    "res(2)"
   ]
  },
  {
   "cell_type": "code",
   "execution_count": 4,
   "id": "014fb33a",
   "metadata": {},
   "outputs": [
    {
     "data": {
      "text/plain": [
       "0.2773500981126146"
      ]
     },
     "execution_count": 4,
     "metadata": {},
     "output_type": "execute_result"
    }
   ],
   "source": [
    "res(4)"
   ]
  },
  {
   "cell_type": "code",
   "execution_count": 5,
   "id": "7bb286af",
   "metadata": {},
   "outputs": [
    {
     "data": {
      "text/plain": [
       "0.2"
      ]
     },
     "execution_count": 5,
     "metadata": {},
     "output_type": "execute_result"
    }
   ],
   "source": [
    "res(8)"
   ]
  }
 ],
 "metadata": {
  "kernelspec": {
   "display_name": "Python 3 (ipykernel)",
   "language": "python",
   "name": "python3"
  },
  "language_info": {
   "codemirror_mode": {
    "name": "ipython",
    "version": 3
   },
   "file_extension": ".py",
   "mimetype": "text/x-python",
   "name": "python",
   "nbconvert_exporter": "python",
   "pygments_lexer": "ipython3",
   "version": "3.9.6"
  }
 },
 "nbformat": 4,
 "nbformat_minor": 5
}
