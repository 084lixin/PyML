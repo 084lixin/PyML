{
 "cells": [
  {
   "cell_type": "markdown",
   "id": "ba2e7992",
   "metadata": {},
   "source": [
    "## 5.3 交叉验证"
   ]
  },
  {
   "cell_type": "code",
   "execution_count": 1,
   "id": "303a8714",
   "metadata": {},
   "outputs": [],
   "source": [
    "from sklearn.datasets import fetch_openml\n",
    "from sklearn.linear_model import LinearRegression\n",
    "from sklearn.model_selection import cross_val_score"
   ]
  },
  {
   "cell_type": "markdown",
   "id": "00177939",
   "metadata": {},
   "source": [
    "### 5.3.1 导入Ames房价数据集"
   ]
  },
  {
   "cell_type": "code",
   "execution_count": 2,
   "id": "49c41795",
   "metadata": {},
   "outputs": [],
   "source": [
    "house = fetch_openml(name = 'house_prices', as_frame=True)"
   ]
  },
  {
   "cell_type": "code",
   "execution_count": 3,
   "id": "987d4193",
   "metadata": {
    "scrolled": false
   },
   "outputs": [
    {
     "data": {
      "text/html": [
       "<div>\n",
       "<style scoped>\n",
       "    .dataframe tbody tr th:only-of-type {\n",
       "        vertical-align: middle;\n",
       "    }\n",
       "\n",
       "    .dataframe tbody tr th {\n",
       "        vertical-align: top;\n",
       "    }\n",
       "\n",
       "    .dataframe thead th {\n",
       "        text-align: right;\n",
       "    }\n",
       "</style>\n",
       "<table border=\"1\" class=\"dataframe\">\n",
       "  <thead>\n",
       "    <tr style=\"text-align: right;\">\n",
       "      <th></th>\n",
       "      <th>Id</th>\n",
       "      <th>MSSubClass</th>\n",
       "      <th>MSZoning</th>\n",
       "      <th>LotFrontage</th>\n",
       "      <th>LotArea</th>\n",
       "      <th>Street</th>\n",
       "      <th>Alley</th>\n",
       "      <th>LotShape</th>\n",
       "      <th>LandContour</th>\n",
       "      <th>Utilities</th>\n",
       "      <th>...</th>\n",
       "      <th>ScreenPorch</th>\n",
       "      <th>PoolArea</th>\n",
       "      <th>PoolQC</th>\n",
       "      <th>Fence</th>\n",
       "      <th>MiscFeature</th>\n",
       "      <th>MiscVal</th>\n",
       "      <th>MoSold</th>\n",
       "      <th>YrSold</th>\n",
       "      <th>SaleType</th>\n",
       "      <th>SaleCondition</th>\n",
       "    </tr>\n",
       "  </thead>\n",
       "  <tbody>\n",
       "    <tr>\n",
       "      <th>0</th>\n",
       "      <td>1.0</td>\n",
       "      <td>60.0</td>\n",
       "      <td>RL</td>\n",
       "      <td>65.0</td>\n",
       "      <td>8450.0</td>\n",
       "      <td>Pave</td>\n",
       "      <td>None</td>\n",
       "      <td>Reg</td>\n",
       "      <td>Lvl</td>\n",
       "      <td>AllPub</td>\n",
       "      <td>...</td>\n",
       "      <td>0.0</td>\n",
       "      <td>0.0</td>\n",
       "      <td>None</td>\n",
       "      <td>None</td>\n",
       "      <td>None</td>\n",
       "      <td>0.0</td>\n",
       "      <td>2.0</td>\n",
       "      <td>2008.0</td>\n",
       "      <td>WD</td>\n",
       "      <td>Normal</td>\n",
       "    </tr>\n",
       "    <tr>\n",
       "      <th>1</th>\n",
       "      <td>2.0</td>\n",
       "      <td>20.0</td>\n",
       "      <td>RL</td>\n",
       "      <td>80.0</td>\n",
       "      <td>9600.0</td>\n",
       "      <td>Pave</td>\n",
       "      <td>None</td>\n",
       "      <td>Reg</td>\n",
       "      <td>Lvl</td>\n",
       "      <td>AllPub</td>\n",
       "      <td>...</td>\n",
       "      <td>0.0</td>\n",
       "      <td>0.0</td>\n",
       "      <td>None</td>\n",
       "      <td>None</td>\n",
       "      <td>None</td>\n",
       "      <td>0.0</td>\n",
       "      <td>5.0</td>\n",
       "      <td>2007.0</td>\n",
       "      <td>WD</td>\n",
       "      <td>Normal</td>\n",
       "    </tr>\n",
       "    <tr>\n",
       "      <th>2</th>\n",
       "      <td>3.0</td>\n",
       "      <td>60.0</td>\n",
       "      <td>RL</td>\n",
       "      <td>68.0</td>\n",
       "      <td>11250.0</td>\n",
       "      <td>Pave</td>\n",
       "      <td>None</td>\n",
       "      <td>IR1</td>\n",
       "      <td>Lvl</td>\n",
       "      <td>AllPub</td>\n",
       "      <td>...</td>\n",
       "      <td>0.0</td>\n",
       "      <td>0.0</td>\n",
       "      <td>None</td>\n",
       "      <td>None</td>\n",
       "      <td>None</td>\n",
       "      <td>0.0</td>\n",
       "      <td>9.0</td>\n",
       "      <td>2008.0</td>\n",
       "      <td>WD</td>\n",
       "      <td>Normal</td>\n",
       "    </tr>\n",
       "    <tr>\n",
       "      <th>3</th>\n",
       "      <td>4.0</td>\n",
       "      <td>70.0</td>\n",
       "      <td>RL</td>\n",
       "      <td>60.0</td>\n",
       "      <td>9550.0</td>\n",
       "      <td>Pave</td>\n",
       "      <td>None</td>\n",
       "      <td>IR1</td>\n",
       "      <td>Lvl</td>\n",
       "      <td>AllPub</td>\n",
       "      <td>...</td>\n",
       "      <td>0.0</td>\n",
       "      <td>0.0</td>\n",
       "      <td>None</td>\n",
       "      <td>None</td>\n",
       "      <td>None</td>\n",
       "      <td>0.0</td>\n",
       "      <td>2.0</td>\n",
       "      <td>2006.0</td>\n",
       "      <td>WD</td>\n",
       "      <td>Abnorml</td>\n",
       "    </tr>\n",
       "    <tr>\n",
       "      <th>4</th>\n",
       "      <td>5.0</td>\n",
       "      <td>60.0</td>\n",
       "      <td>RL</td>\n",
       "      <td>84.0</td>\n",
       "      <td>14260.0</td>\n",
       "      <td>Pave</td>\n",
       "      <td>None</td>\n",
       "      <td>IR1</td>\n",
       "      <td>Lvl</td>\n",
       "      <td>AllPub</td>\n",
       "      <td>...</td>\n",
       "      <td>0.0</td>\n",
       "      <td>0.0</td>\n",
       "      <td>None</td>\n",
       "      <td>None</td>\n",
       "      <td>None</td>\n",
       "      <td>0.0</td>\n",
       "      <td>12.0</td>\n",
       "      <td>2008.0</td>\n",
       "      <td>WD</td>\n",
       "      <td>Normal</td>\n",
       "    </tr>\n",
       "    <tr>\n",
       "      <th>...</th>\n",
       "      <td>...</td>\n",
       "      <td>...</td>\n",
       "      <td>...</td>\n",
       "      <td>...</td>\n",
       "      <td>...</td>\n",
       "      <td>...</td>\n",
       "      <td>...</td>\n",
       "      <td>...</td>\n",
       "      <td>...</td>\n",
       "      <td>...</td>\n",
       "      <td>...</td>\n",
       "      <td>...</td>\n",
       "      <td>...</td>\n",
       "      <td>...</td>\n",
       "      <td>...</td>\n",
       "      <td>...</td>\n",
       "      <td>...</td>\n",
       "      <td>...</td>\n",
       "      <td>...</td>\n",
       "      <td>...</td>\n",
       "      <td>...</td>\n",
       "    </tr>\n",
       "    <tr>\n",
       "      <th>1455</th>\n",
       "      <td>1456.0</td>\n",
       "      <td>60.0</td>\n",
       "      <td>RL</td>\n",
       "      <td>62.0</td>\n",
       "      <td>7917.0</td>\n",
       "      <td>Pave</td>\n",
       "      <td>None</td>\n",
       "      <td>Reg</td>\n",
       "      <td>Lvl</td>\n",
       "      <td>AllPub</td>\n",
       "      <td>...</td>\n",
       "      <td>0.0</td>\n",
       "      <td>0.0</td>\n",
       "      <td>None</td>\n",
       "      <td>None</td>\n",
       "      <td>None</td>\n",
       "      <td>0.0</td>\n",
       "      <td>8.0</td>\n",
       "      <td>2007.0</td>\n",
       "      <td>WD</td>\n",
       "      <td>Normal</td>\n",
       "    </tr>\n",
       "    <tr>\n",
       "      <th>1456</th>\n",
       "      <td>1457.0</td>\n",
       "      <td>20.0</td>\n",
       "      <td>RL</td>\n",
       "      <td>85.0</td>\n",
       "      <td>13175.0</td>\n",
       "      <td>Pave</td>\n",
       "      <td>None</td>\n",
       "      <td>Reg</td>\n",
       "      <td>Lvl</td>\n",
       "      <td>AllPub</td>\n",
       "      <td>...</td>\n",
       "      <td>0.0</td>\n",
       "      <td>0.0</td>\n",
       "      <td>None</td>\n",
       "      <td>MnPrv</td>\n",
       "      <td>None</td>\n",
       "      <td>0.0</td>\n",
       "      <td>2.0</td>\n",
       "      <td>2010.0</td>\n",
       "      <td>WD</td>\n",
       "      <td>Normal</td>\n",
       "    </tr>\n",
       "    <tr>\n",
       "      <th>1457</th>\n",
       "      <td>1458.0</td>\n",
       "      <td>70.0</td>\n",
       "      <td>RL</td>\n",
       "      <td>66.0</td>\n",
       "      <td>9042.0</td>\n",
       "      <td>Pave</td>\n",
       "      <td>None</td>\n",
       "      <td>Reg</td>\n",
       "      <td>Lvl</td>\n",
       "      <td>AllPub</td>\n",
       "      <td>...</td>\n",
       "      <td>0.0</td>\n",
       "      <td>0.0</td>\n",
       "      <td>None</td>\n",
       "      <td>GdPrv</td>\n",
       "      <td>Shed</td>\n",
       "      <td>2500.0</td>\n",
       "      <td>5.0</td>\n",
       "      <td>2010.0</td>\n",
       "      <td>WD</td>\n",
       "      <td>Normal</td>\n",
       "    </tr>\n",
       "    <tr>\n",
       "      <th>1458</th>\n",
       "      <td>1459.0</td>\n",
       "      <td>20.0</td>\n",
       "      <td>RL</td>\n",
       "      <td>68.0</td>\n",
       "      <td>9717.0</td>\n",
       "      <td>Pave</td>\n",
       "      <td>None</td>\n",
       "      <td>Reg</td>\n",
       "      <td>Lvl</td>\n",
       "      <td>AllPub</td>\n",
       "      <td>...</td>\n",
       "      <td>0.0</td>\n",
       "      <td>0.0</td>\n",
       "      <td>None</td>\n",
       "      <td>None</td>\n",
       "      <td>None</td>\n",
       "      <td>0.0</td>\n",
       "      <td>4.0</td>\n",
       "      <td>2010.0</td>\n",
       "      <td>WD</td>\n",
       "      <td>Normal</td>\n",
       "    </tr>\n",
       "    <tr>\n",
       "      <th>1459</th>\n",
       "      <td>1460.0</td>\n",
       "      <td>20.0</td>\n",
       "      <td>RL</td>\n",
       "      <td>75.0</td>\n",
       "      <td>9937.0</td>\n",
       "      <td>Pave</td>\n",
       "      <td>None</td>\n",
       "      <td>Reg</td>\n",
       "      <td>Lvl</td>\n",
       "      <td>AllPub</td>\n",
       "      <td>...</td>\n",
       "      <td>0.0</td>\n",
       "      <td>0.0</td>\n",
       "      <td>None</td>\n",
       "      <td>None</td>\n",
       "      <td>None</td>\n",
       "      <td>0.0</td>\n",
       "      <td>6.0</td>\n",
       "      <td>2008.0</td>\n",
       "      <td>WD</td>\n",
       "      <td>Normal</td>\n",
       "    </tr>\n",
       "  </tbody>\n",
       "</table>\n",
       "<p>1460 rows × 80 columns</p>\n",
       "</div>"
      ],
      "text/plain": [
       "          Id  MSSubClass MSZoning  LotFrontage  LotArea Street Alley LotShape  \\\n",
       "0        1.0        60.0       RL         65.0   8450.0   Pave  None      Reg   \n",
       "1        2.0        20.0       RL         80.0   9600.0   Pave  None      Reg   \n",
       "2        3.0        60.0       RL         68.0  11250.0   Pave  None      IR1   \n",
       "3        4.0        70.0       RL         60.0   9550.0   Pave  None      IR1   \n",
       "4        5.0        60.0       RL         84.0  14260.0   Pave  None      IR1   \n",
       "...      ...         ...      ...          ...      ...    ...   ...      ...   \n",
       "1455  1456.0        60.0       RL         62.0   7917.0   Pave  None      Reg   \n",
       "1456  1457.0        20.0       RL         85.0  13175.0   Pave  None      Reg   \n",
       "1457  1458.0        70.0       RL         66.0   9042.0   Pave  None      Reg   \n",
       "1458  1459.0        20.0       RL         68.0   9717.0   Pave  None      Reg   \n",
       "1459  1460.0        20.0       RL         75.0   9937.0   Pave  None      Reg   \n",
       "\n",
       "     LandContour Utilities  ... ScreenPorch PoolArea PoolQC  Fence  \\\n",
       "0            Lvl    AllPub  ...         0.0      0.0   None   None   \n",
       "1            Lvl    AllPub  ...         0.0      0.0   None   None   \n",
       "2            Lvl    AllPub  ...         0.0      0.0   None   None   \n",
       "3            Lvl    AllPub  ...         0.0      0.0   None   None   \n",
       "4            Lvl    AllPub  ...         0.0      0.0   None   None   \n",
       "...          ...       ...  ...         ...      ...    ...    ...   \n",
       "1455         Lvl    AllPub  ...         0.0      0.0   None   None   \n",
       "1456         Lvl    AllPub  ...         0.0      0.0   None  MnPrv   \n",
       "1457         Lvl    AllPub  ...         0.0      0.0   None  GdPrv   \n",
       "1458         Lvl    AllPub  ...         0.0      0.0   None   None   \n",
       "1459         Lvl    AllPub  ...         0.0      0.0   None   None   \n",
       "\n",
       "     MiscFeature MiscVal MoSold  YrSold  SaleType  SaleCondition  \n",
       "0           None     0.0    2.0  2008.0        WD         Normal  \n",
       "1           None     0.0    5.0  2007.0        WD         Normal  \n",
       "2           None     0.0    9.0  2008.0        WD         Normal  \n",
       "3           None     0.0    2.0  2006.0        WD        Abnorml  \n",
       "4           None     0.0   12.0  2008.0        WD         Normal  \n",
       "...          ...     ...    ...     ...       ...            ...  \n",
       "1455        None     0.0    8.0  2007.0        WD         Normal  \n",
       "1456        None     0.0    2.0  2010.0        WD         Normal  \n",
       "1457        Shed  2500.0    5.0  2010.0        WD         Normal  \n",
       "1458        None     0.0    4.0  2010.0        WD         Normal  \n",
       "1459        None     0.0    6.0  2008.0        WD         Normal  \n",
       "\n",
       "[1460 rows x 80 columns]"
      ]
     },
     "execution_count": 3,
     "metadata": {},
     "output_type": "execute_result"
    }
   ],
   "source": [
    "house.data"
   ]
  },
  {
   "cell_type": "code",
   "execution_count": 4,
   "id": "c020c77d",
   "metadata": {},
   "outputs": [
    {
     "name": "stdout",
     "output_type": "stream",
     "text": [
      "samples total = 1460\n",
      "8450.0\n",
      "208500.0\n",
      "9600.0\n",
      "181500.0\n",
      "11250.0\n",
      "223500.0\n"
     ]
    }
   ],
   "source": [
    "print('samples total = '+str(len(house.target)))\n",
    "for i in range(3):\n",
    "    print(house.data['LotArea'][i])\n",
    "    print(house.target[i])"
   ]
  },
  {
   "cell_type": "code",
   "execution_count": 5,
   "id": "98e71b80",
   "metadata": {},
   "outputs": [
    {
     "data": {
      "image/png": "[encoded data removed]",
      "text/plain": [
       "<Figure size 360x360 with 1 Axes>"
      ]
     },
     "metadata": {
      "needs_background": "light"
     },
     "output_type": "display_data"
    }
   ],
   "source": [
    "import matplotlib.pyplot as plt\n",
    "\n",
    "plt.figure(figsize = (5, 5))\n",
    "plt.scatter(house.data['LotArea'], house.target)\n",
    "plt.show()"
   ]
  },
  {
   "cell_type": "markdown",
   "id": "1d8dd4ec",
   "metadata": {},
   "source": [
    "### 5.3.2 拟合整个模型"
   ]
  },
  {
   "cell_type": "code",
   "execution_count": 6,
   "id": "578961a6",
   "metadata": {},
   "outputs": [
    {
     "name": "stdout",
     "output_type": "stream",
     "text": [
      "[2.09997195] 158836.15189687657\n"
     ]
    }
   ],
   "source": [
    "import numpy as np\n",
    "\n",
    "X = np.array(house.data['LotArea'])\n",
    "y = house.target\n",
    "\n",
    "lr = LinearRegression()\n",
    "\n",
    "lr.fit(X.reshape(-1,1), y)\n",
    "print(lr.coef_,lr.intercept_)"
   ]
  },
  {
   "cell_type": "code",
   "execution_count": 7,
   "id": "d5f52a77",
   "metadata": {},
   "outputs": [
    {
     "name": "stdout",
     "output_type": "stream",
     "text": [
      "RMSE = 76601.254\n",
      "R2 = 0.0696133153821119\n"
     ]
    }
   ],
   "source": [
    "from sklearn.metrics import mean_squared_error\n",
    "\n",
    "print('RMSE = %.3f'%np.sqrt(mean_squared_error(y_true=y, y_pred=lr.predict(X.reshape(-1, 1)))))\n",
    "R2 = lr.score(X.reshape(-1,1),y)\n",
    "print(\"R2 = \" + str(R2))"
   ]
  },
  {
   "cell_type": "code",
   "execution_count": 8,
   "id": "98742667",
   "metadata": {},
   "outputs": [
    {
     "data": {
      "image/png": "[encoded data removed]",
      "text/plain": [
       "<Figure size 360x360 with 1 Axes>"
      ]
     },
     "metadata": {
      "needs_background": "light"
     },
     "output_type": "display_data"
    }
   ],
   "source": [
    "plt.figure(figsize = (5, 5))\n",
    "plt.scatter(house.data['LotArea'], house.target)\n",
    "plot_x = np.linspace(0, 200000, 10)\n",
    "plot_y = plot_x * lr.coef_ + lr.intercept_\n",
    "plt.plot(plot_x, plot_y, c = 'r')\n",
    "\n",
    "plt.show()"
   ]
  },
  {
   "cell_type": "markdown",
   "id": "b9cd4569",
   "metadata": {},
   "source": [
    "### 5.3.3 留出法"
   ]
  },
  {
   "cell_type": "code",
   "execution_count": 9,
   "id": "d02c74a4",
   "metadata": {},
   "outputs": [
    {
     "data": {
      "text/plain": [
       "438.0"
      ]
     },
     "execution_count": 9,
     "metadata": {},
     "output_type": "execute_result"
    }
   ],
   "source": [
    "1460*0.3"
   ]
  },
  {
   "cell_type": "code",
   "execution_count": 10,
   "id": "a7c39495",
   "metadata": {},
   "outputs": [],
   "source": [
    "X_lo_train = X[:-400]\n",
    "y_lo_train = y[:-400]\n",
    "X_lo_test = X[-400:]\n",
    "y_lo_test = y[-400:]"
   ]
  },
  {
   "cell_type": "code",
   "execution_count": 11,
   "id": "35b500d7",
   "metadata": {},
   "outputs": [
    {
     "name": "stdout",
     "output_type": "stream",
     "text": [
      "[1.90680178] 161933.31484947674\n"
     ]
    }
   ],
   "source": [
    "lr_lo = LinearRegression()\n",
    "lr_lo.fit(X_lo_train.reshape(-1, 1), y_lo_train)\n",
    "print(lr_lo.coef_,lr_lo.intercept_)"
   ]
  },
  {
   "cell_type": "code",
   "execution_count": 12,
   "id": "d63b7c4b",
   "metadata": {},
   "outputs": [
    {
     "name": "stdout",
     "output_type": "stream",
     "text": [
      "RMSE = 74231.559\n",
      "R2 = 0.06326085917192104\n"
     ]
    }
   ],
   "source": [
    "R2_lo = lr_lo.score(X_lo_test.reshape(-1, 1),y_lo_test)\n",
    "print('RMSE = %.3f'% np.sqrt(mean_squared_error(y_true = y_lo_test, y_pred = lr_lo.predict(X_lo_test.reshape(-1, 1)))))\n",
    "print(\"R2 = \" + str(R2_lo))"
   ]
  },
  {
   "cell_type": "markdown",
   "id": "db5a11b2",
   "metadata": {},
   "source": [
    "### 5.3.4 交叉验证法"
   ]
  },
  {
   "cell_type": "markdown",
   "id": "60583b02",
   "metadata": {},
   "source": [
    "#### 5.3.4.1 留一法（Leave-One-Out, LOO）"
   ]
  },
  {
   "cell_type": "code",
   "execution_count": 13,
   "id": "9b496714",
   "metadata": {},
   "outputs": [
    {
     "name": "stdout",
     "output_type": "stream",
     "text": [
      "[1 2 3 4] [0]\n",
      "[0 2 3 4] [1]\n",
      "[0 1 3 4] [2]\n",
      "[0 1 2 4] [3]\n",
      "[0 1 2 3] [4]\n"
     ]
    }
   ],
   "source": [
    "from sklearn.model_selection import LeaveOneOut\n",
    "\n",
    "sample_x = range(5)\n",
    "loo = LeaveOneOut()\n",
    "for train, test in loo.split(sample_x):\n",
    "    print(train,test)"
   ]
  },
  {
   "cell_type": "code",
   "execution_count": 14,
   "id": "89ea1daf",
   "metadata": {},
   "outputs": [
    {
     "name": "stdout",
     "output_type": "stream",
     "text": [
      "Folds: 1460, mean RMSE: 55310.496\n"
     ]
    }
   ],
   "source": [
    "from sklearn.model_selection import KFold\n",
    "\n",
    "crossvalidation = KFold(n_splits = len(X))\n",
    "rmse_scores = cross_val_score(lr, X.reshape(-1, 1), y, scoring = 'neg_root_mean_squared_error', cv=crossvalidation)\n",
    "print('Folds: %i, mean RMSE: %.3f' % (len(rmse_scores), -np.mean(rmse_scores)))"
   ]
  },
  {
   "cell_type": "markdown",
   "id": "3885c504",
   "metadata": {},
   "source": [
    "#### 5.3.4.2 留P法（Leave-P-Out, LPO）"
   ]
  },
  {
   "cell_type": "code",
   "execution_count": 15,
   "id": "4d2fdcde",
   "metadata": {},
   "outputs": [],
   "source": [
    "from sklearn.model_selection import LeavePOut"
   ]
  },
  {
   "cell_type": "code",
   "execution_count": 16,
   "id": "6b0be415",
   "metadata": {
    "scrolled": true
   },
   "outputs": [
    {
     "name": "stdout",
     "output_type": "stream",
     "text": [
      "[2 3 4] [0 1]\n",
      "[1 3 4] [0 2]\n",
      "[1 2 4] [0 3]\n",
      "[1 2 3] [0 4]\n",
      "[0 3 4] [1 2]\n",
      "[0 2 4] [1 3]\n",
      "[0 2 3] [1 4]\n",
      "[0 1 4] [2 3]\n",
      "[0 1 3] [2 4]\n",
      "[0 1 2] [3 4]\n"
     ]
    }
   ],
   "source": [
    "sample_x = np.zeros(5)\n",
    "lpo = LeavePOut(p = 2)\n",
    "for train, test in lpo.split(sample_x):\n",
    "    print(train,test)"
   ]
  },
  {
   "cell_type": "markdown",
   "id": "63706a4e",
   "metadata": {},
   "source": [
    "#### 5.3.4.3 10折交叉验证"
   ]
  },
  {
   "cell_type": "code",
   "execution_count": 17,
   "id": "df3b148f",
   "metadata": {},
   "outputs": [
    {
     "name": "stdout",
     "output_type": "stream",
     "text": [
      "Folds: 10, mean R2: 0.033\n",
      "Folds: 10, mean RMSE: 77311.496\n"
     ]
    }
   ],
   "source": [
    "crossvalidation = KFold(n_splits=10)\n",
    "R2_scores = cross_val_score(lr, X.reshape(-1, 1), y, cv=crossvalidation)\n",
    "rmse_scores = cross_val_score(lr, X.reshape(-1, 1), y, scoring='neg_root_mean_squared_error', cv=crossvalidation)\n",
    "print('Folds: %i, mean R2: %.3f' % (len(R2_scores), np.mean(R2_scores)))\n",
    "print('Folds: %i, mean RMSE: %.3f' % (len(rmse_scores), np.mean(-rmse_scores)))"
   ]
  }
 ],
 "metadata": {
  "kernelspec": {
   "display_name": "Python 3 (ipykernel)",
   "language": "python",
   "name": "python3"
  },
  "language_info": {
   "codemirror_mode": {
    "name": "ipython",
    "version": 3
   },
   "file_extension": ".py",
   "mimetype": "text/x-python",
   "name": "python",
   "nbconvert_exporter": "python",
   "pygments_lexer": "ipython3",
   "version": "3.9.6"
  }
 },
 "nbformat": 4,
 "nbformat_minor": 5
}
