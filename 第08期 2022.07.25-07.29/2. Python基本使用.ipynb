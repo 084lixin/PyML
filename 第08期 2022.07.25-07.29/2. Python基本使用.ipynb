{
 "cells": [
  {
   "cell_type": "code",
   "execution_count": 1,
   "id": "72b89e34",
   "metadata": {},
   "outputs": [
    {
     "name": "stdout",
     "output_type": "stream",
     "text": [
      "Hello world\n"
     ]
    }
   ],
   "source": [
    "a = 'Hello world'\n",
    "print(a)"
   ]
  },
  {
   "cell_type": "code",
   "execution_count": 2,
   "id": "e35dfbf6",
   "metadata": {},
   "outputs": [
    {
     "name": "stdout",
     "output_type": "stream",
     "text": [
      "Huan\n",
      "Hello Huan !\n"
     ]
    }
   ],
   "source": [
    "name = input()\n",
    "print('Hello', name, '!')"
   ]
  },
  {
   "cell_type": "code",
   "execution_count": 7,
   "id": "75bd8500",
   "metadata": {},
   "outputs": [],
   "source": [
    "a = '755.0'"
   ]
  },
  {
   "cell_type": "code",
   "execution_count": 8,
   "id": "f7280363",
   "metadata": {},
   "outputs": [
    {
     "data": {
      "text/plain": [
       "str"
      ]
     },
     "execution_count": 8,
     "metadata": {},
     "output_type": "execute_result"
    }
   ],
   "source": [
    "type(a)"
   ]
  },
  {
   "cell_type": "code",
   "execution_count": 10,
   "id": "311b26eb",
   "metadata": {},
   "outputs": [
    {
     "data": {
      "text/plain": [
       "-3"
      ]
     },
     "execution_count": 10,
     "metadata": {},
     "output_type": "execute_result"
    }
   ],
   "source": [
    "a = -5\n",
    "b = 2\n",
    "a // b"
   ]
  },
  {
   "cell_type": "code",
   "execution_count": 12,
   "id": "d8d042ec",
   "metadata": {},
   "outputs": [],
   "source": [
    "a = '5'\n",
    "b = 1"
   ]
  },
  {
   "cell_type": "code",
   "execution_count": 15,
   "id": "e8be9aac",
   "metadata": {},
   "outputs": [
    {
     "name": "stdout",
     "output_type": "stream",
     "text": [
      "6\n"
     ]
    }
   ],
   "source": [
    "print(int(a) + b)"
   ]
  },
  {
   "cell_type": "code",
   "execution_count": 16,
   "id": "32e3f841",
   "metadata": {},
   "outputs": [],
   "source": [
    "a = 3.4\n",
    "b = 3.5"
   ]
  },
  {
   "cell_type": "code",
   "execution_count": 18,
   "id": "73575af2",
   "metadata": {},
   "outputs": [
    {
     "name": "stdout",
     "output_type": "stream",
     "text": [
      "3 3\n"
     ]
    }
   ],
   "source": [
    "print(int(a), int(b))"
   ]
  },
  {
   "cell_type": "code",
   "execution_count": 20,
   "id": "9e71cefd",
   "metadata": {},
   "outputs": [
    {
     "name": "stdout",
     "output_type": "stream",
     "text": [
      "3 4\n"
     ]
    }
   ],
   "source": [
    "print(round(a), round(b))"
   ]
  },
  {
   "cell_type": "code",
   "execution_count": 21,
   "id": "1dfe42e1",
   "metadata": {},
   "outputs": [
    {
     "name": "stdout",
     "output_type": "stream",
     "text": [
      "Input the temperature in Celsius:\n",
      "100\n",
      "Kevin temperature is 373.15 K\n"
     ]
    }
   ],
   "source": [
    "print('Input the temperature in Celsius:')\n",
    "T = input()\n",
    "T = float(T) + 273.15\n",
    "print('Kevin temperature is', T, 'K')"
   ]
  },
  {
   "cell_type": "code",
   "execution_count": 22,
   "id": "92974bc1",
   "metadata": {},
   "outputs": [
    {
     "name": "stdout",
     "output_type": "stream",
     "text": [
      "1 1 1 1\n"
     ]
    }
   ],
   "source": [
    "a = b = c = d = 1\n",
    "print(a, b, c, d)"
   ]
  },
  {
   "cell_type": "code",
   "execution_count": 23,
   "id": "5b90db1c",
   "metadata": {},
   "outputs": [
    {
     "name": "stdout",
     "output_type": "stream",
     "text": [
      "[1, 2, 3, 4, 5]\n"
     ]
    }
   ],
   "source": [
    "a = [1, 2, 3, 4, 5]\n",
    "print(a)"
   ]
  },
  {
   "cell_type": "code",
   "execution_count": 26,
   "id": "40b8aaaa",
   "metadata": {},
   "outputs": [
    {
     "data": {
      "text/plain": [
       "[9, 2, 3, 4, 5]"
      ]
     },
     "execution_count": 26,
     "metadata": {},
     "output_type": "execute_result"
    }
   ],
   "source": [
    "a[0] = 9\n",
    "a"
   ]
  },
  {
   "cell_type": "code",
   "execution_count": 27,
   "id": "aca2be31",
   "metadata": {},
   "outputs": [
    {
     "data": {
      "text/plain": [
       "5"
      ]
     },
     "execution_count": 27,
     "metadata": {},
     "output_type": "execute_result"
    }
   ],
   "source": [
    "a[-1]"
   ]
  },
  {
   "cell_type": "code",
   "execution_count": 28,
   "id": "41e4ca29",
   "metadata": {},
   "outputs": [],
   "source": [
    "list_a = ['uv', 255, 345, 'cm-1', 10]\n",
    "list_b = ['res', 123]"
   ]
  },
  {
   "cell_type": "code",
   "execution_count": 29,
   "id": "de9fbf8d",
   "metadata": {},
   "outputs": [
    {
     "data": {
      "text/plain": [
       "[255, 345]"
      ]
     },
     "execution_count": 29,
     "metadata": {},
     "output_type": "execute_result"
    }
   ],
   "source": [
    "list_a[1:3]"
   ]
  },
  {
   "cell_type": "code",
   "execution_count": 31,
   "id": "96d294ec",
   "metadata": {},
   "outputs": [
    {
     "data": {
      "text/plain": [
       "['cm-1', 10]"
      ]
     },
     "execution_count": 31,
     "metadata": {},
     "output_type": "execute_result"
    }
   ],
   "source": [
    "list_a[3:]"
   ]
  },
  {
   "cell_type": "code",
   "execution_count": 32,
   "id": "ff2754c9",
   "metadata": {},
   "outputs": [
    {
     "data": {
      "text/plain": [
       "['uv', 255, 345, 'cm-1', 10, 'res', 123]"
      ]
     },
     "execution_count": 32,
     "metadata": {},
     "output_type": "execute_result"
    }
   ],
   "source": [
    "list_a + list_b"
   ]
  },
  {
   "cell_type": "code",
   "execution_count": 33,
   "id": "cfefd5ec",
   "metadata": {},
   "outputs": [
    {
     "data": {
      "text/plain": [
       "['uv', 255, 345, 'cm-1', 10, 'uv', 255, 345, 'cm-1', 10]"
      ]
     },
     "execution_count": 33,
     "metadata": {},
     "output_type": "execute_result"
    }
   ],
   "source": [
    "list_a * 2"
   ]
  },
  {
   "cell_type": "code",
   "execution_count": 36,
   "id": "1eb89467",
   "metadata": {},
   "outputs": [
    {
     "data": {
      "text/plain": [
       "[1, 3, 5, 7, 9]"
      ]
     },
     "execution_count": 36,
     "metadata": {},
     "output_type": "execute_result"
    }
   ],
   "source": [
    "list_a = list(range(1, 10, 2))\n",
    "list_a"
   ]
  },
  {
   "cell_type": "code",
   "execution_count": 38,
   "id": "425a3def",
   "metadata": {},
   "outputs": [
    {
     "data": {
      "text/plain": [
       "[0, 1, 2, 3, 4, 5, 6, 7, 8, 9]"
      ]
     },
     "execution_count": 38,
     "metadata": {},
     "output_type": "execute_result"
    }
   ],
   "source": [
    "list_a = list(range(10))\n",
    "list_a"
   ]
  },
  {
   "cell_type": "code",
   "execution_count": 39,
   "id": "1711fbf4",
   "metadata": {},
   "outputs": [
    {
     "data": {
      "text/plain": [
       "[1, 3, 5, 7, 9]"
      ]
     },
     "execution_count": 39,
     "metadata": {},
     "output_type": "execute_result"
    }
   ],
   "source": [
    "list_a = list(range(1, 10, 2))\n",
    "list_a"
   ]
  },
  {
   "cell_type": "code",
   "execution_count": 40,
   "id": "6f015bce",
   "metadata": {},
   "outputs": [
    {
     "data": {
      "text/plain": [
       "[1, 3, 5, 7, 9, 11]"
      ]
     },
     "execution_count": 40,
     "metadata": {},
     "output_type": "execute_result"
    }
   ],
   "source": [
    "list_a.append(11)\n",
    "list_a"
   ]
  },
  {
   "cell_type": "code",
   "execution_count": 41,
   "id": "45fcfae4",
   "metadata": {},
   "outputs": [
    {
     "data": {
      "text/plain": [
       "[1, 3, 5, 6, 7, 9, 11]"
      ]
     },
     "execution_count": 41,
     "metadata": {},
     "output_type": "execute_result"
    }
   ],
   "source": [
    "list_a.insert(3, 6)\n",
    "list_a"
   ]
  },
  {
   "cell_type": "code",
   "execution_count": 42,
   "id": "102fcffa",
   "metadata": {},
   "outputs": [
    {
     "data": {
      "text/plain": [
       "[1, 3, 5, 6, 7, 6, 9, 11]"
      ]
     },
     "execution_count": 42,
     "metadata": {},
     "output_type": "execute_result"
    }
   ],
   "source": [
    "list_a.insert(-2, 6)\n",
    "list_a"
   ]
  },
  {
   "cell_type": "code",
   "execution_count": 43,
   "id": "e645e0c2",
   "metadata": {},
   "outputs": [],
   "source": [
    "# 列表的删除"
   ]
  },
  {
   "cell_type": "markdown",
   "id": "8a975be7",
   "metadata": {},
   "source": [
    "列表的删除"
   ]
  },
  {
   "cell_type": "code",
   "execution_count": 44,
   "id": "cfb36c74",
   "metadata": {},
   "outputs": [
    {
     "data": {
      "text/plain": [
       "[1, 3, 6, 7, 6, 9, 11]"
      ]
     },
     "execution_count": 44,
     "metadata": {},
     "output_type": "execute_result"
    }
   ],
   "source": [
    "list_a.remove(5)\n",
    "list_a"
   ]
  },
  {
   "cell_type": "code",
   "execution_count": 45,
   "id": "17fae517",
   "metadata": {},
   "outputs": [
    {
     "data": {
      "text/plain": [
       "[1, 3, 7, 6, 9, 11]"
      ]
     },
     "execution_count": 45,
     "metadata": {},
     "output_type": "execute_result"
    }
   ],
   "source": [
    "list_a.remove(6)\n",
    "list_a"
   ]
  },
  {
   "cell_type": "code",
   "execution_count": 46,
   "id": "35bad309",
   "metadata": {},
   "outputs": [
    {
     "data": {
      "text/plain": [
       "[1, 3, 6, 9, 11]"
      ]
     },
     "execution_count": 46,
     "metadata": {},
     "output_type": "execute_result"
    }
   ],
   "source": [
    "list_a.pop(2)\n",
    "list_a"
   ]
  },
  {
   "cell_type": "code",
   "execution_count": 47,
   "id": "62b23a09",
   "metadata": {},
   "outputs": [
    {
     "data": {
      "text/plain": [
       "[1, 3, 6, 9]"
      ]
     },
     "execution_count": 47,
     "metadata": {},
     "output_type": "execute_result"
    }
   ],
   "source": [
    "list_a.pop()\n",
    "list_a"
   ]
  },
  {
   "cell_type": "code",
   "execution_count": 48,
   "id": "55f5c7a3",
   "metadata": {},
   "outputs": [],
   "source": [
    "del list_a[3]"
   ]
  },
  {
   "cell_type": "code",
   "execution_count": 49,
   "id": "f3534bbb",
   "metadata": {},
   "outputs": [
    {
     "data": {
      "text/plain": [
       "[1, 3, 6]"
      ]
     },
     "execution_count": 49,
     "metadata": {},
     "output_type": "execute_result"
    }
   ],
   "source": [
    "list_a"
   ]
  },
  {
   "cell_type": "code",
   "execution_count": 50,
   "id": "679e0a0f",
   "metadata": {},
   "outputs": [],
   "source": [
    "del list_a[-1]"
   ]
  },
  {
   "cell_type": "code",
   "execution_count": 51,
   "id": "10b27e36",
   "metadata": {},
   "outputs": [
    {
     "data": {
      "text/plain": [
       "[1, 3]"
      ]
     },
     "execution_count": 51,
     "metadata": {},
     "output_type": "execute_result"
    }
   ],
   "source": [
    "list_a"
   ]
  },
  {
   "cell_type": "code",
   "execution_count": 52,
   "id": "9b50df23",
   "metadata": {},
   "outputs": [],
   "source": [
    "del list_a"
   ]
  },
  {
   "cell_type": "code",
   "execution_count": 54,
   "id": "22bbe37d",
   "metadata": {},
   "outputs": [
    {
     "name": "stdout",
     "output_type": "stream",
     "text": [
      "[]\n",
      "<class 'list'>\n"
     ]
    }
   ],
   "source": [
    "a = []\n",
    "print(a)\n",
    "print(type(a))"
   ]
  },
  {
   "cell_type": "markdown",
   "id": "61375814",
   "metadata": {},
   "source": [
    "元组"
   ]
  },
  {
   "cell_type": "code",
   "execution_count": 55,
   "id": "00e65b47",
   "metadata": {},
   "outputs": [
    {
     "name": "stdout",
     "output_type": "stream",
     "text": [
      "(1, 2, 3, 4, 5)\n"
     ]
    }
   ],
   "source": [
    "a = (1, 2, 3, 4, 5)\n",
    "print(a)"
   ]
  },
  {
   "cell_type": "code",
   "execution_count": 57,
   "id": "bee4257b",
   "metadata": {},
   "outputs": [
    {
     "data": {
      "text/plain": [
       "('x', 3)"
      ]
     },
     "execution_count": 57,
     "metadata": {},
     "output_type": "execute_result"
    }
   ],
   "source": [
    "tup2 = ('x', 3)\n",
    "tup2"
   ]
  },
  {
   "cell_type": "code",
   "execution_count": 59,
   "id": "a7d40481",
   "metadata": {},
   "outputs": [
    {
     "data": {
      "text/plain": [
       "tuple"
      ]
     },
     "execution_count": 59,
     "metadata": {},
     "output_type": "execute_result"
    }
   ],
   "source": [
    "tup3 = 'x', 3\n",
    "type(tup3)"
   ]
  },
  {
   "cell_type": "code",
   "execution_count": 60,
   "id": "ba974e35",
   "metadata": {},
   "outputs": [
    {
     "data": {
      "text/plain": [
       "(int, tuple)"
      ]
     },
     "execution_count": 60,
     "metadata": {},
     "output_type": "execute_result"
    }
   ],
   "source": [
    "tup1 = (5)\n",
    "tup2 = (5,)\n",
    "type(tup1), type(tup2)"
   ]
  },
  {
   "cell_type": "code",
   "execution_count": 64,
   "id": "02728b5f",
   "metadata": {},
   "outputs": [
    {
     "name": "stdout",
     "output_type": "stream",
     "text": [
      "m\n",
      "e\n",
      "olec\n",
      "oeu\n"
     ]
    }
   ],
   "source": [
    "s = 'molecule'\n",
    "print(s[0])\n",
    "print(s[-1])\n",
    "print(s[1:5])\n",
    "print(s[1:7:2])"
   ]
  },
  {
   "cell_type": "code",
   "execution_count": 65,
   "id": "0ef6a44a",
   "metadata": {},
   "outputs": [
    {
     "name": "stdout",
     "output_type": "stream",
     "text": [
      "['L', 'i', 'F', 'e', 'P', 'O', '4']\n"
     ]
    }
   ],
   "source": [
    "s1 = 'LiFePO4'\n",
    "l1 = list(s1)\n",
    "print(l1)"
   ]
  },
  {
   "cell_type": "code",
   "execution_count": 66,
   "id": "49f22d58",
   "metadata": {},
   "outputs": [
    {
     "data": {
      "text/plain": [
       "'LiFePO4'"
      ]
     },
     "execution_count": 66,
     "metadata": {},
     "output_type": "execute_result"
    }
   ],
   "source": [
    "s2 = ''.join(l1)\n",
    "s2"
   ]
  },
  {
   "cell_type": "code",
   "execution_count": 67,
   "id": "fef6093d",
   "metadata": {},
   "outputs": [
    {
     "name": "stdout",
     "output_type": "stream",
     "text": [
      "True\n",
      "False\n"
     ]
    }
   ],
   "source": [
    "mole1 = 'LiFePO4'\n",
    "mole2 = 'LiCoO2'\n",
    "\n",
    "print('Fe' in mole1)\n",
    "print('Fe' in mole2)"
   ]
  },
  {
   "cell_type": "code",
   "execution_count": 68,
   "id": "9004bcbd",
   "metadata": {},
   "outputs": [
    {
     "data": {
      "text/plain": [
       "{'a', 'c', 'd', 'n', 'o'}"
      ]
     },
     "execution_count": 68,
     "metadata": {},
     "output_type": "execute_result"
    }
   ],
   "source": [
    "set1 = set('anaconda')\n",
    "set1"
   ]
  },
  {
   "cell_type": "code",
   "execution_count": 70,
   "id": "08000afb",
   "metadata": {},
   "outputs": [
    {
     "data": {
      "text/plain": [
       "{'h', 'n', 'o', 'p', 't', 'y'}"
      ]
     },
     "execution_count": 70,
     "metadata": {},
     "output_type": "execute_result"
    }
   ],
   "source": [
    "set2 = set('python')\n",
    "set2"
   ]
  },
  {
   "cell_type": "code",
   "execution_count": 71,
   "id": "182bfe8b",
   "metadata": {},
   "outputs": [
    {
     "data": {
      "text/plain": [
       "{'n', 'o'}"
      ]
     },
     "execution_count": 71,
     "metadata": {},
     "output_type": "execute_result"
    }
   ],
   "source": [
    "set1 & set2"
   ]
  },
  {
   "cell_type": "code",
   "execution_count": 72,
   "id": "2f624d5a",
   "metadata": {},
   "outputs": [
    {
     "data": {
      "text/plain": [
       "['d', 'p', 's']"
      ]
     },
     "execution_count": 72,
     "metadata": {},
     "output_type": "execute_result"
    }
   ],
   "source": [
    "list2d = ['s', 'p', 's', 'd']\n",
    "list2d = list(set(list2d))\n",
    "list2d"
   ]
  },
  {
   "cell_type": "markdown",
   "id": "6f263874",
   "metadata": {},
   "source": [
    "字典"
   ]
  },
  {
   "cell_type": "code",
   "execution_count": 73,
   "id": "ea8b0321",
   "metadata": {},
   "outputs": [],
   "source": [
    "dict1 = {'H' : 1, 'O' : 16, 'Na' : 23}"
   ]
  },
  {
   "cell_type": "code",
   "execution_count": 76,
   "id": "1897a1e9",
   "metadata": {},
   "outputs": [
    {
     "data": {
      "text/plain": [
       "40"
      ]
     },
     "execution_count": 76,
     "metadata": {},
     "output_type": "execute_result"
    }
   ],
   "source": [
    "mass = dict1['Na'] + dict1['O'] + dict1['H']\n",
    "mass"
   ]
  },
  {
   "cell_type": "code",
   "execution_count": 77,
   "id": "4393f41b",
   "metadata": {},
   "outputs": [
    {
     "name": "stdout",
     "output_type": "stream",
     "text": [
      "dict_keys(['H', 'O', 'Na'])\n"
     ]
    }
   ],
   "source": [
    "print(dict1.keys())"
   ]
  },
  {
   "cell_type": "code",
   "execution_count": 78,
   "id": "e616570e",
   "metadata": {},
   "outputs": [
    {
     "name": "stdout",
     "output_type": "stream",
     "text": [
      "['H', 'O', 'Na']\n"
     ]
    }
   ],
   "source": [
    "print(list(dict1.keys()))"
   ]
  },
  {
   "cell_type": "code",
   "execution_count": 79,
   "id": "7c1fb61c",
   "metadata": {},
   "outputs": [
    {
     "name": "stdout",
     "output_type": "stream",
     "text": [
      "dict_values([1, 16, 23])\n"
     ]
    }
   ],
   "source": [
    "print(dict1.values())"
   ]
  },
  {
   "cell_type": "code",
   "execution_count": 80,
   "id": "30ba3c03",
   "metadata": {},
   "outputs": [
    {
     "name": "stdout",
     "output_type": "stream",
     "text": [
      "dict_items([('H', 1), ('O', 16), ('Na', 23)])\n"
     ]
    }
   ],
   "source": [
    "print(dict1.items())"
   ]
  },
  {
   "cell_type": "code",
   "execution_count": 81,
   "id": "09993401",
   "metadata": {},
   "outputs": [
    {
     "name": "stdout",
     "output_type": "stream",
     "text": [
      "[('H', 1), ('O', 16), ('Na', 23)]\n"
     ]
    }
   ],
   "source": [
    "print(list(dict1.items()))"
   ]
  },
  {
   "cell_type": "code",
   "execution_count": 83,
   "id": "5178c61f",
   "metadata": {},
   "outputs": [
    {
     "data": {
      "text/plain": [
       "{12: 'C', 14: 'N', 16: 'O'}"
      ]
     },
     "execution_count": 83,
     "metadata": {},
     "output_type": "execute_result"
    }
   ],
   "source": [
    "dict2 = {}\n",
    "dict2[12] = 'C'\n",
    "dict2[14] = 'N'\n",
    "dict2[16] = 'O'\n",
    "dict2"
   ]
  },
  {
   "cell_type": "code",
   "execution_count": 84,
   "id": "a3a8de2e",
   "metadata": {},
   "outputs": [],
   "source": [
    "dict2[14.0] = 'C14'"
   ]
  },
  {
   "cell_type": "code",
   "execution_count": 85,
   "id": "825c0398",
   "metadata": {},
   "outputs": [
    {
     "data": {
      "text/plain": [
       "'C14'"
      ]
     },
     "execution_count": 85,
     "metadata": {},
     "output_type": "execute_result"
    }
   ],
   "source": [
    "dict2[14]"
   ]
  },
  {
   "cell_type": "code",
   "execution_count": 86,
   "id": "53fb7204",
   "metadata": {},
   "outputs": [
    {
     "name": "stdout",
     "output_type": "stream",
     "text": [
      "{12: 'C', 14: 'C14', 16: 'O'}\n"
     ]
    }
   ],
   "source": [
    "print(dict2)"
   ]
  },
  {
   "cell_type": "code",
   "execution_count": 87,
   "id": "031e91c9",
   "metadata": {},
   "outputs": [
    {
     "data": {
      "text/plain": [
       "{12: 'C', 16: 'O'}"
      ]
     },
     "execution_count": 87,
     "metadata": {},
     "output_type": "execute_result"
    }
   ],
   "source": [
    "dict2.pop(14)\n",
    "dict2"
   ]
  },
  {
   "cell_type": "code",
   "execution_count": 88,
   "id": "a66cfd27",
   "metadata": {},
   "outputs": [],
   "source": [
    "del dict2[16]"
   ]
  },
  {
   "cell_type": "code",
   "execution_count": 89,
   "id": "11c6c1b8",
   "metadata": {},
   "outputs": [
    {
     "data": {
      "text/plain": [
       "{12: 'C'}"
      ]
     },
     "execution_count": 89,
     "metadata": {},
     "output_type": "execute_result"
    }
   ],
   "source": [
    "dict2"
   ]
  },
  {
   "cell_type": "code",
   "execution_count": 90,
   "id": "0e46fd3d",
   "metadata": {},
   "outputs": [],
   "source": [
    "dict2[16] = 'O'"
   ]
  },
  {
   "cell_type": "code",
   "execution_count": 91,
   "id": "24f56fa3",
   "metadata": {},
   "outputs": [
    {
     "data": {
      "text/plain": [
       "{12: 'C', 16: 'O'}"
      ]
     },
     "execution_count": 91,
     "metadata": {},
     "output_type": "execute_result"
    }
   ],
   "source": [
    "dict2"
   ]
  },
  {
   "cell_type": "code",
   "execution_count": null,
   "id": "c215e4e2",
   "metadata": {},
   "outputs": [],
   "source": []
  }
 ],
 "metadata": {
  "kernelspec": {
   "display_name": "Python 3",
   "language": "python",
   "name": "python3"
  },
  "language_info": {
   "codemirror_mode": {
    "name": "ipython",
    "version": 3
   },
   "file_extension": ".py",
   "mimetype": "text/x-python",
   "name": "python",
   "nbconvert_exporter": "python",
   "pygments_lexer": "ipython3",
   "version": "3.8.8"
  }
 },
 "nbformat": 4,
 "nbformat_minor": 5
}
