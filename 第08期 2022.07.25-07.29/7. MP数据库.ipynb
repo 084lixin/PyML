{
 "cells": [
  {
   "cell_type": "code",
   "execution_count": 1,
   "id": "cfbbdc97",
   "metadata": {},
   "outputs": [],
   "source": [
    "from mp_api import MPRester"
   ]
  },
  {
   "cell_type": "code",
   "execution_count": 2,
   "id": "dab23a49",
   "metadata": {},
   "outputs": [],
   "source": [
    "with open('key.txt') as f:\n",
    "    key = f.read()"
   ]
  },
  {
   "cell_type": "code",
   "execution_count": 5,
   "id": "fac32137",
   "metadata": {},
   "outputs": [
    {
     "data": {
      "application/vnd.jupyter.widget-view+json": {
       "model_id": "76abab56dc9a4e6b97a374aee80afbc0",
       "version_major": 2,
       "version_minor": 0
      },
      "text/plain": [
       "Retrieving SummaryDoc documents:   0%|          | 0/1 [00:00<?, ?it/s]"
      ]
     },
     "metadata": {},
     "output_type": "display_data"
    },
    {
     "data": {
      "application/vnd.jupyter.widget-view+json": {
       "model_id": "421d37aa942a47e1b7345d21821e6d3c",
       "version_major": 2,
       "version_minor": 0
      },
      "text/plain": [
       "Retrieving MaterialsDoc documents:   0%|          | 0/1 [00:00<?, ?it/s]"
      ]
     },
     "metadata": {},
     "output_type": "display_data"
    }
   ],
   "source": [
    "with MPRester(api_key = key) as mpr:\n",
    "    doc_s = mpr.summary.get_data_by_id('mp-804')\n",
    "    doc_m = mpr.materials.get_data_by_id('mp-804')"
   ]
  },
  {
   "cell_type": "code",
   "execution_count": 7,
   "id": "d279739b",
   "metadata": {},
   "outputs": [
    {
     "data": {
      "text/plain": [
       "Comp: Ga2 N2"
      ]
     },
     "execution_count": 7,
     "metadata": {},
     "output_type": "execute_result"
    }
   ],
   "source": [
    "doc_m.composition"
   ]
  },
  {
   "cell_type": "code",
   "execution_count": 8,
   "id": "83c59fc9",
   "metadata": {},
   "outputs": [
    {
     "data": {
      "text/plain": [
       "Structure Summary\n",
       "Lattice\n",
       "    abc : 3.2162901334217344 3.2162901334217344 5.239962\n",
       " angles : 90.0 90.0 120.00000274450079\n",
       " volume : 46.9428220153705\n",
       "      A : 1.608145 -2.785389 0.0\n",
       "      B : 1.608145 2.785389 0.0\n",
       "      C : 0.0 0.0 5.239962\n",
       "PeriodicSite: Ga (1.6081, -0.9285, 2.6154) [0.6667, 0.3333, 0.4991]\n",
       "PeriodicSite: Ga (1.6081, 0.9285, 5.2354) [0.3333, 0.6667, 0.9991]\n",
       "PeriodicSite: N (1.6081, -0.9285, 4.5896) [0.6667, 0.3333, 0.8759]\n",
       "PeriodicSite: N (1.6081, 0.9285, 1.9696) [0.3333, 0.6667, 0.3759]"
      ]
     },
     "execution_count": 8,
     "metadata": {},
     "output_type": "execute_result"
    }
   ],
   "source": [
    "doc_m.structure"
   ]
  },
  {
   "cell_type": "code",
   "execution_count": 9,
   "id": "d3c5b0f2",
   "metadata": {},
   "outputs": [],
   "source": [
    "list1 = mpr.summary.available_fields"
   ]
  },
  {
   "cell_type": "code",
   "execution_count": 11,
   "id": "86ed596a",
   "metadata": {},
   "outputs": [
    {
     "data": {
      "application/vnd.jupyter.widget-view+json": {
       "model_id": "5817efda141649548cafcf327e348ad7",
       "version_major": 2,
       "version_minor": 0
      },
      "text/plain": [
       "Retrieving SummaryDoc documents:   0%|          | 0/332 [00:00<?, ?it/s]"
      ]
     },
     "metadata": {},
     "output_type": "display_data"
    }
   ],
   "source": [
    "docs = mpr.summary.search(elements = ['Si', 'O'], band_gap = (0.5, 1.0))"
   ]
  },
  {
   "cell_type": "code",
   "execution_count": 15,
   "id": "0be666a9",
   "metadata": {},
   "outputs": [
    {
     "data": {
      "application/vnd.jupyter.widget-view+json": {
       "model_id": "31b1ded3b24d41e489b6da837b124473",
       "version_major": 2,
       "version_minor": 0
      },
      "text/plain": [
       "Retrieving SummaryDoc documents:   0%|          | 0/625 [00:00<?, ?it/s]"
      ]
     },
     "metadata": {},
     "output_type": "display_data"
    }
   ],
   "source": [
    "docs = mpr.summary.search(elements = ['Si', 'O'], band_gap = (0.5, None),\n",
    "                         energy_above_hull = (0, 0),\n",
    "                         fields = ['material_id', 'composition',\n",
    "                                  'band_gap', 'volume', 'structure'])"
   ]
  },
  {
   "cell_type": "code",
   "execution_count": 18,
   "id": "23e3f22c",
   "metadata": {},
   "outputs": [],
   "source": [
    "import pandas as pd"
   ]
  },
  {
   "cell_type": "code",
   "execution_count": 21,
   "id": "dd02a6dd",
   "metadata": {},
   "outputs": [],
   "source": [
    "stable_mpids = []\n",
    "\n",
    "for doc in docs:\n",
    "    stable_mpids.append(doc.material_id)"
   ]
  },
  {
   "cell_type": "code",
   "execution_count": 22,
   "id": "ba725e86",
   "metadata": {},
   "outputs": [
    {
     "data": {
      "text/html": [
       "<div>\n",
       "<style scoped>\n",
       "    .dataframe tbody tr th:only-of-type {\n",
       "        vertical-align: middle;\n",
       "    }\n",
       "\n",
       "    .dataframe tbody tr th {\n",
       "        vertical-align: top;\n",
       "    }\n",
       "\n",
       "    .dataframe thead th {\n",
       "        text-align: right;\n",
       "    }\n",
       "</style>\n",
       "<table border=\"1\" class=\"dataframe\">\n",
       "  <thead>\n",
       "    <tr style=\"text-align: right;\">\n",
       "      <th></th>\n",
       "      <th>0</th>\n",
       "    </tr>\n",
       "  </thead>\n",
       "  <tbody>\n",
       "    <tr>\n",
       "      <th>0</th>\n",
       "      <td>mp-1227994</td>\n",
       "    </tr>\n",
       "    <tr>\n",
       "      <th>1</th>\n",
       "      <td>mp-40134</td>\n",
       "    </tr>\n",
       "    <tr>\n",
       "      <th>2</th>\n",
       "      <td>mp-510635</td>\n",
       "    </tr>\n",
       "    <tr>\n",
       "      <th>3</th>\n",
       "      <td>mp-1194160</td>\n",
       "    </tr>\n",
       "    <tr>\n",
       "      <th>4</th>\n",
       "      <td>mp-1227323</td>\n",
       "    </tr>\n",
       "    <tr>\n",
       "      <th>...</th>\n",
       "      <td>...</td>\n",
       "    </tr>\n",
       "    <tr>\n",
       "      <th>620</th>\n",
       "      <td>mp-1020641</td>\n",
       "    </tr>\n",
       "    <tr>\n",
       "      <th>621</th>\n",
       "      <td>mp-1194834</td>\n",
       "    </tr>\n",
       "    <tr>\n",
       "      <th>622</th>\n",
       "      <td>mp-1192370</td>\n",
       "    </tr>\n",
       "    <tr>\n",
       "      <th>623</th>\n",
       "      <td>mp-5012</td>\n",
       "    </tr>\n",
       "    <tr>\n",
       "      <th>624</th>\n",
       "      <td>mp-559240</td>\n",
       "    </tr>\n",
       "  </tbody>\n",
       "</table>\n",
       "<p>625 rows × 1 columns</p>\n",
       "</div>"
      ],
      "text/plain": [
       "              0\n",
       "0    mp-1227994\n",
       "1      mp-40134\n",
       "2     mp-510635\n",
       "3    mp-1194160\n",
       "4    mp-1227323\n",
       "..          ...\n",
       "620  mp-1020641\n",
       "621  mp-1194834\n",
       "622  mp-1192370\n",
       "623     mp-5012\n",
       "624   mp-559240\n",
       "\n",
       "[625 rows x 1 columns]"
      ]
     },
     "execution_count": 22,
     "metadata": {},
     "output_type": "execute_result"
    }
   ],
   "source": [
    "pd.DataFrame(stable_mpids)"
   ]
  },
  {
   "cell_type": "code",
   "execution_count": null,
   "id": "328e6e4f",
   "metadata": {},
   "outputs": [],
   "source": []
  },
  {
   "cell_type": "code",
   "execution_count": 27,
   "id": "e9b2f3de",
   "metadata": {},
   "outputs": [
    {
     "name": "stderr",
     "output_type": "stream",
     "text": [
      "C:\\Users\\HUAWEI\\AppData\\Roaming\\Python\\Python38\\site-packages\\mp_api\\client.py:138: builtins.UserWarning: Problem loading MPContribs client: [<twisted.python.failure.Failure OpenSSL.SSL.Error: [('SSL routines', 'tls_process_server_certificate', 'certificate verify failed')]>]\n"
     ]
    },
    {
     "data": {
      "application/vnd.jupyter.widget-view+json": {
       "model_id": "2ff8993a03f64690a74c50c2994666ac",
       "version_major": 2,
       "version_minor": 0
      },
      "text/plain": [
       "Retrieving SummaryDoc documents:   0%|          | 0/1690 [00:00<?, ?it/s]"
      ]
     },
     "metadata": {},
     "output_type": "display_data"
    }
   ],
   "source": [
    "with MPRester(api_key = key) as mpr:\n",
    "    docs = mpr.summary.search(elements = ['Li'],\n",
    "                             band_gap = (0.5, None),\n",
    "                             energy_above_hull = (None, 0.005),\n",
    "                             fields = ['material_id', 'formula_pretty',\n",
    "                                      'composition', 'band_gap',\n",
    "                                      'energy_above_hull', 'structure'])"
   ]
  },
  {
   "cell_type": "code",
   "execution_count": 28,
   "id": "ab4ca691",
   "metadata": {},
   "outputs": [],
   "source": [
    "df = []\n",
    "\n",
    "for doc in docs:\n",
    "    df.append([doc.material_id, doc.formula_pretty, doc.composition,\n",
    "              doc.band_gap, doc.energy_above_hull, doc.structure])"
   ]
  },
  {
   "cell_type": "code",
   "execution_count": 30,
   "id": "401331e1",
   "metadata": {},
   "outputs": [
    {
     "data": {
      "text/html": [
       "<div>\n",
       "<style scoped>\n",
       "    .dataframe tbody tr th:only-of-type {\n",
       "        vertical-align: middle;\n",
       "    }\n",
       "\n",
       "    .dataframe tbody tr th {\n",
       "        vertical-align: top;\n",
       "    }\n",
       "\n",
       "    .dataframe thead th {\n",
       "        text-align: right;\n",
       "    }\n",
       "</style>\n",
       "<table border=\"1\" class=\"dataframe\">\n",
       "  <thead>\n",
       "    <tr style=\"text-align: right;\">\n",
       "      <th></th>\n",
       "      <th>mp-id</th>\n",
       "      <th>formula</th>\n",
       "      <th>composition</th>\n",
       "      <th>band_gap</th>\n",
       "      <th>energy_above_hull</th>\n",
       "      <th>structure</th>\n",
       "    </tr>\n",
       "  </thead>\n",
       "  <tbody>\n",
       "    <tr>\n",
       "      <th>0</th>\n",
       "      <td>mp-1222529</td>\n",
       "      <td>Li4GeS4</td>\n",
       "      <td>(Li, Ge, S)</td>\n",
       "      <td>2.5203</td>\n",
       "      <td>0.000356</td>\n",
       "      <td>[[1.17737752 1.95141574 8.12633907] Li, [1.918...</td>\n",
       "    </tr>\n",
       "    <tr>\n",
       "      <th>1</th>\n",
       "      <td>mp-1192133</td>\n",
       "      <td>LiBH4</td>\n",
       "      <td>(Li, B, H)</td>\n",
       "      <td>6.3705</td>\n",
       "      <td>0.000000</td>\n",
       "      <td>[[3.30176025 5.36599456 7.37235749] Li, [3.301...</td>\n",
       "    </tr>\n",
       "    <tr>\n",
       "      <th>2</th>\n",
       "      <td>mp-581301</td>\n",
       "      <td>Li2MgMn3O8</td>\n",
       "      <td>(Li, Mg, Mn, O)</td>\n",
       "      <td>1.8037</td>\n",
       "      <td>0.000000</td>\n",
       "      <td>[[4.13783702 8.30281302 4.19211498] Li, [2.055...</td>\n",
       "    </tr>\n",
       "    <tr>\n",
       "      <th>3</th>\n",
       "      <td>mp-19430</td>\n",
       "      <td>Li3Fe2(PO4)3</td>\n",
       "      <td>(Li, Fe, P, O)</td>\n",
       "      <td>2.1807</td>\n",
       "      <td>0.004864</td>\n",
       "      <td>[[7.53249888 1.08863556 5.11938271] Li, [8.998...</td>\n",
       "    </tr>\n",
       "    <tr>\n",
       "      <th>4</th>\n",
       "      <td>mp-775268</td>\n",
       "      <td>Li8Mn7Fe(BO3)8</td>\n",
       "      <td>(Li, Mn, Fe, B, O)</td>\n",
       "      <td>2.9600</td>\n",
       "      <td>0.002365</td>\n",
       "      <td>[[ 0.75378398  1.04033281 13.97906209] Li, [ 0...</td>\n",
       "    </tr>\n",
       "  </tbody>\n",
       "</table>\n",
       "</div>"
      ],
      "text/plain": [
       "        mp-id         formula         composition  band_gap  \\\n",
       "0  mp-1222529         Li4GeS4         (Li, Ge, S)    2.5203   \n",
       "1  mp-1192133           LiBH4          (Li, B, H)    6.3705   \n",
       "2   mp-581301      Li2MgMn3O8     (Li, Mg, Mn, O)    1.8037   \n",
       "3    mp-19430    Li3Fe2(PO4)3      (Li, Fe, P, O)    2.1807   \n",
       "4   mp-775268  Li8Mn7Fe(BO3)8  (Li, Mn, Fe, B, O)    2.9600   \n",
       "\n",
       "   energy_above_hull                                          structure  \n",
       "0           0.000356  [[1.17737752 1.95141574 8.12633907] Li, [1.918...  \n",
       "1           0.000000  [[3.30176025 5.36599456 7.37235749] Li, [3.301...  \n",
       "2           0.000000  [[4.13783702 8.30281302 4.19211498] Li, [2.055...  \n",
       "3           0.004864  [[7.53249888 1.08863556 5.11938271] Li, [8.998...  \n",
       "4           0.002365  [[ 0.75378398  1.04033281 13.97906209] Li, [ 0...  "
      ]
     },
     "execution_count": 30,
     "metadata": {},
     "output_type": "execute_result"
    }
   ],
   "source": [
    "df = pd.DataFrame(df, columns = ['mp-id', 'formula', 'composition',\n",
    "                                'band_gap', 'energy_above_hull', 'structure'])\n",
    "df.head()"
   ]
  },
  {
   "cell_type": "code",
   "execution_count": null,
   "id": "73e975e1",
   "metadata": {},
   "outputs": [],
   "source": []
  }
 ],
 "metadata": {
  "kernelspec": {
   "display_name": "Python 3",
   "language": "python",
   "name": "python3"
  },
  "language_info": {
   "codemirror_mode": {
    "name": "ipython",
    "version": 3
   },
   "file_extension": ".py",
   "mimetype": "text/x-python",
   "name": "python",
   "nbconvert_exporter": "python",
   "pygments_lexer": "ipython3",
   "version": "3.8.8"
  }
 },
 "nbformat": 4,
 "nbformat_minor": 5
}
