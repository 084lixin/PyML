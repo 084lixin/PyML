{
 "cells": [
  {
   "cell_type": "code",
   "execution_count": 3,
   "id": "fd527f4f",
   "metadata": {},
   "outputs": [
    {
     "name": "stdout",
     "output_type": "stream",
     "text": [
      "Hello World!\n"
     ]
    }
   ],
   "source": [
    "print('Hello World!')"
   ]
  },
  {
   "cell_type": "code",
   "execution_count": 4,
   "id": "16670870",
   "metadata": {},
   "outputs": [
    {
     "name": "stdout",
     "output_type": "stream",
     "text": [
      "Hello World!\n"
     ]
    }
   ],
   "source": [
    "print(\"Hello World!\")"
   ]
  },
  {
   "cell_type": "code",
   "execution_count": 6,
   "id": "2f574e19",
   "metadata": {},
   "outputs": [
    {
     "name": "stdout",
     "output_type": "stream",
     "text": [
      "Hello! Machine Learning!\n"
     ]
    }
   ],
   "source": [
    "print('Hello!', 'Machine', 'Learning!')"
   ]
  },
  {
   "cell_type": "code",
   "execution_count": 7,
   "id": "a29c86e2",
   "metadata": {},
   "outputs": [
    {
     "ename": "SyntaxError",
     "evalue": "invalid syntax (<ipython-input-7-67235fecb652>, line 1)",
     "output_type": "error",
     "traceback": [
      "\u001b[1;36m  File \u001b[1;32m\"<ipython-input-7-67235fecb652>\"\u001b[1;36m, line \u001b[1;32m1\u001b[0m\n\u001b[1;33m    print('I'm fine')\u001b[0m\n\u001b[1;37m             ^\u001b[0m\n\u001b[1;31mSyntaxError\u001b[0m\u001b[1;31m:\u001b[0m invalid syntax\n"
     ]
    }
   ],
   "source": [
    "print('I'm fine')"
   ]
  },
  {
   "cell_type": "code",
   "execution_count": 8,
   "id": "54e2cab3",
   "metadata": {},
   "outputs": [
    {
     "name": "stdout",
     "output_type": "stream",
     "text": [
      "I'm fine\n"
     ]
    }
   ],
   "source": [
    "print(\"I'm fine\")"
   ]
  },
  {
   "cell_type": "code",
   "execution_count": 10,
   "id": "97098e80",
   "metadata": {},
   "outputs": [
    {
     "name": "stdout",
     "output_type": "stream",
     "text": [
      "Amy: \"I'm fine.\"\n"
     ]
    }
   ],
   "source": [
    "print('Amy: \"I\\'m fine.\"')"
   ]
  },
  {
   "cell_type": "code",
   "execution_count": 12,
   "id": "3802b33c",
   "metadata": {},
   "outputs": [
    {
     "name": "stdout",
     "output_type": "stream",
     "text": [
      "abcde\r",
      "f\n"
     ]
    }
   ],
   "source": [
    "print('abcde\\rf')"
   ]
  },
  {
   "cell_type": "code",
   "execution_count": 13,
   "id": "60fdc4a4",
   "metadata": {},
   "outputs": [
    {
     "name": "stdout",
     "output_type": "stream",
     "text": [
      "abcde\n",
      "f\n"
     ]
    }
   ],
   "source": [
    "print('abcde\\nf')"
   ]
  },
  {
   "cell_type": "markdown",
   "id": "f1194436",
   "metadata": {},
   "source": [
    "# 10:02继续"
   ]
  }
 ],
 "metadata": {
  "kernelspec": {
   "display_name": "Python 3",
   "language": "python",
   "name": "python3"
  },
  "language_info": {
   "codemirror_mode": {
    "name": "ipython",
    "version": 3
   },
   "file_extension": ".py",
   "mimetype": "text/x-python",
   "name": "python",
   "nbconvert_exporter": "python",
   "pygments_lexer": "ipython3",
   "version": "3.8.8"
  }
 },
 "nbformat": 4,
 "nbformat_minor": 5
}
