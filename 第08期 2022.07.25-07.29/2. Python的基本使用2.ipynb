{
 "cells": [
  {
   "cell_type": "code",
   "execution_count": 4,
   "id": "76bdae44",
   "metadata": {},
   "outputs": [
    {
     "name": "stdout",
     "output_type": "stream",
     "text": [
      "a is positive\n",
      "the square of a is 25\n"
     ]
    }
   ],
   "source": [
    "a = 5\n",
    "if(a > 0):\n",
    "    print('a is positive')\n",
    "    print('the square of a is', a * a)"
   ]
  },
  {
   "cell_type": "code",
   "execution_count": 6,
   "id": "478a4a40",
   "metadata": {},
   "outputs": [
    {
     "name": "stdout",
     "output_type": "stream",
     "text": [
      "a is positive\n",
      "the square of a is 25\n"
     ]
    }
   ],
   "source": [
    "a = 5\n",
    "if(a > 0):\n",
    "    print('a is positive')\n",
    "    print('the square of a is', a * a)"
   ]
  },
  {
   "cell_type": "code",
   "execution_count": 12,
   "id": "01913ed5",
   "metadata": {},
   "outputs": [
    {
     "name": "stdout",
     "output_type": "stream",
     "text": [
      "abs value of a is -5\n"
     ]
    }
   ],
   "source": [
    "a = -5\n",
    "if(a < 0):\n",
    "    print('a is negative')\n",
    "    a = 0 - a\n",
    "print('abs value of a is', a)"
   ]
  },
  {
   "cell_type": "code",
   "execution_count": 19,
   "id": "01159d06",
   "metadata": {},
   "outputs": [
    {
     "name": "stdout",
     "output_type": "stream",
     "text": [
      "is solid\n",
      "is solid\n"
     ]
    }
   ],
   "source": [
    "temp = -25\n",
    "if(temp > 100):\n",
    "    print('is gas')\n",
    "elif(temp > 0):\n",
    "    print('is liquid')\n",
    "else:\n",
    "    print('is solid')\n",
    "    print('is solid')"
   ]
  },
  {
   "cell_type": "code",
   "execution_count": 20,
   "id": "472db948",
   "metadata": {},
   "outputs": [
    {
     "name": "stdout",
     "output_type": "stream",
     "text": [
      "a = 1\n",
      "a = 2\n",
      "a = 3\n",
      "a = 4\n",
      "a = 5\n",
      "a = 6\n",
      "a = 7\n",
      "a = 8\n",
      "a = 9\n"
     ]
    }
   ],
   "source": [
    "a = 1\n",
    "while(a < 10):\n",
    "    print('a =', a)\n",
    "    a += 1"
   ]
  },
  {
   "cell_type": "code",
   "execution_count": 23,
   "id": "01b0a1ed",
   "metadata": {},
   "outputs": [
    {
     "name": "stdout",
     "output_type": "stream",
     "text": [
      "a =  3\n",
      "a =  6\n",
      "a =  9\n",
      "a =  12\n",
      "a =  15\n",
      "a =  18\n",
      "a is larger than 20\n"
     ]
    }
   ],
   "source": [
    "a = 1\n",
    "while(a <= 20):\n",
    "    if(a % 3 == 0):\n",
    "        print('a = ', a)\n",
    "    a += 1\n",
    "else:\n",
    "    print('a is larger than 20')"
   ]
  },
  {
   "cell_type": "code",
   "execution_count": 25,
   "id": "ce48118f",
   "metadata": {},
   "outputs": [
    {
     "name": "stdout",
     "output_type": "stream",
     "text": [
      "a = 1\n",
      "a = 2\n",
      "a = 3\n",
      "a = 4\n",
      "a = 5\n",
      "a = 6\n",
      "a = 7\n",
      "a = 8\n",
      "a = 9\n"
     ]
    }
   ],
   "source": [
    "a = 1\n",
    "while(a < 10):\n",
    "    print('a =', a)\n",
    "    a += 1"
   ]
  },
  {
   "cell_type": "code",
   "execution_count": 27,
   "id": "1f392678",
   "metadata": {},
   "outputs": [
    {
     "name": "stdout",
     "output_type": "stream",
     "text": [
      "1 1 2 3 5 8 13 21 34 55 89 "
     ]
    }
   ],
   "source": [
    "a = 1\n",
    "b = 1\n",
    "while(a < 100):\n",
    "    print(a, end = ' ')\n",
    "    a, b = b, a + b"
   ]
  },
  {
   "cell_type": "code",
   "execution_count": 31,
   "id": "a04e65ac",
   "metadata": {},
   "outputs": [
    {
     "name": "stdout",
     "output_type": "stream",
     "text": [
      "1 1 2 3 5 8 13 21 34 55 89 "
     ]
    }
   ],
   "source": [
    "a = 1\n",
    "b = 1\n",
    "while(a < 100):\n",
    "    print(a, end = ' ')\n",
    "    c = a\n",
    "    a = b\n",
    "    b = c + b\n",
    "#    a = c\n",
    "#    b = d"
   ]
  },
  {
   "cell_type": "code",
   "execution_count": 32,
   "id": "4c63b961",
   "metadata": {},
   "outputs": [
    {
     "name": "stdout",
     "output_type": "stream",
     "text": [
      "['red', 'purple', 'blue']\n",
      "['red', 'purple']\n",
      "['red']\n"
     ]
    }
   ],
   "source": [
    "a = ['red', 'purple', 'blue']\n",
    "while a:\n",
    "    print(a)\n",
    "    a.pop()"
   ]
  },
  {
   "cell_type": "code",
   "execution_count": 35,
   "id": "61e86f57",
   "metadata": {},
   "outputs": [
    {
     "name": "stdout",
     "output_type": "stream",
     "text": [
      "['red', 'blue', 'purple', 'blue']\n",
      "['red', 'purple', 'blue']\n",
      "['red', 'purple']\n"
     ]
    }
   ],
   "source": [
    "a = ['red', 'blue', 'purple', 'blue']\n",
    "while 'blue' in a:\n",
    "    print(a)\n",
    "    a.remove('blue')\n",
    "print(a)"
   ]
  },
  {
   "cell_type": "code",
   "execution_count": 37,
   "id": "f62462cb",
   "metadata": {},
   "outputs": [
    {
     "name": "stdout",
     "output_type": "stream",
     "text": [
      "H\n",
      "C\n",
      "N\n"
     ]
    }
   ],
   "source": [
    "molecule = ['H', 'C', 'N']\n",
    "for b in molecule:\n",
    "    print(b)"
   ]
  },
  {
   "cell_type": "code",
   "execution_count": 38,
   "id": "4879e860",
   "metadata": {},
   "outputs": [
    {
     "name": "stdout",
     "output_type": "stream",
     "text": [
      "0 H\n",
      "1 C\n",
      "2 N\n"
     ]
    }
   ],
   "source": [
    "for i, ele in enumerate(molecule):\n",
    "    print(i, ele)"
   ]
  },
  {
   "cell_type": "code",
   "execution_count": 40,
   "id": "237650b1",
   "metadata": {},
   "outputs": [
    {
     "name": "stdout",
     "output_type": "stream",
     "text": [
      "0 C\n",
      "1 H\n",
      "2 3\n"
     ]
    }
   ],
   "source": [
    "mole = 'CH3COOH'\n",
    "for i, j in enumerate(mole):\n",
    "    if(i == 3):\n",
    "        break\n",
    "    print(i, j)"
   ]
  },
  {
   "cell_type": "code",
   "execution_count": 41,
   "id": "5f7812d3",
   "metadata": {},
   "outputs": [
    {
     "name": "stdout",
     "output_type": "stream",
     "text": [
      "0 C\n",
      "1 H\n",
      "2 3\n",
      "4 O\n",
      "5 O\n",
      "6 H\n"
     ]
    }
   ],
   "source": [
    "mole = 'CH3COOH'\n",
    "for i, j in enumerate(mole):\n",
    "    if(i == 3):\n",
    "        continue\n",
    "    print(i, j)"
   ]
  },
  {
   "cell_type": "code",
   "execution_count": 45,
   "id": "fc204f98",
   "metadata": {},
   "outputs": [
    {
     "name": "stdout",
     "output_type": "stream",
     "text": [
      "0 1 2 3 4 "
     ]
    }
   ],
   "source": [
    "for i in range(5):\n",
    "    print(i, end = ' ')"
   ]
  },
  {
   "cell_type": "markdown",
   "id": "f7cd60de",
   "metadata": {},
   "source": [
    "# 15:04继续"
   ]
  },
  {
   "cell_type": "code",
   "execution_count": 48,
   "id": "2b216c89",
   "metadata": {},
   "outputs": [
    {
     "name": "stdout",
     "output_type": "stream",
     "text": [
      "*\n",
      "**\n",
      "***\n",
      "****\n",
      "*****\n",
      "****\n",
      "***\n",
      "**\n",
      "*\n"
     ]
    }
   ],
   "source": [
    "if(True):\n",
    "    for i in range(9):\n",
    "        if(i < 5):\n",
    "            print('*' * (i + 1))\n",
    "        else:\n",
    "            print('*' * (9 - i))"
   ]
  },
  {
   "cell_type": "code",
   "execution_count": 49,
   "id": "25aa076f",
   "metadata": {},
   "outputs": [
    {
     "data": {
      "text/plain": [
       "[0, 0, 0, 0, 0, 0, 0, 0, 0, 0]"
      ]
     },
     "execution_count": 49,
     "metadata": {},
     "output_type": "execute_result"
    }
   ],
   "source": [
    "a = []\n",
    "for i in range(10):\n",
    "    a.append(0)\n",
    "a"
   ]
  },
  {
   "cell_type": "code",
   "execution_count": 50,
   "id": "5f665fd6",
   "metadata": {},
   "outputs": [
    {
     "data": {
      "text/plain": [
       "[0, 0, 0, 0, 0, 0, 0, 0, 0, 0]"
      ]
     },
     "execution_count": 50,
     "metadata": {},
     "output_type": "execute_result"
    }
   ],
   "source": [
    "a = [0] * 10\n",
    "a"
   ]
  },
  {
   "cell_type": "code",
   "execution_count": 51,
   "id": "aa9f9f4c",
   "metadata": {},
   "outputs": [
    {
     "data": {
      "text/plain": [
       "{0: 'K', 1: 'C', 2: 'N'}"
      ]
     },
     "execution_count": 51,
     "metadata": {},
     "output_type": "execute_result"
    }
   ],
   "source": [
    "dict1 = {}\n",
    "s = 'KCN'\n",
    "for i, dict1[i] in enumerate(s):\n",
    "    pass\n",
    "dict1"
   ]
  },
  {
   "cell_type": "code",
   "execution_count": 52,
   "id": "5ad080c0",
   "metadata": {},
   "outputs": [
    {
     "name": "stdout",
     "output_type": "stream",
     "text": [
      "0\n",
      "1\n",
      "2\n",
      "3\n",
      "4\n"
     ]
    }
   ],
   "source": [
    "for i in range(5):\n",
    "    print(i)\n",
    "    i = 10"
   ]
  },
  {
   "cell_type": "code",
   "execution_count": 53,
   "id": "a4c088bf",
   "metadata": {},
   "outputs": [],
   "source": [
    "def phase(t):\n",
    "    if(t > 100):\n",
    "        print('is gas')\n",
    "    elif(t > 0):\n",
    "        print('is liquid')\n",
    "    else:\n",
    "        print('is solid')"
   ]
  },
  {
   "cell_type": "code",
   "execution_count": 55,
   "id": "2729c33f",
   "metadata": {},
   "outputs": [
    {
     "name": "stdout",
     "output_type": "stream",
     "text": [
      "is solid\n",
      "is liquid\n"
     ]
    }
   ],
   "source": [
    "phase(-5)\n",
    "temp = 25\n",
    "phase(temp)"
   ]
  },
  {
   "cell_type": "code",
   "execution_count": 56,
   "id": "2b9c3305",
   "metadata": {},
   "outputs": [],
   "source": [
    "def eV2kJ(x):\n",
    "    res = x * 96.4916\n",
    "    return res"
   ]
  },
  {
   "cell_type": "code",
   "execution_count": 57,
   "id": "cd6bc31e",
   "metadata": {},
   "outputs": [
    {
     "data": {
      "text/plain": [
       "144.7374"
      ]
     },
     "execution_count": 57,
     "metadata": {},
     "output_type": "execute_result"
    }
   ],
   "source": [
    "a = eV2kJ(1.5)\n",
    "a"
   ]
  },
  {
   "cell_type": "code",
   "execution_count": 58,
   "id": "6e7ecfa7",
   "metadata": {},
   "outputs": [],
   "source": [
    "def eV2kJkcal(x):\n",
    "    res1 = x * 96.4916\n",
    "    res2 = x * 23.0621\n",
    "    return res1, res2"
   ]
  },
  {
   "cell_type": "code",
   "execution_count": 59,
   "id": "f3f29114",
   "metadata": {},
   "outputs": [
    {
     "data": {
      "text/plain": [
       "(144.7374, 34.59315)"
      ]
     },
     "execution_count": 59,
     "metadata": {},
     "output_type": "execute_result"
    }
   ],
   "source": [
    "a, b = eV2kJkcal(1.5)\n",
    "a, b"
   ]
  },
  {
   "cell_type": "code",
   "execution_count": 60,
   "id": "9091b1bc",
   "metadata": {},
   "outputs": [],
   "source": [
    "def fun(a):\n",
    "    print(a)\n",
    "    a += 1\n",
    "    print(a)"
   ]
  },
  {
   "cell_type": "code",
   "execution_count": 65,
   "id": "f9375cd3",
   "metadata": {},
   "outputs": [
    {
     "name": "stdout",
     "output_type": "stream",
     "text": [
      "1\n",
      "1\n",
      "2\n",
      "1\n"
     ]
    }
   ],
   "source": [
    "a = 1\n",
    "print(a)\n",
    "b = a\n",
    "fun(b)\n",
    "print(a)"
   ]
  },
  {
   "cell_type": "code",
   "execution_count": 64,
   "id": "c8af9c0e",
   "metadata": {},
   "outputs": [
    {
     "name": "stdout",
     "output_type": "stream",
     "text": [
      "2306113261808\n",
      "python\n",
      "2306145495024\n",
      "PYTHON\n"
     ]
    }
   ],
   "source": [
    "a = 'python'\n",
    "print(id(a))\n",
    "print(a)\n",
    "a = a.upper()\n",
    "print(id(a))\n",
    "print(a)"
   ]
  },
  {
   "cell_type": "code",
   "execution_count": 66,
   "id": "130f9ae2",
   "metadata": {},
   "outputs": [
    {
     "name": "stdout",
     "output_type": "stream",
     "text": [
      "[525, 526, 527]\n",
      "[525, 526, 527, 'cm-1']\n"
     ]
    }
   ],
   "source": [
    "def fun2(a):\n",
    "    a.append('cm-1')\n",
    "\n",
    "b = [525, 526, 527]\n",
    "print(b)\n",
    "fun2(b)\n",
    "print(b)"
   ]
  },
  {
   "cell_type": "code",
   "execution_count": 67,
   "id": "eea91d4b",
   "metadata": {},
   "outputs": [
    {
     "name": "stdout",
     "output_type": "stream",
     "text": [
      "[1, 2, 3]\n",
      "2306146149504\n",
      "[1, 2, 3, 4]\n",
      "2306146149504\n"
     ]
    }
   ],
   "source": [
    "list1 = [1, 2, 3]\n",
    "print(list1)\n",
    "print(id(list1))\n",
    "\n",
    "list1.append(4)\n",
    "print(list1)\n",
    "print(id(list1))"
   ]
  },
  {
   "cell_type": "markdown",
   "id": "b4263c91",
   "metadata": {},
   "source": [
    "# 16:00继续"
   ]
  },
  {
   "cell_type": "code",
   "execution_count": 68,
   "id": "5906e3a1",
   "metadata": {},
   "outputs": [],
   "source": [
    "V = [0.1, 0.2, 0.3, 0.4, 0.5]"
   ]
  },
  {
   "cell_type": "code",
   "execution_count": 73,
   "id": "c052962d",
   "metadata": {},
   "outputs": [],
   "source": [
    "def func(V, pH):\n",
    "    V_RHE = []\n",
    "    for item in V:\n",
    "        res = item + 0.0592 * pH + 0.241\n",
    "        res = round(res, 4)\n",
    "        V_RHE.append(res)\n",
    "    return V_RHE"
   ]
  },
  {
   "cell_type": "code",
   "execution_count": 74,
   "id": "a36d5fea",
   "metadata": {},
   "outputs": [
    {
     "name": "stdout",
     "output_type": "stream",
     "text": [
      "Input pH:\n",
      "7\n",
      "[0.7554, 0.8554, 0.9554, 1.0554, 1.1554]\n"
     ]
    }
   ],
   "source": [
    "print('Input pH:')\n",
    "pH = input()\n",
    "V_RHE = func(V, float(pH))\n",
    "print(V_RHE)"
   ]
  },
  {
   "cell_type": "code",
   "execution_count": 72,
   "id": "3c4e6d48",
   "metadata": {},
   "outputs": [
    {
     "data": {
      "text/plain": [
       "3.14"
      ]
     },
     "execution_count": 72,
     "metadata": {},
     "output_type": "execute_result"
    }
   ],
   "source": [
    "round(3.14159, 2)"
   ]
  },
  {
   "cell_type": "code",
   "execution_count": 75,
   "id": "606ec9b5",
   "metadata": {},
   "outputs": [
    {
     "data": {
      "text/plain": [
       "600.0"
      ]
     },
     "execution_count": 75,
     "metadata": {},
     "output_type": "execute_result"
    }
   ],
   "source": [
    "round(627.5, -2)"
   ]
  },
  {
   "cell_type": "code",
   "execution_count": 76,
   "id": "d0aff296",
   "metadata": {},
   "outputs": [
    {
     "name": "stdout",
     "output_type": "stream",
     "text": [
      "Experiment\n",
      "3.3\n",
      "2.2\n",
      "2.5\n",
      "3.1\n",
      "3.0\n",
      "eV\n"
     ]
    }
   ],
   "source": [
    "f = open('sample.txt', mode = 'r', encoding = 'UTF-8')\n",
    "res = f.read()\n",
    "f.close()\n",
    "print(res)"
   ]
  },
  {
   "cell_type": "code",
   "execution_count": 79,
   "id": "7607599d",
   "metadata": {},
   "outputs": [
    {
     "name": "stdout",
     "output_type": "stream",
     "text": [
      "Experiment\n",
      "\n"
     ]
    }
   ],
   "source": [
    "f = open('sample.txt', mode = 'r', encoding = 'UTF-8')\n",
    "res = f.readline()\n",
    "f.close()\n",
    "print(res)"
   ]
  },
  {
   "cell_type": "code",
   "execution_count": 82,
   "id": "2262b755",
   "metadata": {},
   "outputs": [
    {
     "name": "stdout",
     "output_type": "stream",
     "text": [
      "['Experiment\\n', '3.3\\n', '2.2\\n', '2.5\\n', '3.1\\n', '3.0\\n', 'eV']\n"
     ]
    }
   ],
   "source": [
    "f = open('sample.txt', mode = 'r', encoding = 'UTF-8')\n",
    "res = f.readlines()\n",
    "f.close()\n",
    "print(res)"
   ]
  },
  {
   "cell_type": "code",
   "execution_count": 83,
   "id": "312ca29b",
   "metadata": {},
   "outputs": [
    {
     "name": "stdout",
     "output_type": "stream",
     "text": [
      "[3.3, 2.2, 2.5, 3.1, 3.0]\n"
     ]
    }
   ],
   "source": [
    "f = open('sample.txt', mode = 'r', encoding = 'UTF-8')\n",
    "f.readline()\n",
    "data = []\n",
    "for i in range(5):\n",
    "    data.append(float(f.readline()))\n",
    "f.close()\n",
    "print(data)"
   ]
  },
  {
   "cell_type": "code",
   "execution_count": 87,
   "id": "e45ba872",
   "metadata": {},
   "outputs": [
    {
     "data": {
      "text/plain": [
       "[1.1, 1.2, 1.3]"
      ]
     },
     "execution_count": 87,
     "metadata": {},
     "output_type": "execute_result"
    }
   ],
   "source": [
    "a = ['1.1', '1.2', '1.3']\n",
    "for i, j in enumerate(a):\n",
    "    a[i] = float(j)\n",
    "a"
   ]
  },
  {
   "cell_type": "code",
   "execution_count": 85,
   "id": "5cfd4ba2",
   "metadata": {},
   "outputs": [
    {
     "name": "stdout",
     "output_type": "stream",
     "text": [
      "[3.3, 2.2, 2.5, 3.1, 3.0]\n"
     ]
    }
   ],
   "source": [
    "f = open('sample.txt', mode = 'r', encoding = 'UTF-8')\n",
    "data = f.readlines()\n",
    "f.close()\n",
    "data = data[1:-1]\n",
    "for i in range(len(data)):\n",
    "    data[i] = float(data[i])\n",
    "print(data)"
   ]
  },
  {
   "cell_type": "code",
   "execution_count": 89,
   "id": "18d085e0",
   "metadata": {},
   "outputs": [],
   "source": [
    "def avg_list(a):\n",
    "    sum0 = 0\n",
    "    for ele in a:\n",
    "        sum0 += ele\n",
    "    return sum0 / len(a)"
   ]
  },
  {
   "cell_type": "code",
   "execution_count": 90,
   "id": "221c6e48",
   "metadata": {},
   "outputs": [
    {
     "data": {
      "text/plain": [
       "2.82"
      ]
     },
     "execution_count": 90,
     "metadata": {},
     "output_type": "execute_result"
    }
   ],
   "source": [
    "avg_list(data)"
   ]
  },
  {
   "cell_type": "code",
   "execution_count": 110,
   "id": "fd0239c3",
   "metadata": {},
   "outputs": [],
   "source": [
    "f = open('res.txt', mode = 'a', encoding = 'UTF-8')\n",
    "f.write(str(avg_list(data)) + '\\n')\n",
    "f.write(str(avg_list(data)) + '\\n')\n",
    "f.close()"
   ]
  },
  {
   "cell_type": "code",
   "execution_count": 111,
   "id": "d3efba79",
   "metadata": {},
   "outputs": [
    {
     "name": "stdout",
     "output_type": "stream",
     "text": [
      "[3.3, 2.2, 2.5, 3.1, 3.0]\n"
     ]
    }
   ],
   "source": [
    "with open('sample.txt', mode = 'r', encoding = 'UTF-8') as f:\n",
    "    f.readline()\n",
    "    data = []\n",
    "    for i in range(5):\n",
    "        data.append(float(f.readline()))\n",
    "\n",
    "print(data)"
   ]
  },
  {
   "cell_type": "code",
   "execution_count": 112,
   "id": "087cd4f9",
   "metadata": {},
   "outputs": [
    {
     "data": {
      "text/plain": [
       "[3.3, 2.2, 2.5, 3.1, 3.0]"
      ]
     },
     "execution_count": 112,
     "metadata": {},
     "output_type": "execute_result"
    }
   ],
   "source": [
    "f = open('sample.txt', mode = 'r', encoding = 'UTF-8')\n",
    "try:\n",
    "    f.readline()\n",
    "    data = []\n",
    "    for i in range(5):\n",
    "        data.append(float(f.readline()))\n",
    "except:\n",
    "    pass\n",
    "finally:\n",
    "    f.close()\n",
    "\n",
    "data"
   ]
  },
  {
   "cell_type": "code",
   "execution_count": null,
   "id": "8fd68fff",
   "metadata": {},
   "outputs": [],
   "source": []
  }
 ],
 "metadata": {
  "kernelspec": {
   "display_name": "Python 3",
   "language": "python",
   "name": "python3"
  },
  "language_info": {
   "codemirror_mode": {
    "name": "ipython",
    "version": 3
   },
   "file_extension": ".py",
   "mimetype": "text/x-python",
   "name": "python",
   "nbconvert_exporter": "python",
   "pygments_lexer": "ipython3",
   "version": "3.8.8"
  }
 },
 "nbformat": 4,
 "nbformat_minor": 5
}
