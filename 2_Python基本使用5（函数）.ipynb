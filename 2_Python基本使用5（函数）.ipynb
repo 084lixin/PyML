{
 "cells": [
  {
   "cell_type": "markdown",
   "id": "360d3f27",
   "metadata": {},
   "source": [
    "## 2.7 函数"
   ]
  },
  {
   "cell_type": "markdown",
   "id": "ec3640c1",
   "metadata": {},
   "source": [
    "#### 函数的使用"
   ]
  },
  {
   "cell_type": "code",
   "execution_count": 27,
   "id": "1cbca1b4",
   "metadata": {},
   "outputs": [
    {
     "name": "stdout",
     "output_type": "stream",
     "text": [
      "is solid\n",
      "is liquid\n"
     ]
    }
   ],
   "source": [
    "def phase(t):\n",
    "    if(t > 100):\n",
    "        print('is gas')\n",
    "    elif(t > 0):\n",
    "        print('is liquid')\n",
    "    else:\n",
    "        print('is solid')\n",
    "\n",
    "phase(-5)\n",
    "temp = 25\n",
    "phase(temp)"
   ]
  },
  {
   "cell_type": "markdown",
   "id": "3dd8ca87",
   "metadata": {},
   "source": [
    "#### 函数的参数传递"
   ]
  },
  {
   "cell_type": "code",
   "execution_count": 28,
   "id": "915265a1",
   "metadata": {},
   "outputs": [
    {
     "name": "stdout",
     "output_type": "stream",
     "text": [
      "1\n",
      "1\n",
      "2\n",
      "1\n"
     ]
    }
   ],
   "source": [
    "def fun(a):\n",
    "    print(a)\n",
    "    a += 1\n",
    "    print(a)\n",
    "\n",
    "a = 1\n",
    "print(a)\n",
    "fun(a)\n",
    "print(a)"
   ]
  },
  {
   "cell_type": "code",
   "execution_count": 29,
   "id": "dff17f61",
   "metadata": {},
   "outputs": [
    {
     "name": "stdout",
     "output_type": "stream",
     "text": [
      "[525, 566, 573]\n",
      "[525, 566, 573, 'cm-1']\n"
     ]
    }
   ],
   "source": [
    "def fun(a):\n",
    "    a.append('cm-1')\n",
    "\n",
    "b = [525, 566, 573]\n",
    "print(b)\n",
    "fun(b)\n",
    "print(b)"
   ]
  }
 ],
 "metadata": {
  "kernelspec": {
   "display_name": "Python 3 (ipykernel)",
   "language": "python",
   "name": "python3"
  },
  "language_info": {
   "codemirror_mode": {
    "name": "ipython",
    "version": 3
   },
   "file_extension": ".py",
   "mimetype": "text/x-python",
   "name": "python",
   "nbconvert_exporter": "python",
   "pygments_lexer": "ipython3",
   "version": "3.9.6"
  }
 },
 "nbformat": 4,
 "nbformat_minor": 5
}
